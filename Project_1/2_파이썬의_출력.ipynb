{
  "nbformat": 4,
  "nbformat_minor": 0,
  "metadata": {
    "colab": {
      "provenance": [],
      "collapsed_sections": [],
      "authorship_tag": "ABX9TyPTreB8zpmYt+NkccMd1XM2",
      "include_colab_link": true
    },
    "kernelspec": {
      "name": "python3",
      "display_name": "Python 3"
    },
    "language_info": {
      "name": "python"
    }
  },
  "cells": [
    {
      "cell_type": "markdown",
      "metadata": {
        "id": "view-in-github",
        "colab_type": "text"
      },
      "source": [
        "<a href=\"https://colab.research.google.com/github/JunYoung07/Python_AI_Project/blob/main/2_%ED%8C%8C%EC%9D%B4%EC%8D%AC%EC%9D%98_%EC%B6%9C%EB%A0%A5.ipynb\" target=\"_parent\"><img src=\"https://colab.research.google.com/assets/colab-badge.svg\" alt=\"Open In Colab\"/></a>"
      ]
    },
    {
      "cell_type": "markdown",
      "source": [
        "# 1. print 함수"
      ],
      "metadata": {
        "id": "3FE5NGfGVNMv"
      }
    },
    {
      "cell_type": "markdown",
      "source": [
        "* 매개변수로 지정된 데이터를 출력하고 줄을 변경"
      ],
      "metadata": {
        "id": "AsC7-p9JdLqh"
      }
    },
    {
      "cell_type": "code",
      "source": [
        "print('안녕하세요 파이썬')\n",
        "print(10)       # 숫자 10\n",
        "# print(안녕하세요 파이썬)      SyntaxError: invalid Syntax\n",
        "print('10')     # 문자 10"
      ],
      "metadata": {
        "colab": {
          "base_uri": "https://localhost:8080/"
        },
        "id": "GsovMpKHdQlA",
        "outputId": "2f482490-ff79-42d0-849b-f1d76b2ecfe4"
      },
      "execution_count": null,
      "outputs": [
        {
          "output_type": "stream",
          "name": "stdout",
          "text": [
            "안녕하세요 파이썬\n",
            "10\n",
            "10\n"
          ]
        }
      ]
    },
    {
      "cell_type": "code",
      "source": [
        "# 한 줄 주석문\n",
        "'''\n",
        "여기는 여러줄을 주석으로 처리합니다.\n",
        "따라서 프로그램에 영향을 주지 않습니다.\n",
        "'''\n",
        "print('파이썬 출력하기') # 문자열 출력은 따옴표를 사용함 '' 또는 \"\""
      ],
      "metadata": {
        "colab": {
          "base_uri": "https://localhost:8080/"
        },
        "id": "EVnkty6FfL58",
        "outputId": "beb02e6c-0992-47a1-a35a-05457acc7ebb"
      },
      "execution_count": null,
      "outputs": [
        {
          "output_type": "stream",
          "name": "stdout",
          "text": [
            "파이썬 출력하기\n"
          ]
        }
      ]
    },
    {
      "cell_type": "code",
      "source": [
        "print('Hello', 'Python')\n",
        "print('Hello', 'Python', 'Hi', 'Python')\n",
        "print('Hello', end='') # end: print 출력 후 어떻게 처리할 지 여부에 대한 옵션\n",
        "print('Python')\n",
        "print('Hello', end=' ')\n",
        "print('Python')\n",
        "print('Hello', end='🍑')\n",
        "print('Python')"
      ],
      "metadata": {
        "colab": {
          "base_uri": "https://localhost:8080/"
        },
        "id": "sYUw_hupgCR1",
        "outputId": "5a9aac80-f6c2-4413-e43b-94c0b71ff591"
      },
      "execution_count": null,
      "outputs": [
        {
          "output_type": "stream",
          "name": "stdout",
          "text": [
            "Hello Python\n",
            "Hello Python Hi Python\n",
            "HelloPython\n",
            "Hello Python\n",
            "Hello🍑Python\n"
          ]
        }
      ]
    },
    {
      "cell_type": "code",
      "source": [
        "# print 내부 연산\n",
        "print(10  + 5)  # 덧셈\n",
        "print(10 - 5)   # 뺄셈\n",
        "print(10 * 5)   # 곱셈\n",
        "print(10 / 5)   # 나눗셈\n",
        "print(10 % 3)   # 나머지\n",
        "print('10 + 5')\n",
        "# print('10' + 5)   숫자와 문자의 연산을 할 수 없다. TypeError: can only concatenate str (not \"int\") to str\n",
        "# 파이썬은 interpreter언어 이므로 2~7까지는 출력이 되고 8번째 라인에서 Error가 발생한다."
      ],
      "metadata": {
        "colab": {
          "base_uri": "https://localhost:8080/"
        },
        "id": "Koe6gLuhi0Ss",
        "outputId": "64ee0ce4-0886-45e7-ef08-c52813763353"
      },
      "execution_count": null,
      "outputs": [
        {
          "output_type": "stream",
          "name": "stdout",
          "text": [
            "15\n",
            "5\n",
            "50\n",
            "2.0\n",
            "1\n",
            "10 + 5\n"
          ]
        }
      ]
    },
    {
      "cell_type": "code",
      "source": [
        "# 곱하기의 경우 문자열을 여러번 출력해주는 것\n",
        "print('🍑' * 30)"
      ],
      "metadata": {
        "colab": {
          "base_uri": "https://localhost:8080/"
        },
        "id": "Ln5UZj9wkFOs",
        "outputId": "49bd2910-f3af-4506-ee29-c7a9e74650ec"
      },
      "execution_count": null,
      "outputs": [
        {
          "output_type": "stream",
          "name": "stdout",
          "text": [
            "🍑🍑🍑🍑🍑🍑🍑🍑🍑🍑🍑🍑🍑🍑🍑🍑🍑🍑🍑🍑🍑🍑🍑🍑🍑🍑🍑🍑🍑🍑\n"
          ]
        }
      ]
    },
    {
      "cell_type": "markdown",
      "source": [
        "# 2. 출력 서식 지정하기"
      ],
      "metadata": {
        "id": "G9iTvY69kWHG"
      }
    },
    {
      "cell_type": "markdown",
      "source": [
        "1. %d(decimal : 정수), %f(float : 실수), %s(strint : 문자열)를 사용하여 출력 서식을 지정\n",
        "2. 서식을 제외한 문자는 입력한 그대로 출력이 됨.\n",
        "3. 서식을 지정해 출력할 데이터가 2개 이상인 경우 (소괄호)로 데이터를 묶어야 함."
      ],
      "metadata": {
        "id": "m0jTREOxkZ7j"
      }
    },
    {
      "cell_type": "code",
      "source": [
        "print('숫자 : 100')\n",
        "print('숫자 : %d' % 100)    # %d는 뒤에 나오는 % 뒤의 정수를 받아온다.\n",
        "print('숫자 : %d' % 100.5)  # decimal를 받아야 하기 때문에 소수점을 잘라버린다.\n",
        "print('실수 : %f' % 100.5)  # float는 소숫점 6번째자리까지 출력한다."
      ],
      "metadata": {
        "colab": {
          "base_uri": "https://localhost:8080/"
        },
        "id": "puXDf2RtkvYA",
        "outputId": "07176bdb-aa55-421a-efd0-4524c44e4120"
      },
      "execution_count": null,
      "outputs": [
        {
          "output_type": "stream",
          "name": "stdout",
          "text": [
            "숫자 : 100\n",
            "숫자 : 100\n",
            "숫자 : 100\n",
            "실수 : 100.500000\n"
          ]
        }
      ]
    },
    {
      "cell_type": "code",
      "source": [
        "print('문자열 : %s' % 'Python')\n",
        "print('문자열 : %s' % 100)  # 정수를 입력해도 문자열로 바꾼 뒤에 출력해준다."
      ],
      "metadata": {
        "colab": {
          "base_uri": "https://localhost:8080/"
        },
        "id": "WIZ6b3W6lcyE",
        "outputId": "fd5076de-67c3-4ebb-94eb-64056d547f23"
      },
      "execution_count": null,
      "outputs": [
        {
          "output_type": "stream",
          "name": "stdout",
          "text": [
            "문자열 : Python\n",
            "문자열 : 100\n"
          ]
        }
      ]
    },
    {
      "cell_type": "code",
      "source": [
        "# 서식이 2개 이상인 경우\n",
        "print('5 + 3 = 8')\n",
        "print('%d + %d = %d' % (5, 3, 5+3))     # 데이터가 2개 이상인 경우 소괄호()로 묶어줄 것!"
      ],
      "metadata": {
        "colab": {
          "base_uri": "https://localhost:8080/"
        },
        "id": "7t47ZSOKlpgI",
        "outputId": "94edf73c-b95f-445d-beb4-a0dafa33f708"
      },
      "execution_count": null,
      "outputs": [
        {
          "output_type": "stream",
          "name": "stdout",
          "text": [
            "5 + 3 = 8\n",
            "5 + 3 = 8\n"
          ]
        }
      ]
    },
    {
      "cell_type": "code",
      "source": [
        "print('%5d' % 100)  # 출력 범위를 5칸으로 지정\n",
        "print('%5d' % 10000)\n",
        "print('%5d' % 100000)   # 5자리를 넘으면 의미가 없어짐\n",
        "print('%05d' % 100)     # 빈 칸에 0을 채워준다."
      ],
      "metadata": {
        "colab": {
          "base_uri": "https://localhost:8080/"
        },
        "id": "ORvh0QdamDTO",
        "outputId": "ea70aa4b-eb96-41eb-db83-1a1e1ed4b5ea"
      },
      "execution_count": null,
      "outputs": [
        {
          "output_type": "stream",
          "name": "stdout",
          "text": [
            "  100\n",
            "10000\n",
            "100000\n",
            "00100\n"
          ]
        }
      ]
    },
    {
      "cell_type": "code",
      "source": [
        "print('%6.2f' % 123.45)   # 앞의 6은 총 숫자의 개수(자릿 수 .포함) 뒤의 .2는 소숫점 2번째까지 출력\n",
        "print('%6.2f' % 123.4567)   # 반올림이 된다.\n",
        "print('%6.2f' % 123.4)      # 남은 자리는 0으로 채운다."
      ],
      "metadata": {
        "colab": {
          "base_uri": "https://localhost:8080/"
        },
        "id": "Q3lv_sI6ppn1",
        "outputId": "73822021-e7ac-46b5-92c7-a95f5e8c8c16"
      },
      "execution_count": null,
      "outputs": [
        {
          "output_type": "stream",
          "name": "stdout",
          "text": [
            "123.45\n",
            "123.46\n",
            "123.40\n"
          ]
        }
      ]
    },
    {
      "cell_type": "code",
      "source": [
        "print('%5s' % 'abc')    # %5d와 동일"
      ],
      "metadata": {
        "colab": {
          "base_uri": "https://localhost:8080/"
        },
        "id": "0flGrIXRqU5A",
        "outputId": "80a73b32-f58b-4441-e1c3-0e9b9683cf3d"
      },
      "execution_count": null,
      "outputs": [
        {
          "output_type": "stream",
          "name": "stdout",
          "text": [
            "  abc\n"
          ]
        }
      ]
    },
    {
      "cell_type": "code",
      "source": [
        "# 5 / 3 = ?\n",
        "print('%d / %d = %d' % (5, 3, 5/3))     # 실수를 정수형으로 출력\n",
        "print('%d / %d = %f' % (5, 3, 5/3))\n",
        "print('%d / %d = %4.2f' % (5, 3, 5/3))"
      ],
      "metadata": {
        "colab": {
          "base_uri": "https://localhost:8080/"
        },
        "id": "HIf31o-wqehm",
        "outputId": "816ccce0-232d-4ccc-a927-25dd32a1676d"
      },
      "execution_count": null,
      "outputs": [
        {
          "output_type": "stream",
          "name": "stdout",
          "text": [
            "5 / 3 = 1\n",
            "5 / 3 = 1.666667\n",
            "5 / 3 = 1.67\n"
          ]
        }
      ]
    },
    {
      "cell_type": "markdown",
      "source": [
        "# 3. format 함수와 출력 인덱스 사용"
      ],
      "metadata": {
        "id": "E4Xtt44yrIUp"
      }
    },
    {
      "cell_type": "code",
      "source": [
        "# 인덱스 : 0부터 순서대로 진행되는 정수\n",
        "print('{0} {1}'.format('김사과', '반하나'))       # 전체 문자에다 format을 적용해준다.\n",
        "# format에 들어간 첫번째 문자열은 인덱스가 0 두번재는 인덱스가 1\n",
        "print('{1} {0}'.format('김사과', '반하나'))"
      ],
      "metadata": {
        "colab": {
          "base_uri": "https://localhost:8080/"
        },
        "id": "X9YZlo6QrNJc",
        "outputId": "c8321ddd-4dee-4064-fdda-0de5783b5044"
      },
      "execution_count": null,
      "outputs": [
        {
          "output_type": "stream",
          "name": "stdout",
          "text": [
            "김사과 반하나\n",
            "반하나 김사과\n"
          ]
        }
      ]
    },
    {
      "cell_type": "code",
      "source": [
        "print('{0:3s}님은 {1:03d}살입니다.'.format('김사과', 20))"
      ],
      "metadata": {
        "colab": {
          "base_uri": "https://localhost:8080/"
        },
        "id": "DxDJbDhfslYi",
        "outputId": "34d0e08e-170c-4fbc-e43e-a429ba10aef4"
      },
      "execution_count": null,
      "outputs": [
        {
          "output_type": "stream",
          "name": "stdout",
          "text": [
            "김사과님은 020살입니다.\n"
          ]
        }
      ]
    }
  ]
}