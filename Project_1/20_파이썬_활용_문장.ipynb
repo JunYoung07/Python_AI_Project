{
  "nbformat": 4,
  "nbformat_minor": 0,
  "metadata": {
    "colab": {
      "provenance": [],
      "authorship_tag": "ABX9TyOCBoBc2WVCg2kuWmVQ2r5m",
      "include_colab_link": true
    },
    "kernelspec": {
      "name": "python3",
      "display_name": "Python 3"
    },
    "language_info": {
      "name": "python"
    }
  },
  "cells": [
    {
      "cell_type": "markdown",
      "metadata": {
        "id": "view-in-github",
        "colab_type": "text"
      },
      "source": [
        "<a href=\"https://colab.research.google.com/github/JunYoung07/Python_AI_Project/blob/main/20_%ED%8C%8C%EC%9D%B4%EC%8D%AC_%ED%99%9C%EC%9A%A9_%EB%AC%B8%EC%9E%A5.ipynb\" target=\"_parent\"><img src=\"https://colab.research.google.com/assets/colab-badge.svg\" alt=\"Open In Colab\"/></a>"
      ]
    },
    {
      "cell_type": "markdown",
      "source": [
        "# 1. 조건부 표현식"
      ],
      "metadata": {
        "id": "amcZFIMIA-oz"
      }
    },
    {
      "cell_type": "code",
      "source": [
        "age = 20\n",
        "result = \"\"\n",
        "\n",
        "if age > 19:\n",
        "    result = \"성인입니다\"\n",
        "else:\n",
        "    result = \"미성년입니다\""
      ],
      "metadata": {
        "id": "bfKk0I5wCVT9"
      },
      "execution_count": 1,
      "outputs": []
    },
    {
      "cell_type": "markdown",
      "source": [
        "```\n",
        "조건문이 참인경우 if 조건문 else 조건문이 거짓인 경우\n",
        "```"
      ],
      "metadata": {
        "id": "_9IlfxT0CdHo"
      }
    },
    {
      "cell_type": "code",
      "source": [
        "age = 20\n",
        "result = ''\n",
        "result = '성인입니다' if age > 19 else '미성년입니다'"
      ],
      "metadata": {
        "id": "mJJqaQSZCijS"
      },
      "execution_count": 9,
      "outputs": []
    },
    {
      "cell_type": "markdown",
      "source": [
        "# 2. enumerate()"
      ],
      "metadata": {
        "id": "43D2Sh6OCrjn"
      }
    },
    {
      "cell_type": "markdown",
      "source": [
        "* 인덱스와 요소를 함께 출력해주는 함수"
      ],
      "metadata": {
        "id": "usbh5OHWDXXf"
      }
    },
    {
      "cell_type": "code",
      "source": [
        "list1 = [1, 2, 3, 4]\n",
        "for i, e in enumerate(list1):\n",
        "    print(i, e)"
      ],
      "metadata": {
        "colab": {
          "base_uri": "https://localhost:8080/"
        },
        "id": "8fx7YL_EDZsV",
        "outputId": "cd110b9b-4cb3-4877-ae9f-32249570c7d1"
      },
      "execution_count": 10,
      "outputs": [
        {
          "output_type": "stream",
          "name": "stdout",
          "text": [
            "0 1\n",
            "1 2\n",
            "2 3\n",
            "3 4\n"
          ]
        }
      ]
    },
    {
      "cell_type": "code",
      "source": [
        "for i , e in enumerate(list1, 10):  # 10은 인덱스의 시작값\n",
        "    print(i, e)"
      ],
      "metadata": {
        "colab": {
          "base_uri": "https://localhost:8080/"
        },
        "id": "0jEbUWInDfMA",
        "outputId": "30f5c196-b5fd-4e78-8206-a20410b04064"
      },
      "execution_count": 12,
      "outputs": [
        {
          "output_type": "stream",
          "name": "stdout",
          "text": [
            "10 1\n",
            "11 2\n",
            "12 3\n",
            "13 4\n"
          ]
        }
      ]
    },
    {
      "cell_type": "markdown",
      "source": [
        "# 3. zip()\n"
      ],
      "metadata": {
        "id": "ySgJAsFHDifp"
      }
    },
    {
      "cell_type": "markdown",
      "source": [
        "* 두 리스트의 요소의 갯수가 같은 두 리스트를 같이 출력해준다\n",
        "* 두 리스트의 요소의 갯구가 다른 경우 길이가 작은 리스트의 갯수만큼 출력해준다"
      ],
      "metadata": {
        "id": "kgkulLBMDp3z"
      }
    },
    {
      "cell_type": "code",
      "source": [
        "list1 = [1, 2, 3, 4]\n",
        "list2 = [2, 3, 4, 5]\n",
        "for i, j in zip(list1, list2):\n",
        "    print(i, j)"
      ],
      "metadata": {
        "colab": {
          "base_uri": "https://localhost:8080/"
        },
        "id": "35-HLn9yDx3h",
        "outputId": "67088a27-3798-4af7-f4d5-9648e88ff655"
      },
      "execution_count": 13,
      "outputs": [
        {
          "output_type": "stream",
          "name": "stdout",
          "text": [
            "1 2\n",
            "2 3\n",
            "3 4\n",
            "4 5\n"
          ]
        }
      ]
    },
    {
      "cell_type": "code",
      "source": [
        "list3 = [3, 4, 5]\n",
        "for i, j in zip(list1, list3):\n",
        "    print(i, j)"
      ],
      "metadata": {
        "colab": {
          "base_uri": "https://localhost:8080/"
        },
        "id": "f0cwVmeOD4NI",
        "outputId": "f9fa2c80-bbdd-43a3-94fe-1a4fd310e6d1"
      },
      "execution_count": 14,
      "outputs": [
        {
          "output_type": "stream",
          "name": "stdout",
          "text": [
            "1 3\n",
            "2 4\n",
            "3 5\n"
          ]
        }
      ]
    },
    {
      "cell_type": "markdown",
      "source": [
        "# 4. for문 한줄 표현식"
      ],
      "metadata": {
        "id": "ttjU7F2AD-bV"
      }
    },
    {
      "cell_type": "code",
      "source": [
        "list1 = [1, 2, 3, 4]\n",
        "for i in list1: print(i)"
      ],
      "metadata": {
        "colab": {
          "base_uri": "https://localhost:8080/"
        },
        "id": "REpTwheaECec",
        "outputId": "d2379b5a-9010-44cc-a6ab-f952f7fd01ec"
      },
      "execution_count": 16,
      "outputs": [
        {
          "output_type": "stream",
          "name": "stdout",
          "text": [
            "1\n",
            "2\n",
            "3\n",
            "4\n"
          ]
        }
      ]
    },
    {
      "cell_type": "code",
      "source": [
        "[i for i in list1]"
      ],
      "metadata": {
        "colab": {
          "base_uri": "https://localhost:8080/"
        },
        "id": "jQctcDruEFLP",
        "outputId": "e580e5c9-0630-4a9b-e906-eb0e0cb58dc7"
      },
      "execution_count": 17,
      "outputs": [
        {
          "output_type": "execute_result",
          "data": {
            "text/plain": [
              "[1, 2, 3, 4]"
            ]
          },
          "metadata": {},
          "execution_count": 17
        }
      ]
    },
    {
      "cell_type": "code",
      "source": [
        "[i for i in list2 if i > 2]"
      ],
      "metadata": {
        "colab": {
          "base_uri": "https://localhost:8080/"
        },
        "id": "F-NWaCx-EKfs",
        "outputId": "6063eda2-efe0-4a97-e253-85451030c34b"
      },
      "execution_count": 18,
      "outputs": [
        {
          "output_type": "execute_result",
          "data": {
            "text/plain": [
              "[3, 4, 5]"
            ]
          },
          "metadata": {},
          "execution_count": 18
        }
      ]
    },
    {
      "cell_type": "markdown",
      "source": [
        "# 5. for문의 역리스트 만들기"
      ],
      "metadata": {
        "id": "f5_pBTueEQhV"
      }
    },
    {
      "cell_type": "code",
      "source": [
        "list2[::-1]"
      ],
      "metadata": {
        "id": "h5egNKAOEVAE",
        "colab": {
          "base_uri": "https://localhost:8080/"
        },
        "outputId": "686152ca-9be3-447e-fd1d-93bcd75e6209"
      },
      "execution_count": 19,
      "outputs": [
        {
          "output_type": "execute_result",
          "data": {
            "text/plain": [
              "[5, 4, 3, 2]"
            ]
          },
          "metadata": {},
          "execution_count": 19
        }
      ]
    },
    {
      "cell_type": "code",
      "source": [
        "list1 = [1, 2, 3, 4]\n",
        "for e in reversed(list1):\n",
        "    print(e)"
      ],
      "metadata": {
        "colab": {
          "base_uri": "https://localhost:8080/"
        },
        "id": "yB6Lg2dOEXkB",
        "outputId": "144d0ce0-a294-4dd7-e7f2-8bfabce264ac"
      },
      "execution_count": 20,
      "outputs": [
        {
          "output_type": "stream",
          "name": "stdout",
          "text": [
            "4\n",
            "3\n",
            "2\n",
            "1\n"
          ]
        }
      ]
    },
    {
      "cell_type": "code",
      "source": [
        "for i in list1[::-1]:\n",
        "    print(i)"
      ],
      "metadata": {
        "colab": {
          "base_uri": "https://localhost:8080/"
        },
        "id": "cymqgYhvEc65",
        "outputId": "66be5f04-e2fe-485e-b34c-655adc0e106e"
      },
      "execution_count": 22,
      "outputs": [
        {
          "output_type": "stream",
          "name": "stdout",
          "text": [
            "4\n",
            "3\n",
            "2\n",
            "1\n"
          ]
        }
      ]
    }
  ]
}