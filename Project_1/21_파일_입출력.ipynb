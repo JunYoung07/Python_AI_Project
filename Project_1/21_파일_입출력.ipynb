{
  "nbformat": 4,
  "nbformat_minor": 0,
  "metadata": {
    "colab": {
      "provenance": [],
      "authorship_tag": "ABX9TyPlsNFzusKtwrVVXMzq2Gna",
      "include_colab_link": true
    },
    "kernelspec": {
      "name": "python3",
      "display_name": "Python 3"
    },
    "language_info": {
      "name": "python"
    }
  },
  "cells": [
    {
      "cell_type": "markdown",
      "metadata": {
        "id": "view-in-github",
        "colab_type": "text"
      },
      "source": [
        "<a href=\"https://colab.research.google.com/github/JunYoung07/Python_AI_Project/blob/main/21_%ED%8C%8C%EC%9D%BC_%EC%9E%85%EC%B6%9C%EB%A0%A5.ipynb\" target=\"_parent\"><img src=\"https://colab.research.google.com/assets/colab-badge.svg\" alt=\"Open In Colab\"/></a>"
      ]
    },
    {
      "cell_type": "markdown",
      "source": [
        "# 1. 파일 열기"
      ],
      "metadata": {
        "id": "QaBd9Ef3Eokz"
      }
    },
    {
      "cell_type": "markdown",
      "source": [
        "```\n",
        "파일변수 = open('파일이름', '파일 열기 모드')\n",
        "```\n",
        "* 파일 열기 모드: w(write), a(append), r(read)\n",
        "* w는 지정된 경로에 파일이 없으면 파일을 만든 후 저장하고, 파일이 있으면 기존의 모든 데이터를 지우고 다시 저장\n",
        "* a는 지정된 경로에 파일이 없으면 만든 후 저장하고, 파일이 있으면 기존의 데이터 뒤에 이어서 저장\n",
        "* r은 지정된 경로에 파일이 없으면 에러, 파일이 있으면 해당 파일의 데이터를 읽어옴"
      ],
      "metadata": {
        "id": "kF0t4adhEuN2"
      }
    },
    {
      "cell_type": "markdown",
      "source": [
        "```\n",
        "input = open('./test.txt', 'r') # 텍스트 파일 열기 모드\n",
        "input = open('./test.txt', 'rb') # 바이너리 파일 열기 모드\n",
        "```\n",
        "* 파일의 종류 구분: t(text)/ b(binary)\n",
        "    * 텍스트  파일: 글자가 쓰여있는 메모장 파일, 주로 생략한다\n",
        "    * 바이너리 파일: 영상, 음악과 같은 파일\n",
        "* w, a작업이 완료되면 반드시 close()메서드를 사용해서 파일을 닫아야 정상적으로 데이터가 저장된다."
      ],
      "metadata": {
        "id": "sWVto9FzFOCd"
      }
    },
    {
      "cell_type": "code",
      "source": [
        "file = open('data.txt', 'w')    # data.txt에 값 입력\n",
        "for i in range(10):\n",
        "    file.write('파일 열기 테스트: ' + str(i) + '\\n')\n",
        "file.close()\n",
        "print('data.txt 파일에 쓰기 완료')"
      ],
      "metadata": {
        "colab": {
          "base_uri": "https://localhost:8080/"
        },
        "id": "nTQJp1OeFtjl",
        "outputId": "caf6ecb6-3c51-4a59-e12e-f5d313dda244"
      },
      "execution_count": 1,
      "outputs": [
        {
          "output_type": "stream",
          "name": "stdout",
          "text": [
            "data.txt 파일에 쓰기 완료\n"
          ]
        }
      ]
    },
    {
      "cell_type": "markdown",
      "source": [
        "## 경로\n",
        "* 절대 경로: 디스크 드라이브의 최상위(root) 디렉토리부터 텍스트 파일이 저장될 디렉토리까지 경로\n",
        "    * ```D:\\Jun\\AI6\\python\\data.txt```\n",
        "* 상대 경로: 현재 화면에 표시되는 소스파일이 위치한 디렉토리부터 텍스트 파일이 저장될 디렉토리까지의 경로\n",
        "    * 같은 디렉토리: ```파일명```\n",
        "    * 상위 디렉토리: ```../파일명```\n",
        "    * 하위 디렉토리: ```디렉토리명/파일명```"
      ],
      "metadata": {
        "id": "0RWNnwHAF9rt"
      }
    },
    {
      "cell_type": "code",
      "source": [
        "file = open('./sample/data.txt', 'wt')\n",
        "for i in range(10):\n",
        "    file.write('파일 열기 테스트: ' + str(i) + '\\n')\n",
        "file.close()\n",
        "print('data.txt 파일에 쓰기 완료')"
      ],
      "metadata": {
        "colab": {
          "base_uri": "https://localhost:8080/"
        },
        "id": "w04TY1fQGZLE",
        "outputId": "4a1d49ee-59c9-4955-9a41-d7ea35eacc1e"
      },
      "execution_count": 2,
      "outputs": [
        {
          "output_type": "stream",
          "name": "stdout",
          "text": [
            "data.txt 파일에 쓰기 완료\n"
          ]
        }
      ]
    },
    {
      "cell_type": "markdown",
      "source": [
        "# 2. 파일 읽기"
      ],
      "metadata": {
        "id": "7nbMeEElGqzz"
      }
    },
    {
      "cell_type": "code",
      "source": [
        "# read(): 파일로부터 데이터를 읽어옴\n",
        "# file.read(size) 또는 file.read()\n",
        "\n",
        "file = open('./sample/data.txt', 'rt')\n",
        "data = file.read()\n",
        "print('data.txt 파일 읽기 완료')\n",
        "print(data)"
      ],
      "metadata": {
        "colab": {
          "base_uri": "https://localhost:8080/"
        },
        "id": "rnO6FGXuGtSa",
        "outputId": "246fc0cc-ce6c-4d55-ddef-efc247d33b03"
      },
      "execution_count": 3,
      "outputs": [
        {
          "output_type": "stream",
          "name": "stdout",
          "text": [
            "data.txt 파일 읽기 완료\n",
            "파일 열기 테스트: 0\n",
            "파일 열기 테스트: 1\n",
            "파일 열기 테스트: 2\n",
            "파일 열기 테스트: 3\n",
            "파일 열기 테스트: 4\n",
            "파일 열기 테스트: 5\n",
            "파일 열기 테스트: 6\n",
            "파일 열기 테스트: 7\n",
            "파일 열기 테스트: 8\n",
            "파일 열기 테스트: 9\n",
            "\n"
          ]
        }
      ]
    },
    {
      "cell_type": "markdown",
      "source": [
        "### 문제\n",
        "read size를 10으로 유지하고 모든 글자 출력하기"
      ],
      "metadata": {
        "id": "3KbxU8blG67v"
      }
    },
    {
      "cell_type": "code",
      "source": [
        "file = open('./sample/data.txt', 'rt')\n",
        "while True:\n",
        "    data = file.read(10)\n",
        "    if not data:\n",
        "        break\n",
        "    print(data, end='')"
      ],
      "metadata": {
        "colab": {
          "base_uri": "https://localhost:8080/"
        },
        "id": "e8Z2DZ7nHB_H",
        "outputId": "71a56928-5a16-4503-c545-c6ffeca8f626"
      },
      "execution_count": 5,
      "outputs": [
        {
          "output_type": "stream",
          "name": "stdout",
          "text": [
            "파일 열기 테스트: 0\n",
            "파일 열기 테스트: 1\n",
            "파일 열기 테스트: 2\n",
            "파일 열기 테스트: 3\n",
            "파일 열기 테스트: 4\n",
            "파일 열기 테스트: 5\n",
            "파일 열기 테스트: 6\n",
            "파일 열기 테스트: 7\n",
            "파일 열기 테스트: 8\n",
            "파일 열기 테스트: 9\n"
          ]
        }
      ]
    },
    {
      "cell_type": "markdown",
      "source": [
        "### 문제\n",
        "키보드에 입력하는 문자열을 텍스트 파일에 저장하는 프로그램 작성  \n",
        "(단, quit가 입력되면 저장을 끝내고 프로그램 종료)"
      ],
      "metadata": {
        "id": "14Ltt9ayHQ4j"
      }
    },
    {
      "cell_type": "code",
      "source": [
        "file = open('./sample/prob.txt', 'wt')\n",
        "while True:\n",
        "    data = input('문자열을 입력하세요: ')\n",
        "    if data.lower() == 'quit':\n",
        "        break\n",
        "    file.write(data + '\\n')\n",
        "file.close()\n",
        "print('파일 저장 완료')"
      ],
      "metadata": {
        "colab": {
          "base_uri": "https://localhost:8080/"
        },
        "id": "sNiOc2oXH6x3",
        "outputId": "78dfb043-6831-402f-ef07-4221d937f739"
      },
      "execution_count": 7,
      "outputs": [
        {
          "output_type": "stream",
          "name": "stdout",
          "text": [
            "문자열을 입력하세요: 선생님\n",
            "문자열을 입력하세요: 안녕하세요\n",
            "문자열을 입력하세요: quit\n",
            "파일 저장 완료\n"
          ]
        }
      ]
    },
    {
      "cell_type": "markdown",
      "source": [
        "# 3. with 문"
      ],
      "metadata": {
        "id": "YV65XH92IOIP"
      }
    },
    {
      "cell_type": "markdown",
      "source": [
        "* 자원을 획득하고 사용 후 반납해야하는 경우 사용"
      ],
      "metadata": {
        "id": "NH6_EbABIZAa"
      }
    },
    {
      "cell_type": "code",
      "source": [
        "with open('./sample/output.txt', 'w') as file: # close()가 필요없음\n",
        "    while True:\n",
        "        data = input('단어를 입력하세요: ')\n",
        "        if data.lower() == 'quit':\n",
        "            break\n",
        "        file.write(data + '\\n')"
      ],
      "metadata": {
        "colab": {
          "base_uri": "https://localhost:8080/"
        },
        "id": "rxr8QFzqIb6n",
        "outputId": "bfbf5154-90da-45d1-ee12-7cbe2b3e35a1"
      },
      "execution_count": 10,
      "outputs": [
        {
          "name": "stdout",
          "output_type": "stream",
          "text": [
            "단어를 입력하세요: apple\n",
            "단어를 입력하세요: banana\n",
            "단어를 입력하세요: melon\n",
            "단어를 입력하세요: orange\n",
            "단어를 입력하세요: quit\n"
          ]
        }
      ]
    },
    {
      "cell_type": "markdown",
      "source": [
        "# readline() & readlines()"
      ],
      "metadata": {
        "id": "CUYgmhXKIsHg"
      }
    },
    {
      "cell_type": "markdown",
      "source": [
        "* readline(): 텍스트 파일을 한 줄 씩 읽어서 처리. 파일이 종료되어 더이상 읽을 수 없으면 빈 문자열을 읽음\n",
        "* readlines(): 전체 라인을 모두 읽어서 각 라인단위로 리스트에 저장"
      ],
      "metadata": {
        "id": "Xe9Omub8JMT9"
      }
    },
    {
      "cell_type": "code",
      "source": [
        "with open('./sample/output.txt', 'r') as file:\n",
        "    lines = []\n",
        "    while True:\n",
        "        line = file.readline()\n",
        "        if not line:\n",
        "            break\n",
        "        if len(line.strip()) != 0:\n",
        "            print(line, end='')\n",
        "            lines.append(line.strip())\n",
        "\n",
        "print(lines)"
      ],
      "metadata": {
        "colab": {
          "base_uri": "https://localhost:8080/"
        },
        "id": "KwrrCryMJU6Y",
        "outputId": "5a0ec658-1531-404e-f522-16d06df3a173"
      },
      "execution_count": 12,
      "outputs": [
        {
          "output_type": "stream",
          "name": "stdout",
          "text": [
            "apple\n",
            "banana\n",
            "melon\n",
            "orange\n",
            "['apple', 'banana', 'melon', 'orange']\n"
          ]
        }
      ]
    },
    {
      "cell_type": "code",
      "source": [
        "with open('./sample/output.txt', 'r') as file:\n",
        "    lines = file.readlines()\n",
        "    print(type(lines))\n",
        "    print(lines)\n",
        "\n",
        "for i in lines:\n",
        "    print(i, end='')"
      ],
      "metadata": {
        "colab": {
          "base_uri": "https://localhost:8080/"
        },
        "id": "Ze6eekphJf06",
        "outputId": "24f2f609-3bd2-4af8-fd75-99e931045a5f"
      },
      "execution_count": 15,
      "outputs": [
        {
          "output_type": "stream",
          "name": "stdout",
          "text": [
            "<class 'list'>\n",
            "['apple\\n', 'banana\\n', 'melon\\n', 'orange\\n']\n",
            "apple\n",
            "banana\n",
            "melon\n",
            "orange\n"
          ]
        }
      ]
    }
  ]
}