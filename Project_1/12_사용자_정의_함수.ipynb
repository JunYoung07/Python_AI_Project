{
  "nbformat": 4,
  "nbformat_minor": 0,
  "metadata": {
    "colab": {
      "provenance": [],
      "collapsed_sections": [],
      "authorship_tag": "ABX9TyPrhn3qVqFwvdl3zpr3/lrC",
      "include_colab_link": true
    },
    "kernelspec": {
      "name": "python3",
      "display_name": "Python 3"
    },
    "language_info": {
      "name": "python"
    }
  },
  "cells": [
    {
      "cell_type": "markdown",
      "metadata": {
        "id": "view-in-github",
        "colab_type": "text"
      },
      "source": [
        "<a href=\"https://colab.research.google.com/github/JunYoung07/Python_AI_Project/blob/main/12_%EC%82%AC%EC%9A%A9%EC%9E%90_%EC%A0%95%EC%9D%98_%ED%95%A8%EC%88%98.ipynb\" target=\"_parent\"><img src=\"https://colab.research.google.com/assets/colab-badge.svg\" alt=\"Open In Colab\"/></a>"
      ]
    },
    {
      "cell_type": "markdown",
      "source": [
        "# 1. 함수"
      ],
      "metadata": {
        "id": "Gei9P_lsMq_b"
      }
    },
    {
      "cell_type": "markdown",
      "source": [
        "* 변수 x, y에 대해 x값이 정해지면 그에 따라 y값을 결정하는 것\n",
        "* 반복적으로 사용되는 가치있는 부분을 묶어서 하나의 집합으로 만듦\n",
        "* 코드를 재활용하기 위한 목적"
      ],
      "metadata": {
        "id": "KTTtwNiFMvap"
      }
    },
    {
      "cell_type": "markdown",
      "source": [
        "### 1-1. 이름만 있는 함수\n",
        "```\n",
        "def 함수명():\n",
        "    함수가 호출되면 실행할 문장\n",
        "```\n",
        "```\n",
        "함수명() # 호출\n",
        "```"
      ],
      "metadata": {
        "id": "i3RLXBv5M4hx"
      }
    },
    {
      "cell_type": "code",
      "source": [
        "def func1():\n",
        "    print('hello world!')"
      ],
      "metadata": {
        "id": "6C8wuJwqNMsh"
      },
      "execution_count": null,
      "outputs": []
    },
    {
      "cell_type": "code",
      "source": [
        "# 파이썬 메모리 heap에 fucn1을 저장 (지정해주는 키 값이 없어도 저장되있음)\n",
        "func1()\n",
        "func1()"
      ],
      "metadata": {
        "colab": {
          "base_uri": "https://localhost:8080/"
        },
        "id": "3VeLmX-BNQQX",
        "outputId": "a8c1a42a-a26d-4f00-d8cb-bd7d8275aa74"
      },
      "execution_count": null,
      "outputs": [
        {
          "output_type": "stream",
          "name": "stdout",
          "text": [
            "hello world!\n",
            "hello world!\n"
          ]
        }
      ]
    },
    {
      "cell_type": "code",
      "source": [
        "for _ in range(5):\n",
        "    func1()"
      ],
      "metadata": {
        "colab": {
          "base_uri": "https://localhost:8080/"
        },
        "id": "cisSPOp2NbpT",
        "outputId": "f89def48-ad4d-4de0-f3b1-96b30d009c70"
      },
      "execution_count": null,
      "outputs": [
        {
          "output_type": "stream",
          "name": "stdout",
          "text": [
            "hello world!\n",
            "hello world!\n",
            "hello world!\n",
            "hello world!\n",
            "hello world!\n"
          ]
        }
      ]
    },
    {
      "cell_type": "markdown",
      "source": [
        "### 1-2. 매개변수(parameter)가 있는 함수\n",
        "```\n",
        "def 함수명(변수1, 변수2, ...):\n",
        "    함수가 호출되면 실행할 문장\n",
        "```\n",
        "```\n",
        "함수명(값1, 값2, ...) # 호출\n",
        "```"
      ],
      "metadata": {
        "id": "aZdxiTOoNff7"
      }
    },
    {
      "cell_type": "code",
      "source": [
        "def func2(num):\n",
        "    print('입력받은 숫자: %d' % num)"
      ],
      "metadata": {
        "id": "J1GSzyICUlbR"
      },
      "execution_count": null,
      "outputs": []
    },
    {
      "cell_type": "code",
      "source": [
        "func2(5)\n",
        "func2(10)"
      ],
      "metadata": {
        "colab": {
          "base_uri": "https://localhost:8080/"
        },
        "id": "TdoZqp4rVFje",
        "outputId": "9ec00b5a-0eed-4bb6-c5b9-12c7a75eaa87"
      },
      "execution_count": null,
      "outputs": [
        {
          "output_type": "stream",
          "name": "stdout",
          "text": [
            "입력받은 숫자: 5\n",
            "입력받은 숫자: 10\n"
          ]
        }
      ]
    },
    {
      "cell_type": "code",
      "source": [
        "def func3(start, end):\n",
        "    sum = 0\n",
        "    for i in range(start, end+1):\n",
        "        sum += i\n",
        "    print('%d부터 %d까지 합: %d' % (start, end, sum))"
      ],
      "metadata": {
        "id": "dFBwF38UVHNi"
      },
      "execution_count": null,
      "outputs": []
    },
    {
      "cell_type": "code",
      "source": [
        "func3(1, 10)\n",
        "func3(1, 100)"
      ],
      "metadata": {
        "colab": {
          "base_uri": "https://localhost:8080/"
        },
        "id": "KL5Uy-xFVSqS",
        "outputId": "be1ca289-544e-49a6-8b1c-66d906029daf"
      },
      "execution_count": null,
      "outputs": [
        {
          "output_type": "stream",
          "name": "stdout",
          "text": [
            "1부터 10까지 합: 55\n",
            "1부터 100까지 합: 5050\n"
          ]
        }
      ]
    },
    {
      "cell_type": "markdown",
      "source": [
        "### 1-3. 리턴값이 있는 함수\n",
        "```\n",
        "def 함수명(변수1, 변수2, ...):\n",
        "    함수가 호출되면 실행할 문장\n",
        "    ...\n",
        "    return 값\n",
        "```\n",
        "```\n",
        "변수 = 함수명(값1, 값2, ...) # 호출, 변수에 return 값을 저장\n",
        "```\n",
        "* return을 활용하면 코드를 유연하게 작성할 수 있다.\n",
        "* 코드가 이미 정해져있으므로 함수를 수정해야 활용가능\n"
      ],
      "metadata": {
        "id": "C_yNPkxnVUOM"
      }
    },
    {
      "cell_type": "code",
      "source": [
        "def func4():\n",
        "    return '✔'"
      ],
      "metadata": {
        "id": "L2cwSArFWFzx"
      },
      "execution_count": null,
      "outputs": []
    },
    {
      "cell_type": "code",
      "source": [
        "print(func4())"
      ],
      "metadata": {
        "colab": {
          "base_uri": "https://localhost:8080/"
        },
        "id": "EhhtKISQWJC8",
        "outputId": "abf1410a-569d-43aa-e2ad-289fc19eb5d2"
      },
      "execution_count": null,
      "outputs": [
        {
          "output_type": "stream",
          "name": "stdout",
          "text": [
            "✔\n"
          ]
        }
      ]
    },
    {
      "cell_type": "code",
      "source": [
        "presents = func4()\n",
        "print(presents)"
      ],
      "metadata": {
        "colab": {
          "base_uri": "https://localhost:8080/"
        },
        "id": "O6YP3FdqWJ14",
        "outputId": "c4de2995-54c1-4b76-ec82-0d28267cc18e"
      },
      "execution_count": null,
      "outputs": [
        {
          "output_type": "stream",
          "name": "stdout",
          "text": [
            "✔\n"
          ]
        }
      ]
    },
    {
      "cell_type": "code",
      "source": [
        "def func5(num1, num2):\n",
        "    return num1 + num2"
      ],
      "metadata": {
        "id": "MC1p0nFXWPR9"
      },
      "execution_count": null,
      "outputs": []
    },
    {
      "cell_type": "code",
      "source": [
        "def func6(num1, num2):\n",
        "    print(num1 + num2)"
      ],
      "metadata": {
        "id": "t72--jvlWVOQ"
      },
      "execution_count": null,
      "outputs": []
    },
    {
      "cell_type": "code",
      "source": [
        "result1 = func5(1, 2)\n",
        "result2 = func6(1, 2)   # 3\n",
        "print(result1)  # 3\n",
        "print(result2)  # None"
      ],
      "metadata": {
        "colab": {
          "base_uri": "https://localhost:8080/"
        },
        "id": "nX1f85b0Wamz",
        "outputId": "09e1b149-2206-4dd6-bb8c-8f5a1667e294"
      },
      "execution_count": null,
      "outputs": [
        {
          "output_type": "stream",
          "name": "stdout",
          "text": [
            "3\n",
            "3\n",
            "None\n"
          ]
        }
      ]
    },
    {
      "cell_type": "markdown",
      "source": [
        "### 1-4. 디폴트 매개변수\n",
        "```\n",
        "def 함수명(변수1=값1, 변수2=값2, ...): # 변수의 값을 초기화\n",
        "    함수가 호출되면 실행할 문장\n",
        "    ...\n",
        "    return 값\n",
        "```\n",
        "```\n",
        "변수 = 함수명(값1, 값2, ...) # 호출\n",
        "변수 = 함수명() # 호출 without Error\n",
        "```\n"
      ],
      "metadata": {
        "id": "B1Ov6j0gWg-O"
      }
    },
    {
      "cell_type": "code",
      "source": [
        "def func6(num1=1, num2=2):\n",
        "    return num1 + num2"
      ],
      "metadata": {
        "id": "LK0cp6kzXDuP"
      },
      "execution_count": null,
      "outputs": []
    },
    {
      "cell_type": "code",
      "source": [
        "print(func6(10, 3))\n",
        "print(func6())\n",
        "print(func6(10))    # 변수는 무조건 앞에서 부터 지정해나간다."
      ],
      "metadata": {
        "colab": {
          "base_uri": "https://localhost:8080/"
        },
        "id": "Ac7IbMi2XJpe",
        "outputId": "da352e56-fa50-4528-dce2-6e11348239a9"
      },
      "execution_count": null,
      "outputs": [
        {
          "output_type": "stream",
          "name": "stdout",
          "text": [
            "13\n",
            "3\n",
            "12\n"
          ]
        }
      ]
    },
    {
      "cell_type": "markdown",
      "source": [
        "### 1-5. 매개변수의 개수가 가변적인 함수\n",
        "```\n",
        "def 함수명(*변수): # 변수의 개수를 가변적으로 받는다 (*변수 -> 튜플)\n",
        "    함수가 호출되면 실행할 문장\n",
        "    ...\n",
        "    return 값\n",
        "```\n",
        "```\n",
        "변수 = 함수명(값1, 값2, ...) # 호출\n",
        "변수 = 함수명(값1) # 호출\n",
        "```\n",
        "> 매개변수는 함수안에서 튜플형태로 사용"
      ],
      "metadata": {
        "id": "FZ3ZNfdsXTCK"
      }
    },
    {
      "cell_type": "code",
      "source": [
        "def func7(*args): # (args1, args2, args3, ...) -> tuple\n",
        "    result = 0\n",
        "    for i in args:\n",
        "        result += i\n",
        "    return result"
      ],
      "metadata": {
        "id": "ScsrEM1pXufU"
      },
      "execution_count": null,
      "outputs": []
    },
    {
      "cell_type": "code",
      "source": [
        "print(func7(10))\n",
        "print(func7(10, 30, 20, 70, 50))"
      ],
      "metadata": {
        "colab": {
          "base_uri": "https://localhost:8080/"
        },
        "id": "9OAn5XFjX7Tv",
        "outputId": "1642dd51-3375-466f-b0f0-82b72598473c"
      },
      "execution_count": null,
      "outputs": [
        {
          "output_type": "stream",
          "name": "stdout",
          "text": [
            "10\n",
            "180\n"
          ]
        }
      ]
    },
    {
      "cell_type": "markdown",
      "source": [
        "### 1-6. 매개변수를 딕셔너리 구조로 전달받는 함수\n",
        "```\n",
        "def 함수명(**변수): # 변수의 개수를 가변적으로 받는다 (*변수 -> 딕셔너리)\n",
        "    함수가 호출되면 실행할 문장\n",
        "    ...\n",
        "    return 값\n",
        "```\n",
        "```\n",
        "변수 = 함수명(변수1=값1, 변수2=값2, ...) # 호출\n",
        "```"
      ],
      "metadata": {
        "id": "pdhDviD6X-3t"
      }
    },
    {
      "cell_type": "code",
      "source": [
        "def func8(**args):\n",
        "    for i in args:\n",
        "        if i == 'userid':\n",
        "            id = args[i]\n",
        "    return id"
      ],
      "metadata": {
        "id": "8SEazEqRYnsL"
      },
      "execution_count": null,
      "outputs": []
    },
    {
      "cell_type": "code",
      "source": [
        "user = func8(userid='apple', name='김사과', age=20)\n",
        "print(user)"
      ],
      "metadata": {
        "colab": {
          "base_uri": "https://localhost:8080/"
        },
        "id": "r7_bmnJQYyk7",
        "outputId": "723565f7-8bc8-45f0-9261-fd8066735d1a"
      },
      "execution_count": null,
      "outputs": [
        {
          "output_type": "stream",
          "name": "stdout",
          "text": [
            "apple\n"
          ]
        }
      ]
    },
    {
      "cell_type": "markdown",
      "source": [
        "### 1-7. 리턴값이 여러개인 함수\n",
        "```\n",
        "def 함수명(변수1, 변수2, ...):\n",
        "    함수가 호출되면 실행할 문장\n",
        "    ...\n",
        "    return 값1, 값2, ...\n",
        "```\n",
        "```\n",
        "변수1, 변수2, ... = 함수명(변수1, 변수2, ...) # 호출\n",
        "```"
      ],
      "metadata": {
        "id": "ODusTuR_Y1Wl"
      }
    },
    {
      "cell_type": "code",
      "source": [
        "def func9(num1, num2):\n",
        "    return num1 + num2, num1 - num2, num1 * num2, num1 / num2"
      ],
      "metadata": {
        "id": "-1wWnTNlZYbp"
      },
      "execution_count": null,
      "outputs": []
    },
    {
      "cell_type": "code",
      "source": [
        "result1, result2, result3, result4 = func9(10, 3)\n",
        "print(result1, result2, result3, result4)"
      ],
      "metadata": {
        "colab": {
          "base_uri": "https://localhost:8080/"
        },
        "id": "2gg4ajJ2Zgar",
        "outputId": "6b399ec2-2a78-4638-b805-8d04aa7d0447"
      },
      "execution_count": null,
      "outputs": [
        {
          "output_type": "stream",
          "name": "stdout",
          "text": [
            "13 7 30 3.3333333333333335\n"
          ]
        }
      ]
    },
    {
      "cell_type": "code",
      "source": [
        "result1, _, _, _ = func9(10, 3) # 여러 개의 return 값중 하나만 출력하고 싶은 경우 _를 사용한다.\n",
        "print(result1)"
      ],
      "metadata": {
        "colab": {
          "base_uri": "https://localhost:8080/"
        },
        "id": "-Y10IKoaZnkX",
        "outputId": "b5f3af73-9897-4174-9ee5-c434089fb8d9"
      },
      "execution_count": null,
      "outputs": [
        {
          "output_type": "stream",
          "name": "stdout",
          "text": [
            "13\n"
          ]
        }
      ]
    },
    {
      "cell_type": "code",
      "source": [],
      "metadata": {
        "id": "e4Q1cjNfZuND"
      },
      "execution_count": null,
      "outputs": []
    }
  ]
}