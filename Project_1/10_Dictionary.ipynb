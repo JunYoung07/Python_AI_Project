{
  "nbformat": 4,
  "nbformat_minor": 0,
  "metadata": {
    "colab": {
      "provenance": [],
      "collapsed_sections": [],
      "authorship_tag": "ABX9TyOrnP0kILyYSoYvFF7dQk0z",
      "include_colab_link": true
    },
    "kernelspec": {
      "name": "python3",
      "display_name": "Python 3"
    },
    "language_info": {
      "name": "python"
    }
  },
  "cells": [
    {
      "cell_type": "markdown",
      "metadata": {
        "id": "view-in-github",
        "colab_type": "text"
      },
      "source": [
        "<a href=\"https://colab.research.google.com/github/JunYoung07/Python_AI_Project/blob/main/10_Dictionary.ipynb\" target=\"_parent\"><img src=\"https://colab.research.google.com/assets/colab-badge.svg\" alt=\"Open In Colab\"/></a>"
      ]
    },
    {
      "cell_type": "markdown",
      "source": [
        "# 1. 딕셔너리 (Dictionary)"
      ],
      "metadata": {
        "id": "bI0DkbT7M8ZF"
      }
    },
    {
      "cell_type": "markdown",
      "source": [
        "* 대응관계를 나타내는 자료형으로 key와 value를 한 쌍으로 갖는 형태\n",
        "* 하나의 딕셔너리의 key는 중복될 수 없음\n",
        "* 하나의 딕셔너리의 value는 중복될 수 없음"
      ],
      "metadata": {
        "id": "Y5WER__PNF5H"
      }
    },
    {
      "cell_type": "markdown",
      "source": [
        "### 1-1. 딕셔너리 만들기"
      ],
      "metadata": {
        "id": "oA8znp5zNPZX"
      }
    },
    {
      "cell_type": "code",
      "source": [
        "dic = {}\n",
        "print(dic)\n",
        "print(type(dic))"
      ],
      "metadata": {
        "colab": {
          "base_uri": "https://localhost:8080/"
        },
        "id": "O9Uf8qNyNSHK",
        "outputId": "cde26faa-c899-4272-c69f-2fb4b929c81a"
      },
      "execution_count": null,
      "outputs": [
        {
          "output_type": "stream",
          "name": "stdout",
          "text": [
            "{}\n",
            "<class 'dict'>\n"
          ]
        }
      ]
    },
    {
      "cell_type": "code",
      "source": [
        "dic2 = {1:'김사과', 2:'반하나', 3:'오렌지', 4:'이메론'}\n",
        "print(dic2)"
      ],
      "metadata": {
        "colab": {
          "base_uri": "https://localhost:8080/"
        },
        "id": "AHRbg7L3NU7Y",
        "outputId": "995319df-dacf-4ea8-df5a-0454221cf65a"
      },
      "execution_count": null,
      "outputs": [
        {
          "output_type": "stream",
          "name": "stdout",
          "text": [
            "{1: '김사과', 2: '반하나', 3: '오렌지', 4: '이메론'}\n"
          ]
        }
      ]
    },
    {
      "cell_type": "markdown",
      "source": [
        "### 1-2. key를 통해 value찾기"
      ],
      "metadata": {
        "id": "NCWWUJY2Nasu"
      }
    },
    {
      "cell_type": "markdown",
      "source": [
        "* value로key를 찾을 수는 없다."
      ],
      "metadata": {
        "id": "cOS-G_bBNeFq"
      }
    },
    {
      "cell_type": "code",
      "source": [
        "print(dic2[1])\n",
        "print(dic2[3])"
      ],
      "metadata": {
        "colab": {
          "base_uri": "https://localhost:8080/"
        },
        "id": "w2IcFCJoNkt8",
        "outputId": "106e9139-94f8-4c94-f044-2bbc4cb84471"
      },
      "execution_count": null,
      "outputs": [
        {
          "output_type": "stream",
          "name": "stdout",
          "text": [
            "김사과\n",
            "오렌지\n"
          ]
        }
      ]
    },
    {
      "cell_type": "code",
      "source": [
        "dic3 = {'no':1, 'userid':'apple', 'name':'김사과', 'hp':'010-1111-1111'}\n",
        "print(dic3['no'])\n",
        "print(dic3['userid'])\n",
        "print(dic3['name'])"
      ],
      "metadata": {
        "colab": {
          "base_uri": "https://localhost:8080/"
        },
        "id": "Jfg2rXz-Npgg",
        "outputId": "e9ee78a3-c7e3-48dd-8ee9-8bd777d14326"
      },
      "execution_count": null,
      "outputs": [
        {
          "output_type": "stream",
          "name": "stdout",
          "text": [
            "1\n",
            "apple\n",
            "김사과\n"
          ]
        }
      ]
    },
    {
      "cell_type": "markdown",
      "source": [
        "### 1-3. 데이터 추가 및 삭제"
      ],
      "metadata": {
        "id": "0eNs860HN9pW"
      }
    },
    {
      "cell_type": "markdown",
      "source": [
        "* dic[key] = value -> 데이터의 추가\n",
        "* key에 대해 sort가 되지 않고 마지막에 삽입된다.\n",
        "* key의 값은 중복이 될 수 없으므로 value가 바뀐다."
      ],
      "metadata": {
        "id": "bqeyQJ2zObYr"
      }
    },
    {
      "cell_type": "code",
      "source": [
        "dic4 = {1:'apple'}\n",
        "print(dic4)\n",
        "\n",
        "dic4[100] = 'orange'    # dic4[key] = value -> 딕셔너리 데이터 추가\n",
        "print(dic4)\n",
        "\n",
        "dic4[50] = 'banana'     # key에 대해 sort가 되지 않고 마지막에 삽입된다.\n",
        "print(dic4)\n",
        "\n",
        "dic4[1] = 'melon'       # key의 값이 중복이 안되기에 입력받은 value값으로 바뀐다.\n",
        "print(dic4)"
      ],
      "metadata": {
        "colab": {
          "base_uri": "https://localhost:8080/"
        },
        "id": "5RYk4oXkOLgc",
        "outputId": "2e77f6c1-8911-4e7e-d54b-6c216d79c3c6"
      },
      "execution_count": null,
      "outputs": [
        {
          "output_type": "stream",
          "name": "stdout",
          "text": [
            "{1: 'apple'}\n",
            "{1: 'apple', 100: 'orange'}\n",
            "{1: 'apple', 100: 'orange', 50: 'banana'}\n",
            "{1: 'melon', 100: 'orange', 50: 'banana'}\n"
          ]
        }
      ]
    },
    {
      "cell_type": "markdown",
      "source": [
        "### 1-4. 딕셔너리 함수"
      ],
      "metadata": {
        "id": "KP_LddxWO17a"
      }
    },
    {
      "cell_type": "markdown",
      "source": [
        "```\n",
        "# keys(): key 리스트를 반환\n",
        "# values(): value 리스트를 반환\n",
        "# items(): key와 value를 한 쌍으로 묶는 tuple을 반환\n",
        "# get(): key를 이용하여 value를 반환 (에러가 없음)\n",
        "```"
      ],
      "metadata": {
        "id": "lQ4PUkrHPDcL"
      }
    },
    {
      "cell_type": "code",
      "source": [
        "dic3 = {'no':1, 'userid':'apple', 'name':'김사과', 'hp':'010-1111-1111'}\n",
        "\n",
        "# keys()\n",
        "print(dic3.keys())\n",
        "\n",
        "# values()\n",
        "print(dic3.values())\n",
        "\n",
        "# items()\n",
        "print(dic3.items())\n",
        "\n",
        "# get()\n",
        "# print(dic3['age'])    # KeyError: 'age'\n",
        "print(dic3.get('userid'))\n",
        "print(dic3.get('age'))\n",
        "print(dic3.get('age', '나이를 알 수 없음'))\n",
        "\n",
        "# in : key가 딕셔너리 안에 있는 지 확인\n",
        "print('name' in dic3)\n",
        "print('age' in dic3)"
      ],
      "metadata": {
        "colab": {
          "base_uri": "https://localhost:8080/"
        },
        "id": "YE8ux5MqPcJ-",
        "outputId": "ca4b0ba2-b023-40aa-8ca4-bebe7f725de1"
      },
      "execution_count": null,
      "outputs": [
        {
          "output_type": "stream",
          "name": "stdout",
          "text": [
            "dict_keys(['no', 'userid', 'name', 'hp'])\n",
            "dict_values([1, 'apple', '김사과', '010-1111-1111'])\n",
            "dict_items([('no', 1), ('userid', 'apple'), ('name', '김사과'), ('hp', '010-1111-1111')])\n",
            "apple\n",
            "None\n",
            "나이를 알 수 없음\n",
            "True\n",
            "False\n"
          ]
        }
      ]
    },
    {
      "cell_type": "markdown",
      "source": [
        "### 1-5. 딕셔너리와 for"
      ],
      "metadata": {
        "id": "jJpYoufeQHIM"
      }
    },
    {
      "cell_type": "code",
      "source": [
        "dic3 = {'no':1, 'userid':'apple', 'name':'김사과', 'hp':'010-1111-1111'}\n",
        "\n",
        "for i in dic3:  # key만 복사\n",
        "    print(i, end=' ')\n",
        "print()\n",
        "\n",
        "for i in dic3.keys():   # key만 복사\n",
        "    print(i, end=' ')\n",
        "print()\n",
        "\n",
        "for i in dic3.values(): # value만 복사\n",
        "    print(i, end=' ')\n",
        "print()\n",
        "\n",
        "for i in dic3.keys():\n",
        "    print(dic3.get(i), end=' ')"
      ],
      "metadata": {
        "colab": {
          "base_uri": "https://localhost:8080/"
        },
        "id": "hTyNjvO-QLnL",
        "outputId": "ef1af66b-577b-426a-8998-90eff0063efc"
      },
      "execution_count": null,
      "outputs": [
        {
          "output_type": "stream",
          "name": "stdout",
          "text": [
            "no userid name hp \n",
            "no userid name hp \n",
            "1 apple 김사과 010-1111-1111 \n",
            "1 apple 김사과 010-1111-1111 "
          ]
        }
      ]
    },
    {
      "cell_type": "markdown",
      "source": [
        "### 문제\n",
        "dic3에서 모든 key중 value가 'apple'이 있는 지 확인하는 프로그램을 작성해보자."
      ],
      "metadata": {
        "id": "WW-PO64iQq6t"
      }
    },
    {
      "cell_type": "code",
      "source": [
        "for i in dic3.keys():\n",
        "    if dic3.get(i) == 'apple':\n",
        "        print('찾았습니다!')\n",
        "    else:\n",
        "        print('못찾았습니다!')"
      ],
      "metadata": {
        "colab": {
          "base_uri": "https://localhost:8080/"
        },
        "id": "py-MWrRZQ0oh",
        "outputId": "54204fc6-17fe-4956-b76a-fe5e653489b8"
      },
      "execution_count": null,
      "outputs": [
        {
          "output_type": "stream",
          "name": "stdout",
          "text": [
            "못찾았습니다!\n",
            "찾았습니다!\n",
            "못찾았습니다!\n",
            "못찾았습니다!\n"
          ]
        }
      ]
    },
    {
      "cell_type": "markdown",
      "source": [
        "### 문제\n",
        "아래와 같은 딕셔너리 자료에서 주민등록번호를 추출하여 성별을 알아내는 프로그램을 작성해보자. (단, ssn의 7번재 자리의 성별 1, 3은 '남자', 2, 4는 '여자'라고 한다."
      ],
      "metadata": {
        "id": "RVvKf6J3ILJL"
      }
    },
    {
      "cell_type": "code",
      "source": [
        "user = {'name': '김사과', 'hp':'010-1111-1111', 'ssn': '0010114068518'}\n",
        "\n",
        "ssn = user.get('ssn')\n",
        "if ssn[6] == '1' or ssn[6] == '3':\n",
        "    print('남자')\n",
        "elif ssn[6] == '2' or ssn[6] == '4':\n",
        "    print('여자')"
      ],
      "metadata": {
        "colab": {
          "base_uri": "https://localhost:8080/"
        },
        "id": "4e-BFMtpITTa",
        "outputId": "b6a33d2b-1869-4482-92e3-2befaed4e0ef"
      },
      "execution_count": null,
      "outputs": [
        {
          "output_type": "stream",
          "name": "stdout",
          "text": [
            "여자\n"
          ]
        }
      ]
    }
  ]
}