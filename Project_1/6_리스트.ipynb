{
  "nbformat": 4,
  "nbformat_minor": 0,
  "metadata": {
    "colab": {
      "provenance": [],
      "collapsed_sections": [],
      "authorship_tag": "ABX9TyP8Ifgf5c55amvLL5UoDQ39",
      "include_colab_link": true
    },
    "kernelspec": {
      "name": "python3",
      "display_name": "Python 3"
    },
    "language_info": {
      "name": "python"
    }
  },
  "cells": [
    {
      "cell_type": "markdown",
      "metadata": {
        "id": "view-in-github",
        "colab_type": "text"
      },
      "source": [
        "<a href=\"https://colab.research.google.com/github/JunYoung07/Python_AI_Project/blob/main/6_%EB%A6%AC%EC%8A%A4%ED%8A%B8.ipynb\" target=\"_parent\"><img src=\"https://colab.research.google.com/assets/colab-badge.svg\" alt=\"Open In Colab\"/></a>"
      ]
    },
    {
      "cell_type": "markdown",
      "source": [
        "# 자료구조(Data Structure)란?\n",
        "* 자료(Data)의 집합체\n",
        "* 자료를 효율적으로 저장, 조직, 관리하는 것"
      ],
      "metadata": {
        "id": "y16zyyA8cNl1"
      }
    },
    {
      "cell_type": "markdown",
      "source": [
        "# 1. 리스트(list)"
      ],
      "metadata": {
        "id": "fu_55pA5cRyR"
      }
    },
    {
      "cell_type": "markdown",
      "source": [
        "* 여러가지 데이터타입의 데이터를 ,(콤마)로 구분하여 []로 감싼 자료구조"
      ],
      "metadata": {
        "id": "BH6UvaBWcUtU"
      }
    },
    {
      "cell_type": "code",
      "source": [
        "# 리스트의 2가지 호출 방식\n",
        "li1 = [1, 3, 5, 7, 9]\n",
        "print(li1)\n",
        "\n",
        "li2 = list([1, 3, 5, 7, 9])\n",
        "print(li2)"
      ],
      "metadata": {
        "colab": {
          "base_uri": "https://localhost:8080/"
        },
        "id": "NjoOj1jedHUn",
        "outputId": "a9739e4e-6a85-411d-c21b-2c88ed2cf758"
      },
      "execution_count": 1,
      "outputs": [
        {
          "output_type": "stream",
          "name": "stdout",
          "text": [
            "[1, 3, 5, 7, 9]\n",
            "[1, 3, 5, 7, 9]\n"
          ]
        }
      ]
    },
    {
      "cell_type": "code",
      "source": [
        "# 여러가지 데이터 타입을 저장\n",
        "li4 = [1, 1.5, '김사과', True]\n",
        "print(li4)\n",
        "\n",
        "li5 = [1, 2, '파이썬', ['김사과', '오렌지']]\n",
        "print(li5)"
      ],
      "metadata": {
        "colab": {
          "base_uri": "https://localhost:8080/"
        },
        "id": "yWtLkg7sdQWa",
        "outputId": "e9948832-f8f1-47ba-fa24-74f57832f4c1"
      },
      "execution_count": 2,
      "outputs": [
        {
          "output_type": "stream",
          "name": "stdout",
          "text": [
            "[1, 1.5, '김사과', True]\n",
            "[1, 2, '파이썬', ['김사과', '오렌지']]\n"
          ]
        }
      ]
    },
    {
      "cell_type": "markdown",
      "source": [
        "# 2. 리스트 인덱싱"
      ],
      "metadata": {
        "id": "t2NIwk0mdc5E"
      }
    },
    {
      "cell_type": "code",
      "source": [
        "li1 = [1, 3, 5, 7, 9]\n",
        "print(li1[0])\n",
        "print(li1[1])\n",
        "print(li1[-1])\n",
        "print(li1[0] + li1[-1])"
      ],
      "metadata": {
        "colab": {
          "base_uri": "https://localhost:8080/"
        },
        "id": "M4F-jdNedg60",
        "outputId": "a67caa96-1079-4f03-de92-b50979187ef7"
      },
      "execution_count": 4,
      "outputs": [
        {
          "output_type": "stream",
          "name": "stdout",
          "text": [
            "1\n",
            "3\n",
            "9\n",
            "10\n"
          ]
        }
      ]
    },
    {
      "cell_type": "code",
      "source": [
        "li2 = ['김사과', '오렌지', '반하나', ['Apple', 'Orange', 'Banana']] # 2Dimention Array\n",
        "print(li2[2])\n",
        "print(li2[-1])\n",
        "print(li2[-1][-1])"
      ],
      "metadata": {
        "colab": {
          "base_uri": "https://localhost:8080/"
        },
        "id": "uYU7TWJRdqEF",
        "outputId": "705e077a-fbb4-493f-bcc6-5f6b0f04cc14"
      },
      "execution_count": 6,
      "outputs": [
        {
          "output_type": "stream",
          "name": "stdout",
          "text": [
            "반하나\n",
            "['Apple', 'Orange', 'Banana']\n",
            "Banana\n"
          ]
        }
      ]
    },
    {
      "cell_type": "code",
      "source": [
        "li3 = [1, 3, 5, ['김사과', '오렌지', '반하나', ['Apple', 'Orange', 'Banana']]]  # 3Dimention Array\n",
        "print(li3[2])\n",
        "print(li3[-2])\n",
        "print(li3[-1][-2])\n",
        "print(li3[-1][-1][-1]) "
      ],
      "metadata": {
        "colab": {
          "base_uri": "https://localhost:8080/"
        },
        "id": "dVp25OCneBnQ",
        "outputId": "f3be186a-4955-4d22-cdfb-981927e3ffcd"
      },
      "execution_count": 7,
      "outputs": [
        {
          "output_type": "stream",
          "name": "stdout",
          "text": [
            "5\n",
            "5\n",
            "반하나\n",
            "Banana\n"
          ]
        }
      ]
    },
    {
      "cell_type": "markdown",
      "source": [
        "# 3. 리스트 슬라이싱"
      ],
      "metadata": {
        "id": "YRwp-mSvenAX"
      }
    },
    {
      "cell_type": "code",
      "source": [
        "li4 = [10, 20, 30, 40, 50]\n",
        "print(li4)\n",
        "print(type(li4))\n",
        "print(li4[0:3])\n",
        "\n",
        "li6 = [10, 20, 30, ['김사과', '오렌지', '반하나'], 40, ['Car', 'Bus']]\n",
        "print(li6[2:6])\n",
        "print(li6[5][:2])"
      ],
      "metadata": {
        "colab": {
          "base_uri": "https://localhost:8080/"
        },
        "id": "8sCRzCqGjHzc",
        "outputId": "8f33be29-627b-49e4-cdde-8d9e2284be6f"
      },
      "execution_count": 10,
      "outputs": [
        {
          "output_type": "stream",
          "name": "stdout",
          "text": [
            "[10, 20, 30, 40, 50]\n",
            "<class 'list'>\n",
            "[10, 20, 30]\n",
            "[30, ['김사과', '오렌지', '반하나'], 40, ['Car', 'Bus']]\n",
            "['Car', 'Bus']\n"
          ]
        }
      ]
    },
    {
      "cell_type": "markdown",
      "source": [
        "# 4. 리스트 연산자"
      ],
      "metadata": {
        "id": "J40sXXfKjofs"
      }
    },
    {
      "cell_type": "code",
      "source": [
        "li7 = [10, 20, 30]\n",
        "li8 = [40, 50, 60]\n",
        "print(li7 + li8)\n",
        "print(li8 + li7)\n",
        "print(li7 * 3)"
      ],
      "metadata": {
        "colab": {
          "base_uri": "https://localhost:8080/"
        },
        "id": "DfJ9cQJxjrh7",
        "outputId": "a0b4ea61-5082-414e-9304-a503c78b2604"
      },
      "execution_count": 12,
      "outputs": [
        {
          "output_type": "stream",
          "name": "stdout",
          "text": [
            "[10, 20, 30, 40, 50, 60]\n",
            "[40, 50, 60, 10, 20, 30]\n",
            "[10, 20, 30, 10, 20, 30, 10, 20, 30]\n"
          ]
        }
      ]
    },
    {
      "cell_type": "markdown",
      "source": [
        "# 5. 리스트의 수정/삭제"
      ],
      "metadata": {
        "id": "pHE2rTmLliN5"
      }
    },
    {
      "cell_type": "code",
      "source": [
        "li10 = [10, 20, 30]\n",
        "li10[1] = 100\n",
        "print(li10)\n",
        "\n",
        "li10[1:2] = ['Sad', 'Laugh', 'Bad']\n",
        "print(li10)\n",
        "\n",
        "li10 = [10, 20, 30]\n",
        "li10[1] = ['Sad', 'Laugh', 'Bad']\n",
        "print(li10)\n",
        "\n",
        "li10[1:3] = []\n",
        "print(li10)\n",
        "\n",
        "del li10[0]\n",
        "print(li10)"
      ],
      "metadata": {
        "colab": {
          "base_uri": "https://localhost:8080/"
        },
        "id": "jeTwHuGVllRz",
        "outputId": "4fc54153-bbf5-47d2-f8b4-95d15ad072d1"
      },
      "execution_count": 13,
      "outputs": [
        {
          "output_type": "stream",
          "name": "stdout",
          "text": [
            "[10, 100, 30]\n",
            "[10, 'Sad', 'Laugh', 'Bad', 30]\n",
            "[10, ['Sad', 'Laugh', 'Bad'], 30]\n",
            "[10]\n",
            "[]\n"
          ]
        }
      ]
    },
    {
      "cell_type": "markdown",
      "source": [
        "# 리스트 함수"
      ],
      "metadata": {
        "id": "keZTyXOGmCtA"
      }
    },
    {
      "cell_type": "markdown",
      "source": [
        "* class list에 저장된 여러가지 기능\n",
        "---\n",
        "\n",
        "```\n",
        "# append(): 리스트 마지막 자리에 데이터를 추가\n",
        "# pop(): 리스트의 마지막에 저장된 데이터를 반환하고 해당 데이터를 삭제\n",
        "# remove(): 매개변수로 전달된 데이터를 제거. 같은 데이터가 여러개 있는 경우 처음 출현하는 데이터 제거 (없으면 Error)\n",
        "# insert(): 리스트의 특정 위치(index)에 데이터를 삽입\n",
        "# index(): 리스트에 저장된 데이터가 있을 경우 위치를 인덱스로 반환 (없으면 Error)\n",
        "# reverse(): 리스트에 저장된 데이터를 반대 순서로 반환\n",
        "# sort(): 리스트에 저장된 데이터를 오름차순으로 정렬 (sort(reverse = True) -> 내림차순)\n",
        "# count(): 리스트에 포함된 특정 데이터의 갯수를 반환\n",
        "# extend(): 리스트를 더함\n",
        "```\n",
        "\n"
      ],
      "metadata": {
        "id": "J_oiXBcsmGY1"
      }
    },
    {
      "cell_type": "code",
      "source": [
        "li11 = [10, 20, 30]\n",
        "li11.append(100)\n",
        "print(li11)\n",
        "li11.append([40, 50])\n",
        "print(li11)"
      ],
      "metadata": {
        "colab": {
          "base_uri": "https://localhost:8080/"
        },
        "id": "lhyzxdyBnIyn",
        "outputId": "1b49a3e0-2608-444f-fdd7-fc3ca6a19ed3"
      },
      "execution_count": 14,
      "outputs": [
        {
          "output_type": "stream",
          "name": "stdout",
          "text": [
            "[10, 20, 30, 100]\n",
            "[10, 20, 30, 100, [40, 50]]\n"
          ]
        }
      ]
    },
    {
      "cell_type": "code",
      "source": [
        "li12 = [10, 20, 30, 40, 50]\n",
        "print(li12)\n",
        "li12.pop()\n",
        "print(li12)\n",
        "temp = li12.pop()\n",
        "print(li12)\n",
        "print(temp)"
      ],
      "metadata": {
        "colab": {
          "base_uri": "https://localhost:8080/"
        },
        "id": "Auk-QTcgnTII",
        "outputId": "3ce419bc-9735-41ca-ff40-f8b396a315cd"
      },
      "execution_count": 15,
      "outputs": [
        {
          "output_type": "stream",
          "name": "stdout",
          "text": [
            "[10, 20, 30, 40, 50]\n",
            "[10, 20, 30, 40]\n",
            "[10, 20, 30]\n",
            "40\n"
          ]
        }
      ]
    },
    {
      "cell_type": "code",
      "source": [
        "li13 = [10, 20, 30, 40, 50, 20, 40]\n",
        "li13.remove(20)\n",
        "print(li13)\n",
        "li13.remove(20)\n",
        "print(li13)\n",
        "li13.remove(20)"
      ],
      "metadata": {
        "colab": {
          "base_uri": "https://localhost:8080/",
          "height": 235
        },
        "id": "xebblkHynbV4",
        "outputId": "feb6f587-dd8f-464b-d7a2-68984730cd68"
      },
      "execution_count": 16,
      "outputs": [
        {
          "output_type": "stream",
          "name": "stdout",
          "text": [
            "[10, 30, 40, 50, 20, 40]\n",
            "[10, 30, 40, 50, 40]\n"
          ]
        },
        {
          "output_type": "error",
          "ename": "ValueError",
          "evalue": "ignored",
          "traceback": [
            "\u001b[0;31m---------------------------------------------------------------------------\u001b[0m",
            "\u001b[0;31mValueError\u001b[0m                                Traceback (most recent call last)",
            "\u001b[0;32m<ipython-input-16-2907aa9ccb59>\u001b[0m in \u001b[0;36m<module>\u001b[0;34m\u001b[0m\n\u001b[1;32m      4\u001b[0m \u001b[0mli13\u001b[0m\u001b[0;34m.\u001b[0m\u001b[0mremove\u001b[0m\u001b[0;34m(\u001b[0m\u001b[0;36m20\u001b[0m\u001b[0;34m)\u001b[0m\u001b[0;34m\u001b[0m\u001b[0;34m\u001b[0m\u001b[0m\n\u001b[1;32m      5\u001b[0m \u001b[0mprint\u001b[0m\u001b[0;34m(\u001b[0m\u001b[0mli13\u001b[0m\u001b[0;34m)\u001b[0m\u001b[0;34m\u001b[0m\u001b[0;34m\u001b[0m\u001b[0m\n\u001b[0;32m----> 6\u001b[0;31m \u001b[0mli13\u001b[0m\u001b[0;34m.\u001b[0m\u001b[0mremove\u001b[0m\u001b[0;34m(\u001b[0m\u001b[0;36m20\u001b[0m\u001b[0;34m)\u001b[0m\u001b[0;34m\u001b[0m\u001b[0;34m\u001b[0m\u001b[0m\n\u001b[0m",
            "\u001b[0;31mValueError\u001b[0m: list.remove(x): x not in list"
          ]
        }
      ]
    },
    {
      "cell_type": "code",
      "source": [
        "li14 = [10, 20, 30]\n",
        "li14.insert(1, 40)\n",
        "print(li14)"
      ],
      "metadata": {
        "colab": {
          "base_uri": "https://localhost:8080/"
        },
        "id": "Nr8s5qkHnlza",
        "outputId": "e6856908-f4d2-4220-a2ae-42b1368d892c"
      },
      "execution_count": 17,
      "outputs": [
        {
          "output_type": "stream",
          "name": "stdout",
          "text": [
            "[10, 40, 20, 30]\n"
          ]
        }
      ]
    },
    {
      "cell_type": "code",
      "source": [
        "li15 = [10, 20, 30]\n",
        "print(li15.index(10))\n",
        "print(li15.index(15))"
      ],
      "metadata": {
        "colab": {
          "base_uri": "https://localhost:8080/",
          "height": 218
        },
        "id": "hnP34enNntN0",
        "outputId": "6c9e4506-416c-4389-abe0-7e0d8bbd0a11"
      },
      "execution_count": 18,
      "outputs": [
        {
          "output_type": "stream",
          "name": "stdout",
          "text": [
            "0\n"
          ]
        },
        {
          "output_type": "error",
          "ename": "ValueError",
          "evalue": "ignored",
          "traceback": [
            "\u001b[0;31m---------------------------------------------------------------------------\u001b[0m",
            "\u001b[0;31mValueError\u001b[0m                                Traceback (most recent call last)",
            "\u001b[0;32m<ipython-input-18-a5c52740c156>\u001b[0m in \u001b[0;36m<module>\u001b[0;34m\u001b[0m\n\u001b[1;32m      1\u001b[0m \u001b[0mli15\u001b[0m \u001b[0;34m=\u001b[0m \u001b[0;34m[\u001b[0m\u001b[0;36m10\u001b[0m\u001b[0;34m,\u001b[0m \u001b[0;36m20\u001b[0m\u001b[0;34m,\u001b[0m \u001b[0;36m30\u001b[0m\u001b[0;34m]\u001b[0m\u001b[0;34m\u001b[0m\u001b[0;34m\u001b[0m\u001b[0m\n\u001b[1;32m      2\u001b[0m \u001b[0mprint\u001b[0m\u001b[0;34m(\u001b[0m\u001b[0mli15\u001b[0m\u001b[0;34m.\u001b[0m\u001b[0mindex\u001b[0m\u001b[0;34m(\u001b[0m\u001b[0;36m10\u001b[0m\u001b[0;34m)\u001b[0m\u001b[0;34m)\u001b[0m\u001b[0;34m\u001b[0m\u001b[0;34m\u001b[0m\u001b[0m\n\u001b[0;32m----> 3\u001b[0;31m \u001b[0mprint\u001b[0m\u001b[0;34m(\u001b[0m\u001b[0mli15\u001b[0m\u001b[0;34m.\u001b[0m\u001b[0mindex\u001b[0m\u001b[0;34m(\u001b[0m\u001b[0;36m15\u001b[0m\u001b[0;34m)\u001b[0m\u001b[0;34m)\u001b[0m\u001b[0;34m\u001b[0m\u001b[0;34m\u001b[0m\u001b[0m\n\u001b[0m",
            "\u001b[0;31mValueError\u001b[0m: 15 is not in list"
          ]
        }
      ]
    },
    {
      "cell_type": "code",
      "source": [
        "li16 = ['김사과', '오렌지', '바나나', '이메론']\n",
        "li16.reverse()\n",
        "print(li16)"
      ],
      "metadata": {
        "colab": {
          "base_uri": "https://localhost:8080/"
        },
        "id": "jNZhtdhpn122",
        "outputId": "003652aa-1e78-4b06-f230-6c24fd69e52f"
      },
      "execution_count": 19,
      "outputs": [
        {
          "output_type": "stream",
          "name": "stdout",
          "text": [
            "['이메론', '바나나', '오렌지', '김사과']\n"
          ]
        }
      ]
    },
    {
      "cell_type": "code",
      "source": [
        "li17 = [10, 40, 30, 100, 90, 50]\n",
        "li17.sort()\n",
        "print(li17)\n",
        "li17.sort(reverse=True)\n",
        "print(li17)\n",
        "\n",
        "li18 = ['Apple', 'apple', 'orange', 'banana', 'melon']\n",
        "li18.sort() # 문자의 경우 아스키코드, 유니코드, UTF-8의 표를 참조하여 이 순서로 배열을 해준다.\n",
        "print(li18)\n",
        "\n",
        "li19 = ['김사과', '오렌지', '반하나', '이메론', '배애리']\n",
        "li19.sort()\n",
        "print(li19)"
      ],
      "metadata": {
        "colab": {
          "base_uri": "https://localhost:8080/"
        },
        "id": "3f1uC1zan-TA",
        "outputId": "e0f40a82-812d-41e0-c357-49baa7cb301b"
      },
      "execution_count": 21,
      "outputs": [
        {
          "output_type": "stream",
          "name": "stdout",
          "text": [
            "[10, 30, 40, 50, 90, 100]\n",
            "[100, 90, 50, 40, 30, 10]\n",
            "['Apple', 'apple', 'banana', 'melon', 'orange']\n",
            "['김사과', '반하나', '배애리', '오렌지', '이메론']\n"
          ]
        }
      ]
    },
    {
      "cell_type": "code",
      "source": [
        "li19 = [10, 20, 30, 40, 50, 20, 40, 30, 20]\n",
        "print(li19.count(20))\n",
        "print(li19.count(0))"
      ],
      "metadata": {
        "colab": {
          "base_uri": "https://localhost:8080/"
        },
        "id": "bPhSn0DhoIOm",
        "outputId": "a824abc9-4a58-4fb3-80bc-4f6c27fe192b"
      },
      "execution_count": 22,
      "outputs": [
        {
          "output_type": "stream",
          "name": "stdout",
          "text": [
            "3\n",
            "0\n"
          ]
        }
      ]
    },
    {
      "cell_type": "code",
      "source": [
        "li20 = [1, 2, 3]\n",
        "li20.extend([40, 50])\n",
        "print(li20)\n",
        "\n",
        "li21 = [1, 2, 3]\n",
        "li21 += [40, 50]\n",
        "print(li21)"
      ],
      "metadata": {
        "colab": {
          "base_uri": "https://localhost:8080/"
        },
        "id": "wrQFTrA5opTH",
        "outputId": "8ed745dd-0157-4613-faa4-2cb1a4f6183a"
      },
      "execution_count": 24,
      "outputs": [
        {
          "output_type": "stream",
          "name": "stdout",
          "text": [
            "[1, 2, 3, 40, 50]\n",
            "[1, 2, 3, 40, 50]\n"
          ]
        }
      ]
    },
    {
      "cell_type": "markdown",
      "source": [
        "## len()\n",
        "* 요소의 갯수 반환 (파이썬 표준 함수)"
      ],
      "metadata": {
        "id": "7qy4gvjRozQW"
      }
    },
    {
      "cell_type": "code",
      "source": [
        "print(len(li21))"
      ],
      "metadata": {
        "colab": {
          "base_uri": "https://localhost:8080/"
        },
        "id": "0fYHhJJ8o8n6",
        "outputId": "0be6bf74-7558-46ec-aca6-0c8345c2471a"
      },
      "execution_count": 25,
      "outputs": [
        {
          "output_type": "stream",
          "name": "stdout",
          "text": [
            "5\n"
          ]
        }
      ]
    }
  ]
}