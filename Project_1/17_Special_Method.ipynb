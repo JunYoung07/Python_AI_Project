{
  "nbformat": 4,
  "nbformat_minor": 0,
  "metadata": {
    "colab": {
      "provenance": [],
      "collapsed_sections": [],
      "authorship_tag": "ABX9TyPNxrAmv+cozoTkkcVy0ZYu",
      "include_colab_link": true
    },
    "kernelspec": {
      "name": "python3",
      "display_name": "Python 3"
    },
    "language_info": {
      "name": "python"
    }
  },
  "cells": [
    {
      "cell_type": "markdown",
      "metadata": {
        "id": "view-in-github",
        "colab_type": "text"
      },
      "source": [
        "<a href=\"https://colab.research.google.com/github/JunYoung07/Python_AI_Project/blob/main/17_Special_Method.ipynb\" target=\"_parent\"><img src=\"https://colab.research.google.com/assets/colab-badge.svg\" alt=\"Open In Colab\"/></a>"
      ]
    },
    {
      "cell_type": "markdown",
      "source": [
        "# 1. 스페셜 메소드 (Special Method)"
      ],
      "metadata": {
        "id": "Ba6wxct2SKVX"
      }
    },
    {
      "cell_type": "markdown",
      "source": [
        "* __로 시작해서 __로 끝나는 특수 함수\n",
        "* 해당 메소드들을 재구현하면 객체에 여러가지 파이썬 내장 함수나 연산자에 원하는 기능을 부여할 수 있다.\n",
        "* 스페셜 메소드의 종류\n",
        "```\n",
        "__sub__    -\n",
        "__mul__    *\n",
        "__truediv__    /\n",
        "__floordiv__    //\n",
        "__mod__    %\n",
        "__pow__    **\n",
        "__and__    &\n",
        "__xor__    ^\n",
        "__or__    |\n",
        "__lt__    <\n",
        "__le__    <=\n",
        "__eq__    ==\n",
        "__ne__    !=\n",
        "__gt__    >\n",
        "__ge__    >=\n",
        "__len__    len()\n",
        "__getitem__    indexing\n",
        "__setitem__    assigning to indexed values\n",
        "__delitem__    deleting indexed values\n",
        "__iter__    iteration over object\n",
        "__contains__    in\n",
        "```"
      ],
      "metadata": {
        "id": "zOQ5QT0DSSyp"
      }
    },
    {
      "cell_type": "code",
      "source": [
        "class Point:\n",
        "    def __init__(self, x, y):\n",
        "        self.x = x\n",
        "        self.y = y\n",
        "\n",
        "    def print_point(self):\n",
        "        print('({}, {})'.format(self.x, self.y))\n",
        "    \n",
        "    def __str__(self):  #str() 메소드 오버라이딩\n",
        "        return ('({}, {})'.format(self.x, self.y))\n",
        "\n",
        "    # 연산자 오버라이딩\n",
        "    def __add__(self, pt):\n",
        "        new_x = self.x + pt.x\n",
        "        new_y = self.y + pt.y\n",
        "        return Point(new_x, new_y)\n",
        "    \n",
        "    def __sub__(self, pt):\n",
        "        new_x = self.x - pt.x\n",
        "        new_y = self.y - pt.y\n",
        "        return Point(new_x, new_y)\n",
        "\n",
        "    def __mul__(self, pt):\n",
        "        new_x = self.x * pt.x\n",
        "        new_y = self.y * pt.y\n",
        "        return Point(new_x, new_y)\n",
        "    \n",
        "    def __len__(self):  # len() 오버라이딩\n",
        "        return self.x + self.y\n",
        "    \n",
        "    def __getitem__(self, index):   # 인공지능에서 자주 활용됨\n",
        "        if index == 0:\n",
        "            return self.x\n",
        "        elif index == 1:\n",
        "            return self.y\n",
        "        else:\n",
        "            return -1"
      ],
      "metadata": {
        "id": "hu3J9g0dTIek"
      },
      "execution_count": 7,
      "outputs": []
    },
    {
      "cell_type": "code",
      "source": [
        "p1 = Point(3, 4)\n",
        "p1.print_point()"
      ],
      "metadata": {
        "colab": {
          "base_uri": "https://localhost:8080/"
        },
        "id": "UK5ik3W0TsUx",
        "outputId": "9f628a28-8c83-41af-9285-112fc0f4be58"
      },
      "execution_count": 5,
      "outputs": [
        {
          "output_type": "stream",
          "name": "stdout",
          "text": [
            "(3, 4)\n"
          ]
        }
      ]
    },
    {
      "cell_type": "code",
      "source": [
        "print(str(p1))"
      ],
      "metadata": {
        "colab": {
          "base_uri": "https://localhost:8080/"
        },
        "id": "TD5ePMkfTxPH",
        "outputId": "7c2fd412-4ca9-46ef-a560-ec39b59a7b3c"
      },
      "execution_count": 3,
      "outputs": [
        {
          "output_type": "stream",
          "name": "stdout",
          "text": [
            "<__main__.Point object at 0x7f6465979090>\n"
          ]
        }
      ]
    },
    {
      "cell_type": "code",
      "source": [
        "print(str(p1))"
      ],
      "metadata": {
        "colab": {
          "base_uri": "https://localhost:8080/"
        },
        "id": "NnZbtoYCTzDe",
        "outputId": "a1a17e76-a5a1-4259-8821-549efc97bafb"
      },
      "execution_count": 6,
      "outputs": [
        {
          "output_type": "stream",
          "name": "stdout",
          "text": [
            "(3, 4)\n"
          ]
        }
      ]
    },
    {
      "cell_type": "code",
      "source": [
        "p1 = Point(3, 4)\n",
        "p2 = Point(5, 8)"
      ],
      "metadata": {
        "id": "n3JOanYoT3RZ"
      },
      "execution_count": 8,
      "outputs": []
    },
    {
      "cell_type": "code",
      "source": [
        "# p3 = p1 + p2      # TypeError: unsupported operand type(s) for +: 'Point' and 'Point'\n",
        "p3 = p1 + p2\n",
        "print(p3)\n",
        "print(str(p3))  # print()는 내부의 입력값을 str의 형태로 출력을 한다."
      ],
      "metadata": {
        "colab": {
          "base_uri": "https://localhost:8080/"
        },
        "id": "Z8DkP-5JU9bF",
        "outputId": "a5fbc6f5-ee71-4ef6-e3a8-bbe46710748d"
      },
      "execution_count": 9,
      "outputs": [
        {
          "output_type": "stream",
          "name": "stdout",
          "text": [
            "(8, 12)\n",
            "(8, 12)\n"
          ]
        }
      ]
    },
    {
      "cell_type": "code",
      "source": [
        "print(p1 - p2)\n",
        "print(p1 * p2)"
      ],
      "metadata": {
        "colab": {
          "base_uri": "https://localhost:8080/"
        },
        "id": "WNcevHNQVTOZ",
        "outputId": "6bfca295-b829-4122-ede5-d1f93caa3e87"
      },
      "execution_count": 10,
      "outputs": [
        {
          "output_type": "stream",
          "name": "stdout",
          "text": [
            "(-2, -4)\n",
            "(15, 32)\n"
          ]
        }
      ]
    },
    {
      "cell_type": "code",
      "source": [
        "len(p1)"
      ],
      "metadata": {
        "colab": {
          "base_uri": "https://localhost:8080/"
        },
        "id": "rp-67XUhVYFi",
        "outputId": "9fc25606-1c86-4d0d-c49e-fac01f060557"
      },
      "execution_count": 11,
      "outputs": [
        {
          "output_type": "execute_result",
          "data": {
            "text/plain": [
              "7"
            ]
          },
          "metadata": {},
          "execution_count": 11
        }
      ]
    },
    {
      "cell_type": "code",
      "source": [
        "len(p2)"
      ],
      "metadata": {
        "colab": {
          "base_uri": "https://localhost:8080/"
        },
        "id": "Ky7k69kcVaCe",
        "outputId": "c6abc2c6-2374-472a-aadc-7d14bfb04c18"
      },
      "execution_count": 12,
      "outputs": [
        {
          "output_type": "execute_result",
          "data": {
            "text/plain": [
              "13"
            ]
          },
          "metadata": {},
          "execution_count": 12
        }
      ]
    },
    {
      "cell_type": "code",
      "source": [
        "print(p1[0])\n",
        "print(p1[1])\n",
        "print(p1[-1])"
      ],
      "metadata": {
        "colab": {
          "base_uri": "https://localhost:8080/"
        },
        "id": "9v3jqshDVaoc",
        "outputId": "95c34c0b-1b68-4658-80cb-3c62ccdd4753"
      },
      "execution_count": 13,
      "outputs": [
        {
          "output_type": "stream",
          "name": "stdout",
          "text": [
            "3\n",
            "4\n",
            "-1\n"
          ]
        }
      ]
    }
  ]
}