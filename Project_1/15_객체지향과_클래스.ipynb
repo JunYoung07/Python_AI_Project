{
  "nbformat": 4,
  "nbformat_minor": 0,
  "metadata": {
    "colab": {
      "provenance": [],
      "collapsed_sections": [],
      "authorship_tag": "ABX9TyOGdl/X9/PvxwczazD//ohj",
      "include_colab_link": true
    },
    "kernelspec": {
      "name": "python3",
      "display_name": "Python 3"
    },
    "language_info": {
      "name": "python"
    }
  },
  "cells": [
    {
      "cell_type": "markdown",
      "metadata": {
        "id": "view-in-github",
        "colab_type": "text"
      },
      "source": [
        "<a href=\"https://colab.research.google.com/github/JunYoung07/Python_AI_Project/blob/main/15_%EA%B0%9D%EC%B2%B4%EC%A7%80%ED%96%A5%EA%B3%BC_%ED%81%B4%EB%9E%98%EC%8A%A4.ipynb\" target=\"_parent\"><img src=\"https://colab.research.google.com/assets/colab-badge.svg\" alt=\"Open In Colab\"/></a>"
      ]
    },
    {
      "cell_type": "markdown",
      "source": [
        "# 1. 객체지향 프로그래밍"
      ],
      "metadata": {
        "id": "E5ylpJ7Ap9dS"
      }
    },
    {
      "cell_type": "markdown",
      "source": [
        "* 문제를 여러 개의 객체 단위로 나눠 작업하는 방식\n",
        "* **클래스**가 있어야 객체지향 프로그래밍이다.\n",
        "* **클래스**를 이용해서 연관있는 처리부분과 데이터 부분을 하나로 묶어 객체를 생성해 사용함."
      ],
      "metadata": {
        "id": "fhx4iCSVr4nf"
      }
    },
    {
      "cell_type": "markdown",
      "source": [
        "### 1-1. 클래스와 객체\n",
        "* 건축 설계도가 클래스라면, 실제로 지어진 집은 객체로 비유\n",
        "* 객체는 클래스로 생성되어 구체화된 인스턴스\n",
        "* 실제로 클래스가 인스턴스화되어 메모리에 상주하는 상태를 객체라고 부름\n",
        "* 파이썬의 모든 변수는 객체를 저장"
      ],
      "metadata": {
        "id": "dfoxGAV1r_QU"
      }
    },
    {
      "cell_type": "markdown",
      "source": [
        "### 1-2. 클래스 만들기\n",
        "```\n",
        "class 클래스명:\n",
        "    def __init__(self):  # 생성자\n",
        "        self.필드명1 = 값1\n",
        "        self.필드명2 = 값2\n",
        "        ...\n",
        "        객체가 메모리에 로드될 때 가장 먼저 실행될 문장\n",
        "        ...\n",
        "    def 메소드명(변수1, 변수2, ...):\n",
        "        메소드가 호출되면 실행될 문장\n",
        "```\n",
        "* 생성자는 클래스를 객체화 시킬 때 가장 먼저 실행되는 함수\n",
        "* 클래스를 통해 호출되는 변수를 필드라고 함\n",
        "* 클래스를 통해 호출되는 함수를 메소들라고 함"
      ],
      "metadata": {
        "id": "11f3SldUsbJ6"
      }
    },
    {
      "cell_type": "code",
      "source": [
        "# 기능이 없는 클래스\n",
        "class Dog:\n",
        "    pass    # 내용이 없는 블록을 만들 때 사용"
      ],
      "metadata": {
        "id": "UUMS4toDs2S4"
      },
      "execution_count": 1,
      "outputs": []
    },
    {
      "cell_type": "code",
      "source": [
        "def func1():\n",
        "    pass"
      ],
      "metadata": {
        "id": "XBo50jZ_s95j"
      },
      "execution_count": 2,
      "outputs": []
    },
    {
      "cell_type": "code",
      "source": [
        "# 클래스를 통해 객체를 생성하는 방법\n",
        "Rucy = Dog()    # class Dog를 객체화, 객체를 생성하면서 class가 메모리에 올라간다.\n",
        "print(Rucy, type(Rucy))\n",
        "\n",
        "PPomi = Dog()   # 메모리 주소가 Rucy와 다르다. // 각자 다른 객체\n",
        "print(PPomi, type(PPomi))"
      ],
      "metadata": {
        "colab": {
          "base_uri": "https://localhost:8080/"
        },
        "id": "lluqD8pFs_3T",
        "outputId": "9e22c7ec-6f2e-43ff-a917-f8815b2705ba"
      },
      "execution_count": 3,
      "outputs": [
        {
          "output_type": "stream",
          "name": "stdout",
          "text": [
            "<__main__.Dog object at 0x7f8fb7c10290> <class '__main__.Dog'>\n",
            "<__main__.Dog object at 0x7f8fb7c104d0> <class '__main__.Dog'>\n"
          ]
        }
      ]
    },
    {
      "cell_type": "code",
      "source": [
        "li1 = list([1, 2])\n",
        "li2 = list([1, 2])\n",
        "print(li1, type(li1))\n",
        "print(li2, type(li2))"
      ],
      "metadata": {
        "colab": {
          "base_uri": "https://localhost:8080/"
        },
        "id": "FDwUWXuptjmY",
        "outputId": "767ef9cf-d0a7-48cb-af6a-7d8b1e9ca245"
      },
      "execution_count": 4,
      "outputs": [
        {
          "output_type": "stream",
          "name": "stdout",
          "text": [
            "[1, 2] <class 'list'>\n",
            "[1, 2] <class 'list'>\n"
          ]
        }
      ]
    },
    {
      "cell_type": "markdown",
      "source": [
        "### 1-3. 생성자\n",
        "* 클래스 인스턴스가 생성될 때 자동으로 호출\n",
        "```\n",
        "def __init__(self, 변수1, 변수2, ...):\n",
        "```\n",
        "* self매개변수는 항상 첫번째 오면, 자기 자신의 객체를 가리킴\n",
        "* 이름이 꼭 self일 필요는 없지만 관례적으로 self를 사용\n",
        "* 생성자에서는 해당 클래스가 다루는 데이터를 정의\n",
        "* 필드를 초기화시킬 때 사용"
      ],
      "metadata": {
        "id": "zsnDOUZQtzXG"
      }
    },
    {
      "cell_type": "code",
      "source": [
        "class Dog:\n",
        "    def __init__(self):     # self -> 자기자신의 메모리 주소를 가리키는 객체 (매개변수X)\n",
        "        print(self, 'init 호출')"
      ],
      "metadata": {
        "id": "SeiQh0ZGuK_Z"
      },
      "execution_count": 5,
      "outputs": []
    },
    {
      "cell_type": "code",
      "source": [
        "Rucy = Dog()    # (): 생성자의 역할\n",
        "print(Rucy)\n",
        "\n",
        "PPomi = Dog()\n",
        "print(PPomi)"
      ],
      "metadata": {
        "colab": {
          "base_uri": "https://localhost:8080/"
        },
        "id": "jj5PAL0zuSv8",
        "outputId": "8154771e-461a-4059-894a-ddbfd1a0dd5d"
      },
      "execution_count": 6,
      "outputs": [
        {
          "output_type": "stream",
          "name": "stdout",
          "text": [
            "<__main__.Dog object at 0x7f8fb713ddd0> init 호출\n",
            "<__main__.Dog object at 0x7f8fb713ddd0>\n",
            "<__main__.Dog object at 0x7f8fb713d090> init 호출\n",
            "<__main__.Dog object at 0x7f8fb713d090>\n"
          ]
        }
      ]
    },
    {
      "cell_type": "code",
      "source": [
        "class Dog:\n",
        "    def __init__(self):\n",
        "        print(self, \"init 호출\")\n",
        "        self.name = '이름없음'\n",
        "        self.age = 0"
      ],
      "metadata": {
        "id": "FKJbCEpFuf_G"
      },
      "execution_count": 7,
      "outputs": []
    },
    {
      "cell_type": "code",
      "source": [
        "Rucy = Dog()\n",
        "print(Rucy)\n",
        "print(Rucy.name)\n",
        "print(Rucy.age)\n",
        "\n",
        "PPomi = Dog()\n",
        "print(PPomi)\n",
        "print(PPomi.name)\n",
        "print(PPomi.age)"
      ],
      "metadata": {
        "colab": {
          "base_uri": "https://localhost:8080/"
        },
        "id": "TiT6fn6hu3JM",
        "outputId": "57af869e-be86-4c2c-e542-ae9ca327a668"
      },
      "execution_count": 8,
      "outputs": [
        {
          "output_type": "stream",
          "name": "stdout",
          "text": [
            "<__main__.Dog object at 0x7f8fb7198310> init 호출\n",
            "<__main__.Dog object at 0x7f8fb7198310>\n",
            "이름없음\n",
            "0\n",
            "<__main__.Dog object at 0x7f8fb7149490> init 호출\n",
            "<__main__.Dog object at 0x7f8fb7149490>\n",
            "이름없음\n",
            "0\n"
          ]
        }
      ]
    },
    {
      "cell_type": "code",
      "source": [
        "Rucy.name = '루시'\n",
        "Rucy.age = 12\n",
        "print(Rucy.name)\n",
        "print(Rucy.age)\n",
        "\n",
        "print(PPomi.name)\n",
        "print(PPomi.age)"
      ],
      "metadata": {
        "colab": {
          "base_uri": "https://localhost:8080/"
        },
        "id": "KPOlTqE_vCDk",
        "outputId": "281311ed-ce0f-431c-ad89-33efd230f049"
      },
      "execution_count": 9,
      "outputs": [
        {
          "output_type": "stream",
          "name": "stdout",
          "text": [
            "루시\n",
            "12\n",
            "이름없음\n",
            "0\n"
          ]
        }
      ]
    },
    {
      "cell_type": "code",
      "source": [
        "class Dog:\n",
        "    def __init__(self, name, age, family='포메'):\n",
        "        print(self, 'init 호출')\n",
        "        self.name = name\n",
        "        self.age = age\n",
        "        self.family = family"
      ],
      "metadata": {
        "id": "KI5ejFJ-vLai"
      },
      "execution_count": 10,
      "outputs": []
    },
    {
      "cell_type": "code",
      "source": [
        "Rucy = Dog('루시', 12)\n",
        "print(Rucy)\n",
        "print(Rucy.name)\n",
        "print(Rucy.age)\n",
        "print(Rucy.family)\n",
        "\n",
        "PPomi = Dog('뽀미', 6, '폼피츠')\n",
        "print(PPomi)\n",
        "print(PPomi.name)\n",
        "print(PPomi.age)\n",
        "print(PPomi.family)"
      ],
      "metadata": {
        "colab": {
          "base_uri": "https://localhost:8080/"
        },
        "id": "Hzk5YK79vXtk",
        "outputId": "2477e6d1-1a31-4c22-cd85-99f2da1699f4"
      },
      "execution_count": 12,
      "outputs": [
        {
          "output_type": "stream",
          "name": "stdout",
          "text": [
            "<__main__.Dog object at 0x7f8fb71b2a90> init 호출\n",
            "<__main__.Dog object at 0x7f8fb71b2a90>\n",
            "루시\n",
            "12\n",
            "포메\n",
            "<__main__.Dog object at 0x7f8fbe447f90> init 호출\n",
            "<__main__.Dog object at 0x7f8fbe447f90>\n",
            "뽀미\n",
            "6\n",
            "폼피츠\n"
          ]
        }
      ]
    },
    {
      "cell_type": "markdown",
      "source": [
        "### 1-4. 메소드 정의하기\n",
        "* 해당 클래스의 객체에서만 호출가능한 함수\n",
        "* 해당 객체의 속성에 대한 연산을 행하는 기능\n",
        "* 객체이름.메소드명() 형태로 호출\n"
      ],
      "metadata": {
        "id": "uth-5RtKveJt"
      }
    },
    {
      "cell_type": "code",
      "source": [
        "class Counter:\n",
        "    def __init__(self):\n",
        "        self.num = 0\n",
        "    def increment(self):\n",
        "        self.num += 1\n",
        "    def current_value(self):\n",
        "        return self.num\n",
        "    def reset(self):\n",
        "        self.num = 0"
      ],
      "metadata": {
        "id": "5IZ54gACv8F_"
      },
      "execution_count": 14,
      "outputs": []
    },
    {
      "cell_type": "code",
      "source": [
        "KBbank = Counter()\n",
        "print(KBbank.num)\n",
        "\n",
        "KBbank.increment()\n",
        "KBbank.increment()\n",
        "KBbank.increment()\n",
        "KBbank.increment()\n",
        "\n",
        "print(KBbank.num)\n",
        "print(KBbank.current_value())\n",
        "print('대기인원: %d' % KBbank.current_value())"
      ],
      "metadata": {
        "colab": {
          "base_uri": "https://localhost:8080/"
        },
        "id": "Drj7M2FQwOQI",
        "outputId": "f3da9ddd-549e-4849-d19b-3473cc51eabb"
      },
      "execution_count": 15,
      "outputs": [
        {
          "output_type": "stream",
          "name": "stdout",
          "text": [
            "0\n",
            "4\n",
            "4\n",
            "대기인원: 4\n"
          ]
        }
      ]
    },
    {
      "cell_type": "code",
      "source": [
        "HanaBank = Counter()\n",
        "print(HanaBank.num)\n",
        "\n",
        "HanaBank.increment()\n",
        "HanaBank.increment()\n",
        "print(HanaBank.num)\n",
        "\n",
        "HanaBank.reset()\n",
        "print(HanaBank.num)\n",
        "print('대기인원: %d' % HanaBank.current_value())"
      ],
      "metadata": {
        "colab": {
          "base_uri": "https://localhost:8080/"
        },
        "id": "OW0bZMy_wnFl",
        "outputId": "1ae47dca-124a-467d-83a4-69a5093157ab"
      },
      "execution_count": 16,
      "outputs": [
        {
          "output_type": "stream",
          "name": "stdout",
          "text": [
            "0\n",
            "2\n",
            "0\n",
            "대기인원: 0\n"
          ]
        }
      ]
    },
    {
      "cell_type": "markdown",
      "source": [
        "### 1-5. 메소드 타입\n",
        "* instance method: 객체 형태로 호출되기 때문에 해당 메소드를 호출한 객체에서만 영향을 미침\n",
        "* class method: class로 호출 (함수 선언 위에 @staticmethod라고 표기)"
      ],
      "metadata": {
        "id": "hToUKZv7w70W"
      }
    },
    {
      "cell_type": "code",
      "source": [
        "class Math:\n",
        "    '''\n",
        "    def __init__(self):\n",
        "        pass\n",
        "    '''\n",
        "    def add(self, x, y):\n",
        "        return x + y\n",
        "    def multiply(self, x, y):\n",
        "        return x * y"
      ],
      "metadata": {
        "id": "GluQrhczxJcO"
      },
      "execution_count": 17,
      "outputs": []
    },
    {
      "cell_type": "code",
      "source": [
        "math = Math()   # (): 생성자의 역할"
      ],
      "metadata": {
        "id": "VBcs_ZaBxU42"
      },
      "execution_count": 18,
      "outputs": []
    },
    {
      "cell_type": "code",
      "source": [
        "# instance method\n",
        "result1 = math.add(10, 3)\n",
        "result2 = math.multiply(3, 6)\n",
        "print(result1)\n",
        "print(result2)"
      ],
      "metadata": {
        "colab": {
          "base_uri": "https://localhost:8080/"
        },
        "id": "GiJ1rjf-xXZG",
        "outputId": "41373586-8377-45c8-c10b-d455d70356c6"
      },
      "execution_count": 19,
      "outputs": [
        {
          "output_type": "stream",
          "name": "stdout",
          "text": [
            "13\n",
            "18\n"
          ]
        }
      ]
    },
    {
      "cell_type": "code",
      "source": [
        "# class method\n",
        "class Math:\n",
        "    @staticmethod   # class method 선언\n",
        "    def add(x, y): # 객체를 생성하지 않음\n",
        "        return x + y\n",
        "    @staticmethod\n",
        "    def multiply(x, y):\n",
        "        return x * y"
      ],
      "metadata": {
        "id": "nrkw19fDxfT8"
      },
      "execution_count": 20,
      "outputs": []
    },
    {
      "cell_type": "code",
      "source": [
        "result1 = Math.add(10, 5)\n",
        "print(result1)\n",
        "\n",
        "result2 = Math.multiply(3, 6)\n",
        "print(result2)"
      ],
      "metadata": {
        "colab": {
          "base_uri": "https://localhost:8080/"
        },
        "id": "PaFbHbHkxy5j",
        "outputId": "1b60db8c-207c-451d-debe-d662a63b5d66"
      },
      "execution_count": 22,
      "outputs": [
        {
          "output_type": "stream",
          "name": "stdout",
          "text": [
            "15\n",
            "18\n"
          ]
        }
      ]
    },
    {
      "cell_type": "markdown",
      "source": [
        "> 클래스 이름으로 객체를 생성하지 않아도 된다.  \n",
        "* instance method의 경우 객체를 생성한 경우 class에 메모리가 올라간다.\n",
        "* static method의 경우 프로그램 시작 시 메모리에 바로 올라간다."
      ],
      "metadata": {
        "id": "0lb-D1Cux48o"
      }
    }
  ]
}