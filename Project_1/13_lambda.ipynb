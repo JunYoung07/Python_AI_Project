{
  "nbformat": 4,
  "nbformat_minor": 0,
  "metadata": {
    "colab": {
      "provenance": [],
      "collapsed_sections": [],
      "authorship_tag": "ABX9TyNRJwkWgKESRS65Z0NVS/b0",
      "include_colab_link": true
    },
    "kernelspec": {
      "name": "python3",
      "display_name": "Python 3"
    },
    "language_info": {
      "name": "python"
    }
  },
  "cells": [
    {
      "cell_type": "markdown",
      "metadata": {
        "id": "view-in-github",
        "colab_type": "text"
      },
      "source": [
        "<a href=\"https://colab.research.google.com/github/JunYoung07/Python_AI_Project/blob/main/13_lambda.ipynb\" target=\"_parent\"><img src=\"https://colab.research.google.com/assets/colab-badge.svg\" alt=\"Open In Colab\"/></a>"
      ]
    },
    {
      "cell_type": "markdown",
      "source": [
        "# 1. 람다 함수"
      ],
      "metadata": {
        "id": "cZIg938KZ6jJ"
      }
    },
    {
      "cell_type": "markdown",
      "source": [
        "* 단일문(한줄)으로 표기되는 익명함수\n",
        "* 코드상에서 한번만 사용하는 기능이 있을 때, 굳이 함수로 만들지 않고 일회성으로 만들어 사용\n",
        "* 함수 또한 클래스를 통해 생성된 객체\n",
        "* return 형"
      ],
      "metadata": {
        "id": "HKUQNQsJZ-hH"
      }
    },
    {
      "cell_type": "code",
      "source": [
        "def square(x):\n",
        "    return x ** 2"
      ],
      "metadata": {
        "id": "39npbi-UaIi2"
      },
      "execution_count": null,
      "outputs": []
    },
    {
      "cell_type": "code",
      "source": [
        "print(square(4))"
      ],
      "metadata": {
        "colab": {
          "base_uri": "https://localhost:8080/"
        },
        "id": "v5yXJgDAaLYQ",
        "outputId": "162977c4-275c-44d1-8595-70b6498e0dae"
      },
      "execution_count": null,
      "outputs": [
        {
          "output_type": "stream",
          "name": "stdout",
          "text": [
            "16\n"
          ]
        }
      ]
    },
    {
      "cell_type": "code",
      "source": [
        "# 자주 사용하지 않기 위해 (메모리의 공간절약)\n",
        "lambda x: x ** 2"
      ],
      "metadata": {
        "colab": {
          "base_uri": "https://localhost:8080/"
        },
        "id": "1kr7sTk2aM0k",
        "outputId": "674c9a24-20a7-436b-f389-ea2c837b68ab"
      },
      "execution_count": null,
      "outputs": [
        {
          "output_type": "execute_result",
          "data": {
            "text/plain": [
              "<function __main__.<lambda>(x)>"
            ]
          },
          "metadata": {},
          "execution_count": 3
        }
      ]
    },
    {
      "cell_type": "code",
      "source": [
        "square = lambda x : x ** 2"
      ],
      "metadata": {
        "id": "79ni2CgmaR8o"
      },
      "execution_count": null,
      "outputs": []
    },
    {
      "cell_type": "code",
      "source": [
        "print(square(4))"
      ],
      "metadata": {
        "colab": {
          "base_uri": "https://localhost:8080/"
        },
        "id": "GmJWGvNeaUnH",
        "outputId": "5ef4dc56-be15-41ed-bc02-2e9d4e50f06a"
      },
      "execution_count": null,
      "outputs": [
        {
          "output_type": "stream",
          "name": "stdout",
          "text": [
            "16\n"
          ]
        }
      ]
    },
    {
      "cell_type": "code",
      "source": [
        "(lambda x: x ** 2)(4)"
      ],
      "metadata": {
        "colab": {
          "base_uri": "https://localhost:8080/"
        },
        "id": "YDsH4vPhaW-L",
        "outputId": "25f730fc-5819-4fba-b7eb-9dc2fb570aff"
      },
      "execution_count": null,
      "outputs": [
        {
          "output_type": "execute_result",
          "data": {
            "text/plain": [
              "16"
            ]
          },
          "metadata": {},
          "execution_count": 6
        }
      ]
    },
    {
      "cell_type": "code",
      "source": [
        "def myData(str):\n",
        "    return len(str.strip())"
      ],
      "metadata": {
        "id": "mNhTZOK7aZHP"
      },
      "execution_count": null,
      "outputs": []
    },
    {
      "cell_type": "code",
      "source": [
        "print(myData('     apple     '))"
      ],
      "metadata": {
        "colab": {
          "base_uri": "https://localhost:8080/"
        },
        "id": "J5W8FggUadJ_",
        "outputId": "71679a8b-9990-4381-d40f-e4930d082135"
      },
      "execution_count": null,
      "outputs": [
        {
          "output_type": "stream",
          "name": "stdout",
          "text": [
            "5\n"
          ]
        }
      ]
    },
    {
      "cell_type": "code",
      "source": [
        "data = ['watermelon     ', '     apple', '   banana   ', '     melon123']"
      ],
      "metadata": {
        "id": "gVgUx5Ucafsa"
      },
      "execution_count": null,
      "outputs": []
    },
    {
      "cell_type": "code",
      "source": [
        "print(sorted(data))"
      ],
      "metadata": {
        "colab": {
          "base_uri": "https://localhost:8080/"
        },
        "id": "uM7kxW5dahi4",
        "outputId": "65bd3350-59d6-45b2-ff15-ccf46f066706"
      },
      "execution_count": null,
      "outputs": [
        {
          "output_type": "stream",
          "name": "stdout",
          "text": [
            "['     apple', '     melon123', '   banana   ', 'watermelon     ']\n"
          ]
        }
      ]
    },
    {
      "cell_type": "code",
      "source": [
        "print(sorted(data, key=myData))"
      ],
      "metadata": {
        "colab": {
          "base_uri": "https://localhost:8080/"
        },
        "id": "-gL_0Gd0akM2",
        "outputId": "4b9f72e3-15e3-4e86-9342-a301058737b2"
      },
      "execution_count": null,
      "outputs": [
        {
          "output_type": "stream",
          "name": "stdout",
          "text": [
            "['     apple', '   banana   ', '     melon123', 'watermelon     ']\n"
          ]
        }
      ]
    },
    {
      "cell_type": "code",
      "source": [
        "print(sorted(data, key=lambda str: len(str.strip())))"
      ],
      "metadata": {
        "colab": {
          "base_uri": "https://localhost:8080/"
        },
        "id": "-nKQRKaman-o",
        "outputId": "d4dbec4c-8a49-4464-f93c-9b66a09f0da3"
      },
      "execution_count": null,
      "outputs": [
        {
          "output_type": "stream",
          "name": "stdout",
          "text": [
            "['     apple', '   banana   ', '     melon123', 'watermelon     ']\n"
          ]
        }
      ]
    },
    {
      "cell_type": "markdown",
      "source": [
        "# 2. filter 함수"
      ],
      "metadata": {
        "id": "S6Sbtssxas4M"
      }
    },
    {
      "cell_type": "markdown",
      "source": [
        "* 람다가 유용하게 사용되는 대표적인 함수\n",
        "* 특정 조건을 만족하는 요소만 남기고 필터링 시킴"
      ],
      "metadata": {
        "id": "z_uvlaQBavxq"
      }
    },
    {
      "cell_type": "code",
      "source": [
        "num = [1, 2, 3, 4, 6, 9, 10, 14, 15, 18, 20]\n",
        "\n",
        "num = list(filter(lambda n: n%2==0, num))   # filter(함수(조건), 자료)\n",
        "print(num)"
      ],
      "metadata": {
        "colab": {
          "base_uri": "https://localhost:8080/"
        },
        "id": "vPwpq5yoa0xS",
        "outputId": "67b23d8e-317f-4146-9758-c9f70cd13e39"
      },
      "execution_count": null,
      "outputs": [
        {
          "output_type": "stream",
          "name": "stdout",
          "text": [
            "[2, 4, 6, 10, 14, 18, 20]\n"
          ]
        }
      ]
    },
    {
      "cell_type": "markdown",
      "source": [
        "# map 함수"
      ],
      "metadata": {
        "id": "7JYGN3QYbA9S"
      }
    },
    {
      "cell_type": "markdown",
      "source": [
        "* 각 원소를 주어진 수식에 따라 변형하여 새로운 값을 반환"
      ],
      "metadata": {
        "id": "_vBPofxQbEU4"
      }
    },
    {
      "cell_type": "code",
      "source": [
        "num = [1, 2, 3, 4, 6, 9, 10, 14, 15, 18, 20]\n",
        "\n",
        "per = list(map(lambda n: n*0.01, num))\n",
        "print(per)"
      ],
      "metadata": {
        "colab": {
          "base_uri": "https://localhost:8080/"
        },
        "id": "TDeFjfW5bH61",
        "outputId": "e8677a46-5635-4851-8e97-21cd14f34625"
      },
      "execution_count": null,
      "outputs": [
        {
          "output_type": "stream",
          "name": "stdout",
          "text": [
            "[0.01, 0.02, 0.03, 0.04, 0.06, 0.09, 0.1, 0.14, 0.15, 0.18, 0.2]\n"
          ]
        }
      ]
    },
    {
      "cell_type": "code",
      "source": [],
      "metadata": {
        "id": "RSJTOpm2bQw5"
      },
      "execution_count": null,
      "outputs": []
    }
  ]
}