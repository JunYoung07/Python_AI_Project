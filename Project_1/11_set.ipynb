{
  "nbformat": 4,
  "nbformat_minor": 0,
  "metadata": {
    "colab": {
      "provenance": [],
      "authorship_tag": "ABX9TyO54O0xU18QeR3zoc0sxtsw",
      "include_colab_link": true
    },
    "kernelspec": {
      "name": "python3",
      "display_name": "Python 3"
    },
    "language_info": {
      "name": "python"
    }
  },
  "cells": [
    {
      "cell_type": "markdown",
      "metadata": {
        "id": "view-in-github",
        "colab_type": "text"
      },
      "source": [
        "<a href=\"https://colab.research.google.com/github/JunYoung07/Python_AI_Project/blob/main/11_set.ipynb\" target=\"_parent\"><img src=\"https://colab.research.google.com/assets/colab-badge.svg\" alt=\"Open In Colab\"/></a>"
      ]
    },
    {
      "cell_type": "markdown",
      "source": [
        "# 1. Set"
      ],
      "metadata": {
        "id": "dXo-o1PAJW7g"
      }
    },
    {
      "cell_type": "markdown",
      "source": [
        "* 수학의 집합과 비슷한 형태로 순서가 없기 때문에 어떤 값이 먼저 나올 지 알 수 없고, 중복되는 데이터를 허용하지 않음\n",
        "* 딕셔너리처럼 중괄호를 사용해서 선언하지만 key는 존재하지 않고 value만 존재"
      ],
      "metadata": {
        "id": "_MeYJ_uZJbLK"
      }
    },
    {
      "cell_type": "markdown",
      "source": [
        "### 1-1. set만들기"
      ],
      "metadata": {
        "id": "WiCZ8SGzJokD"
      }
    },
    {
      "cell_type": "code",
      "source": [
        "# set 선언\n",
        "s1 = {1, 3, 5, 7}\n",
        "print(s1)\n",
        "\n",
        "s2 = set([1, 3, 5, 7])\n",
        "print(s2)\n",
        "\n",
        "s3 = {1, 3, 3, 5, 7, 5, 3, 9}   # 중복이 안됨\n",
        "print(s3)"
      ],
      "metadata": {
        "colab": {
          "base_uri": "https://localhost:8080/"
        },
        "id": "GVWpD_eJJrLJ",
        "outputId": "46929969-0659-406a-cb5b-0b4041cf1bf2"
      },
      "execution_count": null,
      "outputs": [
        {
          "output_type": "stream",
          "name": "stdout",
          "text": [
            "{1, 3, 5, 7}\n",
            "{1, 3, 5, 7}\n",
            "{1, 3, 5, 7, 9}\n"
          ]
        }
      ]
    },
    {
      "cell_type": "code",
      "source": [
        "print(2 in s3)\n",
        "print(5 in s3)\n",
        "print(3 not in s3)"
      ],
      "metadata": {
        "colab": {
          "base_uri": "https://localhost:8080/"
        },
        "id": "E7ZOzXOUJ8BG",
        "outputId": "e3a3020e-4b4a-4007-8969-93f0aa4d3c20"
      },
      "execution_count": null,
      "outputs": [
        {
          "output_type": "stream",
          "name": "stdout",
          "text": [
            "False\n",
            "True\n",
            "False\n"
          ]
        }
      ]
    },
    {
      "cell_type": "markdown",
      "source": [
        "### 1-2. set 함수\n",
        "* add(): set에 단일 데이터를 추가 (한개씩만)\n",
        "* update(): set에 여러 데이터를 한번에 추가\n",
        "* remove(): set의 데이터를 제거, 제거할 데이터가 없으면 에러\n",
        "* discard(): set에 데이터를 제거, 제거할 데이터가 없어도 에러가 발생하지 않는다.\n",
        "* copy(): set을 복사 "
      ],
      "metadata": {
        "id": "NmiuaahbKAaM"
      }
    },
    {
      "cell_type": "code",
      "source": [
        "# add()\n",
        "s1 = {100, 200}\n",
        "s1.add(50)  # 순서가 정해져있지 않으므로 순서가 일정하지 않음\n",
        "print(s1)"
      ],
      "metadata": {
        "colab": {
          "base_uri": "https://localhost:8080/"
        },
        "id": "88p3KOcjKY0L",
        "outputId": "427ee05e-bdf7-4611-d8a1-9ed16a6c6c9d"
      },
      "execution_count": null,
      "outputs": [
        {
          "output_type": "stream",
          "name": "stdout",
          "text": [
            "{200, 50, 100}\n"
          ]
        }
      ]
    },
    {
      "cell_type": "code",
      "source": [
        "# update()\n",
        "s2 = {10, 20, 30}\n",
        "s2.update([40, 50, 60, 20]) # 여러 개의 데이터를 추가 (여러 데이터를 묶을 때는 리스트형태!)\n",
        "print(s2)"
      ],
      "metadata": {
        "colab": {
          "base_uri": "https://localhost:8080/"
        },
        "id": "GZeOW38wKgjE",
        "outputId": "a68d618b-a30b-4d7e-fc63-6ecc8659c03f"
      },
      "execution_count": null,
      "outputs": [
        {
          "output_type": "stream",
          "name": "stdout",
          "text": [
            "{40, 10, 50, 20, 60, 30}\n"
          ]
        }
      ]
    },
    {
      "cell_type": "code",
      "source": [
        "# remove()\n",
        "s2.remove(50)\n",
        "print(s2)\n",
        "# s2.remove(50) # KeyError: 50"
      ],
      "metadata": {
        "colab": {
          "base_uri": "https://localhost:8080/"
        },
        "id": "epHOrj5MK0RB",
        "outputId": "bfa53092-bea3-42c4-aaf8-631257f812fd"
      },
      "execution_count": null,
      "outputs": [
        {
          "output_type": "stream",
          "name": "stdout",
          "text": [
            "{40, 10, 20, 60, 30}\n"
          ]
        }
      ]
    },
    {
      "cell_type": "code",
      "source": [
        "# discard()\n",
        "s2.discard(20)\n",
        "print(s2)\n",
        "s2.discard(20)  # Non-Error"
      ],
      "metadata": {
        "colab": {
          "base_uri": "https://localhost:8080/"
        },
        "id": "YsMYnf1HK795",
        "outputId": "c1c9018f-875b-44ec-b879-7a7fa79b1706"
      },
      "execution_count": null,
      "outputs": [
        {
          "output_type": "stream",
          "name": "stdout",
          "text": [
            "{40, 10, 60, 30}\n"
          ]
        }
      ]
    },
    {
      "cell_type": "code",
      "source": [
        "# copy()\n",
        "s3 = {10, 20, 30}\n",
        "s4 = s3.copy()  # s4 = s3와의 차이 -> 메모리 관점에서 생각하도록!\n",
        "print(s4)\n",
        "print(s3)"
      ],
      "metadata": {
        "colab": {
          "base_uri": "https://localhost:8080/"
        },
        "id": "JpPqrjzCLHQR",
        "outputId": "afceb4b0-2126-4d6e-a818-ea2a2abb5773"
      },
      "execution_count": null,
      "outputs": [
        {
          "output_type": "stream",
          "name": "stdout",
          "text": [
            "{10, 20, 30}\n",
            "{10, 20, 30}\n"
          ]
        }
      ]
    },
    {
      "cell_type": "markdown",
      "source": [
        "### 1-3. set 연산자\n",
        "```\n",
        " | : 합집합\n",
        " & : 교집합\n",
        " - : 차집합\n",
        " ^ : 대칭차집합\n",
        "```"
      ],
      "metadata": {
        "id": "FuutN_ZhLWPI"
      }
    },
    {
      "cell_type": "code",
      "source": [
        "# 합집합\n",
        "s1 = {10, 20, 30, 40, 50}\n",
        "s2 = {30, 40, 50, 60, 70}\n",
        "result = s1 | s2\n",
        "print(result)"
      ],
      "metadata": {
        "colab": {
          "base_uri": "https://localhost:8080/"
        },
        "id": "9gQ6T_V8LgnR",
        "outputId": "c61f02b0-a603-4438-d0d7-b8e7d2c134c0"
      },
      "execution_count": null,
      "outputs": [
        {
          "output_type": "stream",
          "name": "stdout",
          "text": [
            "{70, 40, 10, 50, 20, 60, 30}\n"
          ]
        }
      ]
    },
    {
      "cell_type": "code",
      "source": [
        "# 교집합\n",
        "result = s1 & s2\n",
        "print(result)"
      ],
      "metadata": {
        "colab": {
          "base_uri": "https://localhost:8080/"
        },
        "id": "5PXvLxvVME0R",
        "outputId": "3af20b38-5f7d-4509-d950-5ca0d33dfa10"
      },
      "execution_count": null,
      "outputs": [
        {
          "output_type": "stream",
          "name": "stdout",
          "text": [
            "{40, 50, 30}\n"
          ]
        }
      ]
    },
    {
      "cell_type": "code",
      "source": [
        "# 차집합\n",
        "result = s1 - s2\n",
        "print(result)"
      ],
      "metadata": {
        "colab": {
          "base_uri": "https://localhost:8080/"
        },
        "id": "rqbUYkLyMPMR",
        "outputId": "8427838d-8e8c-4a09-99cf-8100e1f16790"
      },
      "execution_count": null,
      "outputs": [
        {
          "output_type": "stream",
          "name": "stdout",
          "text": [
            "{10, 20}\n"
          ]
        }
      ]
    },
    {
      "cell_type": "code",
      "source": [
        "# 대칭차집합\n",
        "result = s1 ^ s2\n",
        "print(result)"
      ],
      "metadata": {
        "colab": {
          "base_uri": "https://localhost:8080/"
        },
        "id": "MV5FaIBzMamx",
        "outputId": "b20ae3af-f45d-48ca-ac5c-1b61853ea32a"
      },
      "execution_count": null,
      "outputs": [
        {
          "output_type": "stream",
          "name": "stdout",
          "text": [
            "{20, 70, 10, 60}\n"
          ]
        }
      ]
    },
    {
      "cell_type": "code",
      "source": [],
      "metadata": {
        "id": "LFaF05VKMdgA"
      },
      "execution_count": null,
      "outputs": []
    }
  ]
}