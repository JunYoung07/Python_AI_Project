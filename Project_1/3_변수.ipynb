{
  "nbformat": 4,
  "nbformat_minor": 0,
  "metadata": {
    "colab": {
      "provenance": [],
      "collapsed_sections": [],
      "authorship_tag": "ABX9TyOOx39y8FrXj80Y+XmU7PPs",
      "include_colab_link": true
    },
    "kernelspec": {
      "name": "python3",
      "display_name": "Python 3"
    },
    "language_info": {
      "name": "python"
    }
  },
  "cells": [
    {
      "cell_type": "markdown",
      "metadata": {
        "id": "view-in-github",
        "colab_type": "text"
      },
      "source": [
        "<a href=\"https://colab.research.google.com/github/JunYoung07/Python_AI_Project/blob/main/3_%EB%B3%80%EC%88%98.ipynb\" target=\"_parent\"><img src=\"https://colab.research.google.com/assets/colab-badge.svg\" alt=\"Open In Colab\"/></a>"
      ]
    },
    {
      "cell_type": "markdown",
      "source": [
        "# 1. 변수"
      ],
      "metadata": {
        "id": "ZdR6t_-VtOm2"
      }
    },
    {
      "cell_type": "markdown",
      "source": [
        "* 변수란 처리할 데이터를 저장시키는 기억장소 (RAM에서 저장하고 가져온다)"
      ],
      "metadata": {
        "id": "GEYHuBiytlgA"
      }
    },
    {
      "cell_type": "code",
      "source": [
        "'''\n",
        "파이썬 메모리는 stack과 heap로 구성\n",
        "* stack에는 변수와 실제 변수내용의 주소가 저장이 된다. \n",
        "* heap에는 변수의 내용이 저장이 된다. (주소 할당)\n",
        "'''\n",
        "name = '김사과'     # name을 변수로 지정\n",
        "age = 20\n",
        "\n",
        "print(name)         # 변수는 대명사라고 생각하면 된다. (지시한다.)\n",
        "print(age)          # 내부의 age는 문자열이 아니라 주소를 나타낸다!!!!\n",
        "\n",
        "name = '반하나'\n",
        "print(name)"
      ],
      "metadata": {
        "colab": {
          "base_uri": "https://localhost:8080/"
        },
        "id": "Aj0-TZPstpMu",
        "outputId": "66307a35-25ba-4b86-bab0-c588b91e8670"
      },
      "execution_count": null,
      "outputs": [
        {
          "output_type": "stream",
          "name": "stdout",
          "text": [
            "김사과\n",
            "20\n",
            "반하나\n"
          ]
        }
      ]
    },
    {
      "cell_type": "markdown",
      "source": [
        "# 2. 변수의 이름을 작성하는 방법\n"
      ],
      "metadata": {
        "id": "XrDz8wFpyNYO"
      }
    },
    {
      "cell_type": "markdown",
      "source": [
        "* 값을 나타내는 핵심단어\n",
        "* 반드시 문자로 시작하고 예약어는 사용할 수 없다. (숫자를 섞을 수는 있으나 숫자를 첫글자로 쓰면 Error가 발생한다. / 미리 지정돼있는 키워드를 변수로 사용하면 안된다.)\n",
        "* 영문자, 숫자, 특수문자(_)로 사용하며 대소문자를 구별"
      ],
      "metadata": {
        "id": "LIPhxV7-za3i"
      }
    },
    {
      "cell_type": "code",
      "source": [
        "num1 = 10\n",
        "num2 = 3\n",
        "print('%d / %d = %4.2f' % (num1, num2, num1/num2))"
      ],
      "metadata": {
        "colab": {
          "base_uri": "https://localhost:8080/"
        },
        "id": "c9gJhFFt0Xk4",
        "outputId": "7c3527df-dcb7-4b92-cb6f-34511ac5b224"
      },
      "execution_count": null,
      "outputs": [
        {
          "output_type": "stream",
          "name": "stdout",
          "text": [
            "10 / 3 = 3.33\n"
          ]
        }
      ]
    },
    {
      "cell_type": "markdown",
      "source": [
        "# 3. 변수의 데이터 타입"
      ],
      "metadata": {
        "id": "ROJeXZpF1E-M"
      }
    },
    {
      "cell_type": "markdown",
      "source": [
        "* heap에 저장되는 데이터의 형태가 모두 제각각이다. (기능도 다 다르다.)\n",
        "* 데이터 타입(자료형): 자료가 저장되는 형태를 의미\n"
      ],
      "metadata": {
        "id": "NasOwY843he4"
      }
    },
    {
      "cell_type": "code",
      "source": [
        "name = '김사과'         # 문자형\n",
        "age = 20                # 정수형\n",
        "weight = 50.5           # 실수형\n",
        "isLover = False         # bool형(예약어)\n",
        "\n",
        "# type(): 변수의 데이터 타입을 반환해주는 함수\n",
        "print(type(name))       # <class 'str'>\n",
        "print(type(age))        # <class 'int'>\n",
        "print(type(weight))     # <class 'float'>\n",
        "print(type(isLover))    # <class 'bool'>"
      ],
      "metadata": {
        "colab": {
          "base_uri": "https://localhost:8080/"
        },
        "id": "eKMxnOH54SFE",
        "outputId": "dda45ff9-3357-42c5-a3ad-9ef9e3e0c4c2"
      },
      "execution_count": null,
      "outputs": [
        {
          "output_type": "stream",
          "name": "stdout",
          "text": [
            "<class 'str'>\n",
            "<class 'int'>\n",
            "<class 'float'>\n",
            "<class 'bool'>\n"
          ]
        }
      ]
    },
    {
      "cell_type": "code",
      "source": [
        "print(isLover)"
      ],
      "metadata": {
        "colab": {
          "base_uri": "https://localhost:8080/"
        },
        "id": "_jm3UMck5HNP",
        "outputId": "159bd33c-9af6-4f12-dfaa-cdf95059c30f"
      },
      "execution_count": null,
      "outputs": [
        {
          "output_type": "stream",
          "name": "stdout",
          "text": [
            "False\n"
          ]
        }
      ]
    },
    {
      "cell_type": "code",
      "source": [
        "# del isLover : 변수(stack)를 지정을 해준다 (heap의 데이터가 떠돌이가 된다. -> 알아서 지워준다.)\n",
        "# 변수를 삭제\n",
        "del isLover"
      ],
      "metadata": {
        "id": "JPDNbVbs5Lso"
      },
      "execution_count": null,
      "outputs": []
    },
    {
      "cell_type": "code",
      "source": [
        "print(isLover)"
      ],
      "metadata": {
        "colab": {
          "base_uri": "https://localhost:8080/",
          "height": 174
        },
        "id": "xj-QFXDg5744",
        "outputId": "e84d5e44-edeb-4abd-d4dc-7919f4e3a2ad"
      },
      "execution_count": null,
      "outputs": [
        {
          "output_type": "error",
          "ename": "NameError",
          "evalue": "ignored",
          "traceback": [
            "\u001b[0;31m---------------------------------------------------------------------------\u001b[0m",
            "\u001b[0;31mNameError\u001b[0m                                 Traceback (most recent call last)",
            "\u001b[0;32m<ipython-input-16-6053910d0aff>\u001b[0m in \u001b[0;36m<module>\u001b[0;34m\u001b[0m\n\u001b[0;32m----> 1\u001b[0;31m \u001b[0mprint\u001b[0m\u001b[0;34m(\u001b[0m\u001b[0misLover\u001b[0m\u001b[0;34m)\u001b[0m\u001b[0;34m\u001b[0m\u001b[0;34m\u001b[0m\u001b[0m\n\u001b[0m",
            "\u001b[0;31mNameError\u001b[0m: name 'isLover' is not defined"
          ]
        }
      ]
    },
    {
      "cell_type": "code",
      "source": [],
      "metadata": {
        "id": "YN1YvMXn6Izv"
      },
      "execution_count": null,
      "outputs": []
    }
  ]
}