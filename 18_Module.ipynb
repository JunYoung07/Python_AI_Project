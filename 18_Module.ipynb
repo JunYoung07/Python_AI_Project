{
  "nbformat": 4,
  "nbformat_minor": 0,
  "metadata": {
    "colab": {
      "provenance": [],
      "collapsed_sections": [],
      "authorship_tag": "ABX9TyMAMOuvM8/tZNCSH8rXFdm7",
      "include_colab_link": true
    },
    "kernelspec": {
      "name": "python3",
      "display_name": "Python 3"
    },
    "language_info": {
      "name": "python"
    }
  },
  "cells": [
    {
      "cell_type": "markdown",
      "metadata": {
        "id": "view-in-github",
        "colab_type": "text"
      },
      "source": [
        "<a href=\"https://colab.research.google.com/github/JunYoung07/Python_AI_Project/blob/main/18_Module.ipynb\" target=\"_parent\"><img src=\"https://colab.research.google.com/assets/colab-badge.svg\" alt=\"Open In Colab\"/></a>"
      ]
    },
    {
      "cell_type": "markdown",
      "source": [
        "# 1. 모듈 (Module)"
      ],
      "metadata": {
        "id": "wSQ_kmNCVoxh"
      }
    },
    {
      "cell_type": "markdown",
      "source": [
        "* 클래스 또는 함수를 모아 놓은 파일\n",
        "* 모든 파이썬 파일은 모듈"
      ],
      "metadata": {
        "id": "yKjox2k3_9-3"
      }
    },
    {
      "cell_type": "markdown",
      "source": [
        "### 파이썬 개발 툴"
      ],
      "metadata": {
        "id": "jnDPjL1uACPx"
      }
    },
    {
      "cell_type": "markdown",
      "source": [
        "* python.org (IDLE)\n",
        "* Pycharm\n",
        "    * 파이썬 프로그램을 통해 웹사이트, 모바일 앱, 등등 프로젝트 단위로 개발을 하는 툴"
      ],
      "metadata": {
        "id": "H8VTghaSAD4i"
      }
    },
    {
      "cell_type": "markdown",
      "source": [
        "### 모듈 내의 전체 함수 가져오기\n",
        "```\n",
        "import 모듈명\n",
        "# 사용\n",
        "모듈명.함수명()\n",
        "```"
      ],
      "metadata": {
        "id": "Qplhhw24AM3j"
      }
    },
    {
      "cell_type": "code",
      "source": [
        "# module import\n",
        "import util"
      ],
      "metadata": {
        "id": "QuHvvzxnAUS3"
      },
      "execution_count": null,
      "outputs": []
    },
    {
      "cell_type": "code",
      "source": [
        "util.total(1, 100)"
      ],
      "metadata": {
        "colab": {
          "base_uri": "https://localhost:8080/"
        },
        "id": "SEgQwDLMBkcJ",
        "outputId": "6d5a4664-5b51-4a82-d460-752cf49d0261"
      },
      "execution_count": null,
      "outputs": [
        {
          "output_type": "execute_result",
          "data": {
            "text/plain": [
              "5050"
            ]
          },
          "metadata": {},
          "execution_count": 2
        }
      ]
    },
    {
      "cell_type": "code",
      "source": [
        "util.calc(10, 3)"
      ],
      "metadata": {
        "colab": {
          "base_uri": "https://localhost:8080/"
        },
        "id": "i-A4lj_5BmpF",
        "outputId": "4042d6bd-7b5a-48f3-a236-bc92c4e0ef6d"
      },
      "execution_count": null,
      "outputs": [
        {
          "output_type": "execute_result",
          "data": {
            "text/plain": [
              "(13, 7, 30, 3.3333333333333335)"
            ]
          },
          "metadata": {},
          "execution_count": 3
        }
      ]
    },
    {
      "cell_type": "markdown",
      "source": [
        "### 특정 함수만 골라서 가져오기\n",
        "```\n",
        "from 모듈명 import 함수1, 함수2, ...\n",
        "# 사용\n",
        "함수명()\n",
        "```"
      ],
      "metadata": {
        "id": "O2TbiBBaBonR"
      }
    },
    {
      "cell_type": "code",
      "source": [
        "from util import calc"
      ],
      "metadata": {
        "id": "GjoM1HQHB8hu"
      },
      "execution_count": null,
      "outputs": []
    },
    {
      "cell_type": "code",
      "source": [
        "_, _, result, _ = calc(5, 8)\n",
        "print(result)"
      ],
      "metadata": {
        "colab": {
          "base_uri": "https://localhost:8080/"
        },
        "id": "iV-zk6CwB_bg",
        "outputId": "11952770-9541-44f3-9212-27dcd196beb6"
      },
      "execution_count": null,
      "outputs": [
        {
          "output_type": "stream",
          "name": "stdout",
          "text": [
            "40\n"
          ]
        }
      ]
    },
    {
      "cell_type": "markdown",
      "source": [
        "### 모든 모듈의 함수 가져오기\n",
        "```\n",
        "from 모듈명 import *\n",
        "# 사용\n",
        "함수명()\n",
        "```"
      ],
      "metadata": {
        "id": "KDqf6y-lCDbm"
      }
    },
    {
      "cell_type": "code",
      "source": [
        "from util import *"
      ],
      "metadata": {
        "id": "Kdy9X68rCN6u"
      },
      "execution_count": null,
      "outputs": []
    },
    {
      "cell_type": "code",
      "source": [
        "total(1, 10)"
      ],
      "metadata": {
        "colab": {
          "base_uri": "https://localhost:8080/"
        },
        "id": "vh0mUEwGCP6L",
        "outputId": "81907934-65c3-4f6c-f644-041a92d7993a"
      },
      "execution_count": null,
      "outputs": [
        {
          "output_type": "execute_result",
          "data": {
            "text/plain": [
              "55"
            ]
          },
          "metadata": {},
          "execution_count": 7
        }
      ]
    },
    {
      "cell_type": "code",
      "source": [
        "calc(3, 4)"
      ],
      "metadata": {
        "colab": {
          "base_uri": "https://localhost:8080/"
        },
        "id": "vr50QnN1CQyC",
        "outputId": "67010695-bb2f-48a6-d390-0c3a8a921127"
      },
      "execution_count": null,
      "outputs": [
        {
          "output_type": "execute_result",
          "data": {
            "text/plain": [
              "(7, -1, 12, 0.75)"
            ]
          },
          "metadata": {},
          "execution_count": 8
        }
      ]
    },
    {
      "cell_type": "markdown",
      "source": [
        "### 모듈 별명 붙히기\n",
        "```\n",
        "import 모듈명 as 별명\n",
        "# 사용\n",
        "별명.함수명()\n",
        "```"
      ],
      "metadata": {
        "id": "iSkN6h3qCSJO"
      }
    },
    {
      "cell_type": "code",
      "source": [
        "import util as ut"
      ],
      "metadata": {
        "id": "MvSFiZr6CZhc"
      },
      "execution_count": null,
      "outputs": []
    },
    {
      "cell_type": "code",
      "source": [
        "ut.total(1, 100)"
      ],
      "metadata": {
        "colab": {
          "base_uri": "https://localhost:8080/"
        },
        "id": "p5qlOdyECa6g",
        "outputId": "2084e913-e8e5-4dfa-8c4a-1dcb095929f9"
      },
      "execution_count": null,
      "outputs": [
        {
          "output_type": "execute_result",
          "data": {
            "text/plain": [
              "5050"
            ]
          },
          "metadata": {},
          "execution_count": 10
        }
      ]
    },
    {
      "cell_type": "code",
      "source": [
        "ut.calc(4, 5)"
      ],
      "metadata": {
        "colab": {
          "base_uri": "https://localhost:8080/"
        },
        "id": "MnHO_BBkCcAM",
        "outputId": "7fbb349e-1cdf-44fc-ead0-4009ec717a68"
      },
      "execution_count": null,
      "outputs": [
        {
          "output_type": "execute_result",
          "data": {
            "text/plain": [
              "(9, -1, 20, 0.8)"
            ]
          },
          "metadata": {},
          "execution_count": 11
        }
      ]
    },
    {
      "cell_type": "markdown",
      "source": [
        "# 2. 패키지 (Package)"
      ],
      "metadata": {
        "id": "HYbwJBokCdsE"
      }
    },
    {
      "cell_type": "markdown",
      "source": [
        "* 모듈의 상위개념\n",
        "* 모듈이 모여있는 디렉토리"
      ],
      "metadata": {
        "id": "IfpSMKV4CiYT"
      }
    },
    {
      "cell_type": "markdown",
      "source": [
        "### 2-1. 패키지 관리자\n",
        "* 외부 모듈을 설치 혹은 삭제하기 위한 프로그램\n",
        "* pip명령을 사용 (파이썬 3.4이후 파이썬을 설치하면 pip가 함께 설치됨)\n",
        "* 윈도우 명령 프롬프트 또는 터미널에서 사용\n",
        "* pip-version으로 버전을 확인할 수 있다."
      ],
      "metadata": {
        "id": "YijG_I7gCnpq"
      }
    }
  ]
}