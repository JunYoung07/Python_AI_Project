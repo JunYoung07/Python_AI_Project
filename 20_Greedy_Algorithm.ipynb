{
  "nbformat": 4,
  "nbformat_minor": 0,
  "metadata": {
    "colab": {
      "provenance": [],
      "authorship_tag": "ABX9TyPLV8/X/929668By/S4B2t9",
      "include_colab_link": true
    },
    "kernelspec": {
      "name": "python3",
      "display_name": "Python 3"
    },
    "language_info": {
      "name": "python"
    }
  },
  "cells": [
    {
      "cell_type": "markdown",
      "metadata": {
        "id": "view-in-github",
        "colab_type": "text"
      },
      "source": [
        "<a href=\"https://colab.research.google.com/github/JunYoung07/Python_AI_Project/blob/main/20_Greedy_Algorithm.ipynb\" target=\"_parent\"><img src=\"https://colab.research.google.com/assets/colab-badge.svg\" alt=\"Open In Colab\"/></a>"
      ]
    },
    {
      "cell_type": "markdown",
      "source": [
        "# 1. 탐욕 알고리즘(Greedy Algorithm)"
      ],
      "metadata": {
        "id": "JVpSoN08hj_o"
      }
    },
    {
      "cell_type": "markdown",
      "source": [
        "* 최적의 해에 가까운 값을 구하기 위해 사용\n",
        "* 근사치 추정에 활용\n",
        "* 반드시 최적의 해를 구할 수 있는 것은 아님\n",
        "* 여러 경우 중 하난를 결정해야 할 때마다, 매순간 최적이라고 생각되는 경우를 선택하는 방식\n",
        "* 위 방식으로 최종값을 구함"
      ],
      "metadata": {
        "id": "W6YbdtzZhvVO"
      }
    },
    {
      "cell_type": "markdown",
      "source": [
        "# 2. 탐욕 알고리즘의 예\n"
      ],
      "metadata": {
        "id": "PkJIrUtoh76s"
      }
    },
    {
      "cell_type": "markdown",
      "source": [
        "### 2-1. 동전 문제"
      ],
      "metadata": {
        "id": "rVB9uxphh-xS"
      }
    },
    {
      "cell_type": "markdown",
      "source": [
        "지불해야하는 값이 4720원일 때 1원, 50원, 100원, 500원 동전으로 동전의 수가 가장 적게 지불하는 방법\n",
        "* 가장 큰 동전부터 최대한 지불해야 하는 값을 채우는 방식으로 구현\n",
        "* 탐욕 알고리즘으로 매 순간 최적이라고 생각되는 경우 선택"
      ],
      "metadata": {
        "id": "jhRudRMwiAT8"
      }
    },
    {
      "cell_type": "code",
      "source": [
        "# 문제 풀이\n",
        "coin_list = [1, 100, 50, 500]\n",
        "\n",
        "def min_coin_count(value, coin_list):\n",
        "    total_coin_count = 0\n",
        "    details = list()\n",
        "    coin_list.sort(reverse=True)\n",
        "    for coin in coin_list:\n",
        "        coin_num = value // coin\n",
        "        total_coin_count += coin_num\n",
        "        value -= coin * coin_num\n",
        "        details.append([coin, coin_num])\n",
        "    return total_coin_count, details"
      ],
      "metadata": {
        "id": "5POqOQw4iPnt"
      },
      "execution_count": 1,
      "outputs": []
    },
    {
      "cell_type": "code",
      "source": [
        "min_coin_count(4720, coin_list)"
      ],
      "metadata": {
        "id": "JleCNMGJke6n",
        "outputId": "08764e1b-ef5b-4a2e-a366-8bf21bd74d91",
        "colab": {
          "base_uri": "https://localhost:8080/"
        }
      },
      "execution_count": 2,
      "outputs": [
        {
          "output_type": "execute_result",
          "data": {
            "text/plain": [
              "(31, [[500, 9], [100, 2], [50, 0], [1, 20]])"
            ]
          },
          "metadata": {},
          "execution_count": 2
        }
      ]
    }
  ]
}