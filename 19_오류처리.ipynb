{
  "nbformat": 4,
  "nbformat_minor": 0,
  "metadata": {
    "colab": {
      "provenance": [],
      "collapsed_sections": [],
      "authorship_tag": "ABX9TyPv0CtgoTFyz8AQigtlvyeb",
      "include_colab_link": true
    },
    "kernelspec": {
      "name": "python3",
      "display_name": "Python 3"
    },
    "language_info": {
      "name": "python"
    }
  },
  "cells": [
    {
      "cell_type": "markdown",
      "metadata": {
        "id": "view-in-github",
        "colab_type": "text"
      },
      "source": [
        "<a href=\"https://colab.research.google.com/github/JunYoung07/Python_AI_Project/blob/main/19_%EC%98%A4%EB%A5%98%EC%B2%98%EB%A6%AC.ipynb\" target=\"_parent\"><img src=\"https://colab.research.google.com/assets/colab-badge.svg\" alt=\"Open In Colab\"/></a>"
      ]
    },
    {
      "cell_type": "markdown",
      "source": [
        "# 1. 오류처리"
      ],
      "metadata": {
        "id": "954onn6SDxXZ"
      }
    },
    {
      "cell_type": "markdown",
      "source": [
        "* 오류가 발생되었을 때 별도의 처리를 하거나 무시하고 프로그램을 실행하는 것\n",
        "* 오류가 발생될 것으로 예상되는 문장을 try블록에 코딩하고 try블록에 코딩된 내용을 실행하다가 오류가 발생하면 더이상 try블록의 내용을 실행하지 않고, 오류의 except블록에 코딩된 내용을 실행\n",
        "* 파이썬은 발생할 수 있는 모든 문제를 예외 클래스로 만들어 놓음\n",
        "* 모든 예외 클래스는 BaseException 클래스의 자식 클래스이며 BaseException클래스의 자식 클래스 중 Exception클래스는 모든 예외 클래스의 부모 클래스가 됨."
      ],
      "metadata": {
        "id": "vGJ7qqNFD1xC"
      }
    },
    {
      "cell_type": "markdown",
      "source": [
        "```\n",
        "try:\n",
        "    오류가 발생될 것으로 예상되는 문장\n",
        "    ...\n",
        "    ...\n",
        "except 오류클래스명1:\n",
        "    해당 오류가 발생하면 실행할 문장\n",
        "    ...\n",
        "except 오류클래스명2:\n",
        "    ...\n",
        "except 오류클래스명3:\n",
        "    ...\n",
        "...\n",
        "else:\n",
        "    오류가 없을 경우 실행할 문장\n",
        "    ...\n",
        "finally:\n",
        "    오류 발생 여부와 상관없이 무조건 실행할 문장\n",
        "    ...\n",
        "```"
      ],
      "metadata": {
        "id": "ynVLiNRnEUqN"
      }
    },
    {
      "cell_type": "code",
      "source": [
        "# 파이썬은 interpreter언어이므로 한줄씩 실행이 된다.\n",
        "print(10/2)\n",
        "print(5/0)  # ZeroDivisinoError: division by zero\n",
        "print(4/2)"
      ],
      "metadata": {
        "colab": {
          "base_uri": "https://localhost:8080/",
          "height": 245
        },
        "id": "urX_7c5NEqVp",
        "outputId": "caa9ba68-1b3d-4b3d-835a-4205a612bc50"
      },
      "execution_count": null,
      "outputs": [
        {
          "output_type": "stream",
          "name": "stdout",
          "text": [
            "5.0\n"
          ]
        },
        {
          "output_type": "error",
          "ename": "ZeroDivisionError",
          "evalue": "ignored",
          "traceback": [
            "\u001b[0;31m---------------------------------------------------------------------------\u001b[0m",
            "\u001b[0;31mZeroDivisionError\u001b[0m                         Traceback (most recent call last)",
            "\u001b[0;32m<ipython-input-1-a2eb91332680>\u001b[0m in \u001b[0;36m<module>\u001b[0;34m\u001b[0m\n\u001b[1;32m      1\u001b[0m \u001b[0;31m# 파이썬은 interpreter언어이므로 한줄씩 실행이 된다.\u001b[0m\u001b[0;34m\u001b[0m\u001b[0;34m\u001b[0m\u001b[0;34m\u001b[0m\u001b[0m\n\u001b[1;32m      2\u001b[0m \u001b[0mprint\u001b[0m\u001b[0;34m(\u001b[0m\u001b[0;36m10\u001b[0m\u001b[0;34m/\u001b[0m\u001b[0;36m2\u001b[0m\u001b[0;34m)\u001b[0m\u001b[0;34m\u001b[0m\u001b[0;34m\u001b[0m\u001b[0m\n\u001b[0;32m----> 3\u001b[0;31m \u001b[0mprint\u001b[0m\u001b[0;34m(\u001b[0m\u001b[0;36m5\u001b[0m\u001b[0;34m/\u001b[0m\u001b[0;36m0\u001b[0m\u001b[0;34m)\u001b[0m  \u001b[0;31m# ZeroDivisinoError: division by zero\u001b[0m\u001b[0;34m\u001b[0m\u001b[0;34m\u001b[0m\u001b[0m\n\u001b[0m\u001b[1;32m      4\u001b[0m \u001b[0mprint\u001b[0m\u001b[0;34m(\u001b[0m\u001b[0;36m4\u001b[0m\u001b[0;34m/\u001b[0m\u001b[0;36m2\u001b[0m\u001b[0;34m)\u001b[0m\u001b[0;34m\u001b[0m\u001b[0;34m\u001b[0m\u001b[0m\n",
            "\u001b[0;31mZeroDivisionError\u001b[0m: division by zero"
          ]
        }
      ]
    },
    {
      "cell_type": "code",
      "source": [
        "# 예외처리를 하는 경우 오류가 발생하지 않는다.\n",
        "try:\n",
        "    print(10/2)\n",
        "    print(5/0)  # 에러 발생\n",
        "    print(4/2)\n",
        "except ZeroDivisionError:\n",
        "    print(\"0으로 나눌 수 없습니다.\")\n",
        "\n",
        "print('프로그램을 종료합니다.')"
      ],
      "metadata": {
        "colab": {
          "base_uri": "https://localhost:8080/"
        },
        "id": "npQxw94-E2J7",
        "outputId": "3275b839-1861-4339-c1e0-daa126ab0766"
      },
      "execution_count": null,
      "outputs": [
        {
          "output_type": "stream",
          "name": "stdout",
          "text": [
            "5.0\n",
            "0으로 나눌 수 없습니다.\n",
            "프로그램을 종료합니다.\n"
          ]
        }
      ]
    },
    {
      "cell_type": "code",
      "source": [
        "try:\n",
        "    data = [10, 20, 30]\n",
        "    print(data[2])\n",
        "    print(data[3])\n",
        "    print(data[0])\n",
        "except ZeroDivisionError:\n",
        "    print(\"0으로 나눌 수 없습니다.\")\n",
        "except IndexError:\n",
        "    print(\"인덱스 지정이 올바르지 않습니다.\")\n",
        "\n",
        "print('프로그램을 종료합니다.')"
      ],
      "metadata": {
        "colab": {
          "base_uri": "https://localhost:8080/"
        },
        "id": "EQuqA4WeFInR",
        "outputId": "3b0eba7c-5022-41af-e802-6d8b4ff5c16b"
      },
      "execution_count": null,
      "outputs": [
        {
          "output_type": "stream",
          "name": "stdout",
          "text": [
            "30\n",
            "인덱스 지정이 올바르지 않습니다.\n",
            "프로그램을 종료합니다.\n"
          ]
        }
      ]
    },
    {
      "cell_type": "code",
      "source": [
        "try:\n",
        "    data = [10, 20, 30]\n",
        "    str = '오늘은 즐거운 파이썬 예외처리 시간!'\n",
        "    # print(10/0)   # ZeroDivisionError\n",
        "    print(data[2])\n",
        "    # print(data[3])    # IndexError\n",
        "    print(data[0])\n",
        "    print(\"%d\" % str) # TypeError\n",
        "except ZeroDivisionError:\n",
        "    print(\"0으로 나눌 수 없습니다.\")\n",
        "except IndexError:\n",
        "    print(\"인덱스 지정이 올바르지 않습니다.\")\n",
        "# except TypeError:\n",
        "    # print(\"데이터 타입이 올바르지 않습니다.\")\n",
        "except:\n",
        "    print('모든 오류는 이곳으로 옵니다.')\n",
        "else:\n",
        "    print(\"정상적인 프로그램 진행\")\n",
        "finally:\n",
        "    print(\"오류에 관계없이 무조건 실행되는 문장\")\n",
        "\n",
        "print(\"프로그램을 종료합니다.\")"
      ],
      "metadata": {
        "colab": {
          "base_uri": "https://localhost:8080/"
        },
        "id": "caohnl0dFsS2",
        "outputId": "6b2cbbc5-df78-4128-884d-bb33dd84dba4"
      },
      "execution_count": null,
      "outputs": [
        {
          "output_type": "stream",
          "name": "stdout",
          "text": [
            "30\n",
            "10\n",
            "모든 오류는 이곳으로 옵니다.\n",
            "오류에 관계없이 무조건 실행되는 문장\n",
            "프로그램을 종료합니다.\n"
          ]
        }
      ]
    },
    {
      "cell_type": "markdown",
      "source": [
        "# 문제\n",
        "숫자와 문자를 섞어 입력하면 숫자+문자 형식의 오름차순으로 정렬하여 출력하는 프로그램을 작성해보자 (단, 000을 입력하면 정렬을 시작함)\n",
        "\n",
        "* 데이터를 입력하세요: abc\n",
        "* 데이터를 입력하세요: 123\n",
        "* 데이터를 입력하세요: 1\n",
        "* 데이터를 입력하세요: bbb\n",
        "* 데이터를 입력하세요: 000\n",
        "* 결과: [1, 123, 'abc', 'bbb']"
      ],
      "metadata": {
        "id": "kJPow4LyG1qG"
      }
    },
    {
      "cell_type": "code",
      "source": [
        "num = []\n",
        "str = []\n",
        "\n",
        "while True:\n",
        "    data = input('데이터를 입력하세요: ')\n",
        "    if data == '000': break\n",
        "    try:\n",
        "        num.append(int(data))\n",
        "    except ValueError:\n",
        "        str.append(data)\n",
        "\n",
        "num.sort()\n",
        "str.sort()\n",
        "\n",
        "print(num+str)"
      ],
      "metadata": {
        "colab": {
          "base_uri": "https://localhost:8080/"
        },
        "id": "D4_gucBlBMvv",
        "outputId": "93722228-0a30-4ae9-c2d5-9db5f1837532"
      },
      "execution_count": 5,
      "outputs": [
        {
          "output_type": "stream",
          "name": "stdout",
          "text": [
            "데이터를 입력하세요: abc\n",
            "데이터를 입력하세요: 123\n",
            "데이터를 입력하세요: 1\n",
            "데이터를 입력하세요: bbb\n",
            "데이터를 입력하세요: 000\n",
            "[1, 123, 'abc', 'bbb']\n"
          ]
        }
      ]
    },
    {
      "cell_type": "code",
      "source": [],
      "metadata": {
        "id": "VfzjPgP5BntT"
      },
      "execution_count": null,
      "outputs": []
    }
  ]
}