{
  "nbformat": 4,
  "nbformat_minor": 0,
  "metadata": {
    "colab": {
      "provenance": [],
      "collapsed_sections": [],
      "toc_visible": true,
      "authorship_tag": "ABX9TyMuRDEoPBRrlD4P0YqB2/b0",
      "include_colab_link": true
    },
    "kernelspec": {
      "name": "python3",
      "display_name": "Python 3"
    },
    "language_info": {
      "name": "python"
    }
  },
  "cells": [
    {
      "cell_type": "markdown",
      "metadata": {
        "id": "view-in-github",
        "colab_type": "text"
      },
      "source": [
        "<a href=\"https://colab.research.google.com/github/JunYoung07/Python_AI_Project/blob/main/5_%EB%AC%B8%EC%9E%90%EC%97%B4_%EB%8B%A4%EB%A3%A8%EA%B8%B0.ipynb\" target=\"_parent\"><img src=\"https://colab.research.google.com/assets/colab-badge.svg\" alt=\"Open In Colab\"/></a>"
      ]
    },
    {
      "cell_type": "code",
      "execution_count": 1,
      "metadata": {
        "id": "__T6qTTVVFOx",
        "colab": {
          "base_uri": "https://localhost:8080/"
        },
        "outputId": "724e81ec-d86c-497b-95ce-75d85c4165c6"
      },
      "outputs": [
        {
          "output_type": "stream",
          "name": "stdout",
          "text": [
            "오늘은 파이썬 3일차 수업입니다.\n",
            "오늘은 파이썬 3일차 수업입니다.\n",
            " 오늘은 파이썬 \n",
            "3일차 수업입니다. \n"
          ]
        }
      ],
      "source": [
        "str1 = '오늘은 파이썬 3일차 수업입니다.'\n",
        "print(str1)\n",
        "\n",
        "str2 = '오늘은 파이썬 3일차 수업입니다.'\n",
        "print(str2)\n",
        "\n",
        "str3 = ''' 오늘은 파이썬 \n",
        "3일차 수업입니다. '''\n",
        "print(str3)"
      ]
    },
    {
      "cell_type": "markdown",
      "source": [
        "# 1. 문자열 인덱싱\n"
      ],
      "metadata": {
        "id": "-CWFYpa5WhBg"
      }
    },
    {
      "cell_type": "markdown",
      "source": [
        "* 문자열은 자동으로 인덱싱 된다.\n",
        "* 문자열에 번호를 매겨 특정 문자를 찾을 수 있는 기능"
      ],
      "metadata": {
        "id": "nNV7O_G6WofM"
      }
    },
    {
      "cell_type": "code",
      "source": [
        "str = '문자열에 번호를 매겨 특정 문자를 찾을 수 있는 기능'\n",
        "print(str)"
      ],
      "metadata": {
        "colab": {
          "base_uri": "https://localhost:8080/"
        },
        "id": "xzuztPQvWuip",
        "outputId": "965c2858-0096-47c2-d93b-cd86be1e7a69"
      },
      "execution_count": 2,
      "outputs": [
        {
          "output_type": "stream",
          "name": "stdout",
          "text": [
            "문자열에 번호를 매겨 특정 문자를 찾을 수 있는 기능\n"
          ]
        }
      ]
    },
    {
      "cell_type": "code",
      "source": [
        "str[0]\n",
        "str[1]\n",
        "\n",
        "print(str[0])\n",
        "print(str[1])"
      ],
      "metadata": {
        "colab": {
          "base_uri": "https://localhost:8080/"
        },
        "id": "XBfdHNtDWzmn",
        "outputId": "3d69d0fe-e516-4405-da37-24f62815e7b7"
      },
      "execution_count": 3,
      "outputs": [
        {
          "output_type": "stream",
          "name": "stdout",
          "text": [
            "문\n",
            "자\n"
          ]
        }
      ]
    },
    {
      "cell_type": "code",
      "source": [
        "print(str[12])\n",
        "print(str[-1])\n",
        "print(str[-2])"
      ],
      "metadata": {
        "colab": {
          "base_uri": "https://localhost:8080/"
        },
        "id": "qDpFE0uLW4zR",
        "outputId": "7f01b245-73f0-40ff-bade-4844bb3d84bb"
      },
      "execution_count": 4,
      "outputs": [
        {
          "output_type": "stream",
          "name": "stdout",
          "text": [
            "특\n",
            "능\n",
            "기\n"
          ]
        }
      ]
    },
    {
      "cell_type": "markdown",
      "source": [
        "# 2. 문자열 슬라이싱"
      ],
      "metadata": {
        "id": "axHd_hylW9Ba"
      }
    },
    {
      "cell_type": "markdown",
      "source": [
        "* 문자열에서 원하는 부분을 추출하는 기능"
      ],
      "metadata": {
        "id": "h-3UTbc5W_zl"
      }
    },
    {
      "cell_type": "code",
      "source": [
        "str = '문자열에서 원하는 부분을 추출하는 기능'\n",
        "print(str)"
      ],
      "metadata": {
        "colab": {
          "base_uri": "https://localhost:8080/"
        },
        "id": "KD71xSl1XDU1",
        "outputId": "fcd8a102-028f-4fdd-8581-1b8790d3d706"
      },
      "execution_count": 5,
      "outputs": [
        {
          "output_type": "stream",
          "name": "stdout",
          "text": [
            "문자열에서 원하는 부분을 추출하는 기능\n"
          ]
        }
      ]
    },
    {
      "cell_type": "code",
      "source": [
        "print(str[0:5])\n",
        "print(str[7:13])\n",
        "print(str[:13])\n",
        "print(str[6:])"
      ],
      "metadata": {
        "colab": {
          "base_uri": "https://localhost:8080/"
        },
        "id": "L_-VZOV2XNv-",
        "outputId": "e0b4f538-4b99-471d-f671-cc48b012908a"
      },
      "execution_count": 6,
      "outputs": [
        {
          "output_type": "stream",
          "name": "stdout",
          "text": [
            "문자열에서\n",
            "하는 부분을\n",
            "문자열에서 원하는 부분을\n",
            "원하는 부분을 추출하는 기능\n"
          ]
        }
      ]
    },
    {
      "cell_type": "markdown",
      "source": [
        "# 문자열 함수"
      ],
      "metadata": {
        "id": "tAhDt8HvXVaj"
      }
    },
    {
      "cell_type": "markdown",
      "source": [
        "## 표준 파이썬 함수 VS 문자열 함수\n",
        "* 표준 파이썬 함수 -> 파이썬이 실행되면 바로 사용할 수 있는 함수\n",
        "* 문자열 함수 -> 문자열이 선언된 경우에만 사용할 수 있는 함수\n",
        "* 호출방식이 다르다!!"
      ],
      "metadata": {
        "id": "6Io617MLY3DI"
      }
    },
    {
      "cell_type": "markdown",
      "source": [
        "* 문자열과 관련된 여러가지 기능(함수)\n",
        "\n",
        "\n",
        "---\n",
        "```\n",
        "# count(): 문자열에서 매개변수로 전달된 문자여르이 출현 횟수를 반환\n",
        "# find(): 매개변수로 전달된 문자열이 처음 나오는 위치를 인덱스로 반환 (없으면 -1 반환)\n",
        "# index(): 매개변수로 전달된 문자열이 처음 나오는 위치를 인덱스로 반환 (없으면 Error)\n",
        "# replace(): 특정 문자열을 치환\n",
        "# upper(): 문자열을 모두 대문자로 변환\n",
        "# lower(): 문자열을 모두 소문자로 변환\n",
        "# lstrip(): 문자열의 왼쪽 공백을 제거\n",
        "# rstrip(): 문자열의 오른쪽 공백을 제거\n",
        "# strip(): 문자열의 양쪽 공백을 제거\n",
        "# join(): 문자열에 특정 문자열을 삽입\n",
        "```\n",
        "\n",
        "\n",
        "\n"
      ],
      "metadata": {
        "id": "3Z0pgV5kXXLK"
      }
    },
    {
      "cell_type": "code",
      "source": [
        "# class str -> count()\n",
        "str = '문자열 함수는 문자열과 관련된 여러가지 기능'\n",
        "print(str.count('문'))"
      ],
      "metadata": {
        "colab": {
          "base_uri": "https://localhost:8080/"
        },
        "id": "cTF3AuuSXdDp",
        "outputId": "07bf8c69-1892-4f4e-aee2-3f8bd68d9782"
      },
      "execution_count": 13,
      "outputs": [
        {
          "output_type": "stream",
          "name": "stdout",
          "text": [
            "2\n"
          ]
        }
      ]
    },
    {
      "cell_type": "code",
      "source": [
        "# class str -> find()\n",
        "print(str.find('함'))\n",
        "print(str.find('abc'))"
      ],
      "metadata": {
        "colab": {
          "base_uri": "https://localhost:8080/"
        },
        "id": "pjgMgIh7Z9W2",
        "outputId": "ffac8df1-6fed-419a-ae3b-107ac80fb9c4"
      },
      "execution_count": 12,
      "outputs": [
        {
          "output_type": "stream",
          "name": "stdout",
          "text": [
            "4\n",
            "-1\n"
          ]
        }
      ]
    },
    {
      "cell_type": "code",
      "source": [
        "# class str -> index()\n",
        "print(str.index('함'))\n",
        "print(str.index('abc'))"
      ],
      "metadata": {
        "colab": {
          "base_uri": "https://localhost:8080/",
          "height": 218
        },
        "id": "bQ0aaT7naC-c",
        "outputId": "6aacbb88-28dc-43eb-9845-4c0922996a41"
      },
      "execution_count": 14,
      "outputs": [
        {
          "output_type": "stream",
          "name": "stdout",
          "text": [
            "4\n"
          ]
        },
        {
          "output_type": "error",
          "ename": "ValueError",
          "evalue": "ignored",
          "traceback": [
            "\u001b[0;31m---------------------------------------------------------------------------\u001b[0m",
            "\u001b[0;31mValueError\u001b[0m                                Traceback (most recent call last)",
            "\u001b[0;32m<ipython-input-14-bc00a908d32e>\u001b[0m in \u001b[0;36m<module>\u001b[0;34m\u001b[0m\n\u001b[1;32m      1\u001b[0m \u001b[0;31m# class str -> index()\u001b[0m\u001b[0;34m\u001b[0m\u001b[0;34m\u001b[0m\u001b[0;34m\u001b[0m\u001b[0m\n\u001b[1;32m      2\u001b[0m \u001b[0mprint\u001b[0m\u001b[0;34m(\u001b[0m\u001b[0mstr\u001b[0m\u001b[0;34m.\u001b[0m\u001b[0mindex\u001b[0m\u001b[0;34m(\u001b[0m\u001b[0;34m'함'\u001b[0m\u001b[0;34m)\u001b[0m\u001b[0;34m)\u001b[0m\u001b[0;34m\u001b[0m\u001b[0;34m\u001b[0m\u001b[0m\n\u001b[0;32m----> 3\u001b[0;31m \u001b[0mprint\u001b[0m\u001b[0;34m(\u001b[0m\u001b[0mstr\u001b[0m\u001b[0;34m.\u001b[0m\u001b[0mindex\u001b[0m\u001b[0;34m(\u001b[0m\u001b[0;34m'abc'\u001b[0m\u001b[0;34m)\u001b[0m\u001b[0;34m)\u001b[0m\u001b[0;34m\u001b[0m\u001b[0;34m\u001b[0m\u001b[0m\n\u001b[0m",
            "\u001b[0;31mValueError\u001b[0m: substring not found"
          ]
        }
      ]
    },
    {
      "cell_type": "code",
      "source": [
        "# class str -> replace()\n",
        "print(str.replace(' ', '/'))"
      ],
      "metadata": {
        "colab": {
          "base_uri": "https://localhost:8080/"
        },
        "id": "2uBaDUsFabBY",
        "outputId": "7388499e-f1a6-45e8-f826-40cbbd0b680d"
      },
      "execution_count": 15,
      "outputs": [
        {
          "output_type": "stream",
          "name": "stdout",
          "text": [
            "문자열/함수는/문자열과/관련된/여러가지/기능\n"
          ]
        }
      ]
    },
    {
      "cell_type": "code",
      "source": [
        "# class str -> upper()\n",
        "# class str -> lower()\n",
        "str = 'python PYTHON'\n",
        "print(str.upper())\n",
        "print(str.lower())"
      ],
      "metadata": {
        "colab": {
          "base_uri": "https://localhost:8080/"
        },
        "id": "50aYoAvdawQM",
        "outputId": "39b3c2a1-c816-4f55-d3c1-847ef76c82fb"
      },
      "execution_count": 16,
      "outputs": [
        {
          "output_type": "stream",
          "name": "stdout",
          "text": [
            "PYTHON PYTHON\n",
            "python python\n"
          ]
        }
      ]
    },
    {
      "cell_type": "code",
      "source": [
        "# class str -> lstrip()\n",
        "# class str -> rstrip()\n",
        "# class str -> strip()\n",
        "str = '     Hello       Python      '\n",
        "print(str.lstrip())\n",
        "print(str.rstrip())\n",
        "print(str.strip())"
      ],
      "metadata": {
        "colab": {
          "base_uri": "https://localhost:8080/"
        },
        "id": "0qvUnY3va_Hz",
        "outputId": "278e1df6-e428-4b81-ae53-690a36749ed4"
      },
      "execution_count": 17,
      "outputs": [
        {
          "output_type": "stream",
          "name": "stdout",
          "text": [
            "Hello       Python      \n",
            "     Hello       Python\n",
            "Hello       Python\n"
          ]
        }
      ]
    },
    {
      "cell_type": "code",
      "source": [
        "# class str -> join()\n",
        "str = 'python'\n",
        "print(str.join('..'))\n",
        "print('.'.join(str))"
      ],
      "metadata": {
        "colab": {
          "base_uri": "https://localhost:8080/"
        },
        "id": "drT2Nm-DbRkk",
        "outputId": "6b78f727-f80a-4207-f57f-a92d639dac05"
      },
      "execution_count": 19,
      "outputs": [
        {
          "output_type": "stream",
          "name": "stdout",
          "text": [
            ".python.\n",
            "p.y.t.h.o.n\n"
          ]
        }
      ]
    }
  ]
}