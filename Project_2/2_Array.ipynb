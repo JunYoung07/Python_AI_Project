{
  "nbformat": 4,
  "nbformat_minor": 0,
  "metadata": {
    "colab": {
      "provenance": [],
      "collapsed_sections": [],
      "authorship_tag": "ABX9TyO8EPEeTNnXo3wG3a/4rAFL",
      "include_colab_link": true
    },
    "kernelspec": {
      "name": "python3",
      "display_name": "Python 3"
    },
    "language_info": {
      "name": "python"
    }
  },
  "cells": [
    {
      "cell_type": "markdown",
      "metadata": {
        "id": "view-in-github",
        "colab_type": "text"
      },
      "source": [
        "<a href=\"https://colab.research.google.com/github/JunYoung07/Python_AI_Project/blob/main/2_Array.ipynb\" target=\"_parent\"><img src=\"https://colab.research.google.com/assets/colab-badge.svg\" alt=\"Open In Colab\"/></a>"
      ]
    },
    {
      "cell_type": "markdown",
      "source": [
        "# 1. 배열(Array)"
      ],
      "metadata": {
        "id": "P-rfES3DYqGg"
      }
    },
    {
      "cell_type": "markdown",
      "source": [
        "* 데이터를 나열하고 각 데이터를 인덱스에 대응하도록 구성한 자료구조\n",
        "* 파이썬 리스트 타입은 배열 기능을 제공함\n",
        "* 같은 종류의 데이터를 순차적으로 저장"
      ],
      "metadata": {
        "id": "z8WVB4JEYzsB"
      }
    },
    {
      "cell_type": "markdown",
      "source": [
        "### 1-1. 배열이 필요한 이유"
      ],
      "metadata": {
        "id": "pc6auRIoY5fz"
      }
    },
    {
      "cell_type": "markdown",
      "source": [
        "* **같은 종류의 데이터**를 효율적으로 관리하기 위해 사용\n",
        "* 같은 종류의 데이터를 순차적으로 저장\n",
        "* 빠른 접근이 가능(인덱스 번호로 접근 시)"
      ],
      "metadata": {
        "id": "gZitWyrZZbzj"
      }
    },
    {
      "cell_type": "markdown",
      "source": [
        "### 1-2. 배열의 단점"
      ],
      "metadata": {
        "id": "BNFhWVeIZoDm"
      }
    },
    {
      "cell_type": "markdown",
      "source": [
        "* 데이터의 추가/삭제가 어려움\n",
        "* 미리 최대 길이를 설정해야 함"
      ],
      "metadata": {
        "id": "HGBxvQhuZrmJ"
      }
    },
    {
      "cell_type": "code",
      "source": [
        "# 1차원 배열\n",
        "arr_list = [1, 2, 3, 4, 5]  # 크기 지정, 같은 데이터\n",
        "arr_list"
      ],
      "metadata": {
        "colab": {
          "base_uri": "https://localhost:8080/"
        },
        "id": "vu2IuA8iZwQH",
        "outputId": "10d00df3-b925-4403-9ab2-7b380ff080a5"
      },
      "execution_count": null,
      "outputs": [
        {
          "output_type": "execute_result",
          "data": {
            "text/plain": [
              "[1, 2, 3, 4, 5]"
            ]
          },
          "metadata": {},
          "execution_count": 1
        }
      ]
    },
    {
      "cell_type": "code",
      "source": [
        "# 2차원 배열\n",
        "arr_list = [[1, 2, 3], [4, 5, 6], [7, 8, 9]]\n",
        "arr_list"
      ],
      "metadata": {
        "colab": {
          "base_uri": "https://localhost:8080/"
        },
        "id": "MXXGlZ7TZ4TO",
        "outputId": "9d2a8e5c-99c1-466c-d666-179bd5f94bf3"
      },
      "execution_count": null,
      "outputs": [
        {
          "output_type": "execute_result",
          "data": {
            "text/plain": [
              "[[1, 2, 3], [4, 5, 6], [7, 8, 9]]"
            ]
          },
          "metadata": {},
          "execution_count": 2
        }
      ]
    },
    {
      "cell_type": "markdown",
      "source": [
        "||열1|열2|열3|\n",
        "|---|---|---|---|\n",
        "|행1|1|2|3|\n",
        "|행2|4|5|6|\n",
        "|행3|7|8|9|"
      ],
      "metadata": {
        "id": "md0pO2nbaAgj"
      }
    },
    {
      "cell_type": "code",
      "source": [
        "# arr_list에서 9 8 7로 출력\n",
        "print(arr_list[-1][::-1])\n",
        "print(arr_list[-1][-1], end=' ')\n",
        "print(arr_list[-1][-2], end=' ')\n",
        "print(arr_list[-1][-3], end=' ')"
      ],
      "metadata": {
        "colab": {
          "base_uri": "https://localhost:8080/"
        },
        "id": "LCAyRh42aPYK",
        "outputId": "bd4887ee-ea31-4b5e-d57f-fb05d78068b2"
      },
      "execution_count": null,
      "outputs": [
        {
          "output_type": "stream",
          "name": "stdout",
          "text": [
            "[9, 8, 7]\n",
            "9 8 7 "
          ]
        }
      ]
    },
    {
      "cell_type": "markdown",
      "source": [
        "### 문제\n",
        "아래 ```dataset```배열에서 전체 이름안에 'M'이 몇 번 나왔는지 빈도수를 출력하는 프로그램을 만들어보자\n",
        "```\n",
        "dataset = ['Braund, Mr. Owen Harris',\n",
        "'Cumings, Mrs. John Bradley (Florence Briggs Thayer)',\n",
        "'Heikkinen, Miss. Laina',\n",
        "'Futrelle, Mrs. Jacques Heath (Lily May Peel)',\n",
        "'Allen, Mr. William Henry',\n",
        "'Moran, Mr. James',\n",
        "'McCarthy, Mr. Timothy J',\n",
        "'Palsson, Master. Gosta Leonard',\n",
        "'Johnson, Mrs. Oscar W (Elisabeth Vilhelmina Berg)',\n",
        "'Nasser, Mrs. Nicholas (Adele Achem)',\n",
        "'Sandstrom, Miss. Marguerite Rut',\n",
        "'Bonnell, Miss. Elizabeth',\n",
        "'Saundercock, Mr. William Henry',\n",
        "'Andersson, Mr. Anders Johan',\n",
        "'Vestrom, Miss. Hulda Amanda Adolfina',\n",
        "'Hewlett, Mrs. (Mary D Kingcome) ',\n",
        "'Rice, Master. Eugene',\n",
        "'Williams, Mr. Charles Eugene',\n",
        "'Vander Planke, Mrs. Julius (Emelia Maria Vandemoortele)',\n",
        "'Masselmani, Mrs. Fatima',\n",
        "'Fynney, Mr. Joseph J',\n",
        "'Beesley, Mr. Lawrence',\n",
        "'McGowan, Miss. Anna \"Annie\"',\n",
        "'Sloper, Mr. William Thompson',\n",
        "'Palsson, Miss. Torborg Danira',\n",
        "'Asplund, Mrs. Carl Oscar (Selma Augusta Emilia Johansson)',\n",
        "'Emir, Mr. Farred Chehab',\n",
        "'Fortune, Mr. Charles Alexander',\n",
        "'Dwyer, Miss. Ellen \"Nellie\"',\n",
        "'Todoroff, Mr. Lalio']\n",
        "```"
      ],
      "metadata": {
        "id": "ms21Wn8wajhd"
      }
    },
    {
      "cell_type": "code",
      "source": [
        "dataset = ['Braund, Mr. Owen Harris',\n",
        "'Cumings, Mrs. John Bradley (Florence Briggs Thayer)',\n",
        "'Heikkinen, Miss. Laina',\n",
        "'Futrelle, Mrs. Jacques Heath (Lily May Peel)',\n",
        "'Allen, Mr. William Henry',\n",
        "'Moran, Mr. James',\n",
        "'McCarthy, Mr. Timothy J',\n",
        "'Palsson, Master. Gosta Leonard',\n",
        "'Johnson, Mrs. Oscar W (Elisabeth Vilhelmina Berg)',\n",
        "'Nasser, Mrs. Nicholas (Adele Achem)',\n",
        "'Sandstrom, Miss. Marguerite Rut',\n",
        "'Bonnell, Miss. Elizabeth',\n",
        "'Saundercock, Mr. William Henry',\n",
        "'Andersson, Mr. Anders Johan',\n",
        "'Vestrom, Miss. Hulda Amanda Adolfina',\n",
        "'Hewlett, Mrs. (Mary D Kingcome) ',\n",
        "'Rice, Master. Eugene',\n",
        "'Williams, Mr. Charles Eugene',\n",
        "'Vander Planke, Mrs. Julius (Emelia Maria Vandemoortele)',\n",
        "'Masselmani, Mrs. Fatima',\n",
        "'Fynney, Mr. Joseph J',\n",
        "'Beesley, Mr. Lawrence',\n",
        "'McGowan, Miss. Anna \"Annie\"',\n",
        "'Sloper, Mr. William Thompson',\n",
        "'Palsson, Miss. Torborg Danira',\n",
        "'Asplund, Mrs. Carl Oscar (Selma Augusta Emilia Johansson)',\n",
        "'Emir, Mr. Farred Chehab',\n",
        "'Fortune, Mr. Charles Alexander',\n",
        "'Dwyer, Miss. Ellen \"Nellie\"',\n",
        "'Todoroff, Mr. Lalio']\n",
        "\n",
        "count = 0\n",
        "for data in dataset:\n",
        "    for k in data:\n",
        "        if k == 'M':\n",
        "            count += 1\n",
        "\n",
        "print('\"M\"의 갯수:',count)"
      ],
      "metadata": {
        "colab": {
          "base_uri": "https://localhost:8080/"
        },
        "id": "UrOzblB1bJaS",
        "outputId": "c6ddca0c-51de-4e55-95ab-335d8ec6c2f9"
      },
      "execution_count": null,
      "outputs": [
        {
          "output_type": "stream",
          "name": "stdout",
          "text": [
            "\"M\"의 갯수: 38\n"
          ]
        }
      ]
    },
    {
      "cell_type": "code",
      "source": [
        "count = 0\n",
        "for data in dataset:\n",
        "    for k in range(len(data)):\n",
        "        if data[k] == 'M':\n",
        "            count += 1\n",
        "print(count)"
      ],
      "metadata": {
        "colab": {
          "base_uri": "https://localhost:8080/"
        },
        "id": "SdFrDaSqbYDm",
        "outputId": "f58996ca-ff99-493c-88cf-7e365097aef8"
      },
      "execution_count": null,
      "outputs": [
        {
          "output_type": "stream",
          "name": "stdout",
          "text": [
            "38\n"
          ]
        }
      ]
    }
  ]
}