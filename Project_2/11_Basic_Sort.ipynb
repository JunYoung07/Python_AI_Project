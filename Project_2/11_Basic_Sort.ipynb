{
  "nbformat": 4,
  "nbformat_minor": 0,
  "metadata": {
    "colab": {
      "provenance": [],
      "authorship_tag": "ABX9TyP9okHEOpV+Mv9k/7+8ryTC",
      "include_colab_link": true
    },
    "kernelspec": {
      "name": "python3",
      "display_name": "Python 3"
    },
    "language_info": {
      "name": "python"
    }
  },
  "cells": [
    {
      "cell_type": "markdown",
      "metadata": {
        "id": "view-in-github",
        "colab_type": "text"
      },
      "source": [
        "<a href=\"https://colab.research.google.com/github/JunYoung07/Python_AI_Project/blob/main/11_Basic_Sort.ipynb\" target=\"_parent\"><img src=\"https://colab.research.google.com/assets/colab-badge.svg\" alt=\"Open In Colab\"/></a>"
      ]
    },
    {
      "cell_type": "markdown",
      "source": [
        "# 1. 정렬(Sort)"
      ],
      "metadata": {
        "id": "6mH7GDzPUyKn"
      }
    },
    {
      "cell_type": "markdown",
      "source": [
        "* 어떤 데이터들이 주어졌을 때 이를 정해진 순서대로 나열\n",
        "* 프로그램 개발 시 빈번하게 정렬을 필요로 함\n",
        "* 다양한 알고리즘이 고안되었으며 알고리즘 학습의 필수사항"
      ],
      "metadata": {
        "id": "Aj4Hi3GLVN6p"
      }
    },
    {
      "cell_type": "markdown",
      "source": [
        "# 2. 버블 정렬(bubble sort)\n",
        "* 두 인접한 데이터를 비교해서 앞에 있는 데이터가 뒤에 있는 데이터보다 크면(작으면) 자리를 바꾸는 알고리즘  \n",
        "\n",
        "<img src=\"https://upload.wikimedia.org/wikipedia/commons/c/c8/Bubble-sort-example-300px.gif\" width=500>"
      ],
      "metadata": {
        "id": "RJxAksWeVW01"
      }
    },
    {
      "cell_type": "code",
      "source": [
        "# 코드 구현\n",
        "def bubble_sort(data):\n",
        "    for i in range(len(data), 0, -1):\n",
        "        for j in range(1, i):\n",
        "            if data[j] < data[j-1]:\n",
        "                data[j], data[j-1] = data[j-1], data[j]\n",
        "    return data"
      ],
      "metadata": {
        "id": "xlbzcCnkVh87"
      },
      "execution_count": 8,
      "outputs": []
    },
    {
      "cell_type": "code",
      "source": [
        "data_list = [2, 3, 6, 5, 4, 1]\n",
        "bubble_sort(data_list)"
      ],
      "metadata": {
        "colab": {
          "base_uri": "https://localhost:8080/"
        },
        "id": "qlu5d5qNV1gA",
        "outputId": "d0ca2234-07fc-442d-fdcf-f6ffbe2d20ea"
      },
      "execution_count": 9,
      "outputs": [
        {
          "output_type": "execute_result",
          "data": {
            "text/plain": [
              "[1, 2, 3, 4, 5, 6]"
            ]
          },
          "metadata": {},
          "execution_count": 9
        }
      ]
    },
    {
      "cell_type": "code",
      "source": [
        "def bubble_sort(data):\n",
        "    for index1 in range(len(data)-1):\n",
        "        for index2 in range(len(data)-index1-1):\n",
        "            if data[index2] > data[index2 + 1]:\n",
        "                data[index2], data[index2+1] = data[index2+1], data[index2]\n",
        "    return data"
      ],
      "metadata": {
        "id": "TsKpRcWaV5ak"
      },
      "execution_count": 14,
      "outputs": []
    },
    {
      "cell_type": "code",
      "source": [
        "data_list = [80, 90, 100, 70, 50]\n",
        "bubble_sort(data_list)"
      ],
      "metadata": {
        "colab": {
          "base_uri": "https://localhost:8080/"
        },
        "id": "0Nlv-JAnWsTx",
        "outputId": "47d18cd6-0d4e-41d3-d395-740099263342"
      },
      "execution_count": 15,
      "outputs": [
        {
          "output_type": "execute_result",
          "data": {
            "text/plain": [
              "[50, 70, 80, 90, 100]"
            ]
          },
          "metadata": {},
          "execution_count": 15
        }
      ]
    },
    {
      "cell_type": "markdown",
      "source": [
        "# 3. 삽입 정렬(insertion sort)"
      ],
      "metadata": {
        "id": "Y8KE0H3kWxUW"
      }
    },
    {
      "cell_type": "markdown",
      "source": [
        "* 해당 인덱스(key 값)앞에 있는 데이터(A)부터 비교해서 key값이 더 작으면(크면) 데이터(A)값을 뒤 인덱스로 복사\n",
        "* key값이 더 큰 데이터를 만날 때 까지 반복\n",
        "* 큰 데이터를 만난 위치 바로 뒤에 key값을 이동\n",
        "\n",
        "<img src=\"https://upload.wikimedia.org/wikipedia/commons/9/9c/Insertion-sort-example.gif\">"
      ],
      "metadata": {
        "id": "3cX2FI33XyFx"
      }
    },
    {
      "cell_type": "code",
      "source": [
        "# 코드 구현\n",
        "def insertion_sort(data):\n",
        "    for i in range(len(data)-1, 0, -1):\n",
        "        for j in range(i, len(data)):\n",
        "            if data[j] < data[j-1]:\n",
        "                data[j-1], data[j] = data[j], data[j-1]\n",
        "    return data"
      ],
      "metadata": {
        "id": "j4JU-iH3YC3G"
      },
      "execution_count": 23,
      "outputs": []
    },
    {
      "cell_type": "code",
      "source": [
        "data_list = [80, 90, 100, 70, 50]\n",
        "insertion_sort(data_list)"
      ],
      "metadata": {
        "colab": {
          "base_uri": "https://localhost:8080/"
        },
        "id": "sa3y7-e7ZG46",
        "outputId": "9074dec1-e8b8-4ee4-b6d2-2c8843a760e7"
      },
      "execution_count": 24,
      "outputs": [
        {
          "output_type": "execute_result",
          "data": {
            "text/plain": [
              "[50, 70, 80, 90, 100]"
            ]
          },
          "metadata": {},
          "execution_count": 24
        }
      ]
    },
    {
      "cell_type": "code",
      "source": [
        "# 강사님 풀이\n",
        "def insertion_sort(data):\n",
        "    for index1 in range(len(data)-1):\n",
        "        for index2 in range(index1+1, 0, -1):\n",
        "            if data[index2] < data[index2-1]:\n",
        "                data[index2], data[index2-1] = data[index2-1], data[index2]\n",
        "            else:\n",
        "                break\n",
        "    return data"
      ],
      "metadata": {
        "id": "V_BkzmiqZL0r"
      },
      "execution_count": 25,
      "outputs": []
    },
    {
      "cell_type": "code",
      "source": [
        "data_list = [80, 90, 100, 70, 50]\n",
        "insertion_sort(data_list)"
      ],
      "metadata": {
        "colab": {
          "base_uri": "https://localhost:8080/"
        },
        "id": "SF93QSVKboUW",
        "outputId": "d4854800-1662-4176-a0b7-3f62960bc6b8"
      },
      "execution_count": 26,
      "outputs": [
        {
          "output_type": "execute_result",
          "data": {
            "text/plain": [
              "[50, 70, 80, 90, 100]"
            ]
          },
          "metadata": {},
          "execution_count": 26
        }
      ]
    },
    {
      "cell_type": "markdown",
      "source": [
        "# 4. 선택 정렬(selection sort)"
      ],
      "metadata": {
        "id": "ztMhYWdSbvGk"
      }
    },
    {
      "cell_type": "markdown",
      "source": [
        "* 주어진 데이터 중, 최소값을 찾음\n",
        "* 해당 최소값을 데이터 맨 앞에 위치한 값과 교체함\n",
        "* 맨 앞의 위치를 뺀 나머지 데이터를 동일한 방법으로 반복함\n",
        "\n",
        "<img src=\"https://upload.wikimedia.org/wikipedia/commons/9/94/Selection-Sort-Animation.gif\" width=100>\n"
      ],
      "metadata": {
        "id": "pUlJsrY4b6q6"
      }
    },
    {
      "cell_type": "code",
      "source": [
        "# 코드 구현\n",
        "def selection_sort(data):\n",
        "    for i in range(len(data)-1):\n",
        "        min = i\n",
        "        for j in range(i+1, len(data)):\n",
        "            if data[min] > data[i]:\n",
        "                min = j\n",
        "        data[i], data[min] = data[min], data[i]\n",
        "    return data"
      ],
      "metadata": {
        "id": "NL8txlQlcFjo"
      },
      "execution_count": 29,
      "outputs": []
    },
    {
      "cell_type": "code",
      "source": [
        "data_list = [80, 90, 100, 70, 50]\n",
        "selection_sort(data_list)"
      ],
      "metadata": {
        "colab": {
          "base_uri": "https://localhost:8080/"
        },
        "id": "Yvp19o7mcIhy",
        "outputId": "ea3ac1b7-3f0f-42b4-f05d-a66760d85770"
      },
      "execution_count": 30,
      "outputs": [
        {
          "output_type": "execute_result",
          "data": {
            "text/plain": [
              "[80, 90, 100, 70, 50]"
            ]
          },
          "metadata": {},
          "execution_count": 30
        }
      ]
    }
  ]
}