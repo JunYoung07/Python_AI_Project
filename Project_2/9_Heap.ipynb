{
  "nbformat": 4,
  "nbformat_minor": 0,
  "metadata": {
    "colab": {
      "provenance": [],
      "authorship_tag": "ABX9TyNHxdmBvl7tsPxd5Jgr44m0",
      "include_colab_link": true
    },
    "kernelspec": {
      "name": "python3",
      "display_name": "Python 3"
    },
    "language_info": {
      "name": "python"
    }
  },
  "cells": [
    {
      "cell_type": "markdown",
      "metadata": {
        "id": "view-in-github",
        "colab_type": "text"
      },
      "source": [
        "<a href=\"https://colab.research.google.com/github/JunYoung07/Python_AI_Project/blob/main/9_Heap.ipynb\" target=\"_parent\"><img src=\"https://colab.research.google.com/assets/colab-badge.svg\" alt=\"Open In Colab\"/></a>"
      ]
    },
    {
      "cell_type": "markdown",
      "source": [
        "# 1. 힙(Heap)"
      ],
      "metadata": {
        "id": "pfwil_l1f_2m"
      }
    },
    {
      "cell_type": "markdown",
      "source": [
        "### 1-1. 힙이란?"
      ],
      "metadata": {
        "id": "v6zhB_EDky9T"
      }
    },
    {
      "cell_type": "markdown",
      "source": [
        "* 데이터에서 최대값과 최소값을 빠르게 찾기 위해 고안된 완전 이진 트리(Complete Binary Tree)\n",
        "    * 완전 이진 트리: 노드를 삽입할 때 최하단 왼쪽 노드부터 차례대로 삽입하는 트리"
      ],
      "metadata": {
        "id": "BtzIFQoek1aU"
      }
    },
    {
      "cell_type": "markdown",
      "source": [
        "### 1-2. 힙을 사용하는 이유\n",
        "* 배열에 데이터를 넣고 최대값, 최소값을 찾으려면 시간이 많이 걸릴 수 있음\n",
        "* 힙에 데이터를 넣고 최대값, 최소값을 찾으면 시간이 적게 소모됨\n",
        "* 우선순위 큐와 같이 최대값 또는 최소값을 빠르게 찾아야하는 자료구조 및 알고리즘 구현 등에 활용"
      ],
      "metadata": {
        "id": "VDm5Pa4Yk_iZ"
      }
    },
    {
      "cell_type": "markdown",
      "source": [
        "# 2. 힙(Heap)의 구조"
      ],
      "metadata": {
        "id": "z9rUVTP_lOYi"
      }
    },
    {
      "cell_type": "markdown",
      "source": [
        "* 힙은 최대값을 구하기 위한 구조(최대 힙, Max Heap)와, 최소값을 구하기 위한 구조(최소 힙, Min Heap)로 분류할 수 있음\n",
        "* 힙은 다음과 같이 두 가지 조건을 가지고 있는 자료구조\n",
        "    1. 각 노드의 값은 해당 노드의 자식 노드가 가진 값보다 크거나 같다.(최대 힙인 경우)\n",
        "    2. 완전 이진 트리 형태를 가짐"
      ],
      "metadata": {
        "id": "T4lqBR0OlQiH"
      }
    },
    {
      "cell_type": "markdown",
      "source": [
        "### 2-1. 힙과 이진 탐색 트리의 공통점과 차이점\n",
        "1. **공통점**\n",
        "    * 힙과 이진 탐색 트리는 모두 이진 탐색 트리\n",
        "2. **차이점**\n",
        "    * 힙은 각 노드의 값이 자식 노드보다 크거나 같음\n",
        "    * 이진 탐색 트리는 왼쪽 자식 노드의 값이 가장 작고, 그 다음 부모노드, 그 다음 오른족 노드 값이 큼\n",
        "    * 힙은 이진 탐색 트리의 조건인 자식 노드에서 작은 값은 왼쪽, 큰 값은 오른쪽이라는 조건이 없음\n"
      ],
      "metadata": {
        "id": "dXKICRUiliWH"
      }
    },
    {
      "cell_type": "markdown",
      "source": [
        "# 3. 힙(Heap) 동작"
      ],
      "metadata": {
        "id": "_qSN6d1Dl5iQ"
      }
    },
    {
      "cell_type": "markdown",
      "source": [
        "### 3-1. 힙에 데이터 삽입하기\n",
        "* 힙은 완전 이진 트리이므로 삽입할 노드 기본적으로 왼쪽 최하단 부 노드부터 채워지는 형태로 삽입\n",
        "* 채워진 노드 위치에서 부모 노드보다 값이 클 경우, 부모 노드와 위치를 바꾸는(swap) 작업을 반복함"
      ],
      "metadata": {
        "id": "ijIt6OA8l8YD"
      }
    },
    {
      "cell_type": "markdown",
      "source": [
        "### 3-2. 힙에 데이터 삭제하기\n",
        "* 최상단 노드를 삭제하는 것이 일반적\n",
        "* 힙의 용도는 최대값 또는 최소값을 root노드에 놓아서 최대값을 바로 꺼낼 수 있도록 하는 것\n",
        "* 상단의 데이터 삭제 시 가장 최하단부 왼쪽에 위치하는 노드(일반적으로 가장 마지막에 추가한 노드)를 root노드로 이동\n",
        "* root노드의 값이 child node보다 작을 경우, root노드의 child node중 가장 큰 값을 가진 노드와 root노드 위치를 바궈주는 작업 반복"
      ],
      "metadata": {
        "id": "pIUbNrD4mJuY"
      }
    },
    {
      "cell_type": "markdown",
      "source": [
        "# 4. 힙 구현"
      ],
      "metadata": {
        "id": "HvQPPlE7mupH"
      }
    },
    {
      "cell_type": "markdown",
      "source": [
        "* 힙 구현 시 배열 자료구조 활용\n",
        "* 배열은 인덱스가 0번부터 시작하지만 힙 구현의 편의를 위해 root노드 인덱스 번호를 1로 지정하면 구현이 좀 더 수월함\n",
        "    * 부모 노드 인덱스 번호 = 자식 노드 인덱스 // 2\n",
        "    * 왼쪽 자식 노드 인덱스 번호 = 부모 노드 인덱스 번호 * 2\n",
        "    * 오른쪽 자식 노드 인덱스 번호 = 부모 노드 인덱스 번호 * 2 + 1"
      ],
      "metadata": {
        "id": "1i-rVZxumwcJ"
      }
    },
    {
      "cell_type": "markdown",
      "source": [
        "### 4-1. 힙 클래스 구현"
      ],
      "metadata": {
        "id": "hNZgqMwonFB4"
      }
    },
    {
      "cell_type": "code",
      "source": [
        "class Heap:\n",
        "    def __init__(self, data):\n",
        "        self.heap_array = []\n",
        "        self.heap_array.append(None)\n",
        "        self.heap_array.append(data)\n",
        "\n",
        "    def insert(self, data):\n",
        "        if len(self.heap_array) == 0:\n",
        "            self.heap_array.append(None)\n",
        "            self.heap_array.append(data)\n",
        "            return True\n",
        "        self.heap_array.append(data)\n",
        "        inserted_idx = len(self.heap_array) - 1\n",
        "\n",
        "        while self.move_up(inserted_idx):\n",
        "            parent_idx = inserted_idx // 2\n",
        "            self.heap_array[inserted_idx], self.heap_array[parent_idx] = self.heap_array[parent_idx], self.heap_array[inserted_idx]\n",
        "            inserted_idx = parent_idx\n",
        "        return True\n",
        "\n",
        "    def move_up(self, inserted_idx):\n",
        "        if inserted_idx <= 1:\n",
        "            return False\n",
        "        parent_idx = inserted_idx // 2\n",
        "        if self.heap_array[inserted_idx] > self.heap_array[parent_idx]:\n",
        "            return True\n",
        "        else:\n",
        "            return False\n",
        "\n",
        "    def pop(self):\n",
        "        if len(self.heap_array) <= 1:\n",
        "            return None\n",
        "        returned_data = self.heap_array[1]\n",
        "        self.heap_array[1] = self.heap_array.pop()\n",
        "        poped_idx = 1\n",
        "        while self.move_down(poped_idx):\n",
        "            left_child_poped_idx = poped_idx * 2\n",
        "            right_child_poped_idx = poped_idx * 2 + 1\n",
        "            # 왼쪽 자식만 있는 경우\n",
        "            if right_child_poped_idx >= len(self.heap_array):\n",
        "                if self.heap_array[poped_idx] < self.heap_array[left_child_poped_idx]:\n",
        "                    self.heap_array[poped_idx], self.heap_array[left_child_poped_idx] = self.heap_array[left_child_poped_idx], self.heap_array[poped_idx]\n",
        "                    poped_idx = left_child_poped_idx\n",
        "            else:\n",
        "                if self.heap_array[left_child_poped_idx] > self.heap_array[right_child_poped_idx]:\n",
        "                    if self.heap_array[poped_idx] < self.heap_array[left_child_poped_idx]:\n",
        "                        self.heap_array[poped_idx], self.heap_array[left_child_poped_idx] = self.heap_array[left_child_poped_idx], self.heap_array[poped_idx]\n",
        "                        poped_idx = left_child_poped_idx\n",
        "                else:\n",
        "                    if self.heap_array[poped_idx] < self.heap_array[right_child_poped_idx]:\n",
        "                        self.heap_array[poped_idx], self.heap_array[right_child_poped_idx] = self.heap_array[right_child_poped_idx], self.heap_array[poped_idx]\n",
        "                        poped_idx = right_child_poped_idx\n",
        "        return returned_data\n",
        "    \n",
        "    def move_down(self, poped_idx):\n",
        "        left_child_poped_idx = poped_idx * 2\n",
        "        right_child_poped_idx = poped_idx * 2 + 1\n",
        "        # 자식 노드가 없을 때\n",
        "        if left_child_poped_idx >= len(self.heap_array):\n",
        "            return False\n",
        "        elif right_child_poped_idx >= len(self.heap_array):\n",
        "            if self.heap_array[poped_idx] < self.heap_array[left_child_poped_idx]:\n",
        "                return True\n",
        "            else:\n",
        "                return False\n",
        "        else:\n",
        "            if self.heap_array[left_child_poped_idx] > self.heap_array[right_child_poped_idx]:\n",
        "                if self.heap_array[poped_idx] < self.heap_array[left_child_poped_idx]:\n",
        "                    return True\n",
        "                else:\n",
        "                    return False\n",
        "            else:\n",
        "                if self.heap_array[poped_idx] < self.heap_array[right_child_poped_idx]:\n",
        "                    return True\n",
        "                else:\n",
        "                    return False"
      ],
      "metadata": {
        "id": "YaWs9o6snGsr"
      },
      "execution_count": null,
      "outputs": []
    },
    {
      "cell_type": "code",
      "source": [
        "heap = Heap(15)\n",
        "heap.insert(10)\n",
        "heap.insert(8)\n",
        "heap.insert(5)\n",
        "heap.insert(4)\n",
        "heap.insert(20)\n",
        "heap.heap_array"
      ],
      "metadata": {
        "colab": {
          "base_uri": "https://localhost:8080/"
        },
        "id": "hQEDwO1ZxKir",
        "outputId": "b06b172b-0587-41c4-d7aa-a69b43772027"
      },
      "execution_count": null,
      "outputs": [
        {
          "output_type": "execute_result",
          "data": {
            "text/plain": [
              "[None, 20, 10, 15, 5, 4, 8]"
            ]
          },
          "metadata": {},
          "execution_count": 26
        }
      ]
    },
    {
      "cell_type": "code",
      "source": [
        "heap.pop()"
      ],
      "metadata": {
        "colab": {
          "base_uri": "https://localhost:8080/"
        },
        "id": "pVyBczBIxNoc",
        "outputId": "29c06a60-6329-49f5-9ecb-81e2c84c6b52"
      },
      "execution_count": null,
      "outputs": [
        {
          "output_type": "execute_result",
          "data": {
            "text/plain": [
              "20"
            ]
          },
          "metadata": {},
          "execution_count": 27
        }
      ]
    },
    {
      "cell_type": "code",
      "source": [
        "heap.heap_array"
      ],
      "metadata": {
        "colab": {
          "base_uri": "https://localhost:8080/"
        },
        "id": "CQH1_wCtxOho",
        "outputId": "853468e1-57f4-4a51-e276-7dfac36ef4c4"
      },
      "execution_count": null,
      "outputs": [
        {
          "output_type": "execute_result",
          "data": {
            "text/plain": [
              "[None, 15, 10, 8, 5, 4]"
            ]
          },
          "metadata": {},
          "execution_count": 28
        }
      ]
    },
    {
      "cell_type": "code",
      "source": [
        "heap.pop()"
      ],
      "metadata": {
        "colab": {
          "base_uri": "https://localhost:8080/"
        },
        "id": "QyOY-EDUxeeV",
        "outputId": "d68604ba-7d5f-4970-dfd7-0727827a60de"
      },
      "execution_count": null,
      "outputs": [
        {
          "output_type": "execute_result",
          "data": {
            "text/plain": [
              "15"
            ]
          },
          "metadata": {},
          "execution_count": 29
        }
      ]
    },
    {
      "cell_type": "code",
      "source": [
        "heap.heap_array"
      ],
      "metadata": {
        "colab": {
          "base_uri": "https://localhost:8080/"
        },
        "id": "JUo8sWgRxgwH",
        "outputId": "591c70de-46a9-47b6-dbcf-970860b981be"
      },
      "execution_count": null,
      "outputs": [
        {
          "output_type": "execute_result",
          "data": {
            "text/plain": [
              "[None, 10, 5, 8, 4]"
            ]
          },
          "metadata": {},
          "execution_count": 30
        }
      ]
    }
  ]
}