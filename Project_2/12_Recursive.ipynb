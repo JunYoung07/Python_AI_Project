{
  "nbformat": 4,
  "nbformat_minor": 0,
  "metadata": {
    "colab": {
      "provenance": [],
      "authorship_tag": "ABX9TyMiobpQD972s/pYSNMhMNH8",
      "include_colab_link": true
    },
    "kernelspec": {
      "name": "python3",
      "display_name": "Python 3"
    },
    "language_info": {
      "name": "python"
    }
  },
  "cells": [
    {
      "cell_type": "markdown",
      "metadata": {
        "id": "view-in-github",
        "colab_type": "text"
      },
      "source": [
        "<a href=\"https://colab.research.google.com/github/JunYoung07/Python_AI_Project/blob/main/12_Recursive.ipynb\" target=\"_parent\"><img src=\"https://colab.research.google.com/assets/colab-badge.svg\" alt=\"Open In Colab\"/></a>"
      ]
    },
    {
      "cell_type": "markdown",
      "source": [
        "# 1. 재귀 호출"
      ],
      "metadata": {
        "id": "7ZZTSG2yoGbd"
      }
    },
    {
      "cell_type": "markdown",
      "source": [
        "* 함수 안에서 동일한 함수를 호출하는 형태\n",
        "* 여러 알고리즘, 고급 정렬 알고리즘 작성 시 사용"
      ],
      "metadata": {
        "id": "3IvnMA8KpSdm"
      }
    },
    {
      "cell_type": "markdown",
      "source": [
        "### 1-1. 재귀 호출 분석"
      ],
      "metadata": {
        "id": "4uyYA_y5phO1"
      }
    },
    {
      "cell_type": "markdown",
      "source": [
        "* `2! = 1 * 2`\n",
        "* `3! = 1 * 2 * 3`\n",
        "* `4! = 1 * 2 * 3 * 4`"
      ],
      "metadata": {
        "id": "65n47jIypkRZ"
      }
    },
    {
      "cell_type": "markdown",
      "source": [
        "### 1-2. 규칙"
      ],
      "metadata": {
        "id": "_gS4SiUAptu8"
      }
    },
    {
      "cell_type": "markdown",
      "source": [
        "* `n! = n * (n-1)!`\n",
        "    * 함수로 만듬\n",
        "    * `함수(n)`은 `n > 1`이면 `return n * 함수(n-1)`\n",
        "    * `함수(n)`은 `n=1`이면 `return n`"
      ],
      "metadata": {
        "id": "5Hc6gU_fpwmQ"
      }
    },
    {
      "cell_type": "markdown",
      "source": [
        "### 1-3. 검증\n",
        "1. `2!`\n",
        "    * `함수(2)`이면 `2 > 1`이므로 `2*함수(1)`\n",
        "    * `함수(1)`은 1이므로 `return 2 * 1`, 답은 2\n",
        "2. `3!`\n",
        "    * `함수(3)`이면 `3 > 1`이므로 3*함수(2)\n",
        "    * `함수(2)`는 1번에 의해 `2!`이므로 2\n",
        "    * `3 * 함수(2)`, 답은 6\n"
      ],
      "metadata": {
        "id": "Q2aNOZmkqEHd"
      }
    },
    {
      "cell_type": "code",
      "source": [
        "# factorial 구현하기\n",
        "def factorial(num):\n",
        "    if num <= 1:\n",
        "        return num\n",
        "    return num * factorial(num-1)"
      ],
      "metadata": {
        "id": "3abwCQczqory"
      },
      "execution_count": 3,
      "outputs": []
    },
    {
      "cell_type": "code",
      "source": [
        "factorial(4)    # 4! = 24"
      ],
      "metadata": {
        "colab": {
          "base_uri": "https://localhost:8080/"
        },
        "id": "196-_WoFq0Mb",
        "outputId": "e3793949-ac4c-4a52-c32a-3c5cb04cc048"
      },
      "execution_count": 4,
      "outputs": [
        {
          "output_type": "execute_result",
          "data": {
            "text/plain": [
              "24"
            ]
          },
          "metadata": {},
          "execution_count": 4
        }
      ]
    },
    {
      "cell_type": "markdown",
      "source": [
        "### 1-4. 재귀호출의 시간복잡도\n",
        "* `factorial(n)`은 n-1번의 `factorial()`함수를 호출해서 곱셈\n",
        "    * n-1번 반복문을 호출한 것과 동일\n",
        "    * `factorial`함수를 호출할 때마다 지역변수 `n`이 생성\n",
        "    * 시간 복잡도는 O(n-1)이므로, O(n)"
      ],
      "metadata": {
        "id": "q4EgigTdq3EU"
      }
    },
    {
      "cell_type": "markdown",
      "source": [
        "### 1-5. 재귀호출의 전형적인 예\n",
        "* 함수는 내부적으로 **스택**처럼 관리\n",
        "* [코드분석]( http://pythontutor.com/live.html#code=%23%20factorial%20%ED%95%A8%EC%88%98%20%EC%95%88%EC%97%90%EC%84%9C%20factorial%20%ED%95%A8%EC%88%98%EB%A5%BC%20%ED%98%B8%EC%B6%9C%0Adef%20factorial%28num%29%3A%0A%20%20%20%20if%20num%20%3E%201%3A%0A%20%20%20%20%20%20%20%20return%20num%20*%20factorial%28num%20-%201%29%0A%20%20%20%20else%3A%0A%20%20%20%20%20%20%20%20return%20num%0A%0Afactorial%285%29&cumulative=false&curInstr=22&heapPrimitives=false&mode=display&origin=opt-live.js&py=3&rawInputLstJSON=%5B%5D&textReferences=false)  \n",
        "\n",
        "> 파이썬에서는 재귀함수의 깊이가 1000회 이하로 되어야 함"
      ],
      "metadata": {
        "id": "p0fgMa1trP7Q"
      }
    },
    {
      "cell_type": "markdown",
      "source": [
        "### 문제\n",
        "회문(순서를 거꾸로 읽어도 제대로 읽은 것과 같은 단어와 문장)을 판별할 수 있는 함수를 리스트 슬라이싱을 활용해 만들어보자\n",
        "* 재귀함수 활용\n",
        "* 회문이면 `True`, 아니면 `False`"
      ],
      "metadata": {
        "id": "pfcQVUSarWsJ"
      }
    },
    {
      "cell_type": "code",
      "source": [
        "# 회문 판별기\n",
        "def palindrome(string):\n",
        "    if len(string) <= 1:\n",
        "        return True\n",
        "    if string[0] == string[-1]:\n",
        "        return palindrome(string[1:-1])\n",
        "    return False"
      ],
      "metadata": {
        "id": "lt8PUvEBry8q"
      },
      "execution_count": 5,
      "outputs": []
    },
    {
      "cell_type": "code",
      "source": [
        "palindrome('별똥별')"
      ],
      "metadata": {
        "colab": {
          "base_uri": "https://localhost:8080/"
        },
        "id": "D4U4fzAWzkSK",
        "outputId": "036b5c77-a5ac-46b3-bff1-22b8dc9b851d"
      },
      "execution_count": 6,
      "outputs": [
        {
          "output_type": "execute_result",
          "data": {
            "text/plain": [
              "True"
            ]
          },
          "metadata": {},
          "execution_count": 6
        }
      ]
    },
    {
      "cell_type": "markdown",
      "source": [
        "### 문제\n",
        "정수 n을 입력받아 아래와 같이 처리하는 프로그램을 만들어보자.  \n",
        "1. n이 홀수면 $3×n+1$을 함\n",
        "2. n이 짝수면 $n / 2$을 함\n",
        "3. 이렇게 계속 진행해서 n이 결국 1이 될 때까지 1과 2를 반복"
      ],
      "metadata": {
        "id": "a2RBZlMGzly7"
      }
    },
    {
      "cell_type": "code",
      "source": [
        "# 재귀함수를 사용해 위 문제 구현\n",
        "def input_num(num):\n",
        "    print(num)\n",
        "    if num == 1:\n",
        "        return num\n",
        "    if num % 2 != 0:\n",
        "        return input_num(num*3 + 1)\n",
        "    else:\n",
        "        return input_num(num // 2)"
      ],
      "metadata": {
        "id": "KzR1ioEez_-u"
      },
      "execution_count": 11,
      "outputs": []
    },
    {
      "cell_type": "code",
      "source": [
        "input_num(3)"
      ],
      "metadata": {
        "colab": {
          "base_uri": "https://localhost:8080/"
        },
        "id": "w_dARQxY0l_v",
        "outputId": "0043c892-5cc6-482c-8330-aab83f7e1d3e"
      },
      "execution_count": 12,
      "outputs": [
        {
          "output_type": "stream",
          "name": "stdout",
          "text": [
            "3\n",
            "10\n",
            "5\n",
            "16\n",
            "8\n",
            "4\n",
            "2\n",
            "1\n"
          ]
        },
        {
          "output_type": "execute_result",
          "data": {
            "text/plain": [
              "1"
            ]
          },
          "metadata": {},
          "execution_count": 12
        }
      ]
    }
  ]
}