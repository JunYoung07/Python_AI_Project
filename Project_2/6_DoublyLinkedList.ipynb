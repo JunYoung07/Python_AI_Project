{
  "nbformat": 4,
  "nbformat_minor": 0,
  "metadata": {
    "colab": {
      "provenance": [],
      "authorship_tag": "ABX9TyNtCtWRzUYiFiH8bdcRcqhD",
      "include_colab_link": true
    },
    "kernelspec": {
      "name": "python3",
      "display_name": "Python 3"
    },
    "language_info": {
      "name": "python"
    }
  },
  "cells": [
    {
      "cell_type": "markdown",
      "metadata": {
        "id": "view-in-github",
        "colab_type": "text"
      },
      "source": [
        "<a href=\"https://colab.research.google.com/github/JunYoung07/Python_AI_Project/blob/main/6_DoublyLinkedList.ipynb\" target=\"_parent\"><img src=\"https://colab.research.google.com/assets/colab-badge.svg\" alt=\"Open In Colab\"/></a>"
      ]
    },
    {
      "cell_type": "markdown",
      "source": [
        "# 1. 더블 링크드 리스트(Doubly Linked List)"
      ],
      "metadata": {
        "id": "AUdHsyh_xMpP"
      }
    },
    {
      "cell_type": "markdown",
      "source": [
        "* 양방향으로 연결되어 있어서 노드 탐색이 양쪽으로 모두 가능\n",
        "* node  \n",
        "\n",
        "|pointer|value|pointer|\n",
        "|:---:|:---:|:---:|\n",
        "|prev ref|data|next ref|"
      ],
      "metadata": {
        "id": "vg-9D-BgxWFz"
      }
    },
    {
      "cell_type": "code",
      "source": [
        "class Node: # Node class 생성\n",
        "    def __init__(self, data, prev=None, next=None):\n",
        "        self.data = data\n",
        "        self.prev = prev\n",
        "        self.next = next"
      ],
      "metadata": {
        "id": "S6AJ48eKxmuS"
      },
      "execution_count": null,
      "outputs": []
    },
    {
      "cell_type": "code",
      "source": [
        "class NodeMgmt:\n",
        "    def __init__(self, data):\n",
        "        self.head = Node(data)\n",
        "        self.tail = self.head\n",
        "    def insert(self, data):     # 링크드 리스트에 노드 추가하기기\n",
        "        if self.head == None:\n",
        "            self.head = Node(data)\n",
        "            self.tail = self.head\n",
        "        else:\n",
        "            node = self.head\n",
        "            while node.next:\n",
        "                node = node.next    # Node의 꼬리 \n",
        "            new = Node(data)\n",
        "            node.next = new\n",
        "            new.prev = node\n",
        "            self.tail = new\n",
        "            '''\n",
        "            node = self.tail\n",
        "            new = Node(data)\n",
        "            node.next = new\n",
        "            new.prev = node\n",
        "            self.tail = new\n",
        "            '''\n",
        "    def node_print(self):\n",
        "        node = self.head\n",
        "        while node:\n",
        "            print(f'{node.data} ->>', end=' ')\n",
        "            node = node.next\n",
        "        print('NULL')\n",
        "\n",
        "    def insert_before(self, data, after_data):\n",
        "        node = self.head\n",
        "        while node:\n",
        "            if node.data == after_data:\n",
        "                break\n",
        "            else:\n",
        "                node = node.next\n",
        "        temp = node.prev\n",
        "        new = Node(data)\n",
        "        temp.next = new\n",
        "        new.prev = temp\n",
        "        node.prev = new\n",
        "        new.next = node\n",
        "\n",
        "    def search_from_head(self, data):\n",
        "        if self.head == None:\n",
        "            return False\n",
        "        node = self.head\n",
        "        while node:\n",
        "            if node.data == data:\n",
        "                return node.data\n",
        "            else:\n",
        "                node = node.next\n",
        "        return False\n",
        "\n",
        "    def search_from_tail(self, data):\n",
        "        if self.head == None:\n",
        "            return False\n",
        "        node = self.tail\n",
        "        while node:\n",
        "            if node.data == data:\n",
        "                return node.data\n",
        "            else:\n",
        "                node = node.prev\n",
        "        return False"
      ],
      "metadata": {
        "id": "cJh3-T83xymr"
      },
      "execution_count": null,
      "outputs": []
    },
    {
      "cell_type": "code",
      "source": [
        "double_linked_list = NodeMgmt(0)\n",
        "for data in range(1, 11):\n",
        "    double_linked_list.insert(data)\n",
        "double_linked_list.node_print()"
      ],
      "metadata": {
        "colab": {
          "base_uri": "https://localhost:8080/"
        },
        "id": "V0BxxRADze4v",
        "outputId": "38403fec-679c-47a4-b933-2c1ff6dfa137"
      },
      "execution_count": null,
      "outputs": [
        {
          "output_type": "stream",
          "name": "stdout",
          "text": [
            "0 ->> 1 ->> 2 ->> 3 ->> 4 ->> 5 ->> 6 ->> 7 ->> 8 ->> 9 ->> 10 ->> NULL\n"
          ]
        }
      ]
    },
    {
      "cell_type": "code",
      "source": [
        "double_linked_list.insert_before(2.5, 3)\n",
        "double_linked_list.node_print()"
      ],
      "metadata": {
        "colab": {
          "base_uri": "https://localhost:8080/"
        },
        "id": "hYnkn8qVziTB",
        "outputId": "cd74678e-078f-43ee-bae1-4d26d79acffa"
      },
      "execution_count": null,
      "outputs": [
        {
          "output_type": "stream",
          "name": "stdout",
          "text": [
            "0 ->> 1 ->> 2 ->> 2.5 ->> 3 ->> 4 ->> 5 ->> 6 ->> 7 ->> 8 ->> 9 ->> 10 ->> NULL\n"
          ]
        }
      ]
    },
    {
      "cell_type": "code",
      "source": [
        "double_linked_list.search_from_head(11)"
      ],
      "metadata": {
        "colab": {
          "base_uri": "https://localhost:8080/"
        },
        "id": "IBYGOvlt8pYX",
        "outputId": "5c4707ba-023a-4f6a-ee2a-56c73bfe61b9"
      },
      "execution_count": null,
      "outputs": [
        {
          "output_type": "execute_result",
          "data": {
            "text/plain": [
              "False"
            ]
          },
          "metadata": {},
          "execution_count": 22
        }
      ]
    },
    {
      "cell_type": "code",
      "source": [
        "double_linked_list.search_from_head(5)"
      ],
      "metadata": {
        "colab": {
          "base_uri": "https://localhost:8080/"
        },
        "id": "N4k51YK88uh4",
        "outputId": "b6dbfa3c-9a36-45be-a8d6-e3f9e9b5414e"
      },
      "execution_count": null,
      "outputs": [
        {
          "output_type": "execute_result",
          "data": {
            "text/plain": [
              "5"
            ]
          },
          "metadata": {},
          "execution_count": 23
        }
      ]
    },
    {
      "cell_type": "code",
      "source": [
        "double_linked_list.search_from_tail(4)"
      ],
      "metadata": {
        "colab": {
          "base_uri": "https://localhost:8080/"
        },
        "id": "YVlEtGet82tx",
        "outputId": "c2b3de9c-285d-4674-db30-9e11ac6a99f9"
      },
      "execution_count": null,
      "outputs": [
        {
          "output_type": "execute_result",
          "data": {
            "text/plain": [
              "4"
            ]
          },
          "metadata": {},
          "execution_count": 24
        }
      ]
    },
    {
      "cell_type": "code",
      "source": [
        "double_linked_list.search_from_tail(14)"
      ],
      "metadata": {
        "colab": {
          "base_uri": "https://localhost:8080/"
        },
        "id": "7QvyPHuQ88I0",
        "outputId": "6083a34e-0200-4c2d-fa2b-bf0d4d468ec6"
      },
      "execution_count": null,
      "outputs": [
        {
          "output_type": "execute_result",
          "data": {
            "text/plain": [
              "False"
            ]
          },
          "metadata": {},
          "execution_count": 25
        }
      ]
    }
  ]
}