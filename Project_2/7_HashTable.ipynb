{
  "nbformat": 4,
  "nbformat_minor": 0,
  "metadata": {
    "colab": {
      "provenance": [],
      "toc_visible": true,
      "authorship_tag": "ABX9TyNa0iwe4LBm3PfLwTpdCeHf",
      "include_colab_link": true
    },
    "kernelspec": {
      "name": "python3",
      "display_name": "Python 3"
    },
    "language_info": {
      "name": "python"
    }
  },
  "cells": [
    {
      "cell_type": "markdown",
      "metadata": {
        "id": "view-in-github",
        "colab_type": "text"
      },
      "source": [
        "<a href=\"https://colab.research.google.com/github/JunYoung07/Python_AI_Project/blob/main/7_HashTable.ipynb\" target=\"_parent\"><img src=\"https://colab.research.google.com/assets/colab-badge.svg\" alt=\"Open In Colab\"/></a>"
      ]
    },
    {
      "cell_type": "markdown",
      "source": [
        "# 1. 해쉬 테이블(Hash Table)"
      ],
      "metadata": {
        "id": "ldei-tUWNLFB"
      }
    },
    {
      "cell_type": "markdown",
      "source": [
        "* 키(key)에 데이터(value)를 저장하는 데이터 구조\n",
        "* 파이썬에서는 딕셔너리(dic)타입이 해쉬 테이블의 예\n",
        "* key를 통해서 데이터를 바로 찾을 수 있으므로 검색 속도가 빠름\n",
        "* 보통 배열로 미리 Hash Table 사이즈 만큼 생성 후 사용"
      ],
      "metadata": {
        "id": "pQlNLl8lNTNA"
      }
    },
    {
      "cell_type": "markdown",
      "source": [
        "## 1-2. 용어"
      ],
      "metadata": {
        "id": "7f1b-7DcNfNX"
      }
    },
    {
      "cell_type": "markdown",
      "source": [
        "* **해쉬**(Hash): 임의의 값을 고정 길이로 변환\n",
        "* **해쉬 테이블**(Hash Table): 키 값의 연산에 의해 직접 접근이 가능한 데이터 구조\n",
        "* **해쉬 함수**(Hashing Function): key에 대한 산술 연산을 이용해 데이터 위치를 찾을 수 있는 함수\n",
        "* **해쉬 값**(Hash value) 혹은 **해쉬 주소**(Hash Address): key를 해싱 함수로 연산해서 해쉬 값을 알아내고 이를 기반으로 해쉬 테이블에 해당 key에 대한 데이터 위치를 일관성있게 찾을 수 있다.\n",
        "* **슬롯**(slot): 한 개의 데이터를 저장할 수 있는 공간"
      ],
      "metadata": {
        "id": "zFOFpkP8Ng3_"
      }
    },
    {
      "cell_type": "markdown",
      "source": [
        "## 1-3. 간단한 해쉬 구현"
      ],
      "metadata": {
        "id": "vK6TOJBLODED"
      }
    },
    {
      "cell_type": "code",
      "source": [
        "# slot 생성하기\n",
        "hash_table = [0 for _ in range(10)] # value가 저장될 공간이며 미리 크기를 지정\n",
        "hash_table"
      ],
      "metadata": {
        "id": "E4RnfDMwOG-D",
        "colab": {
          "base_uri": "https://localhost:8080/"
        },
        "outputId": "a505f5fd-b0ad-442a-e55a-1a88d0ac1fcc"
      },
      "execution_count": null,
      "outputs": [
        {
          "output_type": "execute_result",
          "data": {
            "text/plain": [
              "[0, 0, 0, 0, 0, 0, 0, 0, 0, 0]"
            ]
          },
          "metadata": {},
          "execution_count": 1
        }
      ]
    },
    {
      "cell_type": "code",
      "source": [
        "# hashing function 생성\n",
        "def hash_func(key): # value가 저장될 slot내의 공간 지정\n",
        "    return key % 10"
      ],
      "metadata": {
        "id": "XKLFH3VxOXyR"
      },
      "execution_count": null,
      "outputs": []
    },
    {
      "cell_type": "code",
      "source": [
        "# 해쉬 테이블 저장하기\n",
        "# key의 생성 방법정의\n",
        "data1 = 'apple'\n",
        "data2 = 'banana'\n",
        "data3 = 'orange'\n",
        "data4 = 'melon'\n",
        "\n",
        "# ord(): 문자의 ASCII코드 반환\n",
        "ord(data1[0]), ord(data2[0]), ord(data3[0]), ord(data4[0])"
      ],
      "metadata": {
        "colab": {
          "base_uri": "https://localhost:8080/"
        },
        "id": "g9Nz9AU3Ol8Z",
        "outputId": "a57e0e84-cc79-4738-90d6-c95530fc98fe"
      },
      "execution_count": null,
      "outputs": [
        {
          "output_type": "execute_result",
          "data": {
            "text/plain": [
              "(97, 98, 111, 109)"
            ]
          },
          "metadata": {},
          "execution_count": 3
        }
      ]
    },
    {
      "cell_type": "code",
      "source": [
        "# hashing function에 적용\n",
        "hash_func(ord(data1[0])), hash_func(ord(data2[0])), hash_func(ord(data3[0])), hash_func(ord(data4[0])) "
      ],
      "metadata": {
        "colab": {
          "base_uri": "https://localhost:8080/"
        },
        "id": "mvBOUs9QPWgd",
        "outputId": "cf52100f-7a40-4f9c-b507-f86d3292d16a"
      },
      "execution_count": null,
      "outputs": [
        {
          "output_type": "execute_result",
          "data": {
            "text/plain": [
              "(7, 8, 1, 9)"
            ]
          },
          "metadata": {},
          "execution_count": 4
        }
      ]
    },
    {
      "cell_type": "code",
      "source": [
        "# hashing function을 통해 반환받은 값을 slot에 저장\n",
        "def storage_data(data, value):\n",
        "    key = ord(data[0])\n",
        "    hash_address = hash_func(key)\n",
        "    hash_table[hash_address] = value"
      ],
      "metadata": {
        "id": "h1GFrPj_PkTE"
      },
      "execution_count": null,
      "outputs": []
    },
    {
      "cell_type": "code",
      "source": [
        "storage_data('apple', '010-1111-1111')\n",
        "hash_table"
      ],
      "metadata": {
        "colab": {
          "base_uri": "https://localhost:8080/"
        },
        "id": "b8fuNP9jP8-f",
        "outputId": "f53bc5e7-2948-42ed-a9c0-acf90a2d32a8"
      },
      "execution_count": null,
      "outputs": [
        {
          "output_type": "execute_result",
          "data": {
            "text/plain": [
              "[0, 0, 0, 0, 0, 0, 0, '010-1111-1111', 0, 0]"
            ]
          },
          "metadata": {},
          "execution_count": 6
        }
      ]
    },
    {
      "cell_type": "code",
      "source": [
        "storage_data('banana', '010-2222-2222')\n",
        "storage_data('orange', '010-3333-3333')\n",
        "storage_data('melon', '010-4444-4444')\n",
        "hash_table"
      ],
      "metadata": {
        "colab": {
          "base_uri": "https://localhost:8080/"
        },
        "id": "1YfU7AzpQBCR",
        "outputId": "5d94fec6-9d6c-4e5a-a9b6-55eb0b0387ee"
      },
      "execution_count": null,
      "outputs": [
        {
          "output_type": "execute_result",
          "data": {
            "text/plain": [
              "[0,\n",
              " '010-3333-3333',\n",
              " 0,\n",
              " 0,\n",
              " 0,\n",
              " 0,\n",
              " 0,\n",
              " '010-1111-1111',\n",
              " '010-2222-2222',\n",
              " '010-4444-4444']"
            ]
          },
          "metadata": {},
          "execution_count": 7
        }
      ]
    },
    {
      "cell_type": "code",
      "source": [
        "# hash(): data의 고윳값 반환\n",
        "hash('apple')"
      ],
      "metadata": {
        "colab": {
          "base_uri": "https://localhost:8080/"
        },
        "id": "e1LQWEFCQC9p",
        "outputId": "362f0e7e-4b98-4491-e743-56573ac87043"
      },
      "execution_count": null,
      "outputs": [
        {
          "output_type": "execute_result",
          "data": {
            "text/plain": [
              "-5936525303010759111"
            ]
          },
          "metadata": {},
          "execution_count": 8
        }
      ]
    },
    {
      "cell_type": "code",
      "source": [
        "def get_key(data):\n",
        "    return hash(data)\n",
        "\n",
        "def hash_func(key):\n",
        "    return key % 10\n",
        "\n",
        "def save_data(data, value):\n",
        "    hash_address = hash_func(get_key(data))\n",
        "    hash_table[hash_address] = value\n",
        "\n",
        "def read_data(data):\n",
        "    hash_address = hash_func(get_key(data))\n",
        "    return hash_table[hash_address]"
      ],
      "metadata": {
        "id": "hSAgDBcGQKig"
      },
      "execution_count": null,
      "outputs": []
    },
    {
      "cell_type": "code",
      "source": [
        "hash_table = [0 for _ in range(10)]"
      ],
      "metadata": {
        "id": "mzRPomJnQtZ-"
      },
      "execution_count": null,
      "outputs": []
    },
    {
      "cell_type": "code",
      "source": [
        "save_data('apple', '010-1111-1111')\n",
        "hash_table"
      ],
      "metadata": {
        "colab": {
          "base_uri": "https://localhost:8080/"
        },
        "id": "mMJW9wQlQx2N",
        "outputId": "33beb215-7b7d-4033-f339-f93577146c56"
      },
      "execution_count": null,
      "outputs": [
        {
          "output_type": "execute_result",
          "data": {
            "text/plain": [
              "[0, 0, 0, 0, 0, 0, 0, 0, 0, '010-1111-1111']"
            ]
          },
          "metadata": {},
          "execution_count": 11
        }
      ]
    },
    {
      "cell_type": "code",
      "source": [
        "read_data('apple')"
      ],
      "metadata": {
        "colab": {
          "base_uri": "https://localhost:8080/",
          "height": 35
        },
        "id": "nZWrIBRsQ21U",
        "outputId": "7c342f3a-3184-4fe9-daef-beb4658ed29b"
      },
      "execution_count": null,
      "outputs": [
        {
          "output_type": "execute_result",
          "data": {
            "text/plain": [
              "'010-1111-1111'"
            ],
            "application/vnd.google.colaboratory.intrinsic+json": {
              "type": "string"
            }
          },
          "metadata": {},
          "execution_count": 12
        }
      ]
    },
    {
      "cell_type": "markdown",
      "source": [
        "# 2. 해쉬 테이블의 장단점"
      ],
      "metadata": {
        "id": "uipiBWlk4Fst"
      }
    },
    {
      "cell_type": "markdown",
      "source": [
        "* **장점**\n",
        "    * 데이터 저장 및 읽기 속도가 빠름(검색 속도가 빠름)\n",
        "    * 해쉬는 키에 대한 데이터가 있는 지 확인 쉬움\n",
        "* **단점**\n",
        "    * 저장공간이 많이 필요함(키도 저장해야 하기 때문에)\n",
        "    * 여러 키에 해당하는 주소가 동일한 경우 충돌을 해결하기 위한 별도의 자료구조가 필요하다"
      ],
      "metadata": {
        "id": "cwFBEz4c4JRx"
      }
    },
    {
      "cell_type": "markdown",
      "source": [
        "# 3. 충돌(Collision) 해결 알고리즘"
      ],
      "metadata": {
        "id": "xMUF6npQ4lzI"
      }
    },
    {
      "cell_type": "markdown",
      "source": [
        "### 3-1. Linear Probling 기법\n",
        "* 폐쇄 해싱 또는 Close Hashing 기법 중 하나\n",
        "* 해쉬 테이블 저장공간 안에서 충돌 문제를 해결하는 기법\n",
        "* 충돌이 일어나면 해당 hash address의 다음 address부터 맨 처음 나오는 빈 공간에 저장하는 기법(충분한 `slot`을 미리 확보해 두는 것이 좋다)\n",
        "* 저장공간 활용도를 높이기 위한 방법"
      ],
      "metadata": {
        "id": "NdHSeB6X4yXJ"
      }
    },
    {
      "cell_type": "code",
      "source": [
        "# Linear Probling\n",
        "# set list\n",
        "hash_table = [0 for _ in range(10)]"
      ],
      "metadata": {
        "id": "PiQ9M-qx5JkK"
      },
      "execution_count": null,
      "outputs": []
    },
    {
      "cell_type": "code",
      "source": [
        "# 해쉬 값 얻어내기\n",
        "def get_key(data):\n",
        "    return hash(data)\n",
        "\n",
        "# Hashing function\n",
        "def hash_function(key):\n",
        "    return key % 8\n",
        "\n",
        "# data 저장하기\n",
        "def save_data(data, value):\n",
        "    pass"
      ],
      "metadata": {
        "id": "SDf4lp535SnG"
      },
      "execution_count": null,
      "outputs": []
    },
    {
      "cell_type": "code",
      "source": [
        "# save data 구현하기 (Linear Probling기법)\n",
        "def save_data(data, value):\n",
        "    index_key = get_key(data)\n",
        "    hash_address = hash_function(index_key)\n",
        "    \n",
        "    if hash_table[hash_address] != 0:\n",
        "        for index in range(hash_address, len(hash_address)):   \n",
        "            if hash_table[index] == 0:  # data가 0인 위치까지 찾아가서 데이터 저장\n",
        "                hash_table[index] = [index_key, value]\n",
        "                return\n",
        "            elif hash_table[index][0] == index_key: # index_key가 겹치는 경우 value값을 바꿔준다.\n",
        "                hash_table[index][1] = value\n",
        "                return\n",
        "    else:\n",
        "        hash_table[hash_address] = [index_key, value]\n",
        "\n",
        "def read_data(data):\n",
        "    index_key = get_key(data)\n",
        "    hash_address = hash_function(index_key)\n",
        "\n",
        "    if hash_table[hash_address] != 0:\n",
        "        for index in range(hash_address, len(hash_table)):\n",
        "            if hash_table[index] == 0:\n",
        "                return None\n",
        "            elif hash_table[index][0] == index_key:\n",
        "                return hash_table[index][1]\n",
        "    else:\n",
        "        return None"
      ],
      "metadata": {
        "id": "6ictAnbp5jk8"
      },
      "execution_count": 1,
      "outputs": []
    },
    {
      "cell_type": "markdown",
      "source": [
        "### 3-2. Chaining 기법\n",
        "* 개방 해쉬 또는 Open hashing기법 중 하나\n",
        "* 해쉬 테이블 저장공간 이외에 공간을 활용하는 방법\n",
        "* 충돌이 일어나면 링크드 리스트 자료구조를 사용해서 링크드 리스트로 데이터를 추가로 뒤에 연결시켜 저장하는 기법"
      ],
      "metadata": {
        "id": "mhueOI-FAq3e"
      }
    },
    {
      "cell_type": "code",
      "source": [
        "hash_table = list([0 for _ in range(10)])"
      ],
      "metadata": {
        "id": "IgqPn-mZA6PH"
      },
      "execution_count": 2,
      "outputs": []
    },
    {
      "cell_type": "code",
      "source": [
        "# Chaining 기법 구현하기\n",
        "def get_key(data):\n",
        "    return hash(data)\n",
        "\n",
        "def hash_function(key):\n",
        "    return key % 10\n",
        "\n",
        "def save_data(data, value):\n",
        "    index_key = get_key(data)\n",
        "    hash_address = hash_function(index_key)\n",
        "\n",
        "    if hash_table[hash_address] != 0:\n",
        "        for index in range(len(hash_table[hash_address])):\n",
        "            if hash_table[hash_address][0] == index_key:\n",
        "                hash_table[hash_address][1] = value\n",
        "                return  \n",
        "        hash_table[hash_address].append([index_key, value])\n",
        "    \n",
        "    else:\n",
        "        hash_table[hash_address] = [[index_key, value]]\n",
        "\n",
        "def read_data(data):\n",
        "    index_key = get_key(data)\n",
        "    hash_address = hash_function(index_key)\n",
        "\n",
        "    if hash_table[hash_address] != 0:\n",
        "        for index in range(len(hash_table[hash_address])):\n",
        "            if hash_table[hash_address][index][0] == index_key:\n",
        "                return hash_table[hash_address][index][1]\n",
        "\n",
        "    else:\n",
        "        return None"
      ],
      "metadata": {
        "id": "kM69by9OA9ns"
      },
      "execution_count": null,
      "outputs": []
    },
    {
      "cell_type": "markdown",
      "source": [
        "# 4. 해쉬 함수와 키 생성 함수"
      ],
      "metadata": {
        "id": "iveddCClCKNp"
      }
    },
    {
      "cell_type": "markdown",
      "source": [
        "* SHA(Secure Hash Algorithm, 안전한 해쉬 알고리즘)와 같은 유명한 해쉬 알고리즘도 많이 사용\n",
        "* 어떤 데이터도 유일한 고정된 크기의 고정값을 리턴해주므로 해쉬 함수로 유용하게 활용할 수 있다.\n",
        "* 다시 예전의 값으로 되돌릴 수 없다.(단방향)"
      ],
      "metadata": {
        "id": "mHfpgMsoCSVv"
      }
    },
    {
      "cell_type": "markdown",
      "source": [
        "### 4-1. SHA-1"
      ],
      "metadata": {
        "id": "JaC5UX_mCgq0"
      }
    },
    {
      "cell_type": "markdown",
      "source": [
        "* 임의의 길이의 입력데이터 최대 160비트(20바이트, 16진수 40자리)의 출력데이터(해시값)로 바꿈\n",
        "* 파이썬의 `hash()`함수는 환경에 따라 값이 달라질 수 있다.\n",
        "* 파이썬의 SHA시리즈는 환경이 달라도 값이 같다"
      ],
      "metadata": {
        "id": "h3e1DZczCjIj"
      }
    },
    {
      "cell_type": "markdown",
      "source": [
        "### ✅컴퓨터의 용량 단위\n",
        "* 1bit: 0 또는 1\n",
        "* 1byte: 8bit\n",
        "* 1KB: 1024byte\n",
        "* 1MB: 1024KB\n",
        "* 1GB: 1024MB\n",
        "* 1TB: 1024GB\n",
        "* 1PB: 1024TB"
      ],
      "metadata": {
        "id": "BGs-KWG-Cwch"
      }
    },
    {
      "cell_type": "code",
      "source": [
        "import hashlib\n",
        "\n",
        "data = 'test'.encode()  # test 문자열을 바이트 단위로 변환\n",
        "print(data)\n",
        "hash_object=  hashlib.sha1()\n",
        "hash_object.update(data)    # sha-1객체로 data를 읽어옴\n",
        "hex_dig = hash_object.hexdigest()   # 16진수의 고정된 해쉬 값 발생\n",
        "print(hex_dig)\n",
        "print(int(hex_dig, 16)) # 16진수를 10진수로 변환"
      ],
      "metadata": {
        "colab": {
          "base_uri": "https://localhost:8080/"
        },
        "id": "WagZteIOC3-Z",
        "outputId": "3b208a0c-0016-4878-ec5b-149686eb7a38"
      },
      "execution_count": 4,
      "outputs": [
        {
          "output_type": "stream",
          "name": "stdout",
          "text": [
            "b'test'\n",
            "a94a8fe5ccb19ba61c4c0873d391e987982fbbd3\n",
            "966482230667555116936258103322711973649032657875\n"
          ]
        }
      ]
    },
    {
      "cell_type": "markdown",
      "source": [
        "### 4-2. SHA-256\n",
        "* SHA 알고리즘의 한 종류로 256비트로 구성되어 64자리 문자열 반환\n",
        "* SHA-2 계열 중 하나이며 블록체인에서 가장 많이 채택하여 사용"
      ],
      "metadata": {
        "id": "gLgvkvKJDEmw"
      }
    },
    {
      "cell_type": "code",
      "source": [
        "import hashlib\n",
        "\n",
        "data = 'test'.encode()\n",
        "hash_object = hashlib.sha256()\n",
        "hash_object.update(data)\n",
        "hex_dig = hash_object.hexdigest()\n",
        "print(hex_dig)\n",
        "print(int(hex_dig, 16))"
      ],
      "metadata": {
        "colab": {
          "base_uri": "https://localhost:8080/"
        },
        "id": "g33YAdFgDtTO",
        "outputId": "c11e666d-e27b-4110-e2de-f9ec16a28b77"
      },
      "execution_count": 5,
      "outputs": [
        {
          "output_type": "stream",
          "name": "stdout",
          "text": [
            "9f86d081884c7d659a2feaa0c55ad015a3bf4f1b2b0b822cd15d6c15b0f00a08\n",
            "72155939486846849509759369733266486982821795810448245423168957390607644363272\n"
          ]
        }
      ]
    },
    {
      "cell_type": "markdown",
      "source": [
        "### 문제\n",
        "Chaining 기법을 적용한 해쉬 테이블 코드에 키 생성함수 sha256을 사용해 해쉬 알고리즘을 사용하도록 변경해보자  \n",
        "1. 해쉬함수: key%8\n",
        "2. 해쉬 키 생성: sha256"
      ],
      "metadata": {
        "id": "ryd-6rJ_D8fU"
      }
    },
    {
      "cell_type": "code",
      "source": [
        "# 해쉬 라이브러리 임포트\n",
        "import hashlib\n",
        "\n",
        "# slot생성\n",
        "hash_table = [0 for _ in range(8)]\n",
        "\n",
        "# 키 값 생성\n",
        "def get_key(data):\n",
        "    hash_object = hashlib.sha256()\n",
        "    hash_object.update(data.encode())\n",
        "    hex_dig = hash_object.hexdigest()\n",
        "    return int(hex_dig, 16)\n",
        "\n",
        "def hash_function(key):\n",
        "    return key%8\n",
        "\n",
        "# Chaining 기법을 활용한 해쉬 데이터 저장\n",
        "def save_data(data, value):\n",
        "    index_key = get_key(data)\n",
        "    hash_address = hash_function(index_key)\n",
        "\n",
        "    if hash_table[hash_address] != 0:\n",
        "        for index in range(len(hash_table[hash_address])):\n",
        "            if hash_table[hash_address][index][0] == index_key:\n",
        "                hash_table[hash_address][index][1] = value\n",
        "                return\n",
        "        hash_table[hash_address].append([index_key, value])\n",
        "    \n",
        "    else:\n",
        "        hash_table[hash_address] = [[index_key, value]]\n",
        "\n",
        "def read_data(data):\n",
        "    index_key = get_key(data)\n",
        "    hash_address = hash_function(index_key)\n",
        "\n",
        "    if hash_table[hash_address] != 0:\n",
        "        for index in range(len(hash_table[hash_address])):\n",
        "            if hash_table[hash_address][index][0] == index_key:\n",
        "                return hash_table[hash_address][index][1]\n",
        "    else:\n",
        "        return None"
      ],
      "metadata": {
        "id": "xXMO_rJNEQcM"
      },
      "execution_count": 7,
      "outputs": []
    },
    {
      "cell_type": "code",
      "source": [
        "save_data(\"apple\", 1)   # collision\n",
        "save_data(\"banana\", 2)  # collision\n",
        "save_data(\"melon\", 3)   # collision\n",
        "save_data(\"carot\", 4)\n",
        "save_data(\"banana\", 5)\n",
        "hash_table"
      ],
      "metadata": {
        "colab": {
          "base_uri": "https://localhost:8080/"
        },
        "id": "3moAnMgCEjcI",
        "outputId": "7e10bde9-482a-4a49-c255-0ecd2f2ef9d2"
      },
      "execution_count": 8,
      "outputs": [
        {
          "output_type": "execute_result",
          "data": {
            "text/plain": [
              "[0,\n",
              " 0,\n",
              " 0,\n",
              " [[26452929773915387181124022930352263286101059613432915788569047929437325971227,\n",
              "   1]],\n",
              " 0,\n",
              " 0,\n",
              " [[81677505976092492256788526045794788656350341275302681754807117191827310239310,\n",
              "   5],\n",
              "  [75550941601306549953848416383947270363531252541484026999090159208690076013822,\n",
              "   4]],\n",
              " [[75635856040252375081268883667212387409410230564410600651936135151777611054631,\n",
              "   3]]]"
            ]
          },
          "metadata": {},
          "execution_count": 8
        }
      ]
    }
  ]
}