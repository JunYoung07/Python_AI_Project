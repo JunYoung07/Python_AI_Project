{
  "nbformat": 4,
  "nbformat_minor": 0,
  "metadata": {
    "colab": {
      "provenance": [],
      "authorship_tag": "ABX9TyNtXt3pgPqCGRy1CyFrvjWn",
      "include_colab_link": true
    },
    "kernelspec": {
      "name": "python3",
      "display_name": "Python 3"
    },
    "language_info": {
      "name": "python"
    }
  },
  "cells": [
    {
      "cell_type": "markdown",
      "metadata": {
        "id": "view-in-github",
        "colab_type": "text"
      },
      "source": [
        "<a href=\"https://colab.research.google.com/github/JunYoung07/Python_AI_Project/blob/main/13_Dynamic_Programming.ipynb\" target=\"_parent\"><img src=\"https://colab.research.google.com/assets/colab-badge.svg\" alt=\"Open In Colab\"/></a>"
      ]
    },
    {
      "cell_type": "markdown",
      "source": [
        "# 1. 동적 계획법(Dynaminc Programming)"
      ],
      "metadata": {
        "id": "N_58v1el0_-T"
      }
    },
    {
      "cell_type": "markdown",
      "source": [
        "* 입력 크기가 작은 부분 문제들을 해결한 후 해당 부분 문제의 값을 활용해서 보다 큰 크기의 부분 문제를 해결하고, 최종적으로 전체 문제를 해결하는 알고리즘\n",
        "* **상향식 접근법**(최하위 해답을 구한 후 해당 결과를 이용해 상위 문제를 풀어가는 방식)\n",
        "* 프로그램 실행 시 이전의 계산한 값을 저장하여 다시 게산하지 않도록 전체 실행 속도를 빠르게 하는 기술(메모이제이션: Memoization)을 사용\n",
        "* 문제를 잘게 쪼갤 때, 부분 문제는 중복되기 때문에 재활용 (예: 피보나치 수열)"
      ],
      "metadata": {
        "id": "PVGlONyC1NdJ"
      }
    },
    {
      "cell_type": "markdown",
      "source": [
        "# 2. 동적 계획법 알고리즘"
      ],
      "metadata": {
        "id": "eCxyZScv1odC"
      }
    },
    {
      "cell_type": "markdown",
      "source": [
        "* 피보나치 수열 n을 입력받아서 아래와 같이 계산\n",
        "* [피보나치 수열](https://namu.wiki/w/%ED%94%BC%EB%B3%B4%EB%82%98%EC%B9%98%20%EC%88%98%EC%97%B4)  "
      ],
      "metadata": {
        "id": "U8F-l_PI1rcc"
      }
    },
    {
      "cell_type": "code",
      "source": [
        "# 피보나치 수열 구현\n",
        "def fibonacci(num):\n",
        "    if num <= 1:\n",
        "        return num\n",
        "    return fibonacci(num-1) + fibonacci(num-2)"
      ],
      "metadata": {
        "id": "mHBLZIXG1xqo"
      },
      "execution_count": 1,
      "outputs": []
    },
    {
      "cell_type": "code",
      "source": [
        "fibonacci(6)"
      ],
      "metadata": {
        "colab": {
          "base_uri": "https://localhost:8080/"
        },
        "id": "4NJgDGv819Bw",
        "outputId": "e0389203-1f3c-4072-93ba-83f89aa9cf05"
      },
      "execution_count": 3,
      "outputs": [
        {
          "output_type": "execute_result",
          "data": {
            "text/plain": [
              "8"
            ]
          },
          "metadata": {},
          "execution_count": 3
        }
      ]
    },
    {
      "cell_type": "code",
      "source": [
        "# 동적 계획법을 활용한 피보나치 수열 구현\n",
        "def fibonacci(num):\n",
        "    cache = [0 for _ in range(num + 1)]\n",
        "    cache[0] = 0\n",
        "    cache[1] = 1\n",
        "\n",
        "    for index in range(2, num+1):\n",
        "        cache[index] = cache[index-1] + cache[index-2]\n",
        "    return cache[num]"
      ],
      "metadata": {
        "id": "cW61JD8-1-qq"
      },
      "execution_count": 8,
      "outputs": []
    },
    {
      "cell_type": "code",
      "source": [
        "fibonacci(6)"
      ],
      "metadata": {
        "colab": {
          "base_uri": "https://localhost:8080/"
        },
        "id": "86mw0QMW2pof",
        "outputId": "832619d5-a3f2-4fbc-89af-e7663339013e"
      },
      "execution_count": 9,
      "outputs": [
        {
          "output_type": "execute_result",
          "data": {
            "text/plain": [
              "8"
            ]
          },
          "metadata": {},
          "execution_count": 9
        }
      ]
    },
    {
      "cell_type": "markdown",
      "source": [
        "### 문제(boj)\n",
        "2$×$n 크기의 직사각형을 1$\\times$2, 2$\\times$1 타일로 채우는 방법의 수를 구하는 프로그램을 작성하시오"
      ],
      "metadata": {
        "id": "rku_JDOb2q1c"
      }
    },
    {
      "cell_type": "code",
      "source": [
        "tile = [0 for index in range(1001)]\n",
        "tile[1] = 1\n",
        "tile[2] = 2\n",
        "\n",
        "n = int(input())\n",
        "for index in range(3, 1001):\n",
        "    tile[index] = tile[index-1] + tile[index-2]\n",
        "print(tile[n] % 10007)"
      ],
      "metadata": {
        "colab": {
          "base_uri": "https://localhost:8080/"
        },
        "id": "15JcWtvC3D0s",
        "outputId": "e18dd9a5-b4f0-43a2-d95b-14149ac99bdc"
      },
      "execution_count": 10,
      "outputs": [
        {
          "output_type": "stream",
          "name": "stdout",
          "text": [
            "9\n",
            "55\n"
          ]
        }
      ]
    },
    {
      "cell_type": "markdown",
      "source": [
        "> 일반적인 동적 계획법 문제는 가장 적은 경우의 수부터 계산 해본 후, 패턴을 찾아 식을 세우는 것이 핵심"
      ],
      "metadata": {
        "id": "NwdTB9aI3VdG"
      }
    }
  ]
}