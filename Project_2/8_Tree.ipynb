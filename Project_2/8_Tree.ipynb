{
  "nbformat": 4,
  "nbformat_minor": 0,
  "metadata": {
    "colab": {
      "provenance": [],
      "authorship_tag": "ABX9TyOg5cu/R7uDV9eywBx0Dwgg",
      "include_colab_link": true
    },
    "kernelspec": {
      "name": "python3",
      "display_name": "Python 3"
    },
    "language_info": {
      "name": "python"
    }
  },
  "cells": [
    {
      "cell_type": "markdown",
      "metadata": {
        "id": "view-in-github",
        "colab_type": "text"
      },
      "source": [
        "<a href=\"https://colab.research.google.com/github/JunYoung07/Python_AI_Project/blob/main/8_Tree.ipynb\" target=\"_parent\"><img src=\"https://colab.research.google.com/assets/colab-badge.svg\" alt=\"Open In Colab\"/></a>"
      ]
    },
    {
      "cell_type": "markdown",
      "source": [
        "# 1. 트리(Tree)"
      ],
      "metadata": {
        "id": "vnXIkYlGG8nU"
      }
    },
    {
      "cell_type": "markdown",
      "source": [
        "* **트리**: Node와 Branch를 이용해서 사이클을 이루지 않도록 구성한 데이터 구조\n",
        "* 트리 중 **이진 트리**(Binary Tree)형태의 구조로 **탐색(검색)**알고리즘 구현을 위해 많이 사용됨\n",
        "    * 검색에 유리한 자료구조"
      ],
      "metadata": {
        "id": "MHyvnE0FHC2B"
      }
    },
    {
      "cell_type": "markdown",
      "source": [
        "# 2. 알아둘 용어\n",
        "* **Node**: 트리에서 데이터를 저장하는 기본 요소(데이터와 다른 연결된 노드에 대한 Branch정보를 포함)\n",
        "* **Root Node**: 트리 맨 위의 노드\n",
        "* **Level**: 최상위 노드를 Level0로 했을 때 하위 Branch로 연결된 노드의 깊이를 나타냄\n",
        "* **Parent Node**: 어떤 노드의 상위 레벨에 연결된 노드\n",
        "* **Child Node**: 어떤 노드의 하쉬 레벨에 연결된 노드\n",
        "* **Leaf Node**: Child Node가 하나도 없는 노드\n",
        "* **Sibling Node**: 동일한 Parent Node를 갖는 노드\n",
        "![ScreenShot](https://gmlwjd9405.github.io/images/data-structure-tree/tree-terms.png)"
      ],
      "metadata": {
        "id": "6pUiRMOfHTka"
      }
    },
    {
      "cell_type": "markdown",
      "source": [
        "# 3. 이진 트리와 이진 검색 트리(Binary Search Tree)"
      ],
      "metadata": {
        "id": "-4YKaPwQI7LJ"
      }
    },
    {
      "cell_type": "markdown",
      "source": [
        "* **이진 트리**: 노드의 최대 Branch가 2개인 트리\n",
        "* **이진 탐색 트리**(Binary Search Tree, BST): 이진 트리에 추가적인 조건이 있는 트리\n",
        "    * 왼쪽 노드는 해당 노드보다 작은 값이며 오른쪽 노드는 해당 노드보다 큰 값을 가지고 있다.  \n",
        "<img src=\"https://www.mathwarehouse.com/programming/images/binary-search-tree/binary-search-tree-insertion-animation.gif\">\n"
      ],
      "metadata": {
        "id": "dhZmOe5-JBKW"
      }
    },
    {
      "cell_type": "markdown",
      "source": [
        "# 4. 자료 구조 이진 탐색 트리의 장점과 주요 용도\n",
        "* 주요 용도: 데이터 **검색**(탐색)\n",
        "* **장점**\n",
        "    * 탐색 속도를 개선할 수 있다\n",
        "* **단점**\n",
        "    * ...  \n",
        "    <img src=\"https://www.mathwarehouse.com/programming/images/binary-search-tree/binary-search-tree-sorted-array-animation.gif\">"
      ],
      "metadata": {
        "id": "HFhdmDDPJQLw"
      }
    },
    {
      "cell_type": "markdown",
      "source": [
        "# 5. 파이썬 객체지향 프로그래밍으로 이진 탐색 트리 구현"
      ],
      "metadata": {
        "id": "Pp97gNcxJj6Z"
      }
    },
    {
      "cell_type": "markdown",
      "source": [
        "### 5-1. 노드 클래스 만들기"
      ],
      "metadata": {
        "id": "Z2HP2sGyJoxM"
      }
    },
    {
      "cell_type": "code",
      "source": [
        "class Node:\n",
        "    def __init__(self, value):\n",
        "        self.value = value\n",
        "        self.left = None\n",
        "        self.right = None"
      ],
      "metadata": {
        "id": "-lSksWqGJrD1"
      },
      "execution_count": null,
      "outputs": []
    },
    {
      "cell_type": "markdown",
      "source": [
        "### 5-2. 이진 탐색 트리에 데이터 넣기"
      ],
      "metadata": {
        "id": "CvhWNCaqJy6L"
      }
    },
    {
      "cell_type": "markdown",
      "source": [
        "* 이진탐색 트리 조건\n",
        "    * 중복 데이터를 넣지 않는다."
      ],
      "metadata": {
        "id": "_SoBVBR4J1vv"
      }
    },
    {
      "cell_type": "code",
      "source": [
        "class NodeMgmt:\n",
        "    def __init__(self, head):\n",
        "        self.head = head\n",
        "    \n",
        "    def insert(self, value):\n",
        "        self.current_node = self.head\n",
        "        while True:\n",
        "            if value < self.current_node.value:\n",
        "                if self.current_node.left:\n",
        "                    self.current_node = self.current_node.left\n",
        "                else:\n",
        "                    self.current_node.left = Node(value)\n",
        "                    break\n",
        "            else:\n",
        "                if self.current_node.right:\n",
        "                    self.current_node = self.current_node.right\n",
        "                else:\n",
        "                    self.current_node.right = Node(value)\n",
        "                    break"
      ],
      "metadata": {
        "id": "Sd-1i2rcJ5lH"
      },
      "execution_count": null,
      "outputs": []
    },
    {
      "cell_type": "code",
      "source": [
        "head = Node(10)\n",
        "BST = NodeMgmt(head)"
      ],
      "metadata": {
        "id": "afdYI4wGKkbz"
      },
      "execution_count": null,
      "outputs": []
    },
    {
      "cell_type": "code",
      "source": [
        "BST.insert(4)"
      ],
      "metadata": {
        "id": "GvBllqsKKn7n"
      },
      "execution_count": null,
      "outputs": []
    },
    {
      "cell_type": "markdown",
      "source": [
        "### 5-3. 이진 탐색 트리의 탐색"
      ],
      "metadata": {
        "id": "Wb3AJBkSKtjm"
      }
    },
    {
      "cell_type": "code",
      "source": [
        "class NodeMgmt:\n",
        "    def __init__(self, head):\n",
        "        self.head = head\n",
        "    \n",
        "    def insert(self, value):\n",
        "        self.current_node = self.head\n",
        "        while True:\n",
        "            if value < self.current_node.value:\n",
        "                if self.current_node.left:\n",
        "                    self.current_node = self.current_node.left\n",
        "                else:\n",
        "                    self.current_node.left = Node(value)\n",
        "                    break\n",
        "            else:\n",
        "                if self.current_node.right:\n",
        "                    self.current_node = self.current_node.right\n",
        "                else:\n",
        "                    self.current_node.right = Node(value)\n",
        "                    break\n",
        "    \n",
        "    def search(self, value):\n",
        "        self.current_node = self.head\n",
        "        while self.current_node:\n",
        "            if self.current_node.value == value:\n",
        "                return True\n",
        "            elif value < self.current_node.value:\n",
        "                self.current_node = self.current_node.left\n",
        "            else:\n",
        "                self.current_node = self.current_node.right\n",
        "        return False"
      ],
      "metadata": {
        "id": "2VmQvMa3K2Yr"
      },
      "execution_count": null,
      "outputs": []
    },
    {
      "cell_type": "code",
      "source": [
        "head = Node(10)\n",
        "BST = NodeMgmt(head)\n",
        "BST.insert(2)\n",
        "BST.insert(5)\n",
        "BST.insert(13)\n",
        "BST.insert(19)\n",
        "BST.insert(11)\n",
        "BST.insert(8)"
      ],
      "metadata": {
        "id": "Hapdzok4LPOO"
      },
      "execution_count": null,
      "outputs": []
    },
    {
      "cell_type": "code",
      "source": [
        "BST.search(11)"
      ],
      "metadata": {
        "colab": {
          "base_uri": "https://localhost:8080/"
        },
        "id": "u_zj3rIuLZ1c",
        "outputId": "cb4ee430-0963-4820-df15-574a0240f2d7"
      },
      "execution_count": null,
      "outputs": [
        {
          "output_type": "execute_result",
          "data": {
            "text/plain": [
              "True"
            ]
          },
          "metadata": {},
          "execution_count": 9
        }
      ]
    },
    {
      "cell_type": "code",
      "source": [
        "BST.search(7)"
      ],
      "metadata": {
        "colab": {
          "base_uri": "https://localhost:8080/"
        },
        "id": "_s_FyJNALbdB",
        "outputId": "d2d69979-1dc5-4e32-d373-e99295e755df"
      },
      "execution_count": null,
      "outputs": [
        {
          "output_type": "execute_result",
          "data": {
            "text/plain": [
              "False"
            ]
          },
          "metadata": {},
          "execution_count": 10
        }
      ]
    },
    {
      "cell_type": "markdown",
      "source": [
        "### 5-4. 이진 탐색 트리 삭제\n",
        "* Leaf Node삭제\n",
        "    * Leaf Node: Child Node가 없는 Node\n",
        "    * 삭제할 Node의 Parent Node가 Node를 가리키지 않도록 한다.  \n",
        "1. 삭제할 Node 탐색하기\n",
        "```\n",
        "searched = False\n",
        "self.current_node = self.head\n",
        "self.parent = self.head\n",
        "whlie self.current_node:\n",
        "    if self.current_node.value == value:\n",
        "        searched = True\n",
        "        break\n",
        "    elif value < self.current_node.value:\n",
        "        self.parent = self.current_node\n",
        "        self.current_node = self.current_node.left\n",
        "    else:\n",
        "        self.parent = self.current_node\n",
        "        self.current_node = self.current_node.right\n",
        "if Searched == False:\n",
        "    return False\n",
        "```\n"
      ],
      "metadata": {
        "id": "2CIzm_cgLd0b"
      }
    },
    {
      "cell_type": "markdown",
      "source": [
        "* 삭제할 Node가 Leaf Node인 경우\n",
        "```\n",
        "if self.current_node.left == None and self.current_node.right == None:\n",
        "    if value < self.parent.value:\n",
        "        self.parent.left == None\n",
        "    else:\n",
        "        self.parent.right == None\n",
        "```"
      ],
      "metadata": {
        "id": "EuCYMs4bZzMn"
      }
    },
    {
      "cell_type": "markdown",
      "source": [
        "* Child Node가 하나인 Node를 삭제\n",
        "    * 삭제할 Node의 Parent Node가 삭제할 Node의 Child Node를 가리키게 함\n",
        "```\n",
        "if self.current_node.left != None and self.current_node.right == None:\n",
        "    if value < self.parent.value:\n",
        "        self.parent.left = self.current_node.left\n",
        "    else:\n",
        "        self.parent.right = self.current_node.right\n",
        "elif self.current_node.left == None and self.current_node.right != None:\n",
        "    if value < self.parent_node:\n",
        "        self.parent.left = self.current_node.right\n",
        "    else:\n",
        "        self.parent.right = self.current_node.right\n",
        "```"
      ],
      "metadata": {
        "id": "MbT_tWUYaMbU"
      }
    },
    {
      "cell_type": "markdown",
      "source": [
        "* Child Node가 두 개인 Node를 삭제\n",
        "    * 삭제할 Node의 오른쪽 자식 중, 가장 작은 값을 삭제할 Node의 Parent Node가 가리키도록 함\n",
        "    * 삭제할 Node가 Parent Node 왼쪽에 있을 때\n",
        "        * 삭제할 Node의 오른쪽 자식 중, 가장 갖은 값을 가진 Node의 Child Node가 없을 때\n",
        "        * 삭제할 Node의 오른쪽 자식 중, 가장 작은 값을 가진 Node의 Child Node가 없을 때\n",
        "    * 삭제할 Node가 Parent Node 오른쪽에 있을 때\n",
        "        * 삭제할 Node의 오른쪽 자식 중 가장 작은 값을 가진 Node의 Child Node가 없을 때\n",
        "        * 삭제할 Node의 오른쪽 자식 중 가장 작은 값을 가진 Node의 Child Node가 있을 때\n",
        "\n",
        "> 가장 작은 값을 가진 Node의 Child Node가 왼쪽에 있을 경우는 없음. 왼쪽 Node가 있다는 것은 해당 Node보다 더 작은 값을 가진 Node가 존재한다는 뜻"
      ],
      "metadata": {
        "id": "JFBWZ94KbNNb"
      }
    },
    {
      "cell_type": "markdown",
      "source": [
        "* Child Node가 두 개인 Node를 삭제하는 코드 구현\n",
        "    * 삭제할 Node의 오른쪽 자식을 선택\n",
        "    * 오른쪽 자식의 가장 왼쪽에 있는 Node를 선택\n",
        "    * 해당 Node를 삭제할 Node의 Parent Node의 왼쪽 Branch가 가리키도록 함\n",
        "    * 해당 Node의 왼쪽 Branch가 삭제할 Node의 왼쪽 Child Node를 가리키도록 함\n",
        "    * 해당 Node의 오른쪽 Branch가 삭제할 Node의 오른쪽 Child Node를 가리키게 함\n",
        "    * 만약 해당 Node가 오른쪽 Child Node를 가지고 있었을 경우, 해당 Node의 본래 Parent Node의 왼쪽 Branch가 오른쪽 Child Node를 가리키게 함\n",
        "\n",
        "```\n",
        "if self.current_node.left != None and self.current_node.right != None:\n",
        "    if value < self.parent.value:\n",
        "        self.change_node = self.current_node.right\n",
        "        self.chante_node_parent = self.current_node.right\n",
        "        while self.change_node.left != None:\n",
        "            self.change_node_parent = self.change_node\n",
        "            self.change_node = self.change_node.left\n",
        "        if self.change_node.right != None:\n",
        "            self.change_node_parent.left = self.change_node.right\n",
        "        else:\n",
        "            self.change_node_parent.left = None\n",
        "        self.parent.left = self.change_node\n",
        "        self.change_node.right = self.current_node.right\n",
        "        self.change_node.left = self.current_node.left\n",
        "    else:\n",
        "        self.change_node = self.current_node.right\n",
        "        self.change_node_parent = self.current_node.right\n",
        "        while self.change_node.left:\n",
        "            self.change_node_parent = self.change_node\n",
        "            self.change_node = self.change_node.left\n",
        "        if self.chagne_node.right != None:\n",
        "            self.change_node_parent.left = self.change_node.right\n",
        "        else:\n",
        "            self.change_node_parent.left = None\n",
        "        self.parent.right = self.change_node\n",
        "        self.change_node.right = self.current_node.right\n",
        "        self.change_node.left = self.current_node.left\n",
        "```"
      ],
      "metadata": {
        "id": "5f2wZ5fncF6B"
      }
    },
    {
      "cell_type": "markdown",
      "source": [
        "### 5-5. 전체 코드 구현"
      ],
      "metadata": {
        "id": "phMmFaBEcTYJ"
      }
    },
    {
      "cell_type": "code",
      "source": [
        "class Node:\n",
        "    def __init__(self, value):\n",
        "        self.value = value\n",
        "        self.left = None\n",
        "        self.right = None\n",
        "\n",
        "class NodeMgmt:\n",
        "    def __init__(self, head):\n",
        "        self.head = head\n",
        "    \n",
        "    def insert(self, value):\n",
        "        self.current_node = self.head\n",
        "        while True:\n",
        "            if value < self.current_node.value:\n",
        "                if self.current_node.left != None:\n",
        "                    self.current_node = self.current_node.left\n",
        "                else:\n",
        "                    self.current_node.left = Node(value)\n",
        "                    break\n",
        "            else:\n",
        "                if self.current_node.right != None:\n",
        "                    self.current_node = self.current_node.right\n",
        "                else:\n",
        "                    self.current_node.right = Node(value)\n",
        "                    break\n",
        "    \n",
        "    def search(self, value):\n",
        "        self.current_node = self.head\n",
        "        while self.current_node:\n",
        "            if self.current_node.value == value:\n",
        "                return True\n",
        "            elif value < self.current_node.value:\n",
        "                self.current_node = self.current_node.left\n",
        "            else:\n",
        "                self.current_node = self.current_node.right\n",
        "        return False\n",
        "\n",
        "    def delete(self, value):\n",
        "        searched = False\n",
        "        self.current_node = self.head\n",
        "        self.parent = self.head\n",
        "        while self.current_node:\n",
        "            if self.current_node.value == value:\n",
        "                searched = True\n",
        "                break\n",
        "            elif value < self.current_node.value:\n",
        "                self.parent = self.current_node\n",
        "                self.current_node = self.current_node.left\n",
        "            else:\n",
        "                self.parent = self.current_node\n",
        "                self.current_node = self.current_node.right\n",
        "        if searched == False:\n",
        "            return False\n",
        "        \n",
        "        # 삭제할 노드가 leaf인 경우\n",
        "        if self.current_node.left == None and self.current_node.right == None:\n",
        "            if value < self.parent.value:\n",
        "                self.parent.left = None\n",
        "            else:\n",
        "                self.parent.right = None\n",
        "        \n",
        "        # 삭제할 노드의 child가 하나인 경우\n",
        "        if self.current_node.left != None and self.current_node.right == None:\n",
        "            if value < self.parent.value:\n",
        "                self.parent.left = self.current_node.left\n",
        "            else:\n",
        "                self.parent.right = self.current_node.left\n",
        "        elif self.current_node.left == None and self.current_node.right != None:\n",
        "            if value < self.parent.value:\n",
        "                self.parent.left = self.current_node.left\n",
        "            else:\n",
        "                self.parent.right = self.current_node.right\n",
        "\n",
        "        # 삭제할 노드의 child가 두 개인 경우\n",
        "        if self.current_node.left != None and self.current_node.right != None:\n",
        "            if value < self.parent.value:\n",
        "                self.change_node = self.current_node.right\n",
        "                self.change_node_parent = self.current_node.right\n",
        "                while self.change_node.left != None:\n",
        "                    self.change_node_parent = self.change_node\n",
        "                    self.change_node = self.change_node.left\n",
        "                if self.change_node.right != None:\n",
        "                    self.change_ndoe_parent.left = self.change_node.right\n",
        "                else:\n",
        "                    self.chagne_node_parent.left = None\n",
        "                self.parent.left = self.change_node\n",
        "                self.change_node.right = self.current_node.right\n",
        "                self.change_node.left = self.current_node.left\n",
        "            else:\n",
        "                self.change_node = self.current_node.right\n",
        "                self.change_node_parent = self.current_node.right\n",
        "                while self.change_node.left != None:\n",
        "                    self.change_node_parent = self.change_node\n",
        "                    self.change_node = self.change_node.left\n",
        "                if self.change_node.right != None:\n",
        "                    self.change_node_parent.left = self.change_node.right\n",
        "                else:\n",
        "                    self.change_node.parent.left = None\n",
        "                self.parent.right = self.change_node\n",
        "                self.change_node.right = self.current_node.right\n",
        "                self.change_node.left = self.current_node.left\n",
        "        return True\n"
      ],
      "metadata": {
        "id": "6VV6D8qffLUH"
      },
      "execution_count": 4,
      "outputs": []
    },
    {
      "cell_type": "code",
      "source": [
        "# random libraries\n",
        "# random.randint(num1, num2): num1부터 num2까지의 숫자를 랜덤하게 선택하여 리턴\n",
        "import random\n",
        "\n",
        "bst_nums = set()    # 중복된 데이터를 허용하지 않기 위해 set로 초기화\n",
        "while len(bst_nums) != 100:\n",
        "    val = random.randint(0, 999)\n",
        "    if val != 500:  # 500을 root로 하기 위해 500을 제외\n",
        "        bst_nums.add(val)\n",
        "print(bst_nums)\n",
        "\n",
        "head = Node(500)\n",
        "binary_tree = NodeMgmt(head)\n",
        "for num in bst_nums:\n",
        "    binary_tree.insert(num)\n",
        "\n",
        "for num in bst_nums:\n",
        "    if binary_tree.search(num) == False:\n",
        "        print('검색 실패: ', num)\n",
        "\n",
        "delete_nums = set()\n",
        "bst_nums = list(bst_nums)\n",
        "while len(delete_nums) != 10:\n",
        "    delete_nums.add(bst_nums[random.randint(0, 99)])\n",
        "print(delete_nums)\n",
        "\n",
        "for del_num in delete_nums:\n",
        "    if binary_tree.delete(del_num) == False:\n",
        "        print('삭제 실패: ', del_num)\n",
        "    else:\n",
        "        print('삭제 성공: ', del_num)\n"
      ],
      "metadata": {
        "colab": {
          "base_uri": "https://localhost:8080/"
        },
        "id": "W_to9j7Dkmka",
        "outputId": "3adc8d3e-a061-40ae-fd10-34621ef3e001"
      },
      "execution_count": 5,
      "outputs": [
        {
          "output_type": "stream",
          "name": "stdout",
          "text": [
            "{2, 517, 523, 525, 20, 25, 30, 546, 38, 48, 53, 61, 62, 583, 585, 77, 593, 601, 89, 91, 103, 618, 118, 638, 132, 648, 140, 653, 654, 657, 155, 667, 157, 165, 680, 172, 691, 696, 188, 705, 196, 709, 715, 717, 206, 730, 224, 227, 748, 244, 761, 764, 778, 779, 269, 792, 283, 798, 288, 291, 803, 293, 811, 817, 828, 317, 323, 839, 333, 853, 864, 865, 867, 356, 360, 367, 371, 372, 897, 898, 901, 908, 396, 417, 424, 426, 427, 429, 941, 947, 949, 438, 952, 444, 957, 468, 469, 472, 989, 491}\n",
            "{417, 323, 583, 140, 269, 206, 817, 20, 949, 472}\n",
            "삭제 성공:  417\n",
            "삭제 성공:  323\n",
            "삭제 성공:  583\n",
            "삭제 성공:  140\n",
            "삭제 성공:  269\n",
            "삭제 성공:  206\n",
            "삭제 성공:  817\n",
            "삭제 성공:  20\n",
            "삭제 성공:  949\n",
            "삭제 성공:  472\n"
          ]
        }
      ]
    }
  ]
}