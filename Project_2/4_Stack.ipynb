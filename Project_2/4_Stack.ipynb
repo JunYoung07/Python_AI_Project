{
  "nbformat": 4,
  "nbformat_minor": 0,
  "metadata": {
    "colab": {
      "provenance": [],
      "collapsed_sections": [],
      "authorship_tag": "ABX9TyOjk8EHbHEUYM2hmYS47Zjk",
      "include_colab_link": true
    },
    "kernelspec": {
      "name": "python3",
      "display_name": "Python 3"
    },
    "language_info": {
      "name": "python"
    }
  },
  "cells": [
    {
      "cell_type": "markdown",
      "metadata": {
        "id": "view-in-github",
        "colab_type": "text"
      },
      "source": [
        "<a href=\"https://colab.research.google.com/github/JunYoung07/Python_AI_Project/blob/main/4_Stack.ipynb\" target=\"_parent\"><img src=\"https://colab.research.google.com/assets/colab-badge.svg\" alt=\"Open In Colab\"/></a>"
      ]
    },
    {
      "cell_type": "markdown",
      "source": [
        "# 1. 스택(Stack)"
      ],
      "metadata": {
        "id": "yP3cpmm0dNhW"
      }
    },
    {
      "cell_type": "markdown",
      "source": [
        "* 데이터를 제한적으로 접근할 수 있는 구조\n",
        "* 한쪽 끝에서만 자료를 넣거나 뺄 수 있는 구조\n",
        "* 가장 나중에 쌓은 데이터를 가장 먼저 빼낼 수 있는 구조\n",
        "* LIFO(Last In First Out)"
      ],
      "metadata": {
        "id": "8a4XAnNGdTMy"
      }
    },
    {
      "cell_type": "markdown",
      "source": [
        "### 1-1. 스택의 구조"
      ],
      "metadata": {
        "id": "K4bgh-IjdeKA"
      }
    },
    {
      "cell_type": "markdown",
      "source": [
        "* 스택은 LIFO 또는 FILO 데이터 관리 방식\n",
        "* 스택의 활용\n",
        "    * 컴퓨터 내부의 프로세스 구조의 함수 동작 방식\n",
        "    * ...\n",
        "* 스택의 기능\n",
        "    * `push()`: 데이터를 스택에 쌓기\n",
        "    * `pop()`: 데이터를 스택에서 꺼내기\n",
        "* [VisualGo](https://visualgo.net/en/list)"
      ],
      "metadata": {
        "id": "vls51R2gdfpd"
      }
    },
    {
      "cell_type": "markdown",
      "source": [
        "### 1-2. 스택의 장단점"
      ],
      "metadata": {
        "id": "Ybo_3pA0dxrE"
      }
    },
    {
      "cell_type": "markdown",
      "source": [
        "* 장점\n",
        "    * 구조가 단순해서 이해와 구현이 간단하다\n",
        "    * 데이터 저장/읽기 속도가 빠르다\n",
        "* 단점\n",
        "    * 데이터 최대 개수를 미리 정해야 한다(파이썬의 경우 재귀함수는 1000번까지만 호출되기 때문)\n",
        "    * 저장 공간의 낭비가 발생할 수 있다(미리 최대 개수만큼 저장공간을 미리 확보하기 때문)\n",
        "    "
      ],
      "metadata": {
        "id": "9wfl8izid0Ew"
      }
    },
    {
      "cell_type": "markdown",
      "source": [
        "> 스택은 단순하고 빠른 성능을 위해 사용하므로 보통 배열 구조를 활용해서 구현하는 것이 일반적"
      ],
      "metadata": {
        "id": "eREuLJcNeFHZ"
      }
    },
    {
      "cell_type": "code",
      "source": [
        "# 파이썬 리스트를 이용해 스택 구현\n",
        "# 파이썬 리스트 기능에서 제공하는 메소드로 스택 사용\n",
        "# 파이썬 리스트는 스택을 이미 구현해뒀다.\n",
        "data_stack = []\n",
        "print(data_stack)\n",
        "\n",
        "data_stack.append(2)\n",
        "data_stack.append(10)\n",
        "data_stack.append(5)\n",
        "print(data_stack)\n",
        "\n",
        "print(data_stack.pop()) # 마지막에 append한 5가 나온다.\n",
        "print(data_stack)\n",
        "\n",
        "temp = data_stack.pop() # 리스트에서 pop한 뒤에 temp변수에 저장\n",
        "print(data_stack)\n",
        "print(temp)"
      ],
      "metadata": {
        "colab": {
          "base_uri": "https://localhost:8080/"
        },
        "id": "h1f3WDk2eJWW",
        "outputId": "b601ac08-7ec1-4487-d220-22d2f1290db0"
      },
      "execution_count": 1,
      "outputs": [
        {
          "output_type": "stream",
          "name": "stdout",
          "text": [
            "[]\n",
            "[2, 10, 5]\n",
            "5\n",
            "[2, 10]\n",
            "[2]\n",
            "10\n"
          ]
        }
      ]
    },
    {
      "cell_type": "markdown",
      "source": [
        "### 문제\n",
        "리스트 변수로 스택을 다루는 `pop()`과 `push()`기능을 직접 구현해보자  \n",
        "(단, `pop()`메서드를 사용하지 않고 구현할 것)"
      ],
      "metadata": {
        "id": "kKW7Vq77euf7"
      }
    },
    {
      "cell_type": "code",
      "source": [
        "stack_list = list()\n",
        "\n",
        "def push(data):\n",
        "    stack_list.append(data)\n",
        "\n",
        "def pop():\n",
        "    tmp = stack_list[-1]\n",
        "    del stack_list[-1]\n",
        "    return tmp"
      ],
      "metadata": {
        "id": "2OmYRjlye52z"
      },
      "execution_count": 2,
      "outputs": []
    },
    {
      "cell_type": "code",
      "source": [
        "for index in range(10):\n",
        "    push(index)\n",
        "\n",
        "stack_list"
      ],
      "metadata": {
        "colab": {
          "base_uri": "https://localhost:8080/"
        },
        "id": "xD-mYi67fRR1",
        "outputId": "79665524-3657-4fa9-8164-d306ec7bb58c"
      },
      "execution_count": 3,
      "outputs": [
        {
          "output_type": "execute_result",
          "data": {
            "text/plain": [
              "[0, 1, 2, 3, 4, 5, 6, 7, 8, 9]"
            ]
          },
          "metadata": {},
          "execution_count": 3
        }
      ]
    },
    {
      "cell_type": "code",
      "source": [
        "print(pop())\n",
        "print(stack_list)"
      ],
      "metadata": {
        "colab": {
          "base_uri": "https://localhost:8080/"
        },
        "id": "Jz9fFTbPfX2r",
        "outputId": "14ceb941-1054-4203-f256-8e608d631ff1"
      },
      "execution_count": 4,
      "outputs": [
        {
          "output_type": "stream",
          "name": "stdout",
          "text": [
            "9\n",
            "[0, 1, 2, 3, 4, 5, 6, 7, 8]\n"
          ]
        }
      ]
    }
  ]
}