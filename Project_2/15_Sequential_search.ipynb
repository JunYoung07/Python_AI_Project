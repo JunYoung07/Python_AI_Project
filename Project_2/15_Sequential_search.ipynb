{
  "nbformat": 4,
  "nbformat_minor": 0,
  "metadata": {
    "colab": {
      "provenance": [],
      "authorship_tag": "ABX9TyN2ZE9tjJhmByIPHMjNI0pX",
      "include_colab_link": true
    },
    "kernelspec": {
      "name": "python3",
      "display_name": "Python 3"
    },
    "language_info": {
      "name": "python"
    }
  },
  "cells": [
    {
      "cell_type": "markdown",
      "metadata": {
        "id": "view-in-github",
        "colab_type": "text"
      },
      "source": [
        "<a href=\"https://colab.research.google.com/github/JunYoung07/Python_AI_Project/blob/main/15_Sequential_search.ipynb\" target=\"_parent\"><img src=\"https://colab.research.google.com/assets/colab-badge.svg\" alt=\"Open In Colab\"/></a>"
      ]
    },
    {
      "cell_type": "markdown",
      "source": [
        "# 1. 순차 탐색(Sequential search)"
      ],
      "metadata": {
        "id": "faFhF8yfNr-u"
      }
    },
    {
      "cell_type": "markdown",
      "source": [
        "* **탐색**은 여러 데이터 중에서 원하는 데이터를 찾아내는 것을 의미\n",
        "* 데이터가 담겨있는 리스트를 앞에서부터 차례로 비교해 원하는 데이터 찾음"
      ],
      "metadata": {
        "id": "tWvCvcmZN_tF"
      }
    },
    {
      "cell_type": "code",
      "source": [
        "# 랜덤한 데이터 리스트 만들기\n",
        "from random import *\n",
        "rand_data_list = []\n",
        "for num in range(10):\n",
        "    rand_data_list.append(randint(1, 100))\n",
        "\n",
        "rand_data_list"
      ],
      "metadata": {
        "id": "K8oXLTqsOKlp",
        "colab": {
          "base_uri": "https://localhost:8080/"
        },
        "outputId": "2abe0bb0-2843-4be7-f95a-d3298cbb44e4"
      },
      "execution_count": null,
      "outputs": [
        {
          "output_type": "execute_result",
          "data": {
            "text/plain": [
              "[18, 38, 72, 70, 93, 3, 76, 47, 63, 37]"
            ]
          },
          "metadata": {},
          "execution_count": 1
        }
      ]
    },
    {
      "cell_type": "code",
      "source": [
        "# 순차 탐색 구현\n",
        "def sequential(data_list, search_data):\n",
        "    for index in range(len(data_list)):\n",
        "        if data_list[index] == search_data:\n",
        "            return search_data\n",
        "    return -1"
      ],
      "metadata": {
        "id": "5NQQPkjMOYv9"
      },
      "execution_count": null,
      "outputs": []
    },
    {
      "cell_type": "code",
      "source": [
        "sequential(rand_data_list, 72)"
      ],
      "metadata": {
        "colab": {
          "base_uri": "https://localhost:8080/"
        },
        "id": "wJB98gNmPEH1",
        "outputId": "9eac7b06-2b33-4681-b213-7923e4fb250f"
      },
      "execution_count": null,
      "outputs": [
        {
          "output_type": "execute_result",
          "data": {
            "text/plain": [
              "72"
            ]
          },
          "metadata": {},
          "execution_count": 3
        }
      ]
    },
    {
      "cell_type": "markdown",
      "source": [
        "# 2. 알고리즘 분석\n",
        "* 최악의 경우 리스트의 길이가 n일 때 n번 비교\n",
        "* Big_O표기법으로 O(n)"
      ],
      "metadata": {
        "id": "gnp3RRK2PKVK"
      }
    }
  ]
}