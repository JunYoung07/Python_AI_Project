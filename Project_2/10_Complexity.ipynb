{
  "nbformat": 4,
  "nbformat_minor": 0,
  "metadata": {
    "colab": {
      "provenance": [],
      "authorship_tag": "ABX9TyN0Ic6glWrRg6tFIxbCXTqb",
      "include_colab_link": true
    },
    "kernelspec": {
      "name": "python3",
      "display_name": "Python 3"
    },
    "language_info": {
      "name": "python"
    }
  },
  "cells": [
    {
      "cell_type": "markdown",
      "metadata": {
        "id": "view-in-github",
        "colab_type": "text"
      },
      "source": [
        "<a href=\"https://colab.research.google.com/github/JunYoung07/Python_AI_Project/blob/main/10_Complexity.ipynb\" target=\"_parent\"><img src=\"https://colab.research.google.com/assets/colab-badge.svg\" alt=\"Open In Colab\"/></a>"
      ]
    },
    {
      "cell_type": "markdown",
      "source": [
        "# 1. 알고리즘 복잡도 표현 방법"
      ],
      "metadata": {
        "id": "Z8Cwq8L9OmLO"
      }
    },
    {
      "cell_type": "markdown",
      "source": [
        "### 1-1. 알고리즘 복잡도 계산이 필요한 이유"
      ],
      "metadata": {
        "id": "Hd-6htVgO93a"
      }
    },
    {
      "cell_type": "markdown",
      "source": [
        "* 어떤 코드가 괜찮은 알고리즘인지 판단하기 위함\n",
        "* 하나의 문제를 푸는 알고리즘은 다양함\n",
        "    * 정수의 절대값을 구하는 방법\n",
        "        * 방법1: 값이 음수인지 확인해서 0보다 작은 음수일 때 -1 곱하기\n",
        "        * 방법2: 정수값을 제곱한 뒤 루트 씌우기"
      ],
      "metadata": {
        "id": "BcRx_rIoPAiY"
      }
    },
    {
      "cell_type": "markdown",
      "source": [
        "> 다양한 알고리즘 중 어떤 알고리즘이 더 좋은 지 분석하기 위해 복잡도를 정의하고 계산함\n"
      ],
      "metadata": {
        "id": "IJlSwCQEPOPS"
      }
    },
    {
      "cell_type": "markdown",
      "source": [
        "### 1-2. 알고리즘 복잡도 계산 항목\n",
        "* **공간 복잡도**: 알고리즘이 사용하는 메모리 사이즈\n",
        "* **시간 복잡도**: 알고리즘 실행 속도"
      ],
      "metadata": {
        "id": "V_clBw7ISACr"
      }
    },
    {
      "cell_type": "markdown",
      "source": [
        "> 최근에는 시간복잡도를 중요하게 생각함"
      ],
      "metadata": {
        "id": "qXj3Xf8mSNaI"
      }
    },
    {
      "cell_type": "markdown",
      "source": [
        "### 1-3. 알고리즘 성능 표기법"
      ],
      "metadata": {
        "id": "QgzQqvfdSQoE"
      }
    },
    {
      "cell_type": "markdown",
      "source": [
        "* 오메가($\\Omega$) 표기법\n",
        "    * 알고리즘 최상의 실행 시간을 표기\n",
        "* 세타($Θ$) 표기법\n",
        "    * 알고리즘 평균 실행시간을 표기\n",
        "* **Big-O($𝐎$) 표기법**\n",
        "    * 최악의 실행 시간을 표기\n",
        "    * 가장 많이 사용함\n",
        "    * 아무리 최악의 상황이라도 이정도의 성능은 보장함을 의미"
      ],
      "metadata": {
        "id": "JXzWaM_1SWoO"
      }
    },
    {
      "cell_type": "markdown",
      "source": [
        "### 1-4. Big-O($𝐎$) 표기법\n",
        "* 입력 n에 따라 결정되는 시간 복잡도 함수\n",
        "* O(1) < O($log n$) < O(n) < O(n$log n$) < O($n^2$) < O($2^n$) < O(n!)\n",
        "* 입력 n에 따라 시간 복잡도가 늘어날 수 있다.  \n",
        "\n",
        "<img src='https://t1.daumcdn.net/cfile/tistory/99EF1E395C7EB4B601'>\n"
      ],
      "metadata": {
        "id": "M7i5yP4zSYxa"
      }
    },
    {
      "cell_type": "markdown",
      "source": [
        "# 2. 공간 복잡도"
      ],
      "metadata": {
        "id": "L1r4wamISa4K"
      }
    },
    {
      "cell_type": "markdown",
      "source": [
        "* **공간 복잡도**(Space Complexity): 작성한 프로그램이 얼마나 많은 공간(메모리)을 차지하느냐를 분석하는 방법\n",
        "* 컴퓨터 성능의 발달로 인해 메모리 공간이 넘쳐나다 보니 중요도가 떨어짐\n",
        "* 공간 복잡도를 결정하는 것은 배열의 크기가 몇인지, 얼마 만큼의 동적 할당인지, 몇 번의 호출을 하는 재귀함수가 있는 지 등의 영향을 끼침\n",
        "* 알고리즘은 시간 복잡도가 중심\n"
      ],
      "metadata": {
        "id": "eg8oi9u0SlQu"
      }
    },
    {
      "cell_type": "markdown",
      "source": [
        "# 3. 시간 복잡도"
      ],
      "metadata": {
        "id": "p_JqLTf-S3Hp"
      }
    },
    {
      "cell_type": "markdown",
      "source": [
        "* 특정 알고리즘이 어떤 문제를 해결하는데 걸리는 시간을 의미\n",
        "* 같은 결과를 갖는 프로그래밍 소스도 작성 방법에 따라 걸리는 시간이 달라지며, 시간이 적게 걸리는 소스가 좋은 소스"
      ],
      "metadata": {
        "id": "dWLEqsJOS75d"
      }
    },
    {
      "cell_type": "markdown",
      "source": [
        "### 3-1. O(1)\n",
        "* 입력 데이터의 크기와 상관없이 언제나 일정한 시간이 걸리는 알고리즘\n",
        "* 데이터가 얼마나 증가하든 성능에 영향을 미치지 않음\n",
        "```\n",
        "def print_data(data):\n",
        "    print(data[0])  # O(1)\n",
        "```\n"
      ],
      "metadata": {
        "id": "vbL9Q_sRTFbZ"
      }
    },
    {
      "cell_type": "markdown",
      "source": [
        "### 3-2. O($log n$)\n",
        "* 입력 데이터의 크기가 커질수록 처리 시간이 로그 만큼 짧아지는 알고리즘\n",
        "* 이진 탐색이 대표적이며 재귀가 순기능으로 이루어지는 경우도 해당\n",
        "```\n",
        "def print_data(n):\n",
        "    i=n\n",
        "    while i>1:\n",
        "        print(i)\n",
        "        i = i / 2  # 반복할 때마다 반으로 줄어듦\n",
        "```"
      ],
      "metadata": {
        "id": "2prNNza7THMM"
      }
    },
    {
      "cell_type": "markdown",
      "source": [
        "### 3-3. O($n$)\n",
        "* 선형 복잡도라고 부르며, 입력값이 증가함에 따라 시간 도한 같은 비율로 증가하는 것을 의미\n",
        "```\n",
        "def print_data(data):\n",
        "    for i in range(len(data)):\n",
        "        print(data[i])\n",
        "```"
      ],
      "metadata": {
        "id": "kJ4Vq2UHTIpX"
      }
    },
    {
      "cell_type": "markdown",
      "source": [
        "### 3-4. O($n^2$)\n",
        "* 2차 복잡도라고 부르며, 입력값이 증가함에 따라 시간이 n의 제곱수의 비율로 증가하는 것\n",
        "```\n",
        "def print_data(data):\n",
        "    for i in range(len(data)):\n",
        "        for j in range(len(data)):  # 두 개의 반복문\n",
        "            print(data[i], data[j])\n",
        "```"
      ],
      "metadata": {
        "id": "r7_PWa5NTKmD"
      }
    },
    {
      "cell_type": "markdown",
      "source": [
        "# 4. 실제 알고리즘을 예로 알고리즘 시간 복잡도 알아보기"
      ],
      "metadata": {
        "id": "hud6vVZvTMOz"
      }
    },
    {
      "cell_type": "code",
      "source": [
        "# 1부터 100까지의 합을 구하는 알고리즘\n",
        "def sum_all(n):\n",
        "    total = 0\n",
        "    for num in range(1, n+1):\n",
        "        total += num\n",
        "    return total"
      ],
      "metadata": {
        "id": "Lenuf1tyTQNm"
      },
      "execution_count": 1,
      "outputs": []
    },
    {
      "cell_type": "code",
      "source": [
        "sum_all(100)"
      ],
      "metadata": {
        "colab": {
          "base_uri": "https://localhost:8080/"
        },
        "id": "arS-mAFJTktM",
        "outputId": "bd5f783f-19ca-49b3-9c36-eb63746fc33b"
      },
      "execution_count": 3,
      "outputs": [
        {
          "output_type": "execute_result",
          "data": {
            "text/plain": [
              "5050"
            ]
          },
          "metadata": {},
          "execution_count": 3
        }
      ]
    },
    {
      "cell_type": "markdown",
      "source": [
        "<font size=5em>$\\frac { n (n + 1) }{ 2 }$</font>"
      ],
      "metadata": {
        "id": "qX-8OaYQTmKO"
      }
    },
    {
      "cell_type": "code",
      "source": [
        "def sum_all(n):\n",
        "    return int(n*(n+1)/2)"
      ],
      "metadata": {
        "id": "JjUCNo5yTrMq"
      },
      "execution_count": 4,
      "outputs": []
    },
    {
      "cell_type": "code",
      "source": [
        "sum_all(100)"
      ],
      "metadata": {
        "colab": {
          "base_uri": "https://localhost:8080/"
        },
        "id": "jfizDYYtTwBP",
        "outputId": "1547783b-7aca-4d48-8759-3f229c54aaeb"
      },
      "execution_count": 6,
      "outputs": [
        {
          "output_type": "execute_result",
          "data": {
            "text/plain": [
              "5050"
            ]
          },
          "metadata": {},
          "execution_count": 6
        }
      ]
    },
    {
      "cell_type": "markdown",
      "source": [
        "> 위와 같이 동일한 문제를 푸는 알고리즘은 다양할 수 있음. 어떤 알고리즘이 보다 좋은 지 객관적으로 비교하기 위해 Big_O표기법 등 시간 복잡도 계산법 사용"
      ],
      "metadata": {
        "id": "S7NL-usHTxdj"
      }
    }
  ]
}