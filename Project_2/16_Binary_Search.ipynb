{
  "nbformat": 4,
  "nbformat_minor": 0,
  "metadata": {
    "colab": {
      "provenance": [],
      "authorship_tag": "ABX9TyO9PAIBDsxQGGt1C/fW+MQz",
      "include_colab_link": true
    },
    "kernelspec": {
      "name": "python3",
      "display_name": "Python 3"
    },
    "language_info": {
      "name": "python"
    }
  },
  "cells": [
    {
      "cell_type": "markdown",
      "metadata": {
        "id": "view-in-github",
        "colab_type": "text"
      },
      "source": [
        "<a href=\"https://colab.research.google.com/github/JunYoung07/Python_AI_Project/blob/main/16_Binary_Search.ipynb\" target=\"_parent\"><img src=\"https://colab.research.google.com/assets/colab-badge.svg\" alt=\"Open In Colab\"/></a>"
      ]
    },
    {
      "cell_type": "markdown",
      "source": [
        "# 1. 이진 탐색(Binary Search)"
      ],
      "metadata": {
        "id": "fjwy9dWhPdio"
      }
    },
    {
      "cell_type": "markdown",
      "source": [
        "* 탐색할 자료를 둘로 나누어 해당 데이터가 있을 만한 곳으로 탐색"
      ],
      "metadata": {
        "id": "3fqTVVZYP3kh"
      }
    },
    {
      "cell_type": "markdown",
      "source": [
        "### 1-1. 이진 탐색과 순차 탐색의 비교\n",
        "<img src=\"https://www.mathwarehouse.com/programming/images/binary-vs-linear-search/binary-and-linear-search-animations.gif\">"
      ],
      "metadata": {
        "id": "27QsR95_P7aB"
      }
    },
    {
      "cell_type": "markdown",
      "source": [
        "# 2. 분할 정복 알고리즘과 이진 탐색"
      ],
      "metadata": {
        "id": "hRZUpeXdQAK0"
      }
    },
    {
      "cell_type": "markdown",
      "source": [
        "* 분할 정복(Divide & Conquer) 알고리즘\n",
        "    * 문제를 하나 둘 이상으로 나누어 해결\n",
        "        * **Divide**: 문제를 하나 둘 이상으로 나눔\n",
        "        * **Conquer**: 나눠진 문제가 충분히 작고, 해결이 가능하다면 해결하고, 그렇지 않으면 다시 나눔\n",
        "* 이진 탐색\n",
        "    * Divide: 리스트를 두 개의 서브 리스트로 나눔\n",
        "    * Conquer:\n",
        "        * 검색할 숫자(Search) > 중간값 = 뒷 부분 서브 리스트에서 검색할 숫자를 찾음\n",
        "        * 검색할 숫자(Search) < 중간값 = 앞 부분의 서브 리스트에서 검색할 숫자를 찾음"
      ],
      "metadata": {
        "id": "biWPwANxQDwp"
      }
    },
    {
      "cell_type": "markdown",
      "source": [
        "# 3. 알고리즘 구현\n",
        "* 이진 탐색은 정렬되어 있는 상태에서 진행\n",
        "* 데이터가 `[2, 3, 8, 12, 20]`일 때\n",
        "    * `binary_search(data_list, find_data)`함수 생성\n",
        "    * `data_list`의 중간값을 `find_data`와 비교\n",
        "        * `find_data < data_list`의 중간값 = 맨 앞부터 `data_list`의 중간까지 `find_data`를 찾음\n",
        "        * `find_data > data_list`의 중간값 = `data_list`의 중간값부터 맨 끝까지 `find_data`를 찾음\n",
        "        * 그렇지 않다면 `data_list`중간값은 `find_data`와 일치치"
      ],
      "metadata": {
        "id": "kQf6kJqEQkYs"
      }
    },
    {
      "cell_type": "code",
      "source": [
        "# 이진 탐색 구현\n",
        "def binary_search(data, search):\n",
        "    print(data)     # 탐색과정 시각화\n",
        "    if len(data) == 1 and search == data[0]:\n",
        "        return True\n",
        "    if len(data) == 1 and search != data[0]:\n",
        "        return False\n",
        "    if len(data) == 0:\n",
        "        return False\n",
        "\n",
        "    \"\"\"Divide & Conquer\"\"\"\n",
        "    medium = len(data) // 2\n",
        "    if search == data[medium]:\n",
        "        return True\n",
        "    elif search < data[medium]:\n",
        "        return binary_search(data[:medium], search)\n",
        "    elif search > data[medium]:\n",
        "        return binary_search(data[medium+1:], search)"
      ],
      "metadata": {
        "id": "WGdtOhefRQ6a"
      },
      "execution_count": 4,
      "outputs": []
    },
    {
      "cell_type": "code",
      "source": [
        "import random\n",
        "data_list = random.sample(range(100), 10)\n",
        "data_list.sort()\n",
        "data_list"
      ],
      "metadata": {
        "colab": {
          "base_uri": "https://localhost:8080/"
        },
        "id": "Sd00mNrUR-xN",
        "outputId": "a11462bc-b1bc-48e9-dd4a-d00a6b03f5cb"
      },
      "execution_count": 5,
      "outputs": [
        {
          "output_type": "execute_result",
          "data": {
            "text/plain": [
              "[13, 38, 43, 58, 64, 73, 74, 78, 82, 85]"
            ]
          },
          "metadata": {},
          "execution_count": 5
        }
      ]
    },
    {
      "cell_type": "code",
      "source": [
        "binary_search(data_list, 43)"
      ],
      "metadata": {
        "colab": {
          "base_uri": "https://localhost:8080/"
        },
        "id": "x-iDgXC0SEZt",
        "outputId": "c6f3aa3a-ba73-4c69-8c3b-239362024352"
      },
      "execution_count": 6,
      "outputs": [
        {
          "output_type": "stream",
          "name": "stdout",
          "text": [
            "[13, 38, 43, 58, 64, 73, 74, 78, 82, 85]\n",
            "[13, 38, 43, 58, 64]\n"
          ]
        },
        {
          "output_type": "execute_result",
          "data": {
            "text/plain": [
              "True"
            ]
          },
          "metadata": {},
          "execution_count": 6
        }
      ]
    },
    {
      "cell_type": "markdown",
      "source": [
        "# 4. 알고리즘 분석\n",
        "* n개의 리스트를 매번 2로 나눠 1이 될 때까지 비교연산을 k회 진행\n",
        "    - <font size=4em>n X $\\frac { 1 }{ 2 }$ X $\\frac { 1 }{ 2 }$ X $\\frac { 1 }{ 2 }$ ... = 1</font>\n",
        "    - <font size=4em>n X $\\frac { 1 }{ 2 }^k$ = 1</font>\n",
        "    - <font size=4em>n = $2^k$ = $log_2 n$ = $log_2 2^k$</font>\n",
        "    - <font size=4em>$log_2 n$ = k</font>\n",
        "\n",
        "> Big_O 표기법 최종 시간 복잡도 O($log n$)"
      ],
      "metadata": {
        "id": "i9IOSy1iSHQo"
      }
    }
  ]
}