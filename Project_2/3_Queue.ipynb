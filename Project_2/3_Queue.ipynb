{
  "nbformat": 4,
  "nbformat_minor": 0,
  "metadata": {
    "colab": {
      "provenance": [],
      "collapsed_sections": [],
      "authorship_tag": "ABX9TyPZG2Rp7crPOBP46XC0nV5V",
      "include_colab_link": true
    },
    "kernelspec": {
      "name": "python3",
      "display_name": "Python 3"
    },
    "language_info": {
      "name": "python"
    }
  },
  "cells": [
    {
      "cell_type": "markdown",
      "metadata": {
        "id": "view-in-github",
        "colab_type": "text"
      },
      "source": [
        "<a href=\"https://colab.research.google.com/github/JunYoung07/Python_AI_Project/blob/main/3_Queue.ipynb\" target=\"_parent\"><img src=\"https://colab.research.google.com/assets/colab-badge.svg\" alt=\"Open In Colab\"/></a>"
      ]
    },
    {
      "cell_type": "markdown",
      "source": [
        "# 1. 큐(Queue)"
      ],
      "metadata": {
        "id": "dNV1HexWbrY8"
      }
    },
    {
      "cell_type": "markdown",
      "source": [
        "* 가장 먼저 넣은 데이터를 가장 먼저 꺼낼 수 있는 구조\n",
        "* 줄을 서는 행위와 유사\n",
        "* FIFO(First In First Out)"
      ],
      "metadata": {
        "id": "wJA5fUglcUpx"
      }
    },
    {
      "cell_type": "markdown",
      "source": [
        "### 1-1. 큐의 사용\n",
        "* 멀티태스킹을 위한 프로세스 스케쥴링 방식을 구현(운형체제)\n",
        "* 푸시메세지, 문자 메세지"
      ],
      "metadata": {
        "id": "oVHBilfEccGD"
      }
    },
    {
      "cell_type": "markdown",
      "source": [
        "### 1-2. 큐의 용어\n",
        "* [VisualGo](https://visualgo.net/en/list)\n",
        "    * Enqueue: 큐에 데이터를 넣는 기능(삽입)\n",
        "    * Dequeue: 큐에 데이터를 꺼내는 기능"
      ],
      "metadata": {
        "id": "4K3ukrHTzF_K"
      }
    },
    {
      "cell_type": "markdown",
      "source": [
        "### 1-3. queue 라이브러리\n",
        "* `import queue`\n",
        "    * `Queue()`: 가장 일반적인 큐 자료구조\n",
        "        * `put()`: Enqueue\n",
        "        * `get()`: Dequeue\n",
        "        * `qsize()`: queue의 데이터 갯수 반환\n",
        "    * `LifoQueue()`: LIFO방식의 큐 자료구조\n",
        "    * `PriorityQueue()`: 데이터마다 우선순위를 넣어서 우선순위가 높은 순으로 데이터 출력"
      ],
      "metadata": {
        "id": "duPk-9zFzVF-"
      }
    },
    {
      "cell_type": "code",
      "source": [
        "# 일반적인 Queue 만들기\n",
        "import queue\n",
        "\n",
        "data_queue = queue.Queue()\n",
        "data_queue.put('apple')     # Enqueue 'apple'\n",
        "print(data_queue.qsize())\n",
        "data_queue.put('banana')    # Enqueue 'banana'\n",
        "print(data_queue.qsize())\n",
        "print(data_queue.get())     # Dequeue 'apple'\n",
        "print(data_queue.qsize())"
      ],
      "metadata": {
        "colab": {
          "base_uri": "https://localhost:8080/"
        },
        "id": "etbMoRKPz3dH",
        "outputId": "bc4a5de6-21a6-4b80-8333-d02a836c01c7"
      },
      "execution_count": null,
      "outputs": [
        {
          "output_type": "stream",
          "name": "stdout",
          "text": [
            "1\n",
            "2\n",
            "apple\n",
            "1\n"
          ]
        }
      ]
    },
    {
      "cell_type": "code",
      "source": [
        "# python의 Queue는 서로 다른 데이터타입을 한 Queue에 저장할 수 있다.\n",
        "data_queue.put('김사과')\n",
        "data_queue.put(160.5)\n",
        "data_queue.put(True)\n",
        "print(data_queue.qsize())"
      ],
      "metadata": {
        "colab": {
          "base_uri": "https://localhost:8080/"
        },
        "id": "aBxHyIdQ0Rh3",
        "outputId": "d2cd86f5-501c-40f3-8df7-02fc8bd10b77"
      },
      "execution_count": null,
      "outputs": [
        {
          "output_type": "stream",
          "name": "stdout",
          "text": [
            "4\n"
          ]
        }
      ]
    },
    {
      "cell_type": "code",
      "source": [
        "for _ in range(data_queue.qsize()):\n",
        "    item = data_queue.get()\n",
        "    print(item) # 들어간 순서대로 나오는 것을 확인할 수 있다."
      ],
      "metadata": {
        "colab": {
          "base_uri": "https://localhost:8080/"
        },
        "id": "phZsTe4H0npU",
        "outputId": "f0113499-9c22-4b1f-fe99-12c40f6b4033"
      },
      "execution_count": null,
      "outputs": [
        {
          "output_type": "stream",
          "name": "stdout",
          "text": [
            "banana\n",
            "김사과\n",
            "160.5\n",
            "True\n"
          ]
        }
      ]
    },
    {
      "cell_type": "code",
      "source": [
        "# LifoQueue 만들기 (Stack과 유사)\n",
        "data_queue = queue.LifoQueue()\n",
        "data_queue.put('apple')\n",
        "data_queue.put('banana')\n",
        "data_queue.put(160.5)\n",
        "data_queue.put(True)\n",
        "\n",
        "print(data_queue.qsize())\n",
        "for _ in range(data_queue.qsize()):\n",
        "    item = data_queue.get()\n",
        "    print(item) # 들어간 순서의 역순으로 나온다"
      ],
      "metadata": {
        "colab": {
          "base_uri": "https://localhost:8080/"
        },
        "id": "zUvlCeya0wBG",
        "outputId": "21856a02-5879-4cf4-b9bd-b8d432cffd33"
      },
      "execution_count": null,
      "outputs": [
        {
          "output_type": "stream",
          "name": "stdout",
          "text": [
            "4\n",
            "True\n",
            "160.5\n",
            "banana\n",
            "apple\n"
          ]
        }
      ]
    },
    {
      "cell_type": "code",
      "source": [
        "# PriorityQueue 만들기\n",
        "# 값이 작을수로 Priority가 높다\n",
        "data_queue = queue.PriorityQueue()\n",
        "data_queue.put((10, '김사과'))  # 매개변수는 튜플로 받으며, 첫번째는 우선순위 두번째는 데이터가 들어간다\n",
        "data_queue.put((6, '반하나'))\n",
        "data_queue.put((7, '이메론'))\n",
        "data_queue.put((9, '오렌지'))\n",
        "data_queue.put((2, '채애리'))\n",
        "\n",
        "for _ in range(data_queue.qsize()):\n",
        "    print(data_queue.get()) # 우선순위가 높은 순서대로 출력"
      ],
      "metadata": {
        "colab": {
          "base_uri": "https://localhost:8080/"
        },
        "id": "pnGPB8MD1O0v",
        "outputId": "69d7bf3d-7d56-46dd-a589-a9428afaa3b8"
      },
      "execution_count": null,
      "outputs": [
        {
          "output_type": "stream",
          "name": "stdout",
          "text": [
            "(2, '채애리')\n",
            "(6, '반하나')\n",
            "(7, '이메론')\n",
            "(9, '오렌지')\n",
            "(10, '김사과')\n"
          ]
        }
      ]
    },
    {
      "cell_type": "markdown",
      "source": [
        "### 문제\n",
        "리스트 변수로 Queue를 다루는 enqueue, dequeue 기능을 직접 구현해보자"
      ],
      "metadata": {
        "id": "XXqP8BYP19YB"
      }
    },
    {
      "cell_type": "code",
      "source": [
        "queue_list = list()\n",
        "\n",
        "def enqueue(data):\n",
        "    queue_list.append(data)\n",
        "\n",
        "def dequeue():\n",
        "    item = queue_list[0]\n",
        "    del queue_list[0]\n",
        "    return item"
      ],
      "metadata": {
        "id": "FuEIH6TU2IWa"
      },
      "execution_count": null,
      "outputs": []
    },
    {
      "cell_type": "code",
      "source": [
        "enqueue(10)\n",
        "enqueue(12)\n",
        "enqueue(13)\n",
        "print(dequeue())\n",
        "print(queue_list)"
      ],
      "metadata": {
        "id": "FFA2irsK2gpn",
        "outputId": "cf3d39ae-bfc8-4dd3-e204-a7cf8d2f1078",
        "colab": {
          "base_uri": "https://localhost:8080/"
        }
      },
      "execution_count": null,
      "outputs": [
        {
          "output_type": "stream",
          "name": "stdout",
          "text": [
            "10\n",
            "[12, 13]\n"
          ]
        }
      ]
    }
  ]
}