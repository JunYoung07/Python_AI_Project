{
  "nbformat": 4,
  "nbformat_minor": 0,
  "metadata": {
    "colab": {
      "provenance": [],
      "authorship_tag": "ABX9TyORQydbZb+s0MG/wPytcQVt",
      "include_colab_link": true
    },
    "kernelspec": {
      "name": "python3",
      "display_name": "Python 3"
    },
    "language_info": {
      "name": "python"
    }
  },
  "cells": [
    {
      "cell_type": "markdown",
      "metadata": {
        "id": "view-in-github",
        "colab_type": "text"
      },
      "source": [
        "<a href=\"https://colab.research.google.com/github/JunYoung07/Python_AI_Project/blob/main/5_LinkedList.ipynb\" target=\"_parent\"><img src=\"https://colab.research.google.com/assets/colab-badge.svg\" alt=\"Open In Colab\"/></a>"
      ]
    },
    {
      "cell_type": "markdown",
      "source": [
        "# 1. 링크드리스트(Linked List)"
      ],
      "metadata": {
        "id": "mCwN-fZIfok6"
      }
    },
    {
      "cell_type": "markdown",
      "source": [
        "* 떨어진 곳에 존재하는 데이터를 화살표로 연결해서 관리하는 구조\n",
        "* 데이터의 삽입과 삭제가 매우 빠르다 (배열의 한계 극복)\n",
        "* C언어에서는 중요한 자료구조지만, 파이썬에서는 리스트 타입이 링크드 리스트 역할도 지원"
      ],
      "metadata": {
        "id": "a8vPI_CmfwHY"
      }
    },
    {
      "cell_type": "markdown",
      "source": [
        "### 1-1. 링크드리스트의 용어"
      ],
      "metadata": {
        "id": "Yww4fDz-f7Ot"
      }
    },
    {
      "cell_type": "markdown",
      "source": [
        "* 노드(Node): **데이터 저장 단위**(데이터, 포인터)로 구성  \n",
        "\n",
        "|데이터|주소|\n",
        "|---|---|\n",
        "|값|포인터|\n",
        "\n",
        "* 포인터(Pointer): 각 노드 안에서 다음이나 이전의 노드와의 **연결정보**를 가지고 있는 공간"
      ],
      "metadata": {
        "id": "UlBtZrJ1f-F1"
      }
    },
    {
      "cell_type": "code",
      "source": [
        "# 링크드 리스트 파이썬으로 구현\n",
        "# 링크드 리스트를 구현할 때 클래스를 주로 활용\n",
        "class Node:\n",
        "    def __init__(self, data):\n",
        "        self.data = data    # 값\n",
        "        self.next = None    # Pointer"
      ],
      "metadata": {
        "id": "P30UzW_egY_l"
      },
      "execution_count": 1,
      "outputs": []
    },
    {
      "cell_type": "code",
      "source": [
        "# Heap메모리에 Node클래스가 저장됨\n",
        "# 두 개의 Node 객체 생성 뒤 데이터에 각각의 값을 저장하고 있다\n",
        "node1 = Node(10)\n",
        "node2 = Node(20)\n",
        "print(node1)\n",
        "print(node2)    # 두 객체가 서로 다른 메모리 공간에 존재하는 링크드리스트의 장점\n",
        "\n",
        "node1.next = node2  # node2의 주소를 node1의 pointer에 저장\n",
        "head = node1    # head를 시작점으로 지정"
      ],
      "metadata": {
        "colab": {
          "base_uri": "https://localhost:8080/"
        },
        "id": "LwHb2uLXgjfd",
        "outputId": "f23fd913-0692-4584-aa79-752a10e73193"
      },
      "execution_count": 2,
      "outputs": [
        {
          "output_type": "stream",
          "name": "stdout",
          "text": [
            "<__main__.Node object at 0x7f1067f73e10>\n",
            "<__main__.Node object at 0x7f1067f73dd0>\n"
          ]
        }
      ]
    },
    {
      "cell_type": "code",
      "source": [
        "print(node2)\n",
        "print(node1.next)   # node1의 pointer가 node2의 주소와 동일일"
      ],
      "metadata": {
        "colab": {
          "base_uri": "https://localhost:8080/"
        },
        "id": "vGwvixh7hSOv",
        "outputId": "81c61f26-8524-40e5-e115-a715eb3ffbaf"
      },
      "execution_count": 3,
      "outputs": [
        {
          "output_type": "stream",
          "name": "stdout",
          "text": [
            "<__main__.Node object at 0x7f1067f73dd0>\n",
            "<__main__.Node object at 0x7f1067f73dd0>\n"
          ]
        }
      ]
    },
    {
      "cell_type": "markdown",
      "source": [
        "### 1-2. 링크드리스트로 데이터 추가하기"
      ],
      "metadata": {
        "id": "WdoBQP-6hX-k"
      }
    },
    {
      "cell_type": "code",
      "source": [
        "class Node:\n",
        "    def __init__(self, data):\n",
        "        self.data = data\n",
        "        self.next = None\n",
        "\n",
        "    def add(self, data):\n",
        "        node = head\n",
        "        while node.next:\n",
        "            node = node.next    # node가 마지막을 가리킬 때 까지 반복\n",
        "        node.next = Node(data)"
      ],
      "metadata": {
        "id": "fiqrjd8lhiYR"
      },
      "execution_count": 4,
      "outputs": []
    },
    {
      "cell_type": "code",
      "source": [
        "node1 = Node(10)\n",
        "head = node1\n",
        "\n",
        "for index in range(2, 11):\n",
        "    node1.add(index * 10)"
      ],
      "metadata": {
        "id": "fAO7qLwhh8Y2"
      },
      "execution_count": 14,
      "outputs": []
    },
    {
      "cell_type": "markdown",
      "source": [
        "### 1-3. 링크드리스트 데이터 출력하기"
      ],
      "metadata": {
        "id": "n5TeWk6AiDsN"
      }
    },
    {
      "cell_type": "code",
      "source": [
        "node = head\n",
        "while node.next:\n",
        "    print(node.data, end=' ->> ')\n",
        "    node = node.next\n",
        "print(node.data)"
      ],
      "metadata": {
        "colab": {
          "base_uri": "https://localhost:8080/"
        },
        "id": "YYySckHmiR2Y",
        "outputId": "3bf3a0a9-a713-40b5-f869-8ae661845c47"
      },
      "execution_count": 15,
      "outputs": [
        {
          "output_type": "stream",
          "name": "stdout",
          "text": [
            "10 ->> 20 ->> 30 ->> 40 ->> 50 ->> 60 ->> 70 ->> 80 ->> 90 ->> 100\n"
          ]
        }
      ]
    },
    {
      "cell_type": "markdown",
      "source": [
        "### 문제\n",
        "데이터 30과 40 사이에 35를 삽입하는 코드 작성하기"
      ],
      "metadata": {
        "id": "eBCu6swBieAv"
      }
    },
    {
      "cell_type": "code",
      "source": [
        "nnode = Node(35)\n",
        "node = head\n",
        "while node.data != 30:\n",
        "    node = node.next    # 노드 30 을 마주칠 때까지 반복복\n",
        "\n",
        "temp = node.next\n",
        "node.next = nnode   # 노드 30 의 pointer가 35를 가르키도록 한다.\n",
        "nnode.next = temp   # 노드 30 의 원래 pointer가 노드 35의 pointer에 저장된다."
      ],
      "metadata": {
        "id": "5qfVnMkt9v3k"
      },
      "execution_count": 16,
      "outputs": []
    },
    {
      "cell_type": "code",
      "source": [
        "node = head\n",
        "while node.next:\n",
        "    print(node.data, end=' ->> ')\n",
        "    node = node.next\n",
        "print(node.data)"
      ],
      "metadata": {
        "colab": {
          "base_uri": "https://localhost:8080/"
        },
        "id": "_rtr8p0r-pSL",
        "outputId": "d1e5f7ba-a23b-42d4-a87b-1061dc386b3b"
      },
      "execution_count": 17,
      "outputs": [
        {
          "output_type": "stream",
          "name": "stdout",
          "text": [
            "10 ->> 20 ->> 30 ->> 35 ->> 40 ->> 50 ->> 60 ->> 70 ->> 80 ->> 90 ->> 100\n"
          ]
        }
      ]
    },
    {
      "cell_type": "markdown",
      "source": [
        "# 객체지향 프로그래밍으로 링크드리스트 구현"
      ],
      "metadata": {
        "id": "SP4vH4VD-qW3"
      }
    },
    {
      "cell_type": "code",
      "source": [
        "class Node:\n",
        "    def __init__(self, data, next=None):\n",
        "        self.data = data\n",
        "        self.next = next\n",
        "\n",
        "class NodeMgmt:\n",
        "    def __init__(self, data):\n",
        "        self.head = Node(data)\n",
        "    \n",
        "    def add(self, data):\n",
        "        if self.head == None:\n",
        "            self.head = Node(data)\n",
        "        else:\n",
        "            node = self.head\n",
        "            while node.next:\n",
        "                node = node.next\n",
        "            node.next = Node(data)\n",
        "\n",
        "    def node_print(self):\n",
        "        node = self.head\n",
        "        while node:\n",
        "            print(node.data, end=' ->> ')\n",
        "            node = node.next\n",
        "        print('None')\n",
        "    \n",
        "    def delete(self, data):\n",
        "        if self.head.data == data:\n",
        "            temp = self.head\n",
        "            self.head = self.head.next\n",
        "            del temp\n",
        "        else:\n",
        "            node = self.head\n",
        "            while node.next:\n",
        "                if node.next.data == data:\n",
        "                    temp = node.next\n",
        "                    node.next = node.next.next\n",
        "                    del temp\n",
        "                    return \n",
        "                else:\n",
        "                    node = node.next"
      ],
      "metadata": {
        "id": "NOItv-NY_o8m"
      },
      "execution_count": 27,
      "outputs": []
    },
    {
      "cell_type": "code",
      "source": [
        "linkedlist1 = NodeMgmt(0)\n",
        "linkedlist1.node_print()\n",
        "linkedlist1.delete(0)\n",
        "linkedlist1.node_print()"
      ],
      "metadata": {
        "colab": {
          "base_uri": "https://localhost:8080/"
        },
        "id": "xBghoG1CCE-_",
        "outputId": "9f68ffd9-0aba-45ab-e987-bb70a7e562ca"
      },
      "execution_count": 31,
      "outputs": [
        {
          "output_type": "stream",
          "name": "stdout",
          "text": [
            "0 ->> None\n",
            "None\n"
          ]
        }
      ]
    },
    {
      "cell_type": "code",
      "source": [
        "linkedlist1 = NodeMgmt(0)\n",
        "for data in range(1, 11):\n",
        "    linkedlist1.add(data)\n",
        "\n",
        "linkedlist1.node_print()"
      ],
      "metadata": {
        "colab": {
          "base_uri": "https://localhost:8080/"
        },
        "id": "M8EDVq9oBMnM",
        "outputId": "2eb49c22-25b6-4e7b-e044-06b4cacdc5c8"
      },
      "execution_count": 29,
      "outputs": [
        {
          "output_type": "stream",
          "name": "stdout",
          "text": [
            "0 ->> 1 ->> 2 ->> 3 ->> 4 ->> 5 ->> 6 ->> 7 ->> 8 ->> 9 ->> 10 ->> None\n"
          ]
        }
      ]
    },
    {
      "cell_type": "code",
      "source": [
        "linkedlist1.delete(10)\n",
        "linkedlist1.node_print()"
      ],
      "metadata": {
        "colab": {
          "base_uri": "https://localhost:8080/"
        },
        "id": "OVB7N_JWBdFT",
        "outputId": "c8b7a32d-721d-43ca-db11-3e8e43f47099"
      },
      "execution_count": 30,
      "outputs": [
        {
          "output_type": "stream",
          "name": "stdout",
          "text": [
            "0 ->> 1 ->> 2 ->> 3 ->> 4 ->> 5 ->> 6 ->> 7 ->> 8 ->> 9 ->> None\n"
          ]
        }
      ]
    }
  ]
}