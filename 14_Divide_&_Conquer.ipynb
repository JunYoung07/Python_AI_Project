{
  "nbformat": 4,
  "nbformat_minor": 0,
  "metadata": {
    "colab": {
      "provenance": [],
      "authorship_tag": "ABX9TyNTcMnO4SuGumdErrxTS0LS",
      "include_colab_link": true
    },
    "kernelspec": {
      "name": "python3",
      "display_name": "Python 3"
    },
    "language_info": {
      "name": "python"
    }
  },
  "cells": [
    {
      "cell_type": "markdown",
      "metadata": {
        "id": "view-in-github",
        "colab_type": "text"
      },
      "source": [
        "<a href=\"https://colab.research.google.com/github/JunYoung07/Python_AI_Project/blob/main/14_Divide_%26_Conquer.ipynb\" target=\"_parent\"><img src=\"https://colab.research.google.com/assets/colab-badge.svg\" alt=\"Open In Colab\"/></a>"
      ]
    },
    {
      "cell_type": "markdown",
      "source": [
        "# 1. 분할 정복(Divide Conquer)"
      ],
      "metadata": {
        "id": "pOUWgZM84H9A"
      }
    },
    {
      "cell_type": "markdown",
      "source": [
        "* 문제를 나눌 수 없을 때까지 나누어서 각각을 풀면서 다시 병합하여 문제의 답을 얻는 알고리즘\n",
        "* 하향식 접근법으로 상위의 해답을 구하기 위하여 아래로 내려가면서 하위의 해답을 구하는 방식(재귀함수로 구현)\n",
        "* 문제를 잘게 쪼갤 때 부분 문제는 서로 중복되지 않게 해야함(예: 병합 정렬, 퀵 정렬 등)\n",
        "* Memoization기법을 사용하지 않음"
      ],
      "metadata": {
        "id": "CJlCydvk4U-q"
      }
    },
    {
      "cell_type": "markdown",
      "source": [
        "# 2. 대표적인 분할 정복 알고리즘: 퀵 정렬(quick sort)\n"
      ],
      "metadata": {
        "id": "H0uC7UpV4rKS"
      }
    },
    {
      "cell_type": "markdown",
      "source": [
        "* 정렬 알고리즘의 꽃\n",
        "* 기준점(pivot)을 정해서 기준점보다 작은 데이터는 왼쪽(left), 큰 데이터는 오른쪽(right)로 모으는 함수를 작성\n",
        "* 각 왼쪽 오른쪽은  재귀용법을 사용해서 다시 동일 함수를 호출하여 위 작업을 반복"
      ],
      "metadata": {
        "id": "fJHbt9Ru4x0-"
      }
    },
    {
      "cell_type": "markdown",
      "source": [
        "### 2-1. 퀵 정렬 알고리즘 구현\n",
        "* 리스트 개수가 1개면 해당 리스트 리턴\n",
        "* 리스트 맨 앞의 데이터를 기준점으로 정함\n",
        "* `left`, `right`리스트 변수를 생성\n",
        "* 맨 앞의 데이터를 뺀 나머지 데이터를 기준점과 비교\n",
        "    * 기준점보다 작으면 `left.append`\n",
        "    * 기준점보다 크면 `right.append`\n",
        "* `return quicksort(left) + pivot + quicksort(right)`"
      ],
      "metadata": {
        "id": "PPt3G35t4zIN"
      }
    },
    {
      "cell_type": "code",
      "source": [
        "# 퀵 정렬 구현\n",
        "def quick_sort(data):\n",
        "    if len(data) <= 1:\n",
        "        return data\n",
        "    pivot = data[0]\n",
        "    left, right = [], []\n",
        "    for index in range(1, len(data)):\n",
        "        if data[index] < pivot:\n",
        "            left.append(data[index])\n",
        "        else:\n",
        "            right.append(data[index])\n",
        "    return quick_sort(left) + [pivot] + quick_sort(right)"
      ],
      "metadata": {
        "id": "MSgumsi15Y5K"
      },
      "execution_count": 6,
      "outputs": []
    },
    {
      "cell_type": "code",
      "source": [
        "import random\n",
        "\n",
        "data_list = random.sample(range(100), 10)\n",
        "data_list"
      ],
      "metadata": {
        "colab": {
          "base_uri": "https://localhost:8080/"
        },
        "id": "2GB25PtU57vP",
        "outputId": "cb9aa909-8572-4e24-96ef-81506fad8c81"
      },
      "execution_count": 7,
      "outputs": [
        {
          "output_type": "execute_result",
          "data": {
            "text/plain": [
              "[58, 40, 53, 60, 70, 28, 16, 97, 33, 38]"
            ]
          },
          "metadata": {},
          "execution_count": 7
        }
      ]
    },
    {
      "cell_type": "code",
      "source": [
        "quick_sort(data_list)"
      ],
      "metadata": {
        "colab": {
          "base_uri": "https://localhost:8080/"
        },
        "id": "ZZlyoKRF6DNB",
        "outputId": "c0ad1daf-3067-4658-af43-d6b7928991db"
      },
      "execution_count": 8,
      "outputs": [
        {
          "output_type": "execute_result",
          "data": {
            "text/plain": [
              "[16, 28, 33, 38, 40, 53, 58, 60, 70, 97]"
            ]
          },
          "metadata": {},
          "execution_count": 8
        }
      ]
    },
    {
      "cell_type": "code",
      "source": [
        "# list comprehension\n",
        "def quick_sort(data):\n",
        "    if len(data) <= 1:\n",
        "        return data\n",
        "    pivot = data[0]\n",
        "    left = [item for item in data[1:] if item < pivot]\n",
        "    right = [item for item in data[1:] if item >= pivot]\n",
        "    return quick_sort(left) + [pivot] + quick_sort(right)"
      ],
      "metadata": {
        "id": "FwCSjcyo6EwZ"
      },
      "execution_count": 9,
      "outputs": []
    },
    {
      "cell_type": "code",
      "source": [
        "quick_sort(data_list)"
      ],
      "metadata": {
        "colab": {
          "base_uri": "https://localhost:8080/"
        },
        "id": "zlrPQIl57CQC",
        "outputId": "21479804-2d87-46f2-c3f1-1c5b4b07c0dd"
      },
      "execution_count": 10,
      "outputs": [
        {
          "output_type": "execute_result",
          "data": {
            "text/plain": [
              "[16, 28, 33, 38, 40, 53, 58, 60, 70, 97]"
            ]
          },
          "metadata": {},
          "execution_count": 10
        }
      ]
    }
  ]
}