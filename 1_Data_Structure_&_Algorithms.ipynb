{
  "nbformat": 4,
  "nbformat_minor": 0,
  "metadata": {
    "colab": {
      "provenance": [],
      "collapsed_sections": [],
      "authorship_tag": "ABX9TyOY364eCllN3U2/HwJJmeKV",
      "include_colab_link": true
    },
    "kernelspec": {
      "name": "python3",
      "display_name": "Python 3"
    },
    "language_info": {
      "name": "python"
    }
  },
  "cells": [
    {
      "cell_type": "markdown",
      "metadata": {
        "id": "view-in-github",
        "colab_type": "text"
      },
      "source": [
        "<a href=\"https://colab.research.google.com/github/JunYoung07/Python_AI_Project/blob/main/1_Data_Structure_%26_Algorithms.ipynb\" target=\"_parent\"><img src=\"https://colab.research.google.com/assets/colab-badge.svg\" alt=\"Open In Colab\"/></a>"
      ]
    },
    {
      "cell_type": "markdown",
      "source": [
        "# 1. 자료구조(Data Structure)"
      ],
      "metadata": {
        "id": "tCyef6RLW3wX"
      }
    },
    {
      "cell_type": "markdown",
      "source": [
        "* 코드 상에서 효율적으로 데이터를 처리하기 위해, 데이터의 특징에 따라 체계적으로 구조화해서 저장\n",
        "* 대표적인 자료구조\n",
        "    * 배열(Array)\n",
        "    * 스택(Stack)\n",
        "    * 링크드리스트(Linked List)\n",
        "    * 해쉬테이블(Hash Table)\n",
        "    * 힙(Heap)\n",
        "    * ..."
      ],
      "metadata": {
        "id": "ZaWY2xC-XJwz"
      }
    },
    {
      "cell_type": "markdown",
      "source": [
        "# 2.알고리즘(Alsgorithm)"
      ],
      "metadata": {
        "id": "H2SCz77sXg9L"
      }
    },
    {
      "cell_type": "markdown",
      "source": [
        "* 어떤 문제를 풀기 위한 절차 및 방법\n",
        "* 입력을 넣으면 원하는 출력을 얻을 수 있도록 만든 프로그램"
      ],
      "metadata": {
        "id": "-DHipc7MXj1E"
      }
    },
    {
      "cell_type": "markdown",
      "source": [
        "# 3. 자료구조와 알고리즘이 중요한 이유"
      ],
      "metadata": {
        "id": "Z4kYfy1OXp0t"
      }
    },
    {
      "cell_type": "markdown",
      "source": [
        "* 어떤 자료구조와 알고리즘을 사용하느냐에 따라 프로그램의 성능 차이가 큼\n",
        "* 두 가지를 잘 활용하는 것이 중요"
      ],
      "metadata": {
        "id": "pb_uxqkmXz4j"
      }
    },
    {
      "cell_type": "markdown",
      "source": [
        "# 4. 파이썬을 활용한 자료구조와 알고리즘"
      ],
      "metadata": {
        "id": "28vCzjR6X4-R"
      }
    },
    {
      "cell_type": "markdown",
      "source": [
        "* 어떤 언어로든 자료구조와 알고리즘을 익힐 수 있다\n",
        "* 가장 쉽고, 빠르게 자료구조/알고리즘을 익힐 수 있고 평가할 수 있는 언어"
      ],
      "metadata": {
        "id": "EW3W_9NlX8OL"
      }
    }
  ]
}