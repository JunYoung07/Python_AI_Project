{
  "nbformat": 4,
  "nbformat_minor": 0,
  "metadata": {
    "colab": {
      "provenance": [],
      "collapsed_sections": [],
      "authorship_tag": "ABX9TyOw0N5Dphz77IdKRozMlhSl",
      "include_colab_link": true
    },
    "kernelspec": {
      "name": "python3",
      "display_name": "Python 3"
    },
    "language_info": {
      "name": "python"
    }
  },
  "cells": [
    {
      "cell_type": "markdown",
      "metadata": {
        "id": "view-in-github",
        "colab_type": "text"
      },
      "source": [
        "<a href=\"https://colab.research.google.com/github/JunYoung07/Python_AI_Project/blob/main/7_Tuple.ipynb\" target=\"_parent\"><img src=\"https://colab.research.google.com/assets/colab-badge.svg\" alt=\"Open In Colab\"/></a>"
      ]
    },
    {
      "cell_type": "markdown",
      "source": [
        "# 1. 튜플(Tuple)"
      ],
      "metadata": {
        "id": "81L-HwRmaT8q"
      }
    },
    {
      "cell_type": "markdown",
      "source": [
        "* 리스트와 비슷하지만, 리스트는 []로 튜플은 ()로\n",
        "* 수정/삭제가 불가능"
      ],
      "metadata": {
        "id": "MEXK_SHHauwU"
      }
    },
    {
      "cell_type": "code",
      "source": [
        "tu1 = ()            # create tuple\n",
        "tu2 = (1, 3, 5, 7)\n",
        "tu3 = 1, 3, 5, 7\n",
        "print(type(tu2))\n",
        "print(type(tu3))"
      ],
      "metadata": {
        "colab": {
          "base_uri": "https://localhost:8080/"
        },
        "id": "TceKUMbfa2hT",
        "outputId": "a0a4f52c-8cbe-4b24-b5e6-241b2398a0f6"
      },
      "execution_count": 1,
      "outputs": [
        {
          "output_type": "stream",
          "name": "stdout",
          "text": [
            "<class 'tuple'>\n",
            "<class 'tuple'>\n"
          ]
        }
      ]
    },
    {
      "cell_type": "code",
      "source": [
        "tu4 = ('apple', 'banana', ('김사과', '반하나'))\n",
        "tu5 = ('apple', 'banana', ['apple', 'banana'])\n",
        "print(tu4)\n",
        "print(tu5)"
      ],
      "metadata": {
        "colab": {
          "base_uri": "https://localhost:8080/"
        },
        "id": "EtoqyO89bNG9",
        "outputId": "83207c3b-765c-44af-dc7f-00e01987333a"
      },
      "execution_count": 2,
      "outputs": [
        {
          "output_type": "stream",
          "name": "stdout",
          "text": [
            "('apple', 'banana', ('김사과', '반하나'))\n",
            "('apple', 'banana', ['apple', 'banana'])\n"
          ]
        }
      ]
    },
    {
      "cell_type": "markdown",
      "source": [
        "# 2. 튜플의 수정 및 삭제\n",
        "* 파이썬 메모리 stack에 저장된 참조변수의 경우 수정/삭제가 가능하다.\n",
        "* 파이썬 메모리 heap에 저장된 Tuple의 경우 수정/삭제가 불가능하다.\n"
      ],
      "metadata": {
        "id": "5v7tpzgFbnsQ"
      }
    },
    {
      "cell_type": "code",
      "source": [
        "tu6 = (1, 2, 'apple', 'banana')\n",
        "# tu6[3] = 'orange'     # TypeError: 'tuple' object does not support item assignment\n",
        "del tu6"
      ],
      "metadata": {
        "id": "NrMfC226flZ0"
      },
      "execution_count": 5,
      "outputs": []
    },
    {
      "cell_type": "markdown",
      "source": [
        "* 튜플 내의 리스트내의 데이터는 수정/삭제가 가능하다."
      ],
      "metadata": {
        "id": "FcBN9q0Xf5qW"
      }
    },
    {
      "cell_type": "code",
      "source": [
        "tu5[2][0] = 'corn'\n",
        "print(tu5)"
      ],
      "metadata": {
        "colab": {
          "base_uri": "https://localhost:8080/"
        },
        "id": "6DYhQ052f18l",
        "outputId": "b40ec82f-6fd2-4ea1-a69f-732cd036fb2d"
      },
      "execution_count": 6,
      "outputs": [
        {
          "output_type": "stream",
          "name": "stdout",
          "text": [
            "('apple', 'banana', ['corn', 'banana'])\n"
          ]
        }
      ]
    },
    {
      "cell_type": "code",
      "source": [
        "tu7 = (1, 2, 'apple', 'banana')\n",
        "tu7 = [1, 2, 'apple', 'banana']\n",
        "print(tu7)"
      ],
      "metadata": {
        "colab": {
          "base_uri": "https://localhost:8080/"
        },
        "id": "aQeV7NGHgKVr",
        "outputId": "672fcf82-0ed4-43cf-f890-02109ab31b23"
      },
      "execution_count": 7,
      "outputs": [
        {
          "output_type": "stream",
          "name": "stdout",
          "text": [
            "[1, 2, 'apple', 'banana']\n"
          ]
        }
      ]
    },
    {
      "cell_type": "markdown",
      "source": [
        "# 3. 튜플의 인덱싱과 슬라이싱 연산\n",
        "* 리스트와 같다"
      ],
      "metadata": {
        "id": "Yvjd51XsgXwL"
      }
    },
    {
      "cell_type": "code",
      "source": [
        "tu8 = (1, 2, 'apple', 'banana')\n",
        "\n",
        "# indexing\n",
        "print(tu8[0])\n",
        "print(tu8[-1])\n",
        "# slicing\n",
        "print(tu8[1:])\n",
        "print(tu8[1:3])\n",
        "# add(conect)\n",
        "tu9 = (30, 40)\n",
        "print(tu8 + tu9)\n",
        "# multiple(repeat)\n",
        "print(tu8 * 3)\n",
        "# count Data\n",
        "print(len(tu8))"
      ],
      "metadata": {
        "colab": {
          "base_uri": "https://localhost:8080/"
        },
        "id": "QbUQ4BqmgbJF",
        "outputId": "313dfbf6-446b-4ba7-f26a-4f0b67afc1e6"
      },
      "execution_count": 8,
      "outputs": [
        {
          "output_type": "stream",
          "name": "stdout",
          "text": [
            "1\n",
            "banana\n",
            "(2, 'apple', 'banana')\n",
            "(2, 'apple')\n",
            "(1, 2, 'apple', 'banana', 30, 40)\n",
            "(1, 2, 'apple', 'banana', 1, 2, 'apple', 'banana', 1, 2, 'apple', 'banana')\n",
            "4\n"
          ]
        }
      ]
    },
    {
      "cell_type": "code",
      "source": [
        "tu11 = (1, 3, 2, 0)\n",
        "tu12 = sorted(tu11) # sorted() -> Built-in Function\n",
        "print(tu12)"
      ],
      "metadata": {
        "colab": {
          "base_uri": "https://localhost:8080/"
        },
        "id": "4abG9c6JhPdd",
        "outputId": "5bafd992-7cce-4c82-d2f1-fe874ed1902f"
      },
      "execution_count": 9,
      "outputs": [
        {
          "output_type": "stream",
          "name": "stdout",
          "text": [
            "[0, 1, 2, 3]\n"
          ]
        }
      ]
    }
  ]
}