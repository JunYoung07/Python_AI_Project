{
  "nbformat": 4,
  "nbformat_minor": 0,
  "metadata": {
    "colab": {
      "provenance": [],
      "collapsed_sections": [],
      "authorship_tag": "ABX9TyMcYgEFwGKff2D9aAAH9iZH",
      "include_colab_link": true
    },
    "kernelspec": {
      "name": "python3",
      "display_name": "Python 3"
    },
    "language_info": {
      "name": "python"
    }
  },
  "cells": [
    {
      "cell_type": "markdown",
      "metadata": {
        "id": "view-in-github",
        "colab_type": "text"
      },
      "source": [
        "<a href=\"https://colab.research.google.com/github/JunYoung07/Python_AI_Project/blob/main/16_%EC%83%81%EC%86%8D.ipynb\" target=\"_parent\"><img src=\"https://colab.research.google.com/assets/colab-badge.svg\" alt=\"Open In Colab\"/></a>"
      ]
    },
    {
      "cell_type": "markdown",
      "source": [
        "# 1. 상속"
      ],
      "metadata": {
        "id": "O71-RxJ8HGp9"
      }
    },
    {
      "cell_type": "markdown",
      "source": [
        "* 기존의 저장해둔 클래스의 기능을 그대로 물려받음\n",
        "* 기존 클래스의 기능 일부를 추가하거나, 변경하여 새로운 클래스를 정의\n",
        "* 코드를 재사용할 수 있게 됨\n",
        "* 안정적이고 유지보수에 용이함\n",
        "* 상속을 받고자 하는 대상인 기존 클래스를 부모, parent, super, base라고 부름.\n",
        "* 상속을 받는 새로운 클래스는 자식, child, sub라고 부름"
      ],
      "metadata": {
        "id": "ypIjJ7e2HO7u"
      }
    },
    {
      "cell_type": "code",
      "source": [
        "class Animal:\n",
        "    def __init__(self, name, age):\n",
        "        self.name = name\n",
        "        self.age = age\n",
        "\n",
        "    def eat(self, food):\n",
        "        print('{}는 {}를 먹습니다.'.format(self.name, food))\n",
        "\n",
        "    def sleep(self, hour):\n",
        "        print('{}는 {}시간동안 잡니다.'.format(self.name, hour))"
      ],
      "metadata": {
        "id": "4yQ_5ZMpHhvX"
      },
      "execution_count": 2,
      "outputs": []
    },
    {
      "cell_type": "code",
      "source": [
        "animal = Animal('동물', 5)\n",
        "animal.eat('먹이')\n",
        "animal.sleep(6)"
      ],
      "metadata": {
        "colab": {
          "base_uri": "https://localhost:8080/"
        },
        "id": "Kba3SohJPIEz",
        "outputId": "e08d7b98-9180-493e-e88d-9303f1c324f2"
      },
      "execution_count": 4,
      "outputs": [
        {
          "output_type": "stream",
          "name": "stdout",
          "text": [
            "동물는 먹이를 먹습니다.\n",
            "동물는 6시간동안 잡니다.\n"
          ]
        }
      ]
    },
    {
      "cell_type": "code",
      "source": [
        "class Dog(Animal): # Animal 클래스 상속\n",
        "    pass"
      ],
      "metadata": {
        "id": "CpWQD5whPTNZ"
      },
      "execution_count": 5,
      "outputs": []
    },
    {
      "cell_type": "code",
      "source": [
        "Rucy = Dog('루시', 12)\n",
        "Rucy.eat('사료')\n",
        "Rucy.sleep(8)"
      ],
      "metadata": {
        "colab": {
          "base_uri": "https://localhost:8080/"
        },
        "id": "78yKKAPAPbGs",
        "outputId": "cb8d4c0f-066c-419f-b8db-3cec704d3c4e"
      },
      "execution_count": 6,
      "outputs": [
        {
          "output_type": "stream",
          "name": "stdout",
          "text": [
            "루시는 사료를 먹습니다.\n",
            "루시는 8시간동안 잡니다.\n"
          ]
        }
      ]
    },
    {
      "cell_type": "markdown",
      "source": [
        "# 2. 메소드 오버라이딩(Override)"
      ],
      "metadata": {
        "id": "gF97ZNoSPh7W"
      }
    },
    {
      "cell_type": "markdown",
      "source": [
        "* 부모 클래스의 method를 재정의\n",
        "* 자식 클래스의 인스턴스 호출 시, 재정의된 메소드가 호출됨\n",
        "* 오버라이드 하려는 메서드와 signature가 같아야 한다."
      ],
      "metadata": {
        "id": "r5X8u7t-Pn0_"
      }
    },
    {
      "cell_type": "code",
      "source": [
        "class Animal:\n",
        "    def __init__(self, name, age):\n",
        "        self.name = name\n",
        "        self.age = age\n",
        "    \n",
        "    def eat(self, food):\n",
        "        print('{}는 {}를 먹습니다.'.format(self.name, food))\n",
        "    \n",
        "    def sleep(self, hour):\n",
        "        print('{}는 {}시간동안 잡니다.'.format(self.name, hour))"
      ],
      "metadata": {
        "id": "Z6f8631fPuzL"
      },
      "execution_count": 7,
      "outputs": []
    },
    {
      "cell_type": "code",
      "source": [
        "class Dog(Animal):\n",
        "    def eat(self, food):    # signature가 다르면 메서드 재정의 (오버라이드가 아님)\n",
        "        print('{}는 {}를 아주 맛있게 먹습니다.'.format(self.name, food))"
      ],
      "metadata": {
        "id": "YURnGCnQQCF-"
      },
      "execution_count": 8,
      "outputs": []
    },
    {
      "cell_type": "code",
      "source": [
        "Rucy = Dog('루시', 12)\n",
        "Rucy.eat('사료')\n",
        "Rucy.sleep(8)"
      ],
      "metadata": {
        "colab": {
          "base_uri": "https://localhost:8080/"
        },
        "id": "pQoAA18eQTrI",
        "outputId": "428de4ca-5fa6-400a-c25b-d5c98c2c8eae"
      },
      "execution_count": 9,
      "outputs": [
        {
          "output_type": "stream",
          "name": "stdout",
          "text": [
            "루시는 사료를 아주 맛있게 먹습니다.\n",
            "루시는 8시간동안 잡니다.\n"
          ]
        }
      ]
    },
    {
      "cell_type": "code",
      "source": [
        "class Ani(Animal):\n",
        "    def __init__(self, name, age):\n",
        "        self.name = name\n",
        "        self.age = age\n",
        "        print('{}는 {}살 입니다.'.format(self.name, self.age))"
      ],
      "metadata": {
        "id": "8D-nsQsiQZUm"
      },
      "execution_count": 10,
      "outputs": []
    },
    {
      "cell_type": "code",
      "source": [
        "Cat = Ani('고양이', 4)\n",
        "Cat.eat('사료')\n",
        "Cat.sleep('8')"
      ],
      "metadata": {
        "colab": {
          "base_uri": "https://localhost:8080/"
        },
        "id": "jtNRm0AXQvHk",
        "outputId": "82fa0061-dca7-47dd-8f57-0a417782c00d"
      },
      "execution_count": 12,
      "outputs": [
        {
          "output_type": "stream",
          "name": "stdout",
          "text": [
            "고양이는 4살 입니다.\n",
            "고양이는 사료를 먹습니다.\n",
            "고양이는 8시간동안 잡니다.\n"
          ]
        }
      ]
    },
    {
      "cell_type": "markdown",
      "source": [
        "# 3. 다중 상속"
      ],
      "metadata": {
        "id": "PRi_qnY_Q0gM"
      }
    },
    {
      "cell_type": "markdown",
      "source": [
        "* 두 개의 부모클래스의 생성자가 같아야 한다.\n",
        "* 생성자가 없는 경우 많이 사용한다."
      ],
      "metadata": {
        "id": "thpEGMQSQ93o"
      }
    },
    {
      "cell_type": "code",
      "source": [
        "class Animal:\n",
        "    def __init__(self, name, age):\n",
        "        self.name = name\n",
        "        self.age = age\n",
        "\n",
        "    def eat(self, food):\n",
        "        print('{}는 {}를 먹습니다.'.format(self.name, food))\n",
        "\n",
        "    def sleep(self, hour):\n",
        "        print('{}는 {}시간동안 잡니다.'.format(self.name, hour))"
      ],
      "metadata": {
        "id": "bi_BWcNZRHPs"
      },
      "execution_count": 17,
      "outputs": []
    },
    {
      "cell_type": "code",
      "source": [
        "class Human:\n",
        "    def __init__(self, name, age):\n",
        "        self.name = name\n",
        "        self.age = age\n",
        "\n",
        "    def study(self, hour):\n",
        "        print('{}는 {}시간동안 공부합니다.'.format(self.name, hour))"
      ],
      "metadata": {
        "id": "PBS4tZMwRcS0"
      },
      "execution_count": 21,
      "outputs": []
    },
    {
      "cell_type": "code",
      "source": [
        "class KimApple(Animal, Human):\n",
        "    pass"
      ],
      "metadata": {
        "id": "SsG6rmaTRn3Y"
      },
      "execution_count": 22,
      "outputs": []
    },
    {
      "cell_type": "code",
      "source": [
        "kim = KimApple('김사과', 20)\n",
        "kim.eat('밥')\n",
        "kim.sleep(10)\n",
        "kim.study(4)"
      ],
      "metadata": {
        "colab": {
          "base_uri": "https://localhost:8080/"
        },
        "id": "nuBRjQ1RRsAE",
        "outputId": "d8f5b2ca-ca6b-4a5b-fb75-33af0146ee53"
      },
      "execution_count": 23,
      "outputs": [
        {
          "output_type": "stream",
          "name": "stdout",
          "text": [
            "김사과는 밥를 먹습니다.\n",
            "김사과는 10시간동안 잡니다.\n",
            "김사과는 4시간동안 공부합니다.\n"
          ]
        }
      ]
    }
  ]
}