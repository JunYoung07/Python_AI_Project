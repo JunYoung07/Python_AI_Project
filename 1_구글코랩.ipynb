{
  "nbformat": 4,
  "nbformat_minor": 0,
  "metadata": {
    "colab": {
      "provenance": [],
      "collapsed_sections": [],
      "toc_visible": true,
      "authorship_tag": "ABX9TyMrbeLryEdpIDSNd7jnKyeD",
      "include_colab_link": true
    },
    "kernelspec": {
      "name": "python3",
      "display_name": "Python 3"
    },
    "language_info": {
      "name": "python"
    }
  },
  "cells": [
    {
      "cell_type": "markdown",
      "metadata": {
        "id": "view-in-github",
        "colab_type": "text"
      },
      "source": [
        "<a href=\"https://colab.research.google.com/github/JunYoung07/Python_AI_Project/blob/main/1_%EA%B5%AC%EA%B8%80%EC%BD%94%EB%9E%A9.ipynb\" target=\"_parent\"><img src=\"https://colab.research.google.com/assets/colab-badge.svg\" alt=\"Open In Colab\"/></a>"
      ]
    },
    {
      "cell_type": "markdown",
      "source": [
        "# 1. 코랩의 성능 "
      ],
      "metadata": {
        "id": "kmhGO-n4XBNZ"
      }
    },
    {
      "cell_type": "markdown",
      "source": [
        "### 1-1. OS 환경"
      ],
      "metadata": {
        "id": "h1yUD_v6Xkzs"
      }
    },
    {
      "cell_type": "code",
      "source": [
        "!cat /etc/issue.net"
      ],
      "metadata": {
        "colab": {
          "base_uri": "https://localhost:8080/"
        },
        "id": "ANHI3bH-Xony",
        "outputId": "93b35a21-acba-4e1c-9e87-f34d92e896c7"
      },
      "execution_count": null,
      "outputs": [
        {
          "output_type": "stream",
          "name": "stdout",
          "text": [
            "Ubuntu 18.04.6 LTS\n"
          ]
        }
      ]
    },
    {
      "cell_type": "markdown",
      "source": [
        "### 1-2. Python 버전"
      ],
      "metadata": {
        "id": "wY3iTGSiYVzW"
      }
    },
    {
      "cell_type": "code",
      "source": [
        "!python --version"
      ],
      "metadata": {
        "colab": {
          "base_uri": "https://localhost:8080/"
        },
        "id": "HV7olqDkYjCX",
        "outputId": "835ee37d-c9d3-4e95-cea2-20663e532d24"
      },
      "execution_count": null,
      "outputs": [
        {
          "output_type": "stream",
          "name": "stdout",
          "text": [
            "Python 3.7.14\n"
          ]
        }
      ]
    },
    {
      "cell_type": "markdown",
      "source": [
        "# 2. 셀의 종류"
      ],
      "metadata": {
        "id": "FljyoLdHYzKL"
      }
    },
    {
      "cell_type": "markdown",
      "source": [
        "* 코드: 파이썬 코드를 실행할 수 있는 셀\n",
        "* 텍스트: 설명을 달거나 문구등을 적기 위한 텍스트 전용 셀 (마크다운)"
      ],
      "metadata": {
        "id": "BoreRuJrY6j5"
      }
    },
    {
      "cell_type": "markdown",
      "source": [
        "### 2-1. 셀의 삽입 방법\n",
        "1. 상단의 \"+코드\", \"+텍스트\" 버튼을 눌러 삽입\n",
        "2. 코드셀을 위에 삽입: ctrl + M, A\n",
        "3. 코드셀을 아래에 삽입: ctrl + M, B"
      ],
      "metadata": {
        "id": "yuc9aD5nZJSR"
      }
    },
    {
      "cell_type": "markdown",
      "source": [
        "### 2-2. 셀으르 변경 하는 방법\n",
        "1. 코드셀을 텍스트셀로 변경: ctrl + M, M\n",
        "2. 텍스트셀을 코드셀로 별경: ctrl + M, Y"
      ],
      "metadata": {
        "id": "5rCYgJM7cHNf"
      }
    },
    {
      "cell_type": "markdown",
      "source": [
        "### 2-3. 셀을 삭제하는 방법\n",
        "1. 우측의 휴지통 아이콘을 클릭하여 삭제\n",
        "2. ctrl + M, D"
      ],
      "metadata": {
        "id": "c-K21yAmcVvL"
      }
    },
    {
      "cell_type": "markdown",
      "source": [
        "# 3. 셀의 실행"
      ],
      "metadata": {
        "id": "dx7QlMHldAdQ"
      }
    },
    {
      "cell_type": "markdown",
      "source": [
        "* ctrl + Enter : 해당 셀을 실행하고 커서는 해당 셀에 남음\n",
        "* shilt + Enter : 해당 셀을 실행하고 커서는 다음 셀로 넘어감 (다음 셀이 없는 경우 새로운 셀 생성)\n",
        "* alt + Enter : 해당 셀을 실행하고 커서는 다음 셀을 삽입 후 넘어감 (무조건 다음 셀을 만들어!)"
      ],
      "metadata": {
        "id": "rzmRokAWdICS"
      }
    },
    {
      "cell_type": "code",
      "source": [
        "print(\"안녕하세요!\")"
      ],
      "metadata": {
        "colab": {
          "base_uri": "https://localhost:8080/"
        },
        "id": "LO6ajV2adQsZ",
        "outputId": "cb677303-d530-4ac2-9dd3-e9b7c36b4730"
      },
      "execution_count": null,
      "outputs": [
        {
          "output_type": "stream",
          "name": "stdout",
          "text": [
            "안녕하세요!\n"
          ]
        }
      ]
    },
    {
      "cell_type": "code",
      "source": [],
      "metadata": {
        "id": "NizfLj1reCFZ"
      },
      "execution_count": null,
      "outputs": []
    },
    {
      "cell_type": "code",
      "source": [
        "print('반갑습니다!')"
      ],
      "metadata": {
        "colab": {
          "base_uri": "https://localhost:8080/"
        },
        "id": "4zi4z05ddndT",
        "outputId": "91ffb8b0-7b82-43af-fb9a-61f62c15cacb"
      },
      "execution_count": null,
      "outputs": [
        {
          "output_type": "stream",
          "name": "stdout",
          "text": [
            "반갑습니다!\n"
          ]
        }
      ]
    },
    {
      "cell_type": "markdown",
      "source": [
        "# 4. 이미지 다루기"
      ],
      "metadata": {
        "id": "GAEvCS4CeGAZ"
      }
    },
    {
      "cell_type": "code",
      "source": [
        "from IPython.display import Image       # 라이브러리 불러오기 (이미지 함수 / 이미지 기능 가져오기)"
      ],
      "metadata": {
        "id": "Ki53wheLeQXN"
      },
      "execution_count": null,
      "outputs": []
    },
    {
      "cell_type": "code",
      "source": [
        "# 인터넷에서 이미지 찾은 후 우클릭 후 이미지 주소 복사\n",
        "Image('https://www.python.org/static/img/python-logo.png')"
      ],
      "metadata": {
        "colab": {
          "base_uri": "https://localhost:8080/",
          "height": 99
        },
        "id": "WFsJOQrUeopL",
        "outputId": "2527efb9-6747-40fa-a4a1-71d05eb6ec4a"
      },
      "execution_count": null,
      "outputs": [
        {
          "output_type": "execute_result",
          "data": {
            "image/png": "[encoded data removed]",
            "text/plain": [
              "<IPython.core.display.Image object>"
            ]
          },
          "metadata": {},
          "execution_count": 10
        }
      ]
    },
    {
      "cell_type": "markdown",
      "source": [
        "# 5. 유튜브 동영상 로딩하기"
      ],
      "metadata": {
        "id": "bUEWxdZffEDK"
      }
    },
    {
      "cell_type": "code",
      "source": [
        "from IPython.display import YouTubeVideo"
      ],
      "metadata": {
        "id": "O0I_w9YufQDK"
      },
      "execution_count": null,
      "outputs": []
    },
    {
      "cell_type": "code",
      "source": [
        "# 유투브 동영상에서 동영상 주소 복사 후 마지막 코드만 입력 이후에 동영상 너비 설정\n",
        "YouTubeVideo('8jjU8abY1ko', width=400, height=300)"
      ],
      "metadata": {
        "colab": {
          "base_uri": "https://localhost:8080/",
          "height": 320
        },
        "id": "hTHRB8KRfWAi",
        "outputId": "7af98af0-8010-4427-8e0a-3ff2ecfd4d42"
      },
      "execution_count": null,
      "outputs": [
        {
          "output_type": "execute_result",
          "data": {
            "text/plain": [
              "<IPython.lib.display.YouTubeVideo at 0x7f72e1eea9d0>"
            ],
            "text/html": [
              "\n",
              "        <iframe\n",
              "            width=\"400\"\n",
              "            height=\"300\"\n",
              "            src=\"https://www.youtube.com/embed/8jjU8abY1ko\"\n",
              "            frameborder=\"0\"\n",
              "            allowfullscreen\n",
              "        ></iframe>\n",
              "        "
            ],
            "image/jpeg": "[encoded data removed]"
          },
          "metadata": {},
          "execution_count": 12
        }
      ]
    },
    {
      "cell_type": "markdown",
      "source": [
        "# 6. 파일 다루기"
      ],
      "metadata": {
        "id": "5uQOsGPBfxc7"
      }
    },
    {
      "cell_type": "code",
      "source": [
        "# 좌측 파일 아이콘 클릭 후 내 컴퓨터의 이미지 파일을 올려준다.\n",
        "# 내 컴퓨터의 파일을 구글에다 넘겨준 것! (구글 코랩에서 사용할 수 있도록 하기 위해!)\n",
        "Image('python-logo.png')"
      ],
      "metadata": {
        "colab": {
          "base_uri": "https://localhost:8080/",
          "height": 99
        },
        "id": "9gi5B5AygSKd",
        "outputId": "2d2fecec-4940-452f-f683-2115de384de3"
      },
      "execution_count": null,
      "outputs": [
        {
          "output_type": "execute_result",
          "data": {
            "image/png": "[encoded data removed]",
            "text/plain": [
              "<IPython.core.display.Image object>"
            ]
          },
          "metadata": {},
          "execution_count": 13
        }
      ]
    }
  ]
}