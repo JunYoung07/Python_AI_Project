{
  "nbformat": 4,
  "nbformat_minor": 0,
  "metadata": {
    "colab": {
      "provenance": [],
      "collapsed_sections": [],
      "authorship_tag": "ABX9TyPk6l+3GAlrZvsTyxZyqqUV",
      "include_colab_link": true
    },
    "kernelspec": {
      "name": "python3",
      "display_name": "Python 3"
    },
    "language_info": {
      "name": "python"
    }
  },
  "cells": [
    {
      "cell_type": "markdown",
      "metadata": {
        "id": "view-in-github",
        "colab_type": "text"
      },
      "source": [
        "<a href=\"https://colab.research.google.com/github/JunYoung07/Python_AI_Project/blob/main/14_scope.ipynb\" target=\"_parent\"><img src=\"https://colab.research.google.com/assets/colab-badge.svg\" alt=\"Open In Colab\"/></a>"
      ]
    },
    {
      "cell_type": "markdown",
      "source": [
        "# 1. Scope\n"
      ],
      "metadata": {
        "id": "mQHFBK-khc6d"
      }
    },
    {
      "cell_type": "markdown",
      "source": [
        "* 변수에 접근할 수 있는 범위\n",
        "* local: 가장 가까운 함수안의 범위\n",
        "* global: 함수 바깥의 변수 또는 import된 module에 대한 범위"
      ],
      "metadata": {
        "id": "VYOYLlsUhkzV"
      }
    },
    {
      "cell_type": "code",
      "source": [
        "num1 = 10\n",
        "\n",
        "def func1():\n",
        "    num2 = 20\n",
        "    print(num2)"
      ],
      "metadata": {
        "id": "PHByI9tJnCle"
      },
      "execution_count": 1,
      "outputs": []
    },
    {
      "cell_type": "code",
      "source": [
        "print(num1)\n",
        "# print(num2)   # NameError: name 'num2' is not defined"
      ],
      "metadata": {
        "colab": {
          "base_uri": "https://localhost:8080/"
        },
        "id": "byIhEQLcnGn8",
        "outputId": "9d401aa7-0824-4f2a-cd7e-9dd44b0fe1cf"
      },
      "execution_count": 3,
      "outputs": [
        {
          "output_type": "stream",
          "name": "stdout",
          "text": [
            "10\n"
          ]
        }
      ]
    },
    {
      "cell_type": "markdown",
      "source": [
        "> 함수 안에서 만들어진 변수는 함수 밖으로 나오면 메모리에서 삭제 된다."
      ],
      "metadata": {
        "id": "CMNTEtSSnMdA"
      }
    },
    {
      "cell_type": "code",
      "source": [
        "print(num1)\n",
        "func1()"
      ],
      "metadata": {
        "colab": {
          "base_uri": "https://localhost:8080/"
        },
        "id": "kKS8B_TrnXqp",
        "outputId": "e66df349-3acf-41bb-ee67-c78089efb33b"
      },
      "execution_count": 5,
      "outputs": [
        {
          "output_type": "stream",
          "name": "stdout",
          "text": [
            "10\n",
            "20\n"
          ]
        }
      ]
    },
    {
      "cell_type": "code",
      "source": [
        "# locals(): 로컬 변수를 확인하는 함수\n",
        "# globals(): 글로벌 변수를 확인하는 함수\n",
        "\n",
        "num1 = 10   # global\n",
        "\n",
        "def func1():\n",
        "    num2 = 20   # locals\n",
        "    print('num1 로컬변수: ', 'num1' in locals())    # locals(), globals()는 문자열로 변수를 불러온다."
      ],
      "metadata": {
        "id": "7uoynlRznasA"
      },
      "execution_count": 10,
      "outputs": []
    },
    {
      "cell_type": "code",
      "source": [
        "func1()"
      ],
      "metadata": {
        "colab": {
          "base_uri": "https://localhost:8080/"
        },
        "id": "NSu47SNLn3Rf",
        "outputId": "7e070eb9-a450-4ab7-86cc-5c6deda57745"
      },
      "execution_count": 11,
      "outputs": [
        {
          "output_type": "stream",
          "name": "stdout",
          "text": [
            "num1 로컬변수:  False\n"
          ]
        }
      ]
    },
    {
      "cell_type": "code",
      "source": [
        "def func1():\n",
        "    num2 = 20\n",
        "    print('num2 로컬변수: ', 'num2' in locals())"
      ],
      "metadata": {
        "id": "PbB_tw17n4Jh"
      },
      "execution_count": 12,
      "outputs": []
    },
    {
      "cell_type": "code",
      "source": [
        "func1()"
      ],
      "metadata": {
        "colab": {
          "base_uri": "https://localhost:8080/"
        },
        "id": "E0kpq9YnoUka",
        "outputId": "f730dc84-2fee-4b1e-f887-20ab2d4c538d"
      },
      "execution_count": 14,
      "outputs": [
        {
          "output_type": "stream",
          "name": "stdout",
          "text": [
            "num2 로컬변수:  True\n"
          ]
        }
      ]
    },
    {
      "cell_type": "code",
      "source": [
        "num1 = 10\n",
        "\n",
        "def func1():\n",
        "    num2 = 20\n",
        "    print('num1 글로벌 변수: ', num1)\n",
        "    print('num2 로컬 변수: ', num2)\n",
        "\n",
        "def func2():\n",
        "    print('num1 글로벌 변수: ', num1)"
      ],
      "metadata": {
        "id": "CQlxF2FBoVjg"
      },
      "execution_count": 15,
      "outputs": []
    },
    {
      "cell_type": "code",
      "source": [
        "func1()"
      ],
      "metadata": {
        "colab": {
          "base_uri": "https://localhost:8080/"
        },
        "id": "qMTxDRt_pFV2",
        "outputId": "d9ae83e1-0011-4775-fefe-7e09796e9ad7"
      },
      "execution_count": 16,
      "outputs": [
        {
          "output_type": "stream",
          "name": "stdout",
          "text": [
            "num1 글로벌 변수:  10\n",
            "num2 로컬 변수:  20\n"
          ]
        }
      ]
    },
    {
      "cell_type": "code",
      "source": [
        "func2()"
      ],
      "metadata": {
        "colab": {
          "base_uri": "https://localhost:8080/"
        },
        "id": "BvhdQQxcpGBF",
        "outputId": "746ea5d9-335a-41a9-a13b-f069b5d6b55d"
      },
      "execution_count": 17,
      "outputs": [
        {
          "output_type": "stream",
          "name": "stdout",
          "text": [
            "num1 글로벌 변수:  10\n"
          ]
        }
      ]
    },
    {
      "cell_type": "code",
      "source": [
        "num1 = 10\n",
        "\n",
        "def func3():\n",
        "    num1 = 20   # 로컬변수에 값 저장\n",
        "    print(num1) # 로컬변수 우선"
      ],
      "metadata": {
        "id": "hlkrNm0CpGfZ"
      },
      "execution_count": 18,
      "outputs": []
    },
    {
      "cell_type": "code",
      "source": [
        "func3()\n",
        "print(num1)"
      ],
      "metadata": {
        "colab": {
          "base_uri": "https://localhost:8080/"
        },
        "id": "jh167DDUpPkt",
        "outputId": "ead6f1b9-57c2-4e64-a558-32370eb4988c"
      },
      "execution_count": 19,
      "outputs": [
        {
          "output_type": "stream",
          "name": "stdout",
          "text": [
            "20\n",
            "10\n"
          ]
        }
      ]
    },
    {
      "cell_type": "markdown",
      "source": [
        "# 2. global 키워드\n",
        "* 함수 내부에서 로컬변수가 아닌 글로벌 변수로 사용하게 함"
      ],
      "metadata": {
        "id": "3uAaAaB7pRE7"
      }
    },
    {
      "cell_type": "code",
      "source": [
        "num1 = 10\n",
        "\n",
        "def func4():\n",
        "    print(num1)\n",
        "\n",
        "def func5(num):\n",
        "    num1 = num  # 로컬변수"
      ],
      "metadata": {
        "id": "Od7XulIUpXw6"
      },
      "execution_count": 20,
      "outputs": []
    },
    {
      "cell_type": "code",
      "source": [
        "func4()\n",
        "func5(5)\n",
        "func4() # global변수 값이 변하지 않음"
      ],
      "metadata": {
        "colab": {
          "base_uri": "https://localhost:8080/"
        },
        "id": "FUd_GS-IpeG3",
        "outputId": "e06e97bc-42d6-4878-d543-ee581d07699a"
      },
      "execution_count": 21,
      "outputs": [
        {
          "output_type": "stream",
          "name": "stdout",
          "text": [
            "10\n",
            "10\n"
          ]
        }
      ]
    },
    {
      "cell_type": "code",
      "source": [
        "num1 = 10\n",
        "\n",
        "def func4():\n",
        "    print(num1)\n",
        "\n",
        "def func5(num):\n",
        "    global num1\n",
        "    num1 = num"
      ],
      "metadata": {
        "id": "wGrkwgHfpgTo"
      },
      "execution_count": 22,
      "outputs": []
    },
    {
      "cell_type": "code",
      "source": [
        "func4()\n",
        "func5(5)\n",
        "func4()"
      ],
      "metadata": {
        "colab": {
          "base_uri": "https://localhost:8080/"
        },
        "id": "gmzZxCMUp1jg",
        "outputId": "2b0dd051-ac82-42e3-80a3-22481ad7ff2a"
      },
      "execution_count": 23,
      "outputs": [
        {
          "output_type": "stream",
          "name": "stdout",
          "text": [
            "10\n",
            "5\n"
          ]
        }
      ]
    }
  ]
}