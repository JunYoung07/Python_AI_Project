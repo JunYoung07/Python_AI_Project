{
  "nbformat": 4,
  "nbformat_minor": 0,
  "metadata": {
    "colab": {
      "provenance": [],
      "authorship_tag": "ABX9TyOG6rgvjvIqRDo2D5uf2WWS",
      "include_colab_link": true
    },
    "kernelspec": {
      "name": "python3",
      "display_name": "Python 3"
    },
    "language_info": {
      "name": "python"
    }
  },
  "cells": [
    {
      "cell_type": "markdown",
      "metadata": {
        "id": "view-in-github",
        "colab_type": "text"
      },
      "source": [
        "<a href=\"https://colab.research.google.com/github/JunYoung07/Python_AI_Project/blob/main/9_%EC%A0%9C%EC%96%B4%EB%AC%B8(%EB%B0%98%EB%B3%B5%EB%AC%B8).ipynb\" target=\"_parent\"><img src=\"https://colab.research.google.com/assets/colab-badge.svg\" alt=\"Open In Colab\"/></a>"
      ]
    },
    {
      "cell_type": "markdown",
      "source": [
        "# 1. 반복문"
      ],
      "metadata": {
        "id": "PL8s_YRbarT0"
      }
    },
    {
      "cell_type": "markdown",
      "source": [
        "* 코드를 짧고 간결하게 작성하면서 빠른 속도를 이끌어낼 수 있는 효율적인 문법 "
      ],
      "metadata": {
        "id": "BBRZcDgwbAae"
      }
    },
    {
      "cell_type": "markdown",
      "source": [
        "### 1-1. 대입 연산자\n",
        "* =, +=, -=, *=, /=, %=\n",
        "* 왼쪽에 저장된 값과 오른쪽에 값을 연산한 뒤 다시 왼쪽에 대입"
      ],
      "metadata": {
        "id": "FkhNUf1ybD7I"
      }
    },
    {
      "cell_type": "code",
      "source": [
        "num = 10\n",
        "num += 1    # num = num + 1\n",
        "print(num)\n",
        "\n",
        "num -= 1    # num = num - 1\n",
        "print(num)\n",
        "\n",
        "num *= 10   # num = num * 10\n",
        "print(num)\n",
        "\n",
        "num /= 10   # num = num / 10\n",
        "print(num)\n",
        "\n",
        "num %= 2    # num = num % 2\n",
        "print(num)"
      ],
      "metadata": {
        "colab": {
          "base_uri": "https://localhost:8080/"
        },
        "id": "yZJ6cCJSboDt",
        "outputId": "88134def-3049-4861-8fbb-16697b99a0e5"
      },
      "execution_count": null,
      "outputs": [
        {
          "output_type": "stream",
          "name": "stdout",
          "text": [
            "11\n",
            "10\n",
            "100\n",
            "10.0\n",
            "0.0\n"
          ]
        }
      ]
    },
    {
      "cell_type": "markdown",
      "source": [
        "### 1-2. while 문"
      ],
      "metadata": {
        "id": "Bv7bR9THb8B6"
      }
    },
    {
      "cell_type": "markdown",
      "source": [
        "```\n",
        "while 조건식:\n",
        "    조건식이 True인 동안 반복할 문장\n",
        "```"
      ],
      "metadata": {
        "id": "5234kpFmb_uE"
      }
    },
    {
      "cell_type": "code",
      "source": [
        "# 무한 루프\n",
        "# while True:\n",
        "    # print('Hello Python')"
      ],
      "metadata": {
        "id": "CuaWw7YBcElJ"
      },
      "execution_count": null,
      "outputs": []
    },
    {
      "cell_type": "code",
      "source": [
        "i = 1\n",
        "while i <= 5:\n",
        "    print('Hello Python')\n",
        "    i += 1"
      ],
      "metadata": {
        "colab": {
          "base_uri": "https://localhost:8080/"
        },
        "id": "iMmfUU1rcJR2",
        "outputId": "0c2d3d76-4830-4ed9-cba1-9dab3980cb43"
      },
      "execution_count": null,
      "outputs": [
        {
          "output_type": "stream",
          "name": "stdout",
          "text": [
            "Hello Python\n",
            "Hello Python\n",
            "Hello Python\n",
            "Hello Python\n",
            "Hello Python\n"
          ]
        }
      ]
    },
    {
      "cell_type": "code",
      "source": [
        "print('현재 i의 값: {}'.format(i))"
      ],
      "metadata": {
        "colab": {
          "base_uri": "https://localhost:8080/"
        },
        "id": "ID3bK3MZcOn1",
        "outputId": "6f84e8c9-7bd7-4509-c34d-28c5d7077c64"
      },
      "execution_count": null,
      "outputs": [
        {
          "output_type": "stream",
          "name": "stdout",
          "text": [
            "현재 i의 값: 6\n"
          ]
        }
      ]
    },
    {
      "cell_type": "code",
      "source": [
        "# 1 ~ 10까지의 합\n",
        "i = 1\n",
        "sum = 0\n",
        "while i <= 10:\n",
        "    sum += i\n",
        "    i += 1\n",
        "print('1부터 10까지의 합: {}'.format(sum))"
      ],
      "metadata": {
        "colab": {
          "base_uri": "https://localhost:8080/"
        },
        "id": "7vfdZdyJcUFY",
        "outputId": "a772bba1-9707-4558-b36f-beaa566fb4be"
      },
      "execution_count": null,
      "outputs": [
        {
          "output_type": "stream",
          "name": "stdout",
          "text": [
            "1부터 10까지의 합: 55\n"
          ]
        }
      ]
    },
    {
      "cell_type": "code",
      "source": [
        "# 1 ~ 100까지의 합\n",
        "i = 1\n",
        "sum = 0 \n",
        "while i <= 100:\n",
        "    sum += i\n",
        "    i += 1\n",
        "print('1부터 100까지의 합: {}'.format(sum))"
      ],
      "metadata": {
        "colab": {
          "base_uri": "https://localhost:8080/"
        },
        "id": "o_sLzW-bclig",
        "outputId": "af9a293f-f8a9-4462-81e5-f9f45c12a250"
      },
      "execution_count": null,
      "outputs": [
        {
          "output_type": "stream",
          "name": "stdout",
          "text": [
            "1부터 100까지의 합: 5050\n"
          ]
        }
      ]
    },
    {
      "cell_type": "markdown",
      "source": [
        "### 문제\n",
        "input함수로 원하는 단을 입력받아 구구단을 출력하는 프로그램을 작성하자"
      ],
      "metadata": {
        "id": "mIuzqyoXcxxD"
      }
    },
    {
      "cell_type": "code",
      "source": [
        "dan = int(input('원하는 단을 입력하세요: '))\n",
        "print('{}단'.format(dan))\n",
        "\n",
        "i = 1\n",
        "while i <= 9:\n",
        "    print('{} * {} = {}'.format(dan, i, dan * i))\n",
        "    i += 1"
      ],
      "metadata": {
        "colab": {
          "base_uri": "https://localhost:8080/"
        },
        "id": "bfg6bXInc4Og",
        "outputId": "e65423dc-b524-4049-d119-64873ee41a03"
      },
      "execution_count": null,
      "outputs": [
        {
          "output_type": "stream",
          "name": "stdout",
          "text": [
            "원하는 단을 입력하세요: 7\n",
            "7단\n",
            "7 * 1 = 7\n",
            "7 * 2 = 14\n",
            "7 * 3 = 21\n",
            "7 * 4 = 28\n",
            "7 * 5 = 35\n",
            "7 * 6 = 42\n",
            "7 * 7 = 49\n",
            "7 * 8 = 56\n",
            "7 * 9 = 63\n"
          ]
        }
      ]
    },
    {
      "cell_type": "markdown",
      "source": [
        "### 1-3. for문\n",
        "* for문과 while문 중 상황에 따라 편한 반복문을 사용해라\n",
        "* 효율이 같다"
      ],
      "metadata": {
        "id": "ZE6TRvaFdhHa"
      }
    },
    {
      "cell_type": "markdown",
      "source": [
        "```\n",
        "for 변수 i range(범위):\n",
        "    반복할 문장\n",
        "```"
      ],
      "metadata": {
        "id": "WDCzR3PkdsIu"
      }
    },
    {
      "cell_type": "markdown",
      "source": [
        "* range(): 범위를 생성하는 함수\n",
        "    * range(시작인덱스, 종료인덱스(직전), 증가값)"
      ],
      "metadata": {
        "id": "EcbuxWQHdyBb"
      }
    },
    {
      "cell_type": "code",
      "source": [
        "num = range(0, 10, 1)   # 0부터 9까지 1씩 증가하는 객체를 num이라는 변수에 저장한다.\n",
        "print(num)  # num은 객체"
      ],
      "metadata": {
        "colab": {
          "base_uri": "https://localhost:8080/"
        },
        "id": "6vT5HhQpd5rc",
        "outputId": "c723bf05-0d6d-4540-89d4-0c61b13a56a0"
      },
      "execution_count": null,
      "outputs": [
        {
          "output_type": "stream",
          "name": "stdout",
          "text": [
            "range(0, 10)\n"
          ]
        }
      ]
    },
    {
      "cell_type": "code",
      "source": [
        "for i in range(0, 10, 1):\n",
        "    print(i, end=' ')"
      ],
      "metadata": {
        "colab": {
          "base_uri": "https://localhost:8080/"
        },
        "id": "gLpayTPxecvS",
        "outputId": "c33ce4d3-af7b-4b32-e9fd-5fa243d93947"
      },
      "execution_count": null,
      "outputs": [
        {
          "output_type": "stream",
          "name": "stdout",
          "text": [
            "0 1 2 3 4 5 6 7 8 9 "
          ]
        }
      ]
    },
    {
      "cell_type": "code",
      "source": [
        "for i in range(10):     # 시작인덱스: 0(default), 종료인덱스: 10, 증가값: 1(default)\n",
        "    print(i, end=' ')"
      ],
      "metadata": {
        "colab": {
          "base_uri": "https://localhost:8080/"
        },
        "id": "PJuAQ_eCehQO",
        "outputId": "2c27b539-c9a3-473d-ce7a-2e63ab109eaf"
      },
      "execution_count": null,
      "outputs": [
        {
          "output_type": "stream",
          "name": "stdout",
          "text": [
            "0 1 2 3 4 5 6 7 8 9 "
          ]
        }
      ]
    },
    {
      "cell_type": "code",
      "source": [
        "for i in range(0, 10):  # 시작인덱스: 0, 종료인덱스: 10, 증가값: 1(default)\n",
        "    print(i, end=' ')"
      ],
      "metadata": {
        "colab": {
          "base_uri": "https://localhost:8080/"
        },
        "id": "5ErpA1bKetfH",
        "outputId": "4d1a3c4e-c6b8-4755-ce6d-1cbfd7e1477d"
      },
      "execution_count": null,
      "outputs": [
        {
          "output_type": "stream",
          "name": "stdout",
          "text": [
            "0 1 2 3 4 5 6 7 8 9 "
          ]
        }
      ]
    },
    {
      "cell_type": "markdown",
      "source": [
        "### 문제\n",
        "위 for문을 이용하여 1 ~ 100까지 짝수의 총합을 구하는 프로그램을 작성해보자."
      ],
      "metadata": {
        "id": "VBtg4GGhe3Fu"
      }
    },
    {
      "cell_type": "code",
      "source": [
        "sum = 0\n",
        "\n",
        "for i in range(1, 101):\n",
        "    if i % 2 == 0:\n",
        "        sum += i\n",
        "print('1부터 100까지의 짝수 총합: {}'.format(sum))"
      ],
      "metadata": {
        "colab": {
          "base_uri": "https://localhost:8080/"
        },
        "id": "1fty3fMze8TZ",
        "outputId": "8e92ac00-9fc0-4fa5-f6b1-f667a2150894"
      },
      "execution_count": null,
      "outputs": [
        {
          "output_type": "stream",
          "name": "stdout",
          "text": [
            "1부터 100까지의 짝수 총합: 2550\n"
          ]
        }
      ]
    },
    {
      "cell_type": "markdown",
      "source": [
        "# 2. list를 for문과 함께 사용하기"
      ],
      "metadata": {
        "id": "paRyN_y-fox0"
      }
    },
    {
      "cell_type": "code",
      "source": [
        "li = ['apple', 'banana', 'orange', 'melon']\n",
        "\n",
        "for i in li:\n",
        "    print(i, end=' ')"
      ],
      "metadata": {
        "colab": {
          "base_uri": "https://localhost:8080/"
        },
        "id": "LiUOFarZfsz3",
        "outputId": "ca0eb6df-3556-4c4b-c934-4ceccc512f17"
      },
      "execution_count": null,
      "outputs": [
        {
          "output_type": "stream",
          "name": "stdout",
          "text": [
            "apple banana orange melon "
          ]
        }
      ]
    },
    {
      "cell_type": "code",
      "source": [
        "tu = ('apple', 'banana', 'orange', 'melon')\n",
        "\n",
        "for i in tu:\n",
        "    print(i, end=' ')"
      ],
      "metadata": {
        "colab": {
          "base_uri": "https://localhost:8080/"
        },
        "id": "Fqwv88_sf0fN",
        "outputId": "f28d0940-fb44-4ba8-8d08-5a66f8cf5916"
      },
      "execution_count": null,
      "outputs": [
        {
          "output_type": "stream",
          "name": "stdout",
          "text": [
            "apple banana orange melon "
          ]
        }
      ]
    },
    {
      "cell_type": "markdown",
      "source": [
        "### 문제\n",
        "score리스트에 저장된 점수가 60점 이상인 학생이 몇명인지 알아보는 프로그램을 작성해보자\n"
      ],
      "metadata": {
        "id": "Qr46AQR9f67R"
      }
    },
    {
      "cell_type": "code",
      "source": [
        "score = [90, 30, 50, 60, 80, 70, 100, 40, 20, 10]\n",
        "count = 0\n",
        "\n",
        "for i in score:\n",
        "    if i >= 60:\n",
        "        count += 1\n",
        "print('60점 이상인 학생의 수는 총 {}명입니다.'.format(count))"
      ],
      "metadata": {
        "colab": {
          "base_uri": "https://localhost:8080/"
        },
        "id": "Zn-M1uC9gDvQ",
        "outputId": "c58ad89e-0f86-4bd4-ef79-fa29f2de125f"
      },
      "execution_count": null,
      "outputs": [
        {
          "output_type": "stream",
          "name": "stdout",
          "text": [
            "60점 이상인 학생의 수는 총 5명입니다.\n"
          ]
        }
      ]
    },
    {
      "cell_type": "markdown",
      "source": [
        "# 3. 다중 반복문"
      ],
      "metadata": {
        "id": "xJPBPWf7gXB9"
      }
    },
    {
      "cell_type": "markdown",
      "source": [
        "* 이중반복문의 동작을 이해하는 것이 가장 중요하다. -> 이후 다중 반복문의 이해에 활용\n",
        "* AI에서 중첩 for문은 굉장히 많이 사용된다."
      ],
      "metadata": {
        "id": "q9DtMK7-ga2X"
      }
    },
    {
      "cell_type": "code",
      "source": [
        "for i in range(1, 4):\n",
        "    print('현재 i: {}'.format(i))\n",
        "    for j in range(1, 4):\n",
        "        print('👌 현재 j: {}'.format(j))"
      ],
      "metadata": {
        "colab": {
          "base_uri": "https://localhost:8080/"
        },
        "id": "w5ki1EW4gjk5",
        "outputId": "54c5b8d2-50c3-477b-8969-3e1e9c88881c"
      },
      "execution_count": null,
      "outputs": [
        {
          "output_type": "stream",
          "name": "stdout",
          "text": [
            "현재 i: 1\n",
            "👌 현재 j: 1\n",
            "👌 현재 j: 2\n",
            "👌 현재 j: 3\n",
            "현재 i: 2\n",
            "👌 현재 j: 1\n",
            "👌 현재 j: 2\n",
            "👌 현재 j: 3\n",
            "현재 i: 3\n",
            "👌 현재 j: 1\n",
            "👌 현재 j: 2\n",
            "👌 현재 j: 3\n"
          ]
        }
      ]
    },
    {
      "cell_type": "markdown",
      "source": [
        "### 문제\n",
        "'👻'를 이용하여 아래와 같은 도형을 만들어보자.  \n",
        "👻 👻 👻 👻 👻  \n",
        "👻 👻 👻 👻 👻  \n",
        "👻 👻 👻 👻 👻  \n",
        "👻 👻 👻 👻 👻  \n",
        "👻 👻 👻 👻 👻  "
      ],
      "metadata": {
        "id": "N2WVQvdmg0yK"
      }
    },
    {
      "cell_type": "code",
      "source": [
        "for i in range(5):\n",
        "    for j in range(5):\n",
        "        print('👻', end=' ')\n",
        "    print()"
      ],
      "metadata": {
        "colab": {
          "base_uri": "https://localhost:8080/"
        },
        "id": "OXZz0cZ6hFWS",
        "outputId": "38e878a5-27ed-4552-d7b5-7bf735e9dfa8"
      },
      "execution_count": null,
      "outputs": [
        {
          "output_type": "stream",
          "name": "stdout",
          "text": [
            "👻 👻 👻 👻 👻 \n",
            "👻 👻 👻 👻 👻 \n",
            "👻 👻 👻 👻 👻 \n",
            "👻 👻 👻 👻 👻 \n",
            "👻 👻 👻 👻 👻 \n"
          ]
        }
      ]
    },
    {
      "cell_type": "markdown",
      "source": [
        "👻 👻 👻 👻 👻  \n",
        "👻 👻 👻 👻  \n",
        "👻 👻 👻  \n",
        "👻 👻  \n",
        "👻  "
      ],
      "metadata": {
        "id": "YxUcEGnKhPBA"
      }
    },
    {
      "cell_type": "code",
      "source": [
        "for i in range(5):\n",
        "    for j in range(i, 5):\n",
        "        print('👻', end=' ')\n",
        "    print()\n",
        "# i: 0 -> 5바퀴   range(0, 5)\n",
        "# i: 1 -> 4바퀴   range(1, 5)\n",
        "# i: 2 -> 3바퀴   range(2, 5)\n",
        "# i: 3 -> 2바퀴   range(3, 5)\n",
        "# i: 4 -> 1바퀴   range(4, 5)"
      ],
      "metadata": {
        "colab": {
          "base_uri": "https://localhost:8080/"
        },
        "id": "B0lzn6-IhZZd",
        "outputId": "a63f7a62-b139-44cd-e451-820d534f4108"
      },
      "execution_count": null,
      "outputs": [
        {
          "output_type": "stream",
          "name": "stdout",
          "text": [
            "👻 👻 👻 👻 👻 \n",
            "👻 👻 👻 👻 \n",
            "👻 👻 👻 \n",
            "👻 👻 \n",
            "👻 \n"
          ]
        }
      ]
    },
    {
      "cell_type": "markdown",
      "source": [
        "👻   \n",
        "👻 👻   \n",
        "👻 👻 👻   \n",
        "👻 👻 👻 👻   \n",
        "👻 👻 👻 👻 👻  "
      ],
      "metadata": {
        "id": "yMWxBDbPh3Lp"
      }
    },
    {
      "cell_type": "code",
      "source": [
        "for i in range(5):\n",
        "    for j in range(i+1):\n",
        "        print('👻', end=' ')\n",
        "    print()\n",
        "# i: 0 -> 1바퀴   range(0, 1)\n",
        "# i: 1 -> 2바퀴   range(0, 2)\n",
        "# i: 2 -> 3바퀴   range(0, 3)\n",
        "# i: 3 -> 4바퀴   range(0, 4)\n",
        "# i: 4 -> 5바퀴   range(0, 5)"
      ],
      "metadata": {
        "colab": {
          "base_uri": "https://localhost:8080/"
        },
        "id": "pPWD6R2Oh-8R",
        "outputId": "d713085c-10df-4a29-88ee-90636d2c436c"
      },
      "execution_count": null,
      "outputs": [
        {
          "output_type": "stream",
          "name": "stdout",
          "text": [
            "👻 \n",
            "👻 👻 \n",
            "👻 👻 👻 \n",
            "👻 👻 👻 👻 \n",
            "👻 👻 👻 👻 👻 \n"
          ]
        }
      ]
    },
    {
      "cell_type": "markdown",
      "source": [
        "### 문제\n",
        "2단부터 9단까지 구구단을 출력하는 프로그램을 작성해보자. (for문) "
      ],
      "metadata": {
        "id": "fEtgbnKCiICQ"
      }
    },
    {
      "cell_type": "code",
      "source": [
        "for i in range(2, 10):\n",
        "    print('{}단'.format(i))\n",
        "    for j in range(10):\n",
        "        print('{} * {} = {}'.format(i, j, i*j))\n",
        "    print()"
      ],
      "metadata": {
        "colab": {
          "base_uri": "https://localhost:8080/"
        },
        "id": "ar32cV8hL1RU",
        "outputId": "23537dac-e18f-4538-908d-210155f8a704"
      },
      "execution_count": 5,
      "outputs": [
        {
          "output_type": "stream",
          "name": "stdout",
          "text": [
            "2단\n",
            "2 * 0 = 0\n",
            "2 * 1 = 2\n",
            "2 * 2 = 4\n",
            "2 * 3 = 6\n",
            "2 * 4 = 8\n",
            "2 * 5 = 10\n",
            "2 * 6 = 12\n",
            "2 * 7 = 14\n",
            "2 * 8 = 16\n",
            "2 * 9 = 18\n",
            "\n",
            "3단\n",
            "3 * 0 = 0\n",
            "3 * 1 = 3\n",
            "3 * 2 = 6\n",
            "3 * 3 = 9\n",
            "3 * 4 = 12\n",
            "3 * 5 = 15\n",
            "3 * 6 = 18\n",
            "3 * 7 = 21\n",
            "3 * 8 = 24\n",
            "3 * 9 = 27\n",
            "\n",
            "4단\n",
            "4 * 0 = 0\n",
            "4 * 1 = 4\n",
            "4 * 2 = 8\n",
            "4 * 3 = 12\n",
            "4 * 4 = 16\n",
            "4 * 5 = 20\n",
            "4 * 6 = 24\n",
            "4 * 7 = 28\n",
            "4 * 8 = 32\n",
            "4 * 9 = 36\n",
            "\n",
            "5단\n",
            "5 * 0 = 0\n",
            "5 * 1 = 5\n",
            "5 * 2 = 10\n",
            "5 * 3 = 15\n",
            "5 * 4 = 20\n",
            "5 * 5 = 25\n",
            "5 * 6 = 30\n",
            "5 * 7 = 35\n",
            "5 * 8 = 40\n",
            "5 * 9 = 45\n",
            "\n",
            "6단\n",
            "6 * 0 = 0\n",
            "6 * 1 = 6\n",
            "6 * 2 = 12\n",
            "6 * 3 = 18\n",
            "6 * 4 = 24\n",
            "6 * 5 = 30\n",
            "6 * 6 = 36\n",
            "6 * 7 = 42\n",
            "6 * 8 = 48\n",
            "6 * 9 = 54\n",
            "\n",
            "7단\n",
            "7 * 0 = 0\n",
            "7 * 1 = 7\n",
            "7 * 2 = 14\n",
            "7 * 3 = 21\n",
            "7 * 4 = 28\n",
            "7 * 5 = 35\n",
            "7 * 6 = 42\n",
            "7 * 7 = 49\n",
            "7 * 8 = 56\n",
            "7 * 9 = 63\n",
            "\n",
            "8단\n",
            "8 * 0 = 0\n",
            "8 * 1 = 8\n",
            "8 * 2 = 16\n",
            "8 * 3 = 24\n",
            "8 * 4 = 32\n",
            "8 * 5 = 40\n",
            "8 * 6 = 48\n",
            "8 * 7 = 56\n",
            "8 * 8 = 64\n",
            "8 * 9 = 72\n",
            "\n",
            "9단\n",
            "9 * 0 = 0\n",
            "9 * 1 = 9\n",
            "9 * 2 = 18\n",
            "9 * 3 = 27\n",
            "9 * 4 = 36\n",
            "9 * 5 = 45\n",
            "9 * 6 = 54\n",
            "9 * 7 = 63\n",
            "9 * 8 = 72\n",
            "9 * 9 = 81\n",
            "\n"
          ]
        }
      ]
    },
    {
      "cell_type": "markdown",
      "source": [
        "### 문제\n",
        "2단부터 9단까지 구구단을 출력하는 프로그램을 작성해보자. (while문)"
      ],
      "metadata": {
        "id": "MUyw7J-YMPqS"
      }
    },
    {
      "cell_type": "code",
      "source": [
        "i = 2\n",
        "j = 1\n",
        "\n",
        "while i <= 9:\n",
        "    print('{}단'.format(i))\n",
        "    while j <= 9:\n",
        "        print('{} * {} = {}'.format(i, j, i*j))\n",
        "        j+=1\n",
        "    j = 1\n",
        "    i+=1\n",
        "    print()\n"
      ],
      "metadata": {
        "colab": {
          "base_uri": "https://localhost:8080/"
        },
        "id": "if4CzR2LMVgn",
        "outputId": "b6e62b9a-f847-4af3-db22-7298305e927d"
      },
      "execution_count": 7,
      "outputs": [
        {
          "output_type": "stream",
          "name": "stdout",
          "text": [
            "2단\n",
            "2 * 1 = 2\n",
            "2 * 2 = 4\n",
            "2 * 3 = 6\n",
            "2 * 4 = 8\n",
            "2 * 5 = 10\n",
            "2 * 6 = 12\n",
            "2 * 7 = 14\n",
            "2 * 8 = 16\n",
            "2 * 9 = 18\n",
            "\n",
            "3단\n",
            "3 * 1 = 3\n",
            "3 * 2 = 6\n",
            "3 * 3 = 9\n",
            "3 * 4 = 12\n",
            "3 * 5 = 15\n",
            "3 * 6 = 18\n",
            "3 * 7 = 21\n",
            "3 * 8 = 24\n",
            "3 * 9 = 27\n",
            "\n",
            "4단\n",
            "4 * 1 = 4\n",
            "4 * 2 = 8\n",
            "4 * 3 = 12\n",
            "4 * 4 = 16\n",
            "4 * 5 = 20\n",
            "4 * 6 = 24\n",
            "4 * 7 = 28\n",
            "4 * 8 = 32\n",
            "4 * 9 = 36\n",
            "\n",
            "5단\n",
            "5 * 1 = 5\n",
            "5 * 2 = 10\n",
            "5 * 3 = 15\n",
            "5 * 4 = 20\n",
            "5 * 5 = 25\n",
            "5 * 6 = 30\n",
            "5 * 7 = 35\n",
            "5 * 8 = 40\n",
            "5 * 9 = 45\n",
            "\n",
            "6단\n",
            "6 * 1 = 6\n",
            "6 * 2 = 12\n",
            "6 * 3 = 18\n",
            "6 * 4 = 24\n",
            "6 * 5 = 30\n",
            "6 * 6 = 36\n",
            "6 * 7 = 42\n",
            "6 * 8 = 48\n",
            "6 * 9 = 54\n",
            "\n",
            "7단\n",
            "7 * 1 = 7\n",
            "7 * 2 = 14\n",
            "7 * 3 = 21\n",
            "7 * 4 = 28\n",
            "7 * 5 = 35\n",
            "7 * 6 = 42\n",
            "7 * 7 = 49\n",
            "7 * 8 = 56\n",
            "7 * 9 = 63\n",
            "\n",
            "8단\n",
            "8 * 1 = 8\n",
            "8 * 2 = 16\n",
            "8 * 3 = 24\n",
            "8 * 4 = 32\n",
            "8 * 5 = 40\n",
            "8 * 6 = 48\n",
            "8 * 7 = 56\n",
            "8 * 8 = 64\n",
            "8 * 9 = 72\n",
            "\n",
            "9단\n",
            "9 * 1 = 9\n",
            "9 * 2 = 18\n",
            "9 * 3 = 27\n",
            "9 * 4 = 36\n",
            "9 * 5 = 45\n",
            "9 * 6 = 54\n",
            "9 * 7 = 63\n",
            "9 * 8 = 72\n",
            "9 * 9 = 81\n",
            "\n"
          ]
        }
      ]
    }
  ]
}