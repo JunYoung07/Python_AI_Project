{
  "nbformat": 4,
  "nbformat_minor": 0,
  "metadata": {
    "colab": {
      "provenance": [],
      "collapsed_sections": [],
      "authorship_tag": "ABX9TyMTsl69RgsF1x839Hw05DrT",
      "include_colab_link": true
    },
    "kernelspec": {
      "name": "python3",
      "display_name": "Python 3"
    },
    "language_info": {
      "name": "python"
    }
  },
  "cells": [
    {
      "cell_type": "markdown",
      "metadata": {
        "id": "view-in-github",
        "colab_type": "text"
      },
      "source": [
        "<a href=\"https://colab.research.google.com/github/JunYoung07/Python_AI_Project/blob/main/4_%ED%8C%8C%EC%9D%B4%EC%8D%AC%EC%9D%98_%EC%9E%85%EB%A0%A5.ipynb\" target=\"_parent\"><img src=\"https://colab.research.google.com/assets/colab-badge.svg\" alt=\"Open In Colab\"/></a>"
      ]
    },
    {
      "cell_type": "markdown",
      "source": [
        "# 1. input 함수"
      ],
      "metadata": {
        "id": "3ruTSXFy8cPY"
      }
    },
    {
      "cell_type": "markdown",
      "source": [
        "* 사용자에게 데이터를 입력받을 수 있는 함수\n",
        "* 데이터를 문자형으로 입력"
      ],
      "metadata": {
        "id": "XLFQYE1Y8tA5"
      }
    },
    {
      "cell_type": "code",
      "source": [
        "name = input()\n",
        "print(name)"
      ],
      "metadata": {
        "colab": {
          "base_uri": "https://localhost:8080/"
        },
        "id": "QZSarT3N82pS",
        "outputId": "ba79fd34-3f89-4ae2-82a4-0adf9fb49343"
      },
      "execution_count": null,
      "outputs": [
        {
          "output_type": "stream",
          "name": "stdout",
          "text": [
            "김사과\n",
            "김사과\n"
          ]
        }
      ]
    },
    {
      "cell_type": "code",
      "source": [
        "name = input('이름을 입력하세요: ')\n",
        "print('%s님 안녕하세요!' % name)"
      ],
      "metadata": {
        "colab": {
          "base_uri": "https://localhost:8080/"
        },
        "id": "iJ86auHj9A7L",
        "outputId": "7ecdc3ee-c0d3-44af-9b26-1b62863a7167"
      },
      "execution_count": null,
      "outputs": [
        {
          "output_type": "stream",
          "name": "stdout",
          "text": [
            "이름을 입력하세요: 김사과\n",
            "김사과님 안녕하세요!\n"
          ]
        }
      ]
    },
    {
      "cell_type": "code",
      "source": [
        "# split(): 매개변수로 전달된 문자를 기준으로 데이터를 나눠서 저장\n",
        "name, age, weight = input('이름, 나이, 몸무게를 입력하세요: ').split(' ')  # 세개의 변수를 띄어쓰기로 구분한다.\n",
        "print('{}님의 나이는 {}살이며, 몸무게는 {}kg입니다.'.format(name, age, weight))  # 알아서 인덱스를 순서대로 잡아준다."
      ],
      "metadata": {
        "colab": {
          "base_uri": "https://localhost:8080/"
        },
        "id": "aZFNP5Tm9XNM",
        "outputId": "613bace8-4084-4e7b-9466-273faba6a1be"
      },
      "execution_count": null,
      "outputs": [
        {
          "output_type": "stream",
          "name": "stdout",
          "text": [
            "이름, 나이, 몸무게를 입력하세요: 김사과 20 50.5\n",
            "김사과님의 나이는 20살이며, 몸무게는 50.5kg입니다.\n"
          ]
        }
      ]
    },
    {
      "cell_type": "code",
      "source": [
        "# split(): 매개변수로 전달된 문자를 기준으로 데이터를 나눠서 저장\n",
        "name, age, weight = input('이름, 나이, 몸무게를 입력하세요: ').split('/')\n",
        "print('{}님의 나이는 {}살이며, 몸무게는 {}kg입니다.'.format(name, age, weight))"
      ],
      "metadata": {
        "colab": {
          "base_uri": "https://localhost:8080/"
        },
        "id": "Cgood_kI-mH-",
        "outputId": "0e06e5ef-0e2d-4b97-cfc9-556abf5ca6fd"
      },
      "execution_count": null,
      "outputs": [
        {
          "output_type": "stream",
          "name": "stdout",
          "text": [
            "이름, 나이, 몸무게를 입력하세요: 반하나/25/60\n",
            "반하나님의 나이는 25살이며, 몸무게는 60kg입니다.\n"
          ]
        }
      ]
    },
    {
      "cell_type": "code",
      "source": [],
      "metadata": {
        "id": "ZtkSXFiD-0oH"
      },
      "execution_count": null,
      "outputs": []
    }
  ]
}