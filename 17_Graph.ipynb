{
  "nbformat": 4,
  "nbformat_minor": 0,
  "metadata": {
    "colab": {
      "provenance": [],
      "authorship_tag": "ABX9TyOa/3DtvKzVi7a7dw4WfMnO",
      "include_colab_link": true
    },
    "kernelspec": {
      "name": "python3",
      "display_name": "Python 3"
    },
    "language_info": {
      "name": "python"
    }
  },
  "cells": [
    {
      "cell_type": "markdown",
      "metadata": {
        "id": "view-in-github",
        "colab_type": "text"
      },
      "source": [
        "<a href=\"https://colab.research.google.com/github/JunYoung07/Python_AI_Project/blob/main/17_Graph.ipynb\" target=\"_parent\"><img src=\"https://colab.research.google.com/assets/colab-badge.svg\" alt=\"Open In Colab\"/></a>"
      ]
    },
    {
      "cell_type": "markdown",
      "source": [
        "# 1. 그래프(Graph)"
      ],
      "metadata": {
        "id": "t9AP9SJ5TvBn"
      }
    },
    {
      "cell_type": "markdown",
      "source": [
        "* 실제 세계의 현상이나 사물을 **정점(Vertex)**또는 **노드(Node)**와 **간선(Edge)**으로 표현하기 위해 사용"
      ],
      "metadata": {
        "id": "WB8U2xpMTzuq"
      }
    },
    {
      "cell_type": "markdown",
      "source": [
        "# 2. 그래프 관련 용어"
      ],
      "metadata": {
        "id": "m8C-taW6T_9H"
      }
    },
    {
      "cell_type": "markdown",
      "source": [
        "* **노드(Node)**: 위치, 정점이라고 함\n",
        "* **간선(Edge)**: 위치간의 관계를 표시한 선으로 노드를 연결한 선(link 또는 Branch라고 함)\n",
        "* **인접 정점(Adfacent Vertex)**: 간선으로 직접 연결된 정점(또는 노드)"
      ],
      "metadata": {
        "id": "InjqknycUCBa"
      }
    },
    {
      "cell_type": "markdown",
      "source": [
        "# 3. 그래프 종류"
      ],
      "metadata": {
        "id": "CHmHVkEjUOtr"
      }
    },
    {
      "cell_type": "markdown",
      "source": [
        "### 3-1. 무방향 그래프\n",
        "* 방향이 없는 그래프\n",
        "* 간선을 통해, 노드는 양방향으로 갈 수 있음\n"
      ],
      "metadata": {
        "id": "bBYZ09LjUQiE"
      }
    },
    {
      "cell_type": "markdown",
      "source": [
        "### 3-2. 방향 그래프\n",
        "* 간선에 방향이 있는 그래프\n",
        "* 보통 노드 A, B가 A -> B로 가는 간선으로 연결되어 있는 경우 <A, B>로 표기(<B, A>와 다른 뜻)\n"
      ],
      "metadata": {
        "id": "a2aGDDsfUWZx"
      }
    },
    {
      "cell_type": "markdown",
      "source": [
        "### 3-3. 가중치 그래프"
      ],
      "metadata": {
        "id": "8n1bW254Uhr2"
      }
    },
    {
      "cell_type": "markdown",
      "source": [
        "* 간선에 비용 또는 가중치가 할당된 그래프"
      ],
      "metadata": {
        "id": "8thzfWnaUi2J"
      }
    },
    {
      "cell_type": "markdown",
      "source": [
        "### 3-4. 연결 그래프와 비연결 그래프\n",
        "* **연결 그래프**: 그래프에 있는 모든 노드에 대해 항상 경로가 존재하는 경우\n",
        "* **비연결 그래프**: 무방향 그래프에서 특정 노드에 대해 경로가 존재하지 않는 경우"
      ],
      "metadata": {
        "id": "QlaFWCBqUlnc"
      }
    },
    {
      "cell_type": "markdown",
      "source": [
        "### 3-5. 순환(cycle)과 비순환(acyclic)그래프\n",
        "* **순환(cycle) 그래프**: 단순 시작노드와 종료노드가 동일한 경우\n",
        "* **비순환(acyclic) 그래프**: 사이클이 없는 그래프"
      ],
      "metadata": {
        "id": "l7HX-7BRUuhc"
      }
    },
    {
      "cell_type": "markdown",
      "source": [
        "# 4. 그래프와 트리의 차이"
      ],
      "metadata": {
        "id": "_ZdzYYEDU8zj"
      }
    },
    {
      "cell_type": "markdown",
      "source": [
        "||**그래프**|**트리**|\n",
        "|:---|:---|:---|\n",
        "|정의|노드와 노드를 연결하는 간선으로 표현되는 자료 구조|그래프의 한 종류, 방향성이 있는 비순환 그래프|\n",
        "|방향성|방향 그래프, 무방향 그래프 둘 다 존재|방향 그래프만 존재|\n",
        "|사이클|사이클 가능함, 순환 및 비순환 그래프 모두 존재|비순환 그래프로 사이클이 존재하지 않음|\n",
        "|루트 노드|루트 노드 존재하지 않음|루트 노드 존재함|\n",
        "|부모/자식 관계|부모 자식 개념이 존재하지 않음|부모 자식 관계가 존재함|"
      ],
      "metadata": {
        "id": "nUXP3NLbU_X3"
      }
    }
  ]
}