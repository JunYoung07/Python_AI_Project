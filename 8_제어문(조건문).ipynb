{
  "nbformat": 4,
  "nbformat_minor": 0,
  "metadata": {
    "colab": {
      "provenance": [],
      "collapsed_sections": [],
      "authorship_tag": "ABX9TyNzaCDpSWSZLWshzERIxglO",
      "include_colab_link": true
    },
    "kernelspec": {
      "name": "python3",
      "display_name": "Python 3"
    },
    "language_info": {
      "name": "python"
    }
  },
  "cells": [
    {
      "cell_type": "markdown",
      "metadata": {
        "id": "view-in-github",
        "colab_type": "text"
      },
      "source": [
        "<a href=\"https://colab.research.google.com/github/JunYoung07/Python_AI_Project/blob/main/8_%EC%A0%9C%EC%96%B4%EB%AC%B8(%EC%A1%B0%EA%B1%B4%EB%AC%B8).ipynb\" target=\"_parent\"><img src=\"https://colab.research.google.com/assets/colab-badge.svg\" alt=\"Open In Colab\"/></a>"
      ]
    },
    {
      "cell_type": "markdown",
      "source": [
        "# 1. 제어문"
      ],
      "metadata": {
        "id": "xte0NDa4h6t9"
      }
    },
    {
      "cell_type": "markdown",
      "source": [
        "* 프로그램의 흐름을 제어하는 문장\n",
        "    * 조건문\n",
        "    * 반복문\n"
      ],
      "metadata": {
        "id": "19nDtbp5iAeE"
      }
    },
    {
      "cell_type": "markdown",
      "source": [
        "# 2. 조건문\n",
        "* 들여쓰기 -> 조건식의 범위를 지정해준다.\n",
        "* 조건식이 True인 경우 들여쓰기 범위내의 함수를 모두 실행해준다."
      ],
      "metadata": {
        "id": "j8DOFwuaiFfm"
      }
    },
    {
      "cell_type": "code",
      "source": [
        "# 비교 연산자\n",
        "# <, >, <=, >=, ==, !=\n",
        "print(10 > 5)\n",
        "print(10 < 5)\n",
        "print(10 >= 5)\n",
        "print(10 <= 5)\n",
        "print(10 == 5)  # 같다\n",
        "print(10 != 5)  # 같지 않다."
      ],
      "metadata": {
        "colab": {
          "base_uri": "https://localhost:8080/"
        },
        "id": "ciSbekUHiMKd",
        "outputId": "58da3661-9b4a-4316-cf71-08718e279291"
      },
      "execution_count": 9,
      "outputs": [
        {
          "output_type": "stream",
          "name": "stdout",
          "text": [
            "True\n",
            "False\n",
            "True\n",
            "False\n",
            "False\n",
            "True\n"
          ]
        }
      ]
    },
    {
      "cell_type": "markdown",
      "source": [
        "### 논리 연산자(AND)\n",
        "* 양쪽 두 식의 값이 모두 True인 경우 결과가 True가 되는 연산자\n",
        "\n",
        "|A|B|결과|\n",
        "|-----|-----|-----|\n",
        "|True|True|True|\n",
        "|True|False|False|\n",
        "|False|True|False|\n",
        "|False|False|False|"
      ],
      "metadata": {
        "id": "xUX74btcnPGN"
      }
    },
    {
      "cell_type": "markdown",
      "source": [
        "### 논리 연산자(OR)\n",
        "* 양쪽 두 식의 값이 하나라도 True이면 결과가 True가 되는 연산자\n",
        "\n",
        "|A|B|결과|\n",
        "|-----|-----|-----|\n",
        "|True|True|True|\n",
        "|True|False|True|\n",
        "|False|True|True|\n",
        "|False|False|False|"
      ],
      "metadata": {
        "id": "O-FpgrlcoKMk"
      }
    },
    {
      "cell_type": "markdown",
      "source": [
        "### 2-1. if문"
      ],
      "metadata": {
        "id": "2IGycF6piIOE"
      }
    },
    {
      "cell_type": "markdown",
      "source": [
        "```\n",
        "if 조건식(결과가 True 또는 False가 나오는 문장):\n",
        "    조건식이 True인 경우 실행할 문장\n",
        "```"
      ],
      "metadata": {
        "id": "tuJOdG83iicW"
      }
    },
    {
      "cell_type": "code",
      "source": [
        "age = int(input('나이를 입력하세요: '))\n",
        "\n",
        "if age > 19:\n",
        "    print('성인입니다.')\n",
        "print('입력한 나이: ', age)"
      ],
      "metadata": {
        "colab": {
          "base_uri": "https://localhost:8080/"
        },
        "id": "44FYu39oivHU",
        "outputId": "d9a9fc8d-9669-4ff7-960d-a5b0f9eec766"
      },
      "execution_count": 2,
      "outputs": [
        {
          "output_type": "stream",
          "name": "stdout",
          "text": [
            "나이를 입력하세요: 15\n",
            "입력한 나이:  15\n"
          ]
        }
      ]
    },
    {
      "cell_type": "code",
      "source": [
        "age = int(input('나이를 입력하세요: '))\n",
        "\n",
        "if age >19:\n",
        "    print('성인입니다.')\n",
        "    print('넷플릭스 성인영화를 감상할 수 있습니다.')\n",
        "print('입력한 나이: ', age)"
      ],
      "metadata": {
        "colab": {
          "base_uri": "https://localhost:8080/"
        },
        "id": "zyJ5OlBli48X",
        "outputId": "713f17b2-4699-4b0e-c7db-bbf4e0d56755"
      },
      "execution_count": 3,
      "outputs": [
        {
          "output_type": "stream",
          "name": "stdout",
          "text": [
            "나이를 입력하세요: 20\n",
            "성인입니다.\n",
            "넷플릭스 성인영화를 감상할 수 있습니다.\n",
            "입력한 나이:  20\n"
          ]
        }
      ]
    },
    {
      "cell_type": "code",
      "source": [
        "age = int(input('나이를 입력하세요: '))\n",
        "\n",
        "if age > 19: print('성인입니다.')\n",
        "print('입력한 나이: ', age)"
      ],
      "metadata": {
        "colab": {
          "base_uri": "https://localhost:8080/"
        },
        "id": "lOoF9lVkjvVb",
        "outputId": "30b4af4c-3118-4408-d940-126fb841b5fe"
      },
      "execution_count": 4,
      "outputs": [
        {
          "output_type": "stream",
          "name": "stdout",
          "text": [
            "나이를 입력하세요: 15\n",
            "입력한 나이:  15\n"
          ]
        }
      ]
    },
    {
      "cell_type": "markdown",
      "source": [
        "### 2-2. if ~ else 문"
      ],
      "metadata": {
        "id": "lPmMmVnLj2Sg"
      }
    },
    {
      "cell_type": "markdown",
      "source": [
        "```\n",
        "if 조건식(결과가 True 또는 False가 나오는 문장):\n",
        "    조건식이 True인 경우 실행할 문장\n",
        "else:\n",
        "    조건식이 False인 경우 실행할 문장\n",
        "```"
      ],
      "metadata": {
        "id": "K01MKgUWj9pu"
      }
    },
    {
      "cell_type": "code",
      "source": [
        "age = int(input('나이를 입력하세요: '))\n",
        "\n",
        "if age > 19:\n",
        "    print('성인입니다.')\n",
        "else:\n",
        "    print('미성년자입니다.')\n",
        "print('입력한 나이: ', age)"
      ],
      "metadata": {
        "colab": {
          "base_uri": "https://localhost:8080/"
        },
        "id": "gVUgUwjCkMBs",
        "outputId": "a8ce10c0-7d4a-4784-bd90-3f8b281bf5ba"
      },
      "execution_count": 5,
      "outputs": [
        {
          "output_type": "stream",
          "name": "stdout",
          "text": [
            "나이를 입력하세요: 15\n",
            "미성년자입니다.\n",
            "입력한 나이:  15\n"
          ]
        }
      ]
    },
    {
      "cell_type": "markdown",
      "source": [
        "### 2-3. if ~ elif ~ else(필수X) 문"
      ],
      "metadata": {
        "id": "18qznuJFkZfS"
      }
    },
    {
      "cell_type": "markdown",
      "source": [
        "```\n",
        "if 조건식1(결과가 True 또는 False가 나오는 문장):\n",
        "    조건식1이 True인 경우 실행할 문장\n",
        "elif 조건식2:\n",
        "    조건식2가 True인 경우 실행할 문장\n",
        "elif 조건식3:\n",
        "    조건식3가 True인 경우 실행할 문잔\n",
        "...\n",
        "else:\n",
        "    조건식이 모두 False인 경우 실행할 문장\n",
        "```"
      ],
      "metadata": {
        "id": "reTt16VskhtY"
      }
    },
    {
      "cell_type": "code",
      "source": [
        "age = int(input('나이를 입력하세요: '))\n",
        "\n",
        "if age > 19:\n",
        "    print('성인입니다.')\n",
        "elif age > 14:\n",
        "    print('청소년입니다.')\n",
        "elif age > 6:\n",
        "    print('어린이입니다.')\n",
        "elif age > 0:\n",
        "    print('유아입니다.')\n",
        "else:\n",
        "    print('입력을 확인하세요.')\n",
        "print('입력한 나이: ', age)"
      ],
      "metadata": {
        "colab": {
          "base_uri": "https://localhost:8080/"
        },
        "id": "oF_gHMX6k7E0",
        "outputId": "69a81448-fee7-4f3e-c572-ee037add767c"
      },
      "execution_count": 6,
      "outputs": [
        {
          "output_type": "stream",
          "name": "stdout",
          "text": [
            "나이를 입력하세요: 0\n",
            "입력을 확인하세요.\n",
            "입력한 나이:  0\n"
          ]
        }
      ]
    },
    {
      "cell_type": "markdown",
      "source": [
        "### 문제\n",
        "* 국어점수, 영어점수, 수학점수를 입력받아 총점, 평균, 학점을 구하는 프로그램을 작성해보자. (단, 학점은 평균 기준이며 90점 이상은 A학점, 80점 이상은 B학점, 70점 이상은 C학점, 60점 이상은 D학점, 나머지는 모두 F학점으로 한다."
      ],
      "metadata": {
        "id": "IdGZRnu8lXTH"
      }
    },
    {
      "cell_type": "code",
      "source": [
        "kor, eng, math = input('국어, 영어, 수학점수를 입력하세요.').split(' ')\n",
        "tot = int(kor) + int(eng) + int(math)\n",
        "avg = tot / 3\n",
        "\n",
        "score = ''\n",
        "if avg >= 90:\n",
        "    score = 'A학점'\n",
        "elif avg >= 80:\n",
        "    score = 'B학점'\n",
        "elif avg >= 70:\n",
        "    score = 'C학점'\n",
        "elif avg >= 60:\n",
        "    score = 'D학점'\n",
        "else:\n",
        "    score = 'F학점'\n",
        "\n",
        "print('총점: {}\\n평균: {}\\n학점: {}'.format(tot, avg, score))"
      ],
      "metadata": {
        "colab": {
          "base_uri": "https://localhost:8080/"
        },
        "id": "N13Kd5_slrBv",
        "outputId": "7cba1099-5a6e-4e4c-bef8-4e0d8ef3fd3d"
      },
      "execution_count": 7,
      "outputs": [
        {
          "output_type": "stream",
          "name": "stdout",
          "text": [
            "국어, 영어, 수학점수를 입력하세요.70 80 90\n",
            "총점: 240\n",
            "평균: 80.0\n",
            "학점: B학점\n"
          ]
        }
      ]
    },
    {
      "cell_type": "code",
      "source": [
        "# 로그인 프로그램 만들기\n",
        "# 아이디: admin, 비밀번호: 1234\n",
        "userid = input('아이디를 입력하세요: ')\n",
        "userpw = input('비밀번호를 입력하세요: ')\n",
        "\n",
        "if userid == 'admin' and userpw == '1234':\n",
        "    print('로그인 되었습니다.')\n",
        "else:\n",
        "    print('아이디 또는 비밀번호를 확인하세요')"
      ],
      "metadata": {
        "colab": {
          "base_uri": "https://localhost:8080/"
        },
        "id": "Pe0WGpwxnvZW",
        "outputId": "fcc01f68-62a8-4b28-a934-897eac801656"
      },
      "execution_count": 10,
      "outputs": [
        {
          "output_type": "stream",
          "name": "stdout",
          "text": [
            "아이디를 입력하세요: admin\n",
            "비밀번호를 입력하세요: 123\n",
            "아이디 또는 비밀번호를 확인하세요\n"
          ]
        }
      ]
    },
    {
      "cell_type": "code",
      "source": [
        "# 주민등록번호에 의한 성별 판별\n",
        "# 0010113068518\n",
        "juminNo = input('주민등록번호 13자리를 -없이 입력하세요.: ')\n",
        "\n",
        "if juminNo[6] == '1' or juminNo[6] == '3' or juminNo[6] == '5' or juminNo[6] == '7' or juminNo[6] == '9':\n",
        "    print('남자')\n",
        "else:\n",
        "    print('여자')"
      ],
      "metadata": {
        "colab": {
          "base_uri": "https://localhost:8080/"
        },
        "id": "-pG0RVDsnH6i",
        "outputId": "ab3f8d17-deaf-453b-fefa-dd77188d5883"
      },
      "execution_count": 11,
      "outputs": [
        {
          "output_type": "stream",
          "name": "stdout",
          "text": [
            "주민등록번호 13자리를 -없이 입력하세요.: 0010113068518\n",
            "남자\n"
          ]
        }
      ]
    }
  ]
}