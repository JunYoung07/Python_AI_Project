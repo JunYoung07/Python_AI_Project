{
  "nbformat": 4,
  "nbformat_minor": 0,
  "metadata": {
    "colab": {
      "provenance": [],
      "collapsed_sections": [],
      "authorship_tag": "ABX9TyNcPmuEnlZqmQVpXUsJcBIa",
      "include_colab_link": true
    },
    "kernelspec": {
      "name": "python3",
      "display_name": "Python 3"
    },
    "language_info": {
      "name": "python"
    }
  },
  "cells": [
    {
      "cell_type": "markdown",
      "metadata": {
        "id": "view-in-github",
        "colab_type": "text"
      },
      "source": [
        "<a href=\"https://colab.research.google.com/github/JunYoung07/Python_AI_Project/blob/main/7_%ED%8A%9C%ED%94%8C.ipynb\" target=\"_parent\"><img src=\"https://colab.research.google.com/assets/colab-badge.svg\" alt=\"Open In Colab\"/></a>"
      ]
    },
    {
      "cell_type": "markdown",
      "source": [
        "# 1. 튜플(Tuple)"
      ],
      "metadata": {
        "id": "KqkOUny4SFRd"
      }
    },
    {
      "cell_type": "markdown",
      "source": [
        "* 리스트와 비슷하지만, 리스트는 [ ]로 자료로 감싸고, 튜플은 ( )로 감쌈\n",
        "* 수정, 삭제가 불가능"
      ],
      "metadata": {
        "id": "jVOOJ3FyeRzn"
      }
    },
    {
      "cell_type": "code",
      "source": [
        "tu1 = ()\n",
        "print(tu1)\n",
        "# tu1[0] = 10   # TypeError: 'tuple' object does not support item assignment\n",
        "\n",
        "tu2 = (1, 3, 5, 7)\n",
        "print(tu2)\n",
        "\n",
        "tu3 = 1, 3, 5, 7\n",
        "print(tu3)\n",
        "\n",
        "tu4 = ('apple', 'banana', ('🍓', '🍑'))\n",
        "print(tu4)\n",
        "print(type(tu4))\n",
        "\n",
        "tu5 = ('apple', 'banana', ['🍓', '🍑']) # 큐플 안에 리스트를 넣을 수 있다.\n",
        "print(tu5)\n",
        "print(type(tu5))"
      ],
      "metadata": {
        "colab": {
          "base_uri": "https://localhost:8080/"
        },
        "id": "J10WqG3wedUZ",
        "outputId": "9c286614-84ab-447c-af56-9bbd6c2e726a"
      },
      "execution_count": null,
      "outputs": [
        {
          "output_type": "stream",
          "name": "stdout",
          "text": [
            "()\n",
            "(1, 3, 5, 7)\n",
            "(1, 3, 5, 7)\n",
            "('apple', 'banana', ('🍓', '🍑'))\n",
            "<class 'tuple'>\n",
            "('apple', 'banana', ['🍓', '🍑'])\n",
            "<class 'tuple'>\n"
          ]
        }
      ]
    },
    {
      "cell_type": "markdown",
      "source": [
        "# 2. 튜플의 수정 및 삭제"
      ],
      "metadata": {
        "id": "pxFzLyoYe3zh"
      }
    },
    {
      "cell_type": "code",
      "source": [
        "tu6 = (1, 2, 'apple', 'banana')\n",
        "print(tu6)\n",
        "\n",
        "# tu6[3] = 'orange'   # TypeError: 'tuple' object does not support item assignment\n",
        "# del tu6[3]  # TypeError: 'tuple' object doesn't support item deletion\n",
        "del tu6     # tu6이라는 참조변수를 삭제함\n",
        "'''\n",
        "메모리\n",
        "tu6 -> steak\n",
        "tu6.data -> heap\n",
        "heap에 있는 tuple데이터는 지울 수  없다.\n",
        "steak에 있는 참조변수는 지울 수 있다. -> heap에 떠돌이가 된 데이터가 자동으로 삭제됨.\n",
        " -> tuple안에 있는 데이터가 tuple형이므로 바꿀수가 없는 것이다.\n",
        "'''\n"
      ],
      "metadata": {
        "id": "WQk0EIXHf3ZI",
        "colab": {
          "base_uri": "https://localhost:8080/",
          "height": 89
        },
        "outputId": "20831793-fe05-4647-9bbd-5e817ba7596f"
      },
      "execution_count": null,
      "outputs": [
        {
          "output_type": "stream",
          "name": "stdout",
          "text": [
            "(1, 2, 'apple', 'banana')\n"
          ]
        },
        {
          "output_type": "execute_result",
          "data": {
            "text/plain": [
              "'\\n메모리\\ntu6 -> steak\\ntu6.data -> heap\\nheap에 있는 tuple데이터는 지울 수  없다.\\nsteak에 있는 참조변수는 지울 수 있다. -> heap에 떠돌이가 된 데이터가 자동으로 삭제됨.\\n -> tuple안에 있는 데이터가 tuple형이므로 바꿀수가 없는 것이다.\\n'"
            ],
            "application/vnd.google.colaboratory.intrinsic+json": {
              "type": "string"
            }
          },
          "metadata": {},
          "execution_count": 15
        }
      ]
    },
    {
      "cell_type": "code",
      "source": [
        "tu5[2][0] = '🌽'    # 튜플 안에 있는 리스트는 견경이 가능하다.\n",
        "print(tu5)"
      ],
      "metadata": {
        "colab": {
          "base_uri": "https://localhost:8080/"
        },
        "id": "Dt-LH7oLhYbc",
        "outputId": "06f9572e-c1a2-4115-d4a8-b151f03f6163"
      },
      "execution_count": null,
      "outputs": [
        {
          "output_type": "stream",
          "name": "stdout",
          "text": [
            "('apple', 'banana', ['🌽', '🍑'])\n"
          ]
        }
      ]
    },
    {
      "cell_type": "code",
      "source": [
        "tu7 = (1, 2, 'apple', 'banana')\n",
        "tu7 = [1, 2, 'apple', 'banana']\n",
        "# tu7은 튜플을 가리키고 있는 참조변수일 뿐!! 튜플이 아니다!!!\n",
        "# tu7을 리스트를 가리키도록 바꿔준 것! (참조변수가 가리키는 위치가 바뀐 것이다.)\n",
        "\n",
        "print(tu7)"
      ],
      "metadata": {
        "colab": {
          "base_uri": "https://localhost:8080/"
        },
        "id": "IqiZTTUPhqWR",
        "outputId": "2ea61353-241e-4da9-bc6f-de53a031fe82"
      },
      "execution_count": null,
      "outputs": [
        {
          "output_type": "stream",
          "name": "stdout",
          "text": [
            "[1, 2, 'apple', 'banana']\n"
          ]
        }
      ]
    },
    {
      "cell_type": "markdown",
      "source": [
        "# 3. 튜플의 인덱싱과 슬라이싱 연산"
      ],
      "metadata": {
        "id": "HDpWYlPJh8xk"
      }
    },
    {
      "cell_type": "code",
      "source": [
        "# 리스트와 같다!\n",
        "tu8 = (1, 2, 'apple', 'banana')\n",
        "\n",
        "# 인덱싱\n",
        "print(tu8[0])\n",
        "print(tu8[-1])\n",
        "\n",
        "# 슬라이싱\n",
        "print(tu8[1:])\n",
        "print(tu8[1:3])\n",
        "\n",
        "# 덧셈(연결)\n",
        "tu9 = (30, 40)\n",
        "print(tu8 + tu9)\n",
        "\n",
        "# 곱셈(반복)\n",
        "print(tu8 * 3)\n",
        "\n",
        "# 요소의 갯수\n",
        "print(len(tu8)) "
      ],
      "metadata": {
        "colab": {
          "base_uri": "https://localhost:8080/"
        },
        "id": "1YFq6uH8iZfu",
        "outputId": "8eff10b7-c67e-43c7-8ae5-cb5a282ee2c6"
      },
      "execution_count": null,
      "outputs": [
        {
          "output_type": "stream",
          "name": "stdout",
          "text": [
            "1\n",
            "banana\n",
            "(2, 'apple', 'banana')\n",
            "(2, 'apple')\n",
            "(1, 2, 'apple', 'banana', 30, 40)\n",
            "(1, 2, 'apple', 'banana', 1, 2, 'apple', 'banana', 1, 2, 'apple', 'banana')\n",
            "4\n"
          ]
        }
      ]
    },
    {
      "cell_type": "code",
      "source": [
        "tu10 = (1, 2, 3, [1, 2, 3])\n",
        "tu10[3][0] = 100\n",
        "print(tu10)"
      ],
      "metadata": {
        "colab": {
          "base_uri": "https://localhost:8080/"
        },
        "id": "bO_SkAWPilTW",
        "outputId": "8d3752df-d51e-48f2-b3ee-cd3f17bc2e33"
      },
      "execution_count": null,
      "outputs": [
        {
          "output_type": "stream",
          "name": "stdout",
          "text": [
            "(1, 2, 3, [100, 2, 3])\n"
          ]
        }
      ]
    },
    {
      "cell_type": "code",
      "source": [
        "tu11 = (1, 3, 2, 0)\n",
        "tu12 = sorted(tu11)     # 순서를 바꾼 뒤 새로운 변수에 저장을 한다. // 파이썬 내장 함수\n",
        "# sorted() : 튜플이나 리스트의 요소를 꺼낸 뒤 새로운 변수에 넣는다.\n",
        "tu12    # tuple에는 sort()가 없다. // "
      ],
      "metadata": {
        "colab": {
          "base_uri": "https://localhost:8080/"
        },
        "id": "-O0gENYhjplU",
        "outputId": "c45aba35-69ba-4911-9f80-b72be883cd3b"
      },
      "execution_count": null,
      "outputs": [
        {
          "output_type": "execute_result",
          "data": {
            "text/plain": [
              "[0, 1, 2, 3]"
            ]
          },
          "metadata": {},
          "execution_count": 30
        }
      ]
    },
    {
      "cell_type": "code",
      "source": [
        "# tu11.sort() # AttributeError: 'tuple' object has no attribute 'sort'\n",
        "li11 = [1, 3, 2, 0]\n",
        "li11.sort()     # 순서를 바꾼 뒤에 자신의 변수에 저장을 한다.\n",
        "print(li11)"
      ],
      "metadata": {
        "colab": {
          "base_uri": "https://localhost:8080/"
        },
        "id": "B3QFJroQj2Cs",
        "outputId": "545cdd8d-fd6c-4d46-d789-70c5b02b6592"
      },
      "execution_count": null,
      "outputs": [
        {
          "output_type": "stream",
          "name": "stdout",
          "text": [
            "[0, 1, 2, 3]\n"
          ]
        }
      ]
    }
  ]
}