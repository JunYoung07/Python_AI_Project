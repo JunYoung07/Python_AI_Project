{
  "nbformat": 4,
  "nbformat_minor": 0,
  "metadata": {
    "colab": {
      "provenance": [],
      "authorship_tag": "ABX9TyMKA3GB0Zo/z/L9IkeQ30FA",
      "include_colab_link": true
    },
    "kernelspec": {
      "name": "python3",
      "display_name": "Python 3"
    },
    "language_info": {
      "name": "python"
    }
  },
  "cells": [
    {
      "cell_type": "markdown",
      "metadata": {
        "id": "view-in-github",
        "colab_type": "text"
      },
      "source": [
        "<a href=\"https://colab.research.google.com/github/JunYoung07/Python_AI_Project/blob/main/1_Numpy.ipynb\" target=\"_parent\"><img src=\"https://colab.research.google.com/assets/colab-badge.svg\" alt=\"Open In Colab\"/></a>"
      ]
    },
    {
      "cell_type": "markdown",
      "source": [
        "# 1. `Numpy`\n",
        "* python은 **opensource기반** 프로그래밍 언어\n",
        "* 수학, 과학 계산용 package\n",
        "* `ndarray` 자료구조 활용\n",
        "    * 파이썬의 `list`보다 훨씬 빠름\n",
        "    * 파이썬의 `list`보다 적은 메모리 사용"
      ],
      "metadata": {
        "id": "f5PpZbsNq0h4"
      }
    },
    {
      "cell_type": "code",
      "source": [
        "# ! - 터미널 명령어 사용\n",
        "# numpy package install\n",
        "!pip install numpy"
      ],
      "metadata": {
        "colab": {
          "base_uri": "https://localhost:8080/"
        },
        "id": "aqOx5mexrT-N",
        "outputId": "a5e2b9e4-0c40-4493-d717-8ee93f35164d"
      },
      "execution_count": 1,
      "outputs": [
        {
          "output_type": "stream",
          "name": "stdout",
          "text": [
            "Looking in indexes: https://pypi.org/simple, https://us-python.pkg.dev/colab-wheels/public/simple/\n",
            "Requirement already satisfied: numpy in /usr/local/lib/python3.8/dist-packages (1.21.6)\n"
          ]
        }
      ]
    },
    {
      "cell_type": "code",
      "source": [
        "# numpy package import\n",
        "import numpy as np\n",
        "np  # np 객체의 위치 "
      ],
      "metadata": {
        "colab": {
          "base_uri": "https://localhost:8080/"
        },
        "id": "VPgIY8QdrflN",
        "outputId": "9760c3a7-3403-40c8-faa2-1299f991a399"
      },
      "execution_count": 3,
      "outputs": [
        {
          "output_type": "execute_result",
          "data": {
            "text/plain": [
              "<module 'numpy' from '/usr/local/lib/python3.8/dist-packages/numpy/__init__.py'>"
            ]
          },
          "metadata": {},
          "execution_count": 3
        }
      ]
    },
    {
      "cell_type": "markdown",
      "source": [
        "### 1-1. Array(배열)"
      ],
      "metadata": {
        "id": "rVgwqh8qrm93"
      }
    },
    {
      "cell_type": "code",
      "source": [
        "# python list\n",
        "list1 = [1, 2, 3, 4]\n",
        "list2 = [[1, 2, 3, 4], [5, 6, 7, 8]]\n",
        "print(list1); print(list2)"
      ],
      "metadata": {
        "colab": {
          "base_uri": "https://localhost:8080/"
        },
        "id": "AUdwda2xrzK4",
        "outputId": "3cfe0a42-3ba5-4188-ad17-364fef44293c"
      },
      "execution_count": 10,
      "outputs": [
        {
          "output_type": "stream",
          "name": "stdout",
          "text": [
            "[1, 2, 3, 4]\n",
            "[[1, 2, 3, 4], [5, 6, 7, 8]]\n"
          ]
        }
      ]
    },
    {
      "cell_type": "code",
      "source": [
        "# numpy ndarray\n",
        "arr = np.array([1, 2, 3, 4])\n",
        "arr"
      ],
      "metadata": {
        "colab": {
          "base_uri": "https://localhost:8080/"
        },
        "id": "0LmuCpBvr6kb",
        "outputId": "ed9c915b-61ea-4d44-efbf-96602e60bb9b"
      },
      "execution_count": 5,
      "outputs": [
        {
          "output_type": "execute_result",
          "data": {
            "text/plain": [
              "array([1, 2, 3, 4])"
            ]
          },
          "metadata": {},
          "execution_count": 5
        }
      ]
    },
    {
      "cell_type": "code",
      "source": [
        "# convert list into ndarray\n",
        "arr1 = np.array(list2)\n",
        "arr1"
      ],
      "metadata": {
        "colab": {
          "base_uri": "https://localhost:8080/"
        },
        "id": "g5HX29fzsDU7",
        "outputId": "523ecb12-4712-4e45-84c1-4b69ea57c4bf"
      },
      "execution_count": 9,
      "outputs": [
        {
          "output_type": "execute_result",
          "data": {
            "text/plain": [
              "array([[1, 2, 3, 4],\n",
              "       [5, 6, 7, 8]])"
            ]
          },
          "metadata": {},
          "execution_count": 9
        }
      ]
    },
    {
      "cell_type": "markdown",
      "source": [
        "### 1-2. Array의 데이터 타입"
      ],
      "metadata": {
        "id": "vHWJAnfYs4Ow"
      }
    },
    {
      "cell_type": "markdown",
      "source": [
        "* `ndarray`는 `list`와 다르게 배열 안에 한 개의 데이터 타입만 존재한다."
      ],
      "metadata": {
        "id": "5P9FlfS-tRe1"
      }
    },
    {
      "cell_type": "code",
      "source": [
        "# data type of numpy array\n",
        "arr = np.array([1, 2, 3, 4])\n",
        "type(arr)"
      ],
      "metadata": {
        "colab": {
          "base_uri": "https://localhost:8080/"
        },
        "id": "mBo27SFysBBq",
        "outputId": "3b289d5d-a6c8-43c5-f3b6-d6b924366fca"
      },
      "execution_count": 11,
      "outputs": [
        {
          "output_type": "execute_result",
          "data": {
            "text/plain": [
              "numpy.ndarray"
            ]
          },
          "metadata": {},
          "execution_count": 11
        }
      ]
    },
    {
      "cell_type": "code",
      "source": [
        "# list vs. ndarray\n",
        "list1 = [1, 3.14, 'Python', True]\n",
        "arr1 = np.array([1, 3.14, 'Python', True])"
      ],
      "metadata": {
        "id": "TD3gOx_AtQjA"
      },
      "execution_count": 14,
      "outputs": []
    },
    {
      "cell_type": "code",
      "source": [
        "print(list1)\n",
        "print(arr1)"
      ],
      "metadata": {
        "colab": {
          "base_uri": "https://localhost:8080/"
        },
        "id": "im4RBIVCtm92",
        "outputId": "67045473-36c3-4c81-865d-0a32a6987749"
      },
      "execution_count": 16,
      "outputs": [
        {
          "output_type": "stream",
          "name": "stdout",
          "text": [
            "[1, 3.14, 'Python', True]\n",
            "['1' '3.14' 'Python' 'True']\n"
          ]
        }
      ]
    },
    {
      "cell_type": "markdown",
      "source": [
        "> `ndarray`의 데이터가 모두 `string`으로 변함. (자료형이 큰 순서로 변환)  \n",
        "\n",
        "* 자료형의 순서: \n",
        "    * `string` > `float` > `int` > `boolean`"
      ],
      "metadata": {
        "id": "U2Pi1h5rt1Pt"
      }
    },
    {
      "cell_type": "code",
      "source": [
        "# you can change datatype\n",
        "arr2 = np.array([1, 2, 3.14, 4], dtype=int)\n",
        "arr2"
      ],
      "metadata": {
        "colab": {
          "base_uri": "https://localhost:8080/"
        },
        "id": "q1oaB9U9uTuK",
        "outputId": "be16bb91-536c-41ef-bb42-16cb095e2a8e"
      },
      "execution_count": 17,
      "outputs": [
        {
          "output_type": "execute_result",
          "data": {
            "text/plain": [
              "array([1, 2, 3, 4])"
            ]
          },
          "metadata": {},
          "execution_count": 17
        }
      ]
    },
    {
      "cell_type": "code",
      "source": [
        "# string -> int: only string.isdigit() == True\n",
        "arr4 = np.array([1, 2, 3.14, True, '1234'], dtype=int)\n",
        "arr4"
      ],
      "metadata": {
        "colab": {
          "base_uri": "https://localhost:8080/"
        },
        "id": "Iz4IR24kukZl",
        "outputId": "22ea2998-efc0-4336-9386-af6f01def694"
      },
      "execution_count": 19,
      "outputs": [
        {
          "output_type": "execute_result",
          "data": {
            "text/plain": [
              "array([   1,    2,    3,    1, 1234])"
            ]
          },
          "metadata": {},
          "execution_count": 19
        }
      ]
    },
    {
      "cell_type": "markdown",
      "source": [
        "### 1-3. 인덱싱(Indexing)과 슬라이싱(Slicing)"
      ],
      "metadata": {
        "id": "dxrd46L154WS"
      }
    },
    {
      "cell_type": "code",
      "source": [
        "# Basically equal to list methods\n",
        "arr1 = np.array([1, 2, 3, 4, 5])\n",
        "arr1.shape   # array's shape (1-D, 2-D, ...)"
      ],
      "metadata": {
        "colab": {
          "base_uri": "https://localhost:8080/"
        },
        "id": "FseUce895_cZ",
        "outputId": "5f7bb54c-2063-4511-c0df-7cc07f82c635"
      },
      "execution_count": 22,
      "outputs": [
        {
          "output_type": "execute_result",
          "data": {
            "text/plain": [
              "(5,)"
            ]
          },
          "metadata": {},
          "execution_count": 22
        }
      ]
    },
    {
      "cell_type": "code",
      "source": [
        "# Indexing\n",
        "print(arr1[0])\n",
        "print(arr1[-1])\n",
        "print(arr1[4])"
      ],
      "metadata": {
        "colab": {
          "base_uri": "https://localhost:8080/"
        },
        "id": "QXqnSD596pRv",
        "outputId": "312b43f1-8bd4-4de6-ccad-74c116f005ff"
      },
      "execution_count": 24,
      "outputs": [
        {
          "output_type": "stream",
          "name": "stdout",
          "text": [
            "1\n",
            "5\n",
            "5\n"
          ]
        }
      ]
    },
    {
      "cell_type": "code",
      "source": [
        "# Slicing\n",
        "print(arr1[0:3])\n",
        "print(arr1[2:])\n",
        "print(arr1[:3])"
      ],
      "metadata": {
        "colab": {
          "base_uri": "https://localhost:8080/"
        },
        "id": "scxXWu-A6yt4",
        "outputId": "1e641baf-f887-4d95-e044-513e0f6a7e17"
      },
      "execution_count": 25,
      "outputs": [
        {
          "output_type": "stream",
          "name": "stdout",
          "text": [
            "[1 2 3]\n",
            "[3 4 5]\n",
            "[1 2 3]\n"
          ]
        }
      ]
    },
    {
      "cell_type": "code",
      "source": [
        "# 2-D array\n",
        "arr2d = np.array([[1, 2, 3, 4], \n",
        "                  [5, 6, 7, 8],\n",
        "                  [9, 10, 11, 12]])\n",
        "arr2d.shape"
      ],
      "metadata": {
        "colab": {
          "base_uri": "https://localhost:8080/"
        },
        "id": "W9D8hlZR66HD",
        "outputId": "fa9bb90f-f12c-412d-d12c-744b20acecb3"
      },
      "execution_count": 31,
      "outputs": [
        {
          "output_type": "execute_result",
          "data": {
            "text/plain": [
              "(3, 4)"
            ]
          },
          "metadata": {},
          "execution_count": 31
        }
      ]
    },
    {
      "cell_type": "code",
      "source": [
        "# 2-D array indexing\n",
        "print(arr2d[0, 2])\n",
        "print(arr2d[2, 1])"
      ],
      "metadata": {
        "colab": {
          "base_uri": "https://localhost:8080/"
        },
        "id": "yBUXsN8C7MtC",
        "outputId": "32a504e4-a3cf-4e90-c520-432b30de2b73"
      },
      "execution_count": 33,
      "outputs": [
        {
          "output_type": "stream",
          "name": "stdout",
          "text": [
            "3\n",
            "10\n"
          ]
        }
      ]
    },
    {
      "cell_type": "code",
      "source": [
        "# view row\n",
        "print(arr2d[0])\n",
        "print(arr2d[0,])\n",
        "print(arr2d[0, :])"
      ],
      "metadata": {
        "colab": {
          "base_uri": "https://localhost:8080/"
        },
        "id": "LCNTIzfM72LQ",
        "outputId": "5c600129-64d3-43bc-dcf0-ac5283b20123"
      },
      "execution_count": 34,
      "outputs": [
        {
          "output_type": "stream",
          "name": "stdout",
          "text": [
            "[1 2 3 4]\n",
            "[1 2 3 4]\n",
            "[1 2 3 4]\n"
          ]
        }
      ]
    },
    {
      "cell_type": "code",
      "source": [
        "# view column\n",
        "print(arr2d[:, 0])"
      ],
      "metadata": {
        "colab": {
          "base_uri": "https://localhost:8080/"
        },
        "id": "sfOTvP408exF",
        "outputId": "8a11fb18-c2fc-4d69-bded-2eac15ee3459"
      },
      "execution_count": 36,
      "outputs": [
        {
          "output_type": "stream",
          "name": "stdout",
          "text": [
            "[1 5 9]\n"
          ]
        }
      ]
    },
    {
      "cell_type": "markdown",
      "source": [
        "### 1-4. Fancy 인덱싱"
      ],
      "metadata": {
        "id": "PlZTWxHQ8mtf"
      }
    },
    {
      "cell_type": "code",
      "source": [
        "# select specific keys\n",
        "arr1 = np.array([10, 23, 2, 6, 90, 85, 32, 66, 80])\n",
        "idx = [1, 4, 6]\n",
        "arr1[idx]"
      ],
      "metadata": {
        "colab": {
          "base_uri": "https://localhost:8080/"
        },
        "id": "-blodOGm8sSG",
        "outputId": "8f04c573-238d-4176-a0b8-6158a1dc1140"
      },
      "execution_count": 37,
      "outputs": [
        {
          "output_type": "execute_result",
          "data": {
            "text/plain": [
              "array([23, 90, 32])"
            ]
          },
          "metadata": {},
          "execution_count": 37
        }
      ]
    },
    {
      "cell_type": "code",
      "source": [
        "# 2-D Array\n",
        "arr2d = np.array([[1, 2, 3, 4],\n",
        "                  [5, 6, 7, 8],\n",
        "                  [9, 10, 11, 12]])\n",
        "arr2d[[0, 2], :]"
      ],
      "metadata": {
        "colab": {
          "base_uri": "https://localhost:8080/"
        },
        "id": "FarX8h2i9ARJ",
        "outputId": "a2538269-109e-478d-ca00-6884012916b0"
      },
      "execution_count": 41,
      "outputs": [
        {
          "output_type": "execute_result",
          "data": {
            "text/plain": [
              "array([[ 1,  2,  3,  4],\n",
              "       [ 9, 10, 11, 12]])"
            ]
          },
          "metadata": {},
          "execution_count": 41
        }
      ]
    },
    {
      "cell_type": "markdown",
      "source": [
        "### 1-5. Boolean 인덱싱"
      ],
      "metadata": {
        "id": "deuWblnb9LhW"
      }
    },
    {
      "cell_type": "code",
      "source": [
        "arr1 = np.array([1, 2, 3, 4, 5])\n",
        "selValue = [True, False, False, True, False]    # must equal length \n",
        "arr1[selValue]"
      ],
      "metadata": {
        "colab": {
          "base_uri": "https://localhost:8080/"
        },
        "id": "4UMU4jEl9bJC",
        "outputId": "ded84a99-a0dd-4992-a9e2-719e8fb622dc"
      },
      "execution_count": 42,
      "outputs": [
        {
          "output_type": "execute_result",
          "data": {
            "text/plain": [
              "array([1, 4])"
            ]
          },
          "metadata": {},
          "execution_count": 42
        }
      ]
    },
    {
      "cell_type": "code",
      "source": [
        "arr2d = np.array([[1, 2, 3, 4],\n",
        "                  [5, 6, 7, 8],\n",
        "                  [9, 10, 11, 12]])\n",
        "arr2d > 5"
      ],
      "metadata": {
        "colab": {
          "base_uri": "https://localhost:8080/"
        },
        "id": "LEClvaOd9kov",
        "outputId": "62fa7eb4-a458-4a50-866f-9f12bee95d02"
      },
      "execution_count": 46,
      "outputs": [
        {
          "output_type": "execute_result",
          "data": {
            "text/plain": [
              "array([[False, False, False, False],\n",
              "       [False,  True,  True,  True],\n",
              "       [ True,  True,  True,  True]])"
            ]
          },
          "metadata": {},
          "execution_count": 46
        }
      ]
    },
    {
      "cell_type": "code",
      "source": [
        "arr2d < 7"
      ],
      "metadata": {
        "colab": {
          "base_uri": "https://localhost:8080/"
        },
        "id": "wlDoNTrw98xL",
        "outputId": "1ba7d7a3-0e63-44b3-814f-047cd7765082"
      },
      "execution_count": 47,
      "outputs": [
        {
          "output_type": "execute_result",
          "data": {
            "text/plain": [
              "array([[ True,  True,  True,  True],\n",
              "       [ True,  True, False, False],\n",
              "       [False, False, False, False]])"
            ]
          },
          "metadata": {},
          "execution_count": 47
        }
      ]
    },
    {
      "cell_type": "code",
      "source": [
        "arr2d[arr2d > 5]"
      ],
      "metadata": {
        "colab": {
          "base_uri": "https://localhost:8080/"
        },
        "id": "_c-4ZmcD_HjX",
        "outputId": "5e4f131b-c13d-4d80-f61d-fc637380248b"
      },
      "execution_count": 48,
      "outputs": [
        {
          "output_type": "execute_result",
          "data": {
            "text/plain": [
              "array([ 6,  7,  8,  9, 10, 11, 12])"
            ]
          },
          "metadata": {},
          "execution_count": 48
        }
      ]
    },
    {
      "cell_type": "markdown",
      "source": [
        "# 2. 행렬 연산"
      ],
      "metadata": {
        "id": "1v1rtWcV_MvA"
      }
    },
    {
      "cell_type": "markdown",
      "source": [
        "### 2-1. 연산자\n",
        "* `shape`가 같아야 함\n",
        "* 같은 position끼리 연산"
      ],
      "metadata": {
        "id": "KPrlwmER_SX-"
      }
    },
    {
      "cell_type": "code",
      "source": [
        "# sum\n",
        "a = np.array([[1, 2, 3],\n",
        "              [2, 3, 4]])\n",
        "b = np.array([[3, 4, 5],\n",
        "              [1, 2, 3]])\n",
        "a + b"
      ],
      "metadata": {
        "colab": {
          "base_uri": "https://localhost:8080/"
        },
        "id": "tBS0on0n_aNH",
        "outputId": "7bf96e17-ddd9-4fa3-ddc8-7f997da86d43"
      },
      "execution_count": 49,
      "outputs": [
        {
          "output_type": "execute_result",
          "data": {
            "text/plain": [
              "array([[4, 6, 8],\n",
              "       [3, 5, 7]])"
            ]
          },
          "metadata": {},
          "execution_count": 49
        }
      ]
    },
    {
      "cell_type": "code",
      "source": [
        "# subtract\n",
        "a - b"
      ],
      "metadata": {
        "colab": {
          "base_uri": "https://localhost:8080/"
        },
        "id": "XlI1zavo_kmB",
        "outputId": "5d07c93d-4dc8-4565-8cae-4fa7ebff0d71"
      },
      "execution_count": 50,
      "outputs": [
        {
          "output_type": "execute_result",
          "data": {
            "text/plain": [
              "array([[-2, -2, -2],\n",
              "       [ 1,  1,  1]])"
            ]
          },
          "metadata": {},
          "execution_count": 50
        }
      ]
    },
    {
      "cell_type": "code",
      "source": [
        "# multiple (not a dot product)\n",
        "a * b"
      ],
      "metadata": {
        "colab": {
          "base_uri": "https://localhost:8080/"
        },
        "id": "t7ogt1WwAhkp",
        "outputId": "df91e23f-d36f-46b3-f777-f7692e9bff87"
      },
      "execution_count": 51,
      "outputs": [
        {
          "output_type": "execute_result",
          "data": {
            "text/plain": [
              "array([[ 3,  8, 15],\n",
              "       [ 2,  6, 12]])"
            ]
          },
          "metadata": {},
          "execution_count": 51
        }
      ]
    },
    {
      "cell_type": "code",
      "source": [
        "# divergence\n",
        "a / b"
      ],
      "metadata": {
        "colab": {
          "base_uri": "https://localhost:8080/"
        },
        "id": "bDqlBYnQBHmD",
        "outputId": "ccc95ac5-cfb0-4727-b81c-2534651001f9"
      },
      "execution_count": 52,
      "outputs": [
        {
          "output_type": "execute_result",
          "data": {
            "text/plain": [
              "array([[0.33333333, 0.5       , 0.6       ],\n",
              "       [2.        , 1.5       , 1.33333333]])"
            ]
          },
          "metadata": {},
          "execution_count": 52
        }
      ]
    },
    {
      "cell_type": "code",
      "source": [
        "# dot product\n",
        "a = np.array([[1, 2, 3], \n",
        "             [1, 2, 3],\n",
        "             [2, 3, 4]])\n",
        "b = np.array([[1, 2],\n",
        "             [3, 4],\n",
        "             [5, 6]])\n",
        "print(a.shape, b.shape)\n",
        "print()\n",
        "\n",
        "# calc \n",
        "print(a.dot(b))\n",
        "print(np.dot(a, b))"
      ],
      "metadata": {
        "colab": {
          "base_uri": "https://localhost:8080/"
        },
        "id": "ChLI-pP-BJrq",
        "outputId": "99035656-924c-41d3-a67b-9041117540a6"
      },
      "execution_count": 57,
      "outputs": [
        {
          "output_type": "stream",
          "name": "stdout",
          "text": [
            "(3, 3) (3, 2)\n",
            "\n",
            "[[22 28]\n",
            " [22 28]\n",
            " [31 40]]\n",
            "[[22 28]\n",
            " [22 28]\n",
            " [31 40]]\n"
          ]
        }
      ]
    },
    {
      "cell_type": "code",
      "source": [
        "# single operation\n",
        "print(a + 3)\n",
        "print(a - 3)\n",
        "print(a * 3)\n",
        "print(a / 3)"
      ],
      "metadata": {
        "colab": {
          "base_uri": "https://localhost:8080/"
        },
        "id": "1lIcxjOXDGnP",
        "outputId": "8223ad7b-321b-4a48-dfa9-9cd36de405af"
      },
      "execution_count": 67,
      "outputs": [
        {
          "output_type": "stream",
          "name": "stdout",
          "text": [
            "[[4 5 6]\n",
            " [4 5 6]\n",
            " [5 6 7]]\n",
            "[[-2 -1  0]\n",
            " [-2 -1  0]\n",
            " [-1  0  1]]\n",
            "[[ 3  6  9]\n",
            " [ 3  6  9]\n",
            " [ 6  9 12]]\n",
            "[[0.33333333 0.66666667 1.        ]\n",
            " [0.33333333 0.66666667 1.        ]\n",
            " [0.66666667 1.         1.33333333]]\n"
          ]
        }
      ]
    },
    {
      "cell_type": "markdown",
      "source": [
        "2-2. `arange`\n",
        "* 순차적인 값 생성"
      ],
      "metadata": {
        "id": "rPM4G-bHBfMf"
      }
    },
    {
      "cell_type": "code",
      "source": [
        "arr1 = range(1, 11) # python standard function\n",
        "arr1"
      ],
      "metadata": {
        "colab": {
          "base_uri": "https://localhost:8080/"
        },
        "id": "-_jS2e7uB_t3",
        "outputId": "57cbcc57-f0d2-4634-af93-b225660e5be7"
      },
      "execution_count": 58,
      "outputs": [
        {
          "output_type": "execute_result",
          "data": {
            "text/plain": [
              "range(1, 11)"
            ]
          },
          "metadata": {},
          "execution_count": 58
        }
      ]
    },
    {
      "cell_type": "code",
      "source": [
        "arr2 = np.arange(1, 11) # numpy built-in function\n",
        "arr2"
      ],
      "metadata": {
        "colab": {
          "base_uri": "https://localhost:8080/"
        },
        "id": "UN8X37sBCCgE",
        "outputId": "0819d94e-06b7-4efe-9797-02eafd2bf36c"
      },
      "execution_count": 59,
      "outputs": [
        {
          "output_type": "execute_result",
          "data": {
            "text/plain": [
              "array([ 1,  2,  3,  4,  5,  6,  7,  8,  9, 10])"
            ]
          },
          "metadata": {},
          "execution_count": 59
        }
      ]
    },
    {
      "cell_type": "markdown",
      "source": [
        "### 2-3. 정렬(`sort`)"
      ],
      "metadata": {
        "id": "p2I38ZgSCFc5"
      }
    },
    {
      "cell_type": "code",
      "source": [
        "arr1 = np.array([1, 10, 5, 7, 2, 4, 3, 6, 8, 9])\n",
        "arr1"
      ],
      "metadata": {
        "colab": {
          "base_uri": "https://localhost:8080/"
        },
        "id": "9B5PpEnTCfWD",
        "outputId": "b81395e1-5859-4c87-ecf5-68f1df01fd11"
      },
      "execution_count": 60,
      "outputs": [
        {
          "output_type": "execute_result",
          "data": {
            "text/plain": [
              "array([ 1, 10,  5,  7,  2,  4,  3,  6,  8,  9])"
            ]
          },
          "metadata": {},
          "execution_count": 60
        }
      ]
    },
    {
      "cell_type": "code",
      "source": [
        "# ascending\n",
        "np.sort(arr1)"
      ],
      "metadata": {
        "colab": {
          "base_uri": "https://localhost:8080/"
        },
        "id": "BUADGC9kCm44",
        "outputId": "c02d485d-a778-4158-f34e-9c78a5e6aebc"
      },
      "execution_count": 62,
      "outputs": [
        {
          "output_type": "execute_result",
          "data": {
            "text/plain": [
              "array([ 1,  2,  3,  4,  5,  6,  7,  8,  9, 10])"
            ]
          },
          "metadata": {},
          "execution_count": 62
        }
      ]
    },
    {
      "cell_type": "code",
      "source": [
        "# descending\n",
        "np.sort(arr1)[::-1]"
      ],
      "metadata": {
        "colab": {
          "base_uri": "https://localhost:8080/"
        },
        "id": "VRDXk64xCnmy",
        "outputId": "07f7bb99-2c32-4db5-b1c8-fd691955914a"
      },
      "execution_count": 63,
      "outputs": [
        {
          "output_type": "execute_result",
          "data": {
            "text/plain": [
              "array([10,  9,  8,  7,  6,  5,  4,  3,  2,  1])"
            ]
          },
          "metadata": {},
          "execution_count": 63
        }
      ]
    },
    {
      "cell_type": "code",
      "source": [
        "# 정렬 상태를 유지하지 않음\n",
        "arr1"
      ],
      "metadata": {
        "colab": {
          "base_uri": "https://localhost:8080/"
        },
        "id": "sPncejUmCxNA",
        "outputId": "6b90dff1-5229-41e9-85ed-0b79261ef185"
      },
      "execution_count": 64,
      "outputs": [
        {
          "output_type": "execute_result",
          "data": {
            "text/plain": [
              "array([ 1, 10,  5,  7,  2,  4,  3,  6,  8,  9])"
            ]
          },
          "metadata": {},
          "execution_count": 64
        }
      ]
    },
    {
      "cell_type": "code",
      "source": [
        "result = np.sort(arr1)\n",
        "result"
      ],
      "metadata": {
        "colab": {
          "base_uri": "https://localhost:8080/"
        },
        "id": "PiGjtLikCzsv",
        "outputId": "b594eef1-cf7e-4697-881b-4beed01d1186"
      },
      "execution_count": 65,
      "outputs": [
        {
          "output_type": "execute_result",
          "data": {
            "text/plain": [
              "array([ 1,  2,  3,  4,  5,  6,  7,  8,  9, 10])"
            ]
          },
          "metadata": {},
          "execution_count": 65
        }
      ]
    },
    {
      "cell_type": "code",
      "source": [
        "# 2-D Array sort\n",
        "arr2d = np.array([[11, 10, 12, 9],\n",
        "                  [3, 1, 4, 2],\n",
        "                  [5, 6, 7, 8]])\n",
        "arr2d.shape"
      ],
      "metadata": {
        "colab": {
          "base_uri": "https://localhost:8080/"
        },
        "id": "GTzyVHqPC8o-",
        "outputId": "d322826a-57cd-4826-b27f-59ea854e71ca"
      },
      "execution_count": 68,
      "outputs": [
        {
          "output_type": "execute_result",
          "data": {
            "text/plain": [
              "(3, 4)"
            ]
          },
          "metadata": {},
          "execution_count": 68
        }
      ]
    },
    {
      "cell_type": "code",
      "source": [
        "# sort by axis\n",
        "# axis=0: row\n",
        "# axis=1: column\n",
        "np.sort(arr2d, axis=0)"
      ],
      "metadata": {
        "colab": {
          "base_uri": "https://localhost:8080/"
        },
        "id": "La8IZk49DcF5",
        "outputId": "d20cdbfb-6484-4e50-8d2b-9ef4da73004a"
      },
      "execution_count": 69,
      "outputs": [
        {
          "output_type": "execute_result",
          "data": {
            "text/plain": [
              "array([[ 3,  1,  4,  2],\n",
              "       [ 5,  6,  7,  8],\n",
              "       [11, 10, 12,  9]])"
            ]
          },
          "metadata": {},
          "execution_count": 69
        }
      ]
    },
    {
      "cell_type": "code",
      "source": [
        "np.sort(arr2d, axis=1)"
      ],
      "metadata": {
        "colab": {
          "base_uri": "https://localhost:8080/"
        },
        "id": "lqkhT02RDs7-",
        "outputId": "1a18feae-a07c-468e-834a-694ac0d21bb7"
      },
      "execution_count": 70,
      "outputs": [
        {
          "output_type": "execute_result",
          "data": {
            "text/plain": [
              "array([[ 9, 10, 11, 12],\n",
              "       [ 1,  2,  3,  4],\n",
              "       [ 5,  6,  7,  8]])"
            ]
          },
          "metadata": {},
          "execution_count": 70
        }
      ]
    },
    {
      "cell_type": "code",
      "source": [
        "# sort by final axis\n",
        "np.sort(arr2d, axis=-1)"
      ],
      "metadata": {
        "colab": {
          "base_uri": "https://localhost:8080/"
        },
        "id": "S9Yb0Hc2DvfK",
        "outputId": "ab2c602f-fe26-4008-ffea-bef89d11f2c7"
      },
      "execution_count": 71,
      "outputs": [
        {
          "output_type": "execute_result",
          "data": {
            "text/plain": [
              "array([[ 9, 10, 11, 12],\n",
              "       [ 1,  2,  3,  4],\n",
              "       [ 5,  6,  7,  8]])"
            ]
          },
          "metadata": {},
          "execution_count": 71
        }
      ]
    }
  ]
}